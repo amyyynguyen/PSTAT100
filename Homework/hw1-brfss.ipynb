{
 "cells": [
  {
   "cell_type": "code",
   "execution_count": 1,
   "metadata": {
    "deletable": false,
    "editable": false
   },
   "outputs": [],
   "source": [
    "# Initialize Otter\n",
    "import otter\n",
    "grader = otter.Notebook(\"hw1-brfss.ipynb\")"
   ]
  },
  {
   "cell_type": "markdown",
   "metadata": {},
   "source": [
    "# PSTAT 100 Homework 1"
   ]
  },
  {
   "cell_type": "markdown",
   "metadata": {},
   "source": [
    "### Amy Nguyen"
   ]
  },
  {
   "cell_type": "code",
   "execution_count": 2,
   "metadata": {},
   "outputs": [],
   "source": [
    "import numpy as np\n",
    "import pandas as pd\n",
    "import altair as alt"
   ]
  },
  {
   "cell_type": "markdown",
   "metadata": {},
   "source": [
    "## Background \n",
    "\n",
    "The [Behavioral Risk Factor Surveillance System](https://www.cdc.gov/brfss/index.html) (BRFSS) is a long-term effort administered by the CDC to collect data on behaviors affecting physical and mental health, past and present health conditions, and access to healthcare among U.S. residents. The BRFSS comprises telephone surveys of U.S. residents conducted annually since 1984; in the last decade, over half a million interviews have been conducted each year. This is the largest such data collection effort in the world, and many countries have developed similar programs. The objective of the program is to support monitoring and analysis of factors influencing public health in the United States.\n",
    "\n",
    "Each year, a standard survey questionnaire is developed that includes a core component comprising questions about: demographic and household information; health-related perceptions, conditions, and behaviors; substance use; and diet. Trained interviewers in each state call randomly selected telephone (landline and cell) numbers and administer the questionnaire; the phone numbers are chosen so as to obtain a representative sample of all households with telephone numbers.\n",
    "\n",
    "The raw BRFSS survey data is submitted to the CDC for processing and compilation into a single dataset. In the process, a number of 'derived variables' are calculated based on questionnaire responses and appended to the dataset -- a simple example is weight in kg, derived from respondents' weights reported in pounds. \n",
    "\n",
    "Take a moment to [read about the 2019 survey here](https://www.cdc.gov/brfss/annual_data/annual_2019.html) (follow the link!) and familiarize yourself with the information that is publicly available. This includes data and documentation pertaining to sampling methodology, questionnaires, variable coding, derived variables, and response rates."
   ]
  },
  {
   "cell_type": "markdown",
   "metadata": {},
   "source": [
    "## Assignment objectives\n",
    "\n",
    "In this assignment you'll import and subsample the BRFSS 2019 data and perform a simple descriptive analysis exploring association between adverse childhood experiences, health perceptions, tobacco use, and depressive disorders. This is an opportunity to practice critical thinking about data collection, computational skills, and communicating results clearly and correctly.\n",
    "\n",
    "**Critical thinking about data collection.** You'll examine the BRFSS data documentation and practice:\n",
    "* identifying sampled units, variables measured, and the sampling frame;\n",
    "* assessing study design, data integrity, and scope of inference.\n",
    "\n",
    "**Computation.** You'll put into practice your data manipulation skills to tidy up the dataset:\n",
    "* data import;\n",
    "* slicing (selecting rows and columns);\n",
    "* index manipulation (renaming and rearranging);\n",
    "* value substitution for coded categorical variables (*e.g.*, 1 - 5 -> excellent - poor);\n",
    "* grouping and aggregation; and\n",
    "* visualization.\n",
    "\n",
    "**Communication.** Finally, you'll practice:\n",
    "* clear and concise description of data summaries and plots;\n",
    "* proper interpretation of estimates;\n",
    "* avoiding causual language when discussing observational data."
   ]
  },
  {
   "cell_type": "markdown",
   "metadata": {},
   "source": [
    "---\n",
    "\n",
    "# 0. Data import and assessment\n",
    "\n",
    "In this part you'll import the 2019 BRFSS data from a compressed CSV file and perform some basic qualitative assessments:\n",
    "\n",
    "* examine the imported data;\n",
    "* check your understanding of the data format;\n",
    "* and investigate the data collection procedure. \n",
    "\n",
    "Think of these tasks as comprising the '**collect**' and '**acquaint**' steps of our PSTAT 100 lifecycle: gathering data and getting to know it.\n",
    "\n",
    "**Performing these basic checks and gaining background on how the data were generated are essential steps in any analysis**. You should make them standard practice in your work. Investigating the data collection procedure is especially important -- it is professionally irresponsible to analyze data without knowing where they came from, and collection protocols (known as a *sampling design*) can have strong implications for whether findings can be replicated and whether they might be biased.\n",
    "\n",
    "The cell below imports the select columns from the 2019 dataset as a pandas DataFrame. The file is big, so this may take a few moments. Run the cell, take a break to stretch, and then have a quick look at the first few rows and columns."
   ]
  },
  {
   "cell_type": "code",
   "execution_count": 3,
   "metadata": {},
   "outputs": [
    {
     "data": {
      "text/html": [
       "<div>\n",
       "<style scoped>\n",
       "    .dataframe tbody tr th:only-of-type {\n",
       "        vertical-align: middle;\n",
       "    }\n",
       "\n",
       "    .dataframe tbody tr th {\n",
       "        vertical-align: top;\n",
       "    }\n",
       "\n",
       "    .dataframe thead th {\n",
       "        text-align: right;\n",
       "    }\n",
       "</style>\n",
       "<table border=\"1\" class=\"dataframe\">\n",
       "  <thead>\n",
       "    <tr style=\"text-align: right;\">\n",
       "      <th></th>\n",
       "      <th>GENHLTH</th>\n",
       "      <th>ADDEPEV3</th>\n",
       "      <th>ACEDEPRS</th>\n",
       "      <th>ACEDRINK</th>\n",
       "      <th>ACEDRUGS</th>\n",
       "      <th>ACEPRISN</th>\n",
       "      <th>_LLCPWT</th>\n",
       "      <th>_SEX</th>\n",
       "      <th>_AGEG5YR</th>\n",
       "      <th>_SMOKER3</th>\n",
       "    </tr>\n",
       "  </thead>\n",
       "  <tbody>\n",
       "    <tr>\n",
       "      <th>0</th>\n",
       "      <td>3.0</td>\n",
       "      <td>2.0</td>\n",
       "      <td>2.0</td>\n",
       "      <td>2.0</td>\n",
       "      <td>2.0</td>\n",
       "      <td>2.0</td>\n",
       "      <td>135.304080</td>\n",
       "      <td>2.0</td>\n",
       "      <td>13.0</td>\n",
       "      <td>3.0</td>\n",
       "    </tr>\n",
       "    <tr>\n",
       "      <th>1</th>\n",
       "      <td>4.0</td>\n",
       "      <td>2.0</td>\n",
       "      <td>2.0</td>\n",
       "      <td>1.0</td>\n",
       "      <td>2.0</td>\n",
       "      <td>2.0</td>\n",
       "      <td>1454.882220</td>\n",
       "      <td>2.0</td>\n",
       "      <td>11.0</td>\n",
       "      <td>4.0</td>\n",
       "    </tr>\n",
       "    <tr>\n",
       "      <th>2</th>\n",
       "      <td>3.0</td>\n",
       "      <td>2.0</td>\n",
       "      <td>2.0</td>\n",
       "      <td>2.0</td>\n",
       "      <td>2.0</td>\n",
       "      <td>2.0</td>\n",
       "      <td>215.576852</td>\n",
       "      <td>2.0</td>\n",
       "      <td>10.0</td>\n",
       "      <td>4.0</td>\n",
       "    </tr>\n",
       "    <tr>\n",
       "      <th>3</th>\n",
       "      <td>4.0</td>\n",
       "      <td>2.0</td>\n",
       "      <td>NaN</td>\n",
       "      <td>NaN</td>\n",
       "      <td>NaN</td>\n",
       "      <td>NaN</td>\n",
       "      <td>261.282838</td>\n",
       "      <td>2.0</td>\n",
       "      <td>13.0</td>\n",
       "      <td>9.0</td>\n",
       "    </tr>\n",
       "    <tr>\n",
       "      <th>4</th>\n",
       "      <td>2.0</td>\n",
       "      <td>2.0</td>\n",
       "      <td>2.0</td>\n",
       "      <td>2.0</td>\n",
       "      <td>2.0</td>\n",
       "      <td>2.0</td>\n",
       "      <td>535.270103</td>\n",
       "      <td>2.0</td>\n",
       "      <td>13.0</td>\n",
       "      <td>3.0</td>\n",
       "    </tr>\n",
       "  </tbody>\n",
       "</table>\n",
       "</div>"
      ],
      "text/plain": [
       "   GENHLTH  ADDEPEV3  ACEDEPRS  ACEDRINK  ACEDRUGS  ACEPRISN      _LLCPWT  \\\n",
       "0      3.0       2.0       2.0       2.0       2.0       2.0   135.304080   \n",
       "1      4.0       2.0       2.0       1.0       2.0       2.0  1454.882220   \n",
       "2      3.0       2.0       2.0       2.0       2.0       2.0   215.576852   \n",
       "3      4.0       2.0       NaN       NaN       NaN       NaN   261.282838   \n",
       "4      2.0       2.0       2.0       2.0       2.0       2.0   535.270103   \n",
       "\n",
       "   _SEX  _AGEG5YR  _SMOKER3  \n",
       "0   2.0      13.0       3.0  \n",
       "1   2.0      11.0       4.0  \n",
       "2   2.0      10.0       4.0  \n",
       "3   2.0      13.0       9.0  \n",
       "4   2.0      13.0       3.0  "
      ]
     },
     "execution_count": 3,
     "metadata": {},
     "output_type": "execute_result"
    }
   ],
   "source": [
    "# store variable names of interest\n",
    "selected_vars = ['_SEX', '_AGEG5YR', \n",
    "                 'GENHLTH', 'ACEPRISN', \n",
    "                 'ACEDRUGS', 'ACEDRINK', \n",
    "                 'ACEDEPRS', 'ADDEPEV3', \n",
    "                 '_SMOKER3', '_LLCPWT']\n",
    "\n",
    "# import full 2019 BRFSS dataset\n",
    "brfss = pd.read_csv('data/brfss2019.zip', compression = 'zip', usecols = selected_vars)\n",
    "\n",
    "# print first few rows\n",
    "brfss.head()"
   ]
  },
  {
   "cell_type": "markdown",
   "metadata": {},
   "source": [
    "### Q0 (a). Dimensions\n",
    "\n",
    "Check the dimensions of the dataset. Set `rows` and `columns` to the respective dimensions.\n"
   ]
  },
  {
   "cell_type": "code",
   "execution_count": 4,
   "metadata": {
    "tags": []
   },
   "outputs": [
    {
     "name": "stdout",
     "output_type": "stream",
     "text": [
      "418268 10\n"
     ]
    }
   ],
   "source": [
    "rows = brfss.shape[0]\n",
    "columns = brfss.shape[1]\n",
    "\n",
    "print(rows, columns)"
   ]
  },
  {
   "cell_type": "markdown",
   "metadata": {},
   "source": [
    "<!-- BEGIN QUESTION -->\n",
    "\n",
    "### Q0 (b). Row and column information\n",
    "\n",
    "Now that you've imported the data, you should verify that the dimensions conform to the format you expect based on data documentation and ensure you understand what each row and each column represents. This is an essential step in any analysis -- one can't conduct a useful analysis without properly understanding the entries in a dataset.\n",
    "\n",
    "Check the number of records (interviews conducted) reported and variables measured for 2019 by reviewing the [surveillance summaries by year](https://www.cdc.gov/brfss/annual_data/all_years/states_data.htm) (follow the link!), and then answer the following questions.\n",
    "\n",
    "* Does the number of rows match the number of reported records? \n",
    "* How many columns were imported, and how many columns are reported in the full dataset? \n",
    "* What does each row in the `brfss` dataframe represent?\n",
    "* What does each column in the `brfss` dataframe represent\n"
   ]
  },
  {
   "cell_type": "markdown",
   "metadata": {},
   "source": [
    "There were 418,268 reported records which matches the number of rows in the dataframe. 10 columns were imported while there are 342 columns reported in the whole dataset. Each row in the dataframe represents a single reported record (418,268 total), and each column represents a variable. "
   ]
  },
  {
   "cell_type": "markdown",
   "metadata": {},
   "source": [
    "<!-- END QUESTION -->\n",
    "\n",
    "### Q0 (c). Sampling design and data collection\n",
    "\n",
    "**It is essential to devote effort to understanding how data were obtained before taking any further steps, no matter how basic those steps might be.** Without adequate background, it is easy to miss potential complications affecting how an analyst should engage with a project. To name a few examples: \n",
    "\n",
    "* convenience or haphazard sampling (*e.g.*, surveying my neighbors) could entail that patterns in the data are non-generalizable, as they may be difficult or impossible to replicate if the data are collected anew;\n",
    "* there may be sources of bias inherent in measurements (*e.g.*, failing to properly calibrate lab equipment) that could produce misleading results;\n",
    "* ethical issues (*e.g.*, data from animal experiments, conflicts of interest, sensitive user information, etc.) may require withdrawal from a project for personal reasons or demand extra caution to protect subject privacy.\n",
    "\n",
    "These matters are never evident from data itself, and require critical qualitative assessment of data collection procedures.\n",
    "\n",
    "Skim the [overview documentation](https://www.cdc.gov/brfss/annual_data/2019/pdf/overview-2019-508.pdf) for the 2019 BRFSS data. Focus specifically the 'Background' and 'Data Collection' sections, and read between the technical information (don't worry if you don't understand everything in the documentation -- you're not expected to!), and answer the following questions."
   ]
  },
  {
   "cell_type": "markdown",
   "metadata": {},
   "source": [
    "<!-- BEGIN QUESTION -->\n",
    "\n",
    "#### i. Who does an interviewer speak to in each household?"
   ]
  },
  {
   "cell_type": "markdown",
   "metadata": {},
   "source": [
    "The interviewer speaks to a randomly selected adult in each household."
   ]
  },
  {
   "cell_type": "markdown",
   "metadata": {},
   "source": [
    "<!-- END QUESTION -->\n",
    "\n",
    "<!-- BEGIN QUESTION -->\n",
    "\n",
    "#### ii. What criteria must a person meet to be interviewed?\n"
   ]
  },
  {
   "cell_type": "markdown",
   "metadata": {},
   "source": [
    "They must be at least 18 years old and reside in the United States (including participating US territories)."
   ]
  },
  {
   "cell_type": "markdown",
   "metadata": {},
   "source": [
    "<!-- END QUESTION -->\n",
    "\n",
    "<!-- BEGIN QUESTION -->\n",
    "\n",
    "#### iii. Who *can't* possibly appear in the survey? Give two examples."
   ]
  },
  {
   "cell_type": "markdown",
   "metadata": {},
   "source": [
    "A child and anyone not residing in the US can't appear in the survey. For example, a 15 year old or someone living in Europe would not participate in the questionnaire."
   ]
  },
  {
   "cell_type": "markdown",
   "metadata": {},
   "source": [
    "<!-- END QUESTION -->\n",
    "\n",
    "<!-- BEGIN QUESTION -->\n",
    "\n",
    "#### iv. Who conducts the interviews and how long does the core portion of a typical interview last?"
   ]
  },
  {
   "cell_type": "markdown",
   "metadata": {},
   "source": [
    "State health personnel and contractors conduct the interviews, and the core portion of the questionnaire lasts on average 17 minutes."
   ]
  },
  {
   "cell_type": "markdown",
   "metadata": {},
   "source": [
    "<!-- END QUESTION -->\n",
    "\n",
    "<!-- BEGIN QUESTION -->\n",
    "\n",
    "#### v. How would you describe the study population (*i.e.*, all individuals who could possibly be sampled)?"
   ]
  },
  {
   "cell_type": "markdown",
   "metadata": {},
   "source": [
    "The study population consists of adults (18+ years) living in the United States who have a working landline or cell phone."
   ]
  },
  {
   "cell_type": "markdown",
   "metadata": {},
   "source": [
    "<!-- END QUESTION -->\n",
    "\n",
    "<!-- BEGIN QUESTION -->\n",
    "\n",
    "#### vi. Does the data contain any identifying information on respondents?"
   ]
  },
  {
   "cell_type": "markdown",
   "metadata": {},
   "source": [
    "The data contains respondents' gender, age group, and state of residence, but otherwise is anonymous."
   ]
  },
  {
   "cell_type": "markdown",
   "metadata": {},
   "source": [
    "<!-- END QUESTION -->\n",
    "\n",
    "Now that you have a good understanding of how the data are formatted and how they were collected, you can start engaging with the dataset in an informed way. \n",
    "\n",
    "For this assignment, you'll work with just a few of the 300+ variables: sex, age, general health self-assessment, smoking status, depressive disorder, and adverse childhood experiences (ACEs). The names of these variables as they appear in the raw dataset are stored in the cell in which you imported the data."
   ]
  },
  {
   "cell_type": "markdown",
   "metadata": {},
   "source": [
    "<!-- BEGIN QUESTION -->\n",
    "\n",
    "### Q0 (d) -- variable descriptions\n",
    "\n",
    "With a narrowed set of variables to focus on, a final step in gathering background understanding is to determine clearly the meaning of each variable and how its measurements are recorded in the dataset (*e.g.*, text, numeric/continuous, numeric/categorical, logical, etc.). **This is yet another essential step in any analysis**. It is often useful, and therefore good practice, to include a brief description of each variable at the outset of any reported analyses, both for your own clarity and for that of any potential readers.\n",
    "\n",
    "Open the [2019 BRFSS codebook](https://www.cdc.gov/brfss/annual_data/2019/pdf/codebook19_llcp-v2-508.HTML) in your browser and use text searching to locate each of the variable names of interest. Read the codebook entries and fill in the second column in the table below with a one-sentence description of each variable identified in `selected_vars`. \n"
   ]
  },
  {
   "cell_type": "markdown",
   "metadata": {},
   "source": [
    "Variable name | Description \n",
    "--------------|--------------\n",
    "`GENHLTH` | Health staus\n",
    "`_SEX` | Respondent gender (1 = Male, 2 = Female)\n",
    "`_AGEG5YR` | Reported age in five-year age categories\n",
    "`ACEPRISN` | Indicates if lived with anyone who served time in prison/jail\n",
    "`ACEDRUGS` | Indicates if lived with anyone who used illegal drugs or abused prescription drugs.\n",
    "`ACEDRINK` | Indicates if lived with an alcoholic\n",
    "`ACEDEPRS` | Indicates if lived with anyone depressed, mentally ill, or suicidal.\n",
    "`ADDEPEV3` | (Ever told) you had a depressive disorder\n",
    "`_SMOKER3` | Smoking status"
   ]
  },
  {
   "cell_type": "markdown",
   "metadata": {},
   "source": [
    "<!-- END QUESTION -->\n",
    "\n",
    "---\n",
    "\n",
    "# Subsampling\n",
    "\n",
    "To simplify life a little, we'll draw a large random sample of the rows and work with that in place of the full dataset. This is known as **subsampling**. The cell below draws a random subsample of 10k records. Because the subsample is randomly drawn, we should not expect it to vary in any systematic way from the overall dataset, and distinct subsamples should have similar properties -- therefore, results downstream should be similar to an analysis of the full dataset, and should also be possible to *replicate* using distinct subsamples.\n",
    "\n",
    "Notice that the random number generator seed is set before carrying out this task -- this ensures that every time the cell is run, the same subsample is drawn. As a result, the computations in this notebook are _reproducible_: when I run the notebook on my computer, I get the same results as you get when you run the notebook on your computer."
   ]
  },
  {
   "cell_type": "code",
   "execution_count": 5,
   "metadata": {},
   "outputs": [],
   "source": [
    "# for reproducibility\n",
    "np.random.seed(32221) \n",
    "\n",
    "# randomly sample 10k records\n",
    "samp = brfss.sample(n = 10000, \n",
    "                    replace = False, \n",
    "                    weights = '_LLCPWT')"
   ]
  },
  {
   "cell_type": "markdown",
   "metadata": {},
   "source": [
    "**Aside.** Notice also that _sampling weights_ provided with the dataset are used to draw a weighted sample. Some respondents are more likely to be selected than others from the general population of U.S. adults with phone numbers, so the BRFSS calculates derived weights that represent the probability that the respondent is included in the survey. This is a somewhat sophisticated calculation, however if you're interested, you can read about how these weights are calculated and why in the overview documentation you used to answer the questions above. We use them in drawing the subsample so that we get a representative sample of U.S. adults with phone numbers."
   ]
  },
  {
   "cell_type": "markdown",
   "metadata": {},
   "source": [
    "---\n",
    "\n",
    "# 1. Data tidying -- slicing, recoding, renaming\n",
    "\n",
    "Here you'll **tidy** up the subsample, performing the following steps:\n",
    "\n",
    "* selecting columns of interest;\n",
    "* replacing coded values of question responses with responses;\n",
    "* defining new variables based on existing ones;\n",
    "* renaming columns.\n",
    "\n",
    "The objective of this section is to produce a clean version of the dataset that is well-organized, intuitive to navigate, and ready for analysis."
   ]
  },
  {
   "cell_type": "markdown",
   "metadata": {},
   "source": [
    "### Q1 (a). Column selection\n",
    "\n",
    "Use `selected_vars` and slice `samp` to obtain the variables of interest and exclude the others using the `.loc` method. (See lab 1.) \n"
   ]
  },
  {
   "cell_type": "code",
   "execution_count": 6,
   "metadata": {
    "tags": []
   },
   "outputs": [
    {
     "data": {
      "text/html": [
       "<div>\n",
       "<style scoped>\n",
       "    .dataframe tbody tr th:only-of-type {\n",
       "        vertical-align: middle;\n",
       "    }\n",
       "\n",
       "    .dataframe tbody tr th {\n",
       "        vertical-align: top;\n",
       "    }\n",
       "\n",
       "    .dataframe thead th {\n",
       "        text-align: right;\n",
       "    }\n",
       "</style>\n",
       "<table border=\"1\" class=\"dataframe\">\n",
       "  <thead>\n",
       "    <tr style=\"text-align: right;\">\n",
       "      <th></th>\n",
       "      <th>_SEX</th>\n",
       "      <th>_AGEG5YR</th>\n",
       "      <th>GENHLTH</th>\n",
       "      <th>ACEPRISN</th>\n",
       "      <th>ACEDRUGS</th>\n",
       "      <th>ACEDRINK</th>\n",
       "      <th>ACEDEPRS</th>\n",
       "      <th>ADDEPEV3</th>\n",
       "      <th>_SMOKER3</th>\n",
       "      <th>_LLCPWT</th>\n",
       "    </tr>\n",
       "  </thead>\n",
       "  <tbody>\n",
       "    <tr>\n",
       "      <th>214514</th>\n",
       "      <td>2.0</td>\n",
       "      <td>1.0</td>\n",
       "      <td>1.0</td>\n",
       "      <td>NaN</td>\n",
       "      <td>NaN</td>\n",
       "      <td>NaN</td>\n",
       "      <td>NaN</td>\n",
       "      <td>1.0</td>\n",
       "      <td>4.0</td>\n",
       "      <td>1930.429631</td>\n",
       "    </tr>\n",
       "    <tr>\n",
       "      <th>300840</th>\n",
       "      <td>1.0</td>\n",
       "      <td>3.0</td>\n",
       "      <td>2.0</td>\n",
       "      <td>NaN</td>\n",
       "      <td>NaN</td>\n",
       "      <td>NaN</td>\n",
       "      <td>NaN</td>\n",
       "      <td>2.0</td>\n",
       "      <td>3.0</td>\n",
       "      <td>1561.253858</td>\n",
       "    </tr>\n",
       "    <tr>\n",
       "      <th>128960</th>\n",
       "      <td>2.0</td>\n",
       "      <td>13.0</td>\n",
       "      <td>3.0</td>\n",
       "      <td>NaN</td>\n",
       "      <td>NaN</td>\n",
       "      <td>NaN</td>\n",
       "      <td>NaN</td>\n",
       "      <td>2.0</td>\n",
       "      <td>4.0</td>\n",
       "      <td>176.379050</td>\n",
       "    </tr>\n",
       "    <tr>\n",
       "      <th>399136</th>\n",
       "      <td>2.0</td>\n",
       "      <td>1.0</td>\n",
       "      <td>3.0</td>\n",
       "      <td>2.0</td>\n",
       "      <td>2.0</td>\n",
       "      <td>1.0</td>\n",
       "      <td>1.0</td>\n",
       "      <td>2.0</td>\n",
       "      <td>4.0</td>\n",
       "      <td>944.718264</td>\n",
       "    </tr>\n",
       "    <tr>\n",
       "      <th>132641</th>\n",
       "      <td>2.0</td>\n",
       "      <td>1.0</td>\n",
       "      <td>2.0</td>\n",
       "      <td>NaN</td>\n",
       "      <td>NaN</td>\n",
       "      <td>NaN</td>\n",
       "      <td>NaN</td>\n",
       "      <td>2.0</td>\n",
       "      <td>4.0</td>\n",
       "      <td>311.757606</td>\n",
       "    </tr>\n",
       "  </tbody>\n",
       "</table>\n",
       "</div>"
      ],
      "text/plain": [
       "        _SEX  _AGEG5YR  GENHLTH  ACEPRISN  ACEDRUGS  ACEDRINK  ACEDEPRS  \\\n",
       "214514   2.0       1.0      1.0       NaN       NaN       NaN       NaN   \n",
       "300840   1.0       3.0      2.0       NaN       NaN       NaN       NaN   \n",
       "128960   2.0      13.0      3.0       NaN       NaN       NaN       NaN   \n",
       "399136   2.0       1.0      3.0       2.0       2.0       1.0       1.0   \n",
       "132641   2.0       1.0      2.0       NaN       NaN       NaN       NaN   \n",
       "\n",
       "        ADDEPEV3  _SMOKER3      _LLCPWT  \n",
       "214514       1.0       4.0  1930.429631  \n",
       "300840       2.0       3.0  1561.253858  \n",
       "128960       2.0       4.0   176.379050  \n",
       "399136       2.0       4.0   944.718264  \n",
       "132641       2.0       4.0   311.757606  "
      ]
     },
     "execution_count": 6,
     "metadata": {},
     "output_type": "execute_result"
    }
   ],
   "source": [
    "# slice columns of interest\n",
    "samp_mod1 = samp.loc[:, selected_vars]\n",
    "\n",
    "# check result\n",
    "samp_mod1.head()"
   ]
  },
  {
   "cell_type": "code",
   "execution_count": 7,
   "metadata": {
    "deletable": false,
    "editable": false
   },
   "outputs": [
    {
     "data": {
      "text/html": [
       "<p><strong><pre style='display: inline;'>q1_a</pre></strong> passed!</p>"
      ],
      "text/plain": [
       "q1_a results: All test cases passed!"
      ]
     },
     "execution_count": 7,
     "metadata": {},
     "output_type": "execute_result"
    }
   ],
   "source": [
    "grader.check(\"q1_a\")"
   ]
  },
  {
   "cell_type": "markdown",
   "metadata": {},
   "source": [
    "Notice the missing values. How many entries are missing in each column? The cell below computes the proportion of missing values for each of the selected variables."
   ]
  },
  {
   "cell_type": "code",
   "execution_count": 8,
   "metadata": {},
   "outputs": [
    {
     "data": {
      "text/plain": [
       "_SEX        0.0000\n",
       "_AGEG5YR    0.0000\n",
       "GENHLTH     0.0000\n",
       "ACEPRISN    0.7541\n",
       "ACEDRUGS    0.7538\n",
       "ACEDRINK    0.7537\n",
       "ACEDEPRS    0.7531\n",
       "ADDEPEV3    0.0001\n",
       "_SMOKER3    0.0000\n",
       "_LLCPWT     0.0000\n",
       "dtype: float64"
      ]
     },
     "execution_count": 8,
     "metadata": {},
     "output_type": "execute_result"
    }
   ],
   "source": [
    "# proportions of missingness -- uncomment after resolving q1a\n",
    "samp_mod1.isna().mean()"
   ]
  },
  {
   "cell_type": "markdown",
   "metadata": {},
   "source": [
    "## Recoding categorical variables\n",
    "\n",
    "Now notice that the variable entries are coded numerically to represent certain responses. These should be replaced by more informative entries. We can use the codebook to determine which number means what, and replace the values accordingly.\n",
    "\n",
    "The cell below replaces the numeric values for `_AGEG5YR` by their meanings, illustrating how to use `.replace()` with a dictionary to convert the numeric coding to interpretable values. The basic strategy is:\n",
    "\n",
    "1. Store the variable coding for `VAR` as a dictionary `var_codes`.\n",
    "2. Use `.replace({'VAR': var_codes})` to modify values.\n",
    "\n",
    "If you need additional examples, check the [pandas documentation](https://pandas.pydata.org/docs/reference/api/pandas.DataFrame.replace.html) for `.replace()`."
   ]
  },
  {
   "cell_type": "code",
   "execution_count": 9,
   "metadata": {},
   "outputs": [
    {
     "data": {
      "text/html": [
       "<div>\n",
       "<style scoped>\n",
       "    .dataframe tbody tr th:only-of-type {\n",
       "        vertical-align: middle;\n",
       "    }\n",
       "\n",
       "    .dataframe tbody tr th {\n",
       "        vertical-align: top;\n",
       "    }\n",
       "\n",
       "    .dataframe thead th {\n",
       "        text-align: right;\n",
       "    }\n",
       "</style>\n",
       "<table border=\"1\" class=\"dataframe\">\n",
       "  <thead>\n",
       "    <tr style=\"text-align: right;\">\n",
       "      <th></th>\n",
       "      <th>_SEX</th>\n",
       "      <th>_AGEG5YR</th>\n",
       "      <th>GENHLTH</th>\n",
       "      <th>ACEPRISN</th>\n",
       "      <th>ACEDRUGS</th>\n",
       "      <th>ACEDRINK</th>\n",
       "      <th>ACEDEPRS</th>\n",
       "      <th>ADDEPEV3</th>\n",
       "      <th>_SMOKER3</th>\n",
       "      <th>_LLCPWT</th>\n",
       "    </tr>\n",
       "  </thead>\n",
       "  <tbody>\n",
       "    <tr>\n",
       "      <th>214514</th>\n",
       "      <td>2.0</td>\n",
       "      <td>18-24</td>\n",
       "      <td>1.0</td>\n",
       "      <td>NaN</td>\n",
       "      <td>NaN</td>\n",
       "      <td>NaN</td>\n",
       "      <td>NaN</td>\n",
       "      <td>1.0</td>\n",
       "      <td>4.0</td>\n",
       "      <td>1930.429631</td>\n",
       "    </tr>\n",
       "    <tr>\n",
       "      <th>300840</th>\n",
       "      <td>1.0</td>\n",
       "      <td>30-34</td>\n",
       "      <td>2.0</td>\n",
       "      <td>NaN</td>\n",
       "      <td>NaN</td>\n",
       "      <td>NaN</td>\n",
       "      <td>NaN</td>\n",
       "      <td>2.0</td>\n",
       "      <td>3.0</td>\n",
       "      <td>1561.253858</td>\n",
       "    </tr>\n",
       "    <tr>\n",
       "      <th>128960</th>\n",
       "      <td>2.0</td>\n",
       "      <td>80+</td>\n",
       "      <td>3.0</td>\n",
       "      <td>NaN</td>\n",
       "      <td>NaN</td>\n",
       "      <td>NaN</td>\n",
       "      <td>NaN</td>\n",
       "      <td>2.0</td>\n",
       "      <td>4.0</td>\n",
       "      <td>176.379050</td>\n",
       "    </tr>\n",
       "    <tr>\n",
       "      <th>399136</th>\n",
       "      <td>2.0</td>\n",
       "      <td>18-24</td>\n",
       "      <td>3.0</td>\n",
       "      <td>2.0</td>\n",
       "      <td>2.0</td>\n",
       "      <td>1.0</td>\n",
       "      <td>1.0</td>\n",
       "      <td>2.0</td>\n",
       "      <td>4.0</td>\n",
       "      <td>944.718264</td>\n",
       "    </tr>\n",
       "    <tr>\n",
       "      <th>132641</th>\n",
       "      <td>2.0</td>\n",
       "      <td>18-24</td>\n",
       "      <td>2.0</td>\n",
       "      <td>NaN</td>\n",
       "      <td>NaN</td>\n",
       "      <td>NaN</td>\n",
       "      <td>NaN</td>\n",
       "      <td>2.0</td>\n",
       "      <td>4.0</td>\n",
       "      <td>311.757606</td>\n",
       "    </tr>\n",
       "  </tbody>\n",
       "</table>\n",
       "</div>"
      ],
      "text/plain": [
       "        _SEX _AGEG5YR  GENHLTH  ACEPRISN  ACEDRUGS  ACEDRINK  ACEDEPRS  \\\n",
       "214514   2.0    18-24      1.0       NaN       NaN       NaN       NaN   \n",
       "300840   1.0    30-34      2.0       NaN       NaN       NaN       NaN   \n",
       "128960   2.0      80+      3.0       NaN       NaN       NaN       NaN   \n",
       "399136   2.0    18-24      3.0       2.0       2.0       1.0       1.0   \n",
       "132641   2.0    18-24      2.0       NaN       NaN       NaN       NaN   \n",
       "\n",
       "        ADDEPEV3  _SMOKER3      _LLCPWT  \n",
       "214514       1.0       4.0  1930.429631  \n",
       "300840       2.0       3.0  1561.253858  \n",
       "128960       2.0       4.0   176.379050  \n",
       "399136       2.0       4.0   944.718264  \n",
       "132641       2.0       4.0   311.757606  "
      ]
     },
     "execution_count": 9,
     "metadata": {},
     "output_type": "execute_result"
    }
   ],
   "source": [
    "# dictionary representing variable coding\n",
    "age_codes = {\n",
    "    1: '18-24', 2: '25-29', 3: '30-34',\n",
    "    4: '35-39', 5: '40-44', 6: '45-49',\n",
    "    7: '50-54', 8: '55-59', 9: '60-64',\n",
    "    10: '65-69', 11: '70-74', 12: '75-79',\n",
    "    13: '80+', 14: 'Unsure/refused/missing'\n",
    "}\n",
    "\n",
    "# recode age categories\n",
    "samp_mod2 = samp_mod1.replace({'_AGEG5YR': age_codes})\n",
    "\n",
    "# check result\n",
    "samp_mod2.head()"
   ]
  },
  {
   "cell_type": "markdown",
   "metadata": {},
   "source": [
    "### Q1 (b). Recoding variables\n",
    "\n",
    "Following the example immediately above and referring to the [2019 BRFSS codebook](https://www.cdc.gov/brfss/annual_data/2019/pdf/codebook19_llcp-v2-508.HTML), replace the numeric codings with response categories for each of the following variables:\n",
    "\n",
    "* `_SEX`\n",
    "* `GENHLTH`\n",
    "* `_SMOKER3`\n",
    "\n",
    "Notice that above, the first modification (slicing) was stored as `samp_mod1`, and was a function of `samp`; the second modification (recoding age) was stored as `samp_mod2` and was a function of `samp_mod1`. You'll follow this pattern so that each step of your data manipulations is stored separately, for easy troubleshooting."
   ]
  },
  {
   "cell_type": "markdown",
   "metadata": {},
   "source": [
    "#### i. Recode `_SEX`\n",
    "\n",
    "Define a new dataframe `samp_mod3` that is the same as `samp_mod2` but with the `_SEX` variable recoded as `M` and `F`. Print the first few rows of the result using `.head()`.\n"
   ]
  },
  {
   "cell_type": "code",
   "execution_count": 10,
   "metadata": {
    "tags": []
   },
   "outputs": [
    {
     "data": {
      "text/html": [
       "<div>\n",
       "<style scoped>\n",
       "    .dataframe tbody tr th:only-of-type {\n",
       "        vertical-align: middle;\n",
       "    }\n",
       "\n",
       "    .dataframe tbody tr th {\n",
       "        vertical-align: top;\n",
       "    }\n",
       "\n",
       "    .dataframe thead th {\n",
       "        text-align: right;\n",
       "    }\n",
       "</style>\n",
       "<table border=\"1\" class=\"dataframe\">\n",
       "  <thead>\n",
       "    <tr style=\"text-align: right;\">\n",
       "      <th></th>\n",
       "      <th>_SEX</th>\n",
       "      <th>_AGEG5YR</th>\n",
       "      <th>GENHLTH</th>\n",
       "      <th>ACEPRISN</th>\n",
       "      <th>ACEDRUGS</th>\n",
       "      <th>ACEDRINK</th>\n",
       "      <th>ACEDEPRS</th>\n",
       "      <th>ADDEPEV3</th>\n",
       "      <th>_SMOKER3</th>\n",
       "      <th>_LLCPWT</th>\n",
       "    </tr>\n",
       "  </thead>\n",
       "  <tbody>\n",
       "    <tr>\n",
       "      <th>214514</th>\n",
       "      <td>F</td>\n",
       "      <td>18-24</td>\n",
       "      <td>1.0</td>\n",
       "      <td>NaN</td>\n",
       "      <td>NaN</td>\n",
       "      <td>NaN</td>\n",
       "      <td>NaN</td>\n",
       "      <td>1.0</td>\n",
       "      <td>4.0</td>\n",
       "      <td>1930.429631</td>\n",
       "    </tr>\n",
       "    <tr>\n",
       "      <th>300840</th>\n",
       "      <td>M</td>\n",
       "      <td>30-34</td>\n",
       "      <td>2.0</td>\n",
       "      <td>NaN</td>\n",
       "      <td>NaN</td>\n",
       "      <td>NaN</td>\n",
       "      <td>NaN</td>\n",
       "      <td>2.0</td>\n",
       "      <td>3.0</td>\n",
       "      <td>1561.253858</td>\n",
       "    </tr>\n",
       "    <tr>\n",
       "      <th>128960</th>\n",
       "      <td>F</td>\n",
       "      <td>80+</td>\n",
       "      <td>3.0</td>\n",
       "      <td>NaN</td>\n",
       "      <td>NaN</td>\n",
       "      <td>NaN</td>\n",
       "      <td>NaN</td>\n",
       "      <td>2.0</td>\n",
       "      <td>4.0</td>\n",
       "      <td>176.379050</td>\n",
       "    </tr>\n",
       "    <tr>\n",
       "      <th>399136</th>\n",
       "      <td>F</td>\n",
       "      <td>18-24</td>\n",
       "      <td>3.0</td>\n",
       "      <td>2.0</td>\n",
       "      <td>2.0</td>\n",
       "      <td>1.0</td>\n",
       "      <td>1.0</td>\n",
       "      <td>2.0</td>\n",
       "      <td>4.0</td>\n",
       "      <td>944.718264</td>\n",
       "    </tr>\n",
       "    <tr>\n",
       "      <th>132641</th>\n",
       "      <td>F</td>\n",
       "      <td>18-24</td>\n",
       "      <td>2.0</td>\n",
       "      <td>NaN</td>\n",
       "      <td>NaN</td>\n",
       "      <td>NaN</td>\n",
       "      <td>NaN</td>\n",
       "      <td>2.0</td>\n",
       "      <td>4.0</td>\n",
       "      <td>311.757606</td>\n",
       "    </tr>\n",
       "  </tbody>\n",
       "</table>\n",
       "</div>"
      ],
      "text/plain": [
       "       _SEX _AGEG5YR  GENHLTH  ACEPRISN  ACEDRUGS  ACEDRINK  ACEDEPRS  \\\n",
       "214514    F    18-24      1.0       NaN       NaN       NaN       NaN   \n",
       "300840    M    30-34      2.0       NaN       NaN       NaN       NaN   \n",
       "128960    F      80+      3.0       NaN       NaN       NaN       NaN   \n",
       "399136    F    18-24      3.0       2.0       2.0       1.0       1.0   \n",
       "132641    F    18-24      2.0       NaN       NaN       NaN       NaN   \n",
       "\n",
       "        ADDEPEV3  _SMOKER3      _LLCPWT  \n",
       "214514       1.0       4.0  1930.429631  \n",
       "300840       2.0       3.0  1561.253858  \n",
       "128960       2.0       4.0   176.379050  \n",
       "399136       2.0       4.0   944.718264  \n",
       "132641       2.0       4.0   311.757606  "
      ]
     },
     "execution_count": 10,
     "metadata": {},
     "output_type": "execute_result"
    }
   ],
   "source": [
    "# define dictionary\n",
    "sex_codes = {1: 'M', 2: 'F'}\n",
    "\n",
    "# recode\n",
    "samp_mod3 = samp_mod2.replace({'_SEX': sex_codes})\n",
    "\n",
    "# check\n",
    "samp_mod3.head()"
   ]
  },
  {
   "cell_type": "code",
   "execution_count": 11,
   "metadata": {
    "deletable": false,
    "editable": false
   },
   "outputs": [
    {
     "data": {
      "text/html": [
       "<p><strong><pre style='display: inline;'>q1_b_i</pre></strong> passed!</p>"
      ],
      "text/plain": [
       "q1_b_i results: All test cases passed!"
      ]
     },
     "execution_count": 11,
     "metadata": {},
     "output_type": "execute_result"
    }
   ],
   "source": [
    "grader.check(\"q1_b_i\")"
   ]
  },
  {
   "cell_type": "markdown",
   "metadata": {},
   "source": [
    "#### ii. Recode `GENHLTH`\n",
    "\n",
    "Define a new dataframe `samp_mod4` that is the same as `samp_mod3` but with the `GENHLTH` variable recoded as `Excellent`, `Very good`, `Good`, `Fair`, `Poor`, `Unsure`, and `Refused`. Print the first few rows of the result using `.head()`.\n"
   ]
  },
  {
   "cell_type": "code",
   "execution_count": 12,
   "metadata": {
    "tags": []
   },
   "outputs": [
    {
     "data": {
      "text/html": [
       "<div>\n",
       "<style scoped>\n",
       "    .dataframe tbody tr th:only-of-type {\n",
       "        vertical-align: middle;\n",
       "    }\n",
       "\n",
       "    .dataframe tbody tr th {\n",
       "        vertical-align: top;\n",
       "    }\n",
       "\n",
       "    .dataframe thead th {\n",
       "        text-align: right;\n",
       "    }\n",
       "</style>\n",
       "<table border=\"1\" class=\"dataframe\">\n",
       "  <thead>\n",
       "    <tr style=\"text-align: right;\">\n",
       "      <th></th>\n",
       "      <th>_SEX</th>\n",
       "      <th>_AGEG5YR</th>\n",
       "      <th>GENHLTH</th>\n",
       "      <th>ACEPRISN</th>\n",
       "      <th>ACEDRUGS</th>\n",
       "      <th>ACEDRINK</th>\n",
       "      <th>ACEDEPRS</th>\n",
       "      <th>ADDEPEV3</th>\n",
       "      <th>_SMOKER3</th>\n",
       "      <th>_LLCPWT</th>\n",
       "    </tr>\n",
       "  </thead>\n",
       "  <tbody>\n",
       "    <tr>\n",
       "      <th>214514</th>\n",
       "      <td>F</td>\n",
       "      <td>18-24</td>\n",
       "      <td>Excellent</td>\n",
       "      <td>NaN</td>\n",
       "      <td>NaN</td>\n",
       "      <td>NaN</td>\n",
       "      <td>NaN</td>\n",
       "      <td>1.0</td>\n",
       "      <td>4.0</td>\n",
       "      <td>1930.429631</td>\n",
       "    </tr>\n",
       "    <tr>\n",
       "      <th>300840</th>\n",
       "      <td>M</td>\n",
       "      <td>30-34</td>\n",
       "      <td>Very good</td>\n",
       "      <td>NaN</td>\n",
       "      <td>NaN</td>\n",
       "      <td>NaN</td>\n",
       "      <td>NaN</td>\n",
       "      <td>2.0</td>\n",
       "      <td>3.0</td>\n",
       "      <td>1561.253858</td>\n",
       "    </tr>\n",
       "    <tr>\n",
       "      <th>128960</th>\n",
       "      <td>F</td>\n",
       "      <td>80+</td>\n",
       "      <td>Good</td>\n",
       "      <td>NaN</td>\n",
       "      <td>NaN</td>\n",
       "      <td>NaN</td>\n",
       "      <td>NaN</td>\n",
       "      <td>2.0</td>\n",
       "      <td>4.0</td>\n",
       "      <td>176.379050</td>\n",
       "    </tr>\n",
       "    <tr>\n",
       "      <th>399136</th>\n",
       "      <td>F</td>\n",
       "      <td>18-24</td>\n",
       "      <td>Good</td>\n",
       "      <td>2.0</td>\n",
       "      <td>2.0</td>\n",
       "      <td>1.0</td>\n",
       "      <td>1.0</td>\n",
       "      <td>2.0</td>\n",
       "      <td>4.0</td>\n",
       "      <td>944.718264</td>\n",
       "    </tr>\n",
       "    <tr>\n",
       "      <th>132641</th>\n",
       "      <td>F</td>\n",
       "      <td>18-24</td>\n",
       "      <td>Very good</td>\n",
       "      <td>NaN</td>\n",
       "      <td>NaN</td>\n",
       "      <td>NaN</td>\n",
       "      <td>NaN</td>\n",
       "      <td>2.0</td>\n",
       "      <td>4.0</td>\n",
       "      <td>311.757606</td>\n",
       "    </tr>\n",
       "  </tbody>\n",
       "</table>\n",
       "</div>"
      ],
      "text/plain": [
       "       _SEX _AGEG5YR    GENHLTH  ACEPRISN  ACEDRUGS  ACEDRINK  ACEDEPRS  \\\n",
       "214514    F    18-24  Excellent       NaN       NaN       NaN       NaN   \n",
       "300840    M    30-34  Very good       NaN       NaN       NaN       NaN   \n",
       "128960    F      80+       Good       NaN       NaN       NaN       NaN   \n",
       "399136    F    18-24       Good       2.0       2.0       1.0       1.0   \n",
       "132641    F    18-24  Very good       NaN       NaN       NaN       NaN   \n",
       "\n",
       "        ADDEPEV3  _SMOKER3      _LLCPWT  \n",
       "214514       1.0       4.0  1930.429631  \n",
       "300840       2.0       3.0  1561.253858  \n",
       "128960       2.0       4.0   176.379050  \n",
       "399136       2.0       4.0   944.718264  \n",
       "132641       2.0       4.0   311.757606  "
      ]
     },
     "execution_count": 12,
     "metadata": {},
     "output_type": "execute_result"
    }
   ],
   "source": [
    "# define dictionary\n",
    "health_codes = {\n",
    "    1: 'Excellent', 2: 'Very good', 3: 'Good',\n",
    "    4: 'Fair', 5: 'Poor', 7: 'Unsure', 9: 'Refused'\n",
    "}\n",
    "\n",
    "# recode\n",
    "samp_mod4 = samp_mod3.replace({'GENHLTH': health_codes})\n",
    "\n",
    "# check using head()\n",
    "samp_mod4.head()"
   ]
  },
  {
   "cell_type": "code",
   "execution_count": 13,
   "metadata": {
    "deletable": false,
    "editable": false
   },
   "outputs": [
    {
     "data": {
      "text/html": [
       "<p><strong><pre style='display: inline;'>q1_b_ii</pre></strong> passed!</p>"
      ],
      "text/plain": [
       "q1_b_ii results: All test cases passed!"
      ]
     },
     "execution_count": 13,
     "metadata": {},
     "output_type": "execute_result"
    }
   ],
   "source": [
    "grader.check(\"q1_b_ii\")"
   ]
  },
  {
   "cell_type": "markdown",
   "metadata": {},
   "source": [
    "#### iii. Recode `_SMOKER3`\n",
    "\n",
    "Define a new dataframe `samp_mod5` that is the same as `samp_mod4` but with `_SMOKER3` recoded as `Daily`, `Some days`, `Former`, `Never`, and `Unsure/refused/missing`. Print the first few rows of the result using `.head()`.\n"
   ]
  },
  {
   "cell_type": "code",
   "execution_count": 14,
   "metadata": {
    "scrolled": true,
    "tags": []
   },
   "outputs": [
    {
     "data": {
      "text/html": [
       "<div>\n",
       "<style scoped>\n",
       "    .dataframe tbody tr th:only-of-type {\n",
       "        vertical-align: middle;\n",
       "    }\n",
       "\n",
       "    .dataframe tbody tr th {\n",
       "        vertical-align: top;\n",
       "    }\n",
       "\n",
       "    .dataframe thead th {\n",
       "        text-align: right;\n",
       "    }\n",
       "</style>\n",
       "<table border=\"1\" class=\"dataframe\">\n",
       "  <thead>\n",
       "    <tr style=\"text-align: right;\">\n",
       "      <th></th>\n",
       "      <th>_SEX</th>\n",
       "      <th>_AGEG5YR</th>\n",
       "      <th>GENHLTH</th>\n",
       "      <th>ACEPRISN</th>\n",
       "      <th>ACEDRUGS</th>\n",
       "      <th>ACEDRINK</th>\n",
       "      <th>ACEDEPRS</th>\n",
       "      <th>ADDEPEV3</th>\n",
       "      <th>_SMOKER3</th>\n",
       "      <th>_LLCPWT</th>\n",
       "    </tr>\n",
       "  </thead>\n",
       "  <tbody>\n",
       "    <tr>\n",
       "      <th>214514</th>\n",
       "      <td>F</td>\n",
       "      <td>18-24</td>\n",
       "      <td>Excellent</td>\n",
       "      <td>NaN</td>\n",
       "      <td>NaN</td>\n",
       "      <td>NaN</td>\n",
       "      <td>NaN</td>\n",
       "      <td>1.0</td>\n",
       "      <td>Never</td>\n",
       "      <td>1930.429631</td>\n",
       "    </tr>\n",
       "    <tr>\n",
       "      <th>300840</th>\n",
       "      <td>M</td>\n",
       "      <td>30-34</td>\n",
       "      <td>Very good</td>\n",
       "      <td>NaN</td>\n",
       "      <td>NaN</td>\n",
       "      <td>NaN</td>\n",
       "      <td>NaN</td>\n",
       "      <td>2.0</td>\n",
       "      <td>Former</td>\n",
       "      <td>1561.253858</td>\n",
       "    </tr>\n",
       "    <tr>\n",
       "      <th>128960</th>\n",
       "      <td>F</td>\n",
       "      <td>80+</td>\n",
       "      <td>Good</td>\n",
       "      <td>NaN</td>\n",
       "      <td>NaN</td>\n",
       "      <td>NaN</td>\n",
       "      <td>NaN</td>\n",
       "      <td>2.0</td>\n",
       "      <td>Never</td>\n",
       "      <td>176.379050</td>\n",
       "    </tr>\n",
       "    <tr>\n",
       "      <th>399136</th>\n",
       "      <td>F</td>\n",
       "      <td>18-24</td>\n",
       "      <td>Good</td>\n",
       "      <td>2.0</td>\n",
       "      <td>2.0</td>\n",
       "      <td>1.0</td>\n",
       "      <td>1.0</td>\n",
       "      <td>2.0</td>\n",
       "      <td>Never</td>\n",
       "      <td>944.718264</td>\n",
       "    </tr>\n",
       "    <tr>\n",
       "      <th>132641</th>\n",
       "      <td>F</td>\n",
       "      <td>18-24</td>\n",
       "      <td>Very good</td>\n",
       "      <td>NaN</td>\n",
       "      <td>NaN</td>\n",
       "      <td>NaN</td>\n",
       "      <td>NaN</td>\n",
       "      <td>2.0</td>\n",
       "      <td>Never</td>\n",
       "      <td>311.757606</td>\n",
       "    </tr>\n",
       "  </tbody>\n",
       "</table>\n",
       "</div>"
      ],
      "text/plain": [
       "       _SEX _AGEG5YR    GENHLTH  ACEPRISN  ACEDRUGS  ACEDRINK  ACEDEPRS  \\\n",
       "214514    F    18-24  Excellent       NaN       NaN       NaN       NaN   \n",
       "300840    M    30-34  Very good       NaN       NaN       NaN       NaN   \n",
       "128960    F      80+       Good       NaN       NaN       NaN       NaN   \n",
       "399136    F    18-24       Good       2.0       2.0       1.0       1.0   \n",
       "132641    F    18-24  Very good       NaN       NaN       NaN       NaN   \n",
       "\n",
       "        ADDEPEV3 _SMOKER3      _LLCPWT  \n",
       "214514       1.0    Never  1930.429631  \n",
       "300840       2.0   Former  1561.253858  \n",
       "128960       2.0    Never   176.379050  \n",
       "399136       2.0    Never   944.718264  \n",
       "132641       2.0    Never   311.757606  "
      ]
     },
     "execution_count": 14,
     "metadata": {},
     "output_type": "execute_result"
    }
   ],
   "source": [
    "# dictionary\n",
    "smoke_codes = {\n",
    "    1: 'Daily', 2: 'Some days', 3: 'Former',\n",
    "    4: 'Never', 9: 'Unsure/refused/missing'\n",
    "}\n",
    "\n",
    "# recode\n",
    "samp_mod5 = samp_mod4.replace({'_SMOKER3': smoke_codes})\n",
    "\n",
    "# check\n",
    "samp_mod5.head()"
   ]
  },
  {
   "cell_type": "code",
   "execution_count": 15,
   "metadata": {
    "deletable": false,
    "editable": false
   },
   "outputs": [
    {
     "data": {
      "text/html": [
       "<p><strong><pre style='display: inline;'>q1_b_iii</pre></strong> passed!</p>"
      ],
      "text/plain": [
       "q1_b_iii results: All test cases passed!"
      ]
     },
     "execution_count": 15,
     "metadata": {},
     "output_type": "execute_result"
    }
   ],
   "source": [
    "grader.check(\"q1_b_iii\")"
   ]
  },
  {
   "cell_type": "markdown",
   "metadata": {},
   "source": [
    "### Q1 (c). Value replacement\n",
    "\n",
    "\n",
    "Now all the variables *except* the adverse childhood experience and depressive disorder question responses are non-numeric. Notice in the codebook that the answer key is identical for these remaining variables. \n",
    "\n",
    "The numeric codings can be replaced all at once by applying `.replace()` to the dataframe with an argument of the form \n",
    "\n",
    "* `df.replace({'var1': varcodes1, 'var2': varcodes1, ..., 'varp': varcodesp})` \n",
    "\n",
    "Define a new dataframe `samp_mod6` that is the same as `samp_mod5` but with the remaining variables recoded according to the answer key `Yes`, `No`, `Unsure`, `Refused`. Print the first few rows of the result using `.head()`.\n"
   ]
  },
  {
   "cell_type": "code",
   "execution_count": 16,
   "metadata": {
    "scrolled": true,
    "tags": []
   },
   "outputs": [
    {
     "data": {
      "text/html": [
       "<div>\n",
       "<style scoped>\n",
       "    .dataframe tbody tr th:only-of-type {\n",
       "        vertical-align: middle;\n",
       "    }\n",
       "\n",
       "    .dataframe tbody tr th {\n",
       "        vertical-align: top;\n",
       "    }\n",
       "\n",
       "    .dataframe thead th {\n",
       "        text-align: right;\n",
       "    }\n",
       "</style>\n",
       "<table border=\"1\" class=\"dataframe\">\n",
       "  <thead>\n",
       "    <tr style=\"text-align: right;\">\n",
       "      <th></th>\n",
       "      <th>_SEX</th>\n",
       "      <th>_AGEG5YR</th>\n",
       "      <th>GENHLTH</th>\n",
       "      <th>ACEPRISN</th>\n",
       "      <th>ACEDRUGS</th>\n",
       "      <th>ACEDRINK</th>\n",
       "      <th>ACEDEPRS</th>\n",
       "      <th>ADDEPEV3</th>\n",
       "      <th>_SMOKER3</th>\n",
       "      <th>_LLCPWT</th>\n",
       "    </tr>\n",
       "  </thead>\n",
       "  <tbody>\n",
       "    <tr>\n",
       "      <th>214514</th>\n",
       "      <td>F</td>\n",
       "      <td>18-24</td>\n",
       "      <td>Excellent</td>\n",
       "      <td>NaN</td>\n",
       "      <td>NaN</td>\n",
       "      <td>NaN</td>\n",
       "      <td>NaN</td>\n",
       "      <td>Yes</td>\n",
       "      <td>Never</td>\n",
       "      <td>1930.429631</td>\n",
       "    </tr>\n",
       "    <tr>\n",
       "      <th>300840</th>\n",
       "      <td>M</td>\n",
       "      <td>30-34</td>\n",
       "      <td>Very good</td>\n",
       "      <td>NaN</td>\n",
       "      <td>NaN</td>\n",
       "      <td>NaN</td>\n",
       "      <td>NaN</td>\n",
       "      <td>No</td>\n",
       "      <td>Former</td>\n",
       "      <td>1561.253858</td>\n",
       "    </tr>\n",
       "    <tr>\n",
       "      <th>128960</th>\n",
       "      <td>F</td>\n",
       "      <td>80+</td>\n",
       "      <td>Good</td>\n",
       "      <td>NaN</td>\n",
       "      <td>NaN</td>\n",
       "      <td>NaN</td>\n",
       "      <td>NaN</td>\n",
       "      <td>No</td>\n",
       "      <td>Never</td>\n",
       "      <td>176.379050</td>\n",
       "    </tr>\n",
       "    <tr>\n",
       "      <th>399136</th>\n",
       "      <td>F</td>\n",
       "      <td>18-24</td>\n",
       "      <td>Good</td>\n",
       "      <td>No</td>\n",
       "      <td>No</td>\n",
       "      <td>Yes</td>\n",
       "      <td>Yes</td>\n",
       "      <td>No</td>\n",
       "      <td>Never</td>\n",
       "      <td>944.718264</td>\n",
       "    </tr>\n",
       "    <tr>\n",
       "      <th>132641</th>\n",
       "      <td>F</td>\n",
       "      <td>18-24</td>\n",
       "      <td>Very good</td>\n",
       "      <td>NaN</td>\n",
       "      <td>NaN</td>\n",
       "      <td>NaN</td>\n",
       "      <td>NaN</td>\n",
       "      <td>No</td>\n",
       "      <td>Never</td>\n",
       "      <td>311.757606</td>\n",
       "    </tr>\n",
       "  </tbody>\n",
       "</table>\n",
       "</div>"
      ],
      "text/plain": [
       "       _SEX _AGEG5YR    GENHLTH ACEPRISN ACEDRUGS ACEDRINK ACEDEPRS ADDEPEV3  \\\n",
       "214514    F    18-24  Excellent      NaN      NaN      NaN      NaN      Yes   \n",
       "300840    M    30-34  Very good      NaN      NaN      NaN      NaN       No   \n",
       "128960    F      80+       Good      NaN      NaN      NaN      NaN       No   \n",
       "399136    F    18-24       Good       No       No      Yes      Yes       No   \n",
       "132641    F    18-24  Very good      NaN      NaN      NaN      NaN       No   \n",
       "\n",
       "       _SMOKER3      _LLCPWT  \n",
       "214514    Never  1930.429631  \n",
       "300840   Former  1561.253858  \n",
       "128960    Never   176.379050  \n",
       "399136    Never   944.718264  \n",
       "132641    Never   311.757606  "
      ]
     },
     "execution_count": 16,
     "metadata": {},
     "output_type": "execute_result"
    }
   ],
   "source": [
    "# define dictionary\n",
    "answer_key = {\n",
    "    1: 'Yes', 2: 'No', 7: 'Unsure', 9: 'Refused'\n",
    "}\n",
    "\n",
    "# recode\n",
    "samp_mod6 = samp_mod5.replace({\n",
    "    'ACEPRISN': answer_key, 'ACEDRUGS': answer_key, \n",
    "    'ACEDRINK': answer_key, 'ACEDEPRS': answer_key,\n",
    "    'ADDEPEV3': answer_key\n",
    "})\n",
    "\n",
    "# check using head()\n",
    "samp_mod6.head()"
   ]
  },
  {
   "cell_type": "markdown",
   "metadata": {},
   "source": [
    "Finally, all the variables in the dataset are categorical. Notice that the current data types do not reflect this."
   ]
  },
  {
   "cell_type": "code",
   "execution_count": 17,
   "metadata": {},
   "outputs": [
    {
     "data": {
      "text/plain": [
       "_SEX         object\n",
       "_AGEG5YR     object\n",
       "GENHLTH      object\n",
       "ACEPRISN     object\n",
       "ACEDRUGS     object\n",
       "ACEDRINK     object\n",
       "ACEDEPRS     object\n",
       "ADDEPEV3     object\n",
       "_SMOKER3     object\n",
       "_LLCPWT     float64\n",
       "dtype: object"
      ]
     },
     "execution_count": 17,
     "metadata": {},
     "output_type": "execute_result"
    }
   ],
   "source": [
    "samp_mod6.dtypes"
   ]
  },
  {
   "cell_type": "markdown",
   "metadata": {},
   "source": [
    "Let's coerce the variables to `category` data types using `.astype()`."
   ]
  },
  {
   "cell_type": "code",
   "execution_count": 18,
   "metadata": {},
   "outputs": [
    {
     "data": {
      "text/plain": [
       "_SEX        category\n",
       "_AGEG5YR    category\n",
       "GENHLTH     category\n",
       "ACEPRISN    category\n",
       "ACEDRUGS    category\n",
       "ACEDRINK    category\n",
       "ACEDEPRS    category\n",
       "ADDEPEV3    category\n",
       "_SMOKER3    category\n",
       "_LLCPWT     category\n",
       "dtype: object"
      ]
     },
     "execution_count": 18,
     "metadata": {},
     "output_type": "execute_result"
    }
   ],
   "source": [
    "# coerce to categorical\n",
    "samp_mod7 = samp_mod6.astype('category')\n",
    "\n",
    "# check new data types\n",
    "samp_mod7.dtypes"
   ]
  },
  {
   "cell_type": "markdown",
   "metadata": {},
   "source": [
    "### Q1 (d). Define ACE indicator variable\n",
    "\n",
    "Your objective will be to look for associations between adverse childhood experiences and the other variables by calculating the proportion of respondents who reported experiencing ACEs. This task will be facilitated by having an indicator variable that is a `1` if the respondent answered 'Yes' to any ACE question, and a `0` otherwise -- that way, you can easily count the number of respondents reporting ACEs by summing up the indicator.\n",
    "\n",
    "To this end, define a new logical variable:\n",
    "\n",
    "* `adverse_conditions`: did the respondent answer yes to any of the adverse childhood condition questions?\n",
    "\n",
    "You can accomplish this task in several steps:\n",
    "\n",
    "1. Obtain a logical array indicating the positions of the ACE variables (hint: use `.columns` to obtain the column index and operate on the result with `.str.startswith(...)`.). Store this as `ace_positions`.\n",
    "2. Use the logical array `ace_positions` to select the ACE columns via `.loc[]`. Store this as `ace_data`.\n",
    "3. Obtain a dataframe that indicates whether each entry is a 'Yes' (hint: use the boolean operator `==`, which is a vectorized operation). Store this as `ace_yes`.\n",
    "4. Compute the row sums using `.sum()`. Store this as `ace_numyes`.\n",
    "5. Define the new variable as `ace_numyes > 0`.\n",
    "\n",
    "Store the result as `samp_mod8`, and print the first few rows using `.head()`.\n"
   ]
  },
  {
   "cell_type": "code",
   "execution_count": 19,
   "metadata": {
    "tags": []
   },
   "outputs": [
    {
     "data": {
      "text/html": [
       "<div>\n",
       "<style scoped>\n",
       "    .dataframe tbody tr th:only-of-type {\n",
       "        vertical-align: middle;\n",
       "    }\n",
       "\n",
       "    .dataframe tbody tr th {\n",
       "        vertical-align: top;\n",
       "    }\n",
       "\n",
       "    .dataframe thead th {\n",
       "        text-align: right;\n",
       "    }\n",
       "</style>\n",
       "<table border=\"1\" class=\"dataframe\">\n",
       "  <thead>\n",
       "    <tr style=\"text-align: right;\">\n",
       "      <th></th>\n",
       "      <th>_SEX</th>\n",
       "      <th>_AGEG5YR</th>\n",
       "      <th>GENHLTH</th>\n",
       "      <th>ACEPRISN</th>\n",
       "      <th>ACEDRUGS</th>\n",
       "      <th>ACEDRINK</th>\n",
       "      <th>ACEDEPRS</th>\n",
       "      <th>ADDEPEV3</th>\n",
       "      <th>_SMOKER3</th>\n",
       "      <th>_LLCPWT</th>\n",
       "      <th>adverse_conditions</th>\n",
       "    </tr>\n",
       "  </thead>\n",
       "  <tbody>\n",
       "    <tr>\n",
       "      <th>214514</th>\n",
       "      <td>F</td>\n",
       "      <td>18-24</td>\n",
       "      <td>Excellent</td>\n",
       "      <td>NaN</td>\n",
       "      <td>NaN</td>\n",
       "      <td>NaN</td>\n",
       "      <td>NaN</td>\n",
       "      <td>Yes</td>\n",
       "      <td>Never</td>\n",
       "      <td>1930.429631</td>\n",
       "      <td>False</td>\n",
       "    </tr>\n",
       "    <tr>\n",
       "      <th>300840</th>\n",
       "      <td>M</td>\n",
       "      <td>30-34</td>\n",
       "      <td>Very good</td>\n",
       "      <td>NaN</td>\n",
       "      <td>NaN</td>\n",
       "      <td>NaN</td>\n",
       "      <td>NaN</td>\n",
       "      <td>No</td>\n",
       "      <td>Former</td>\n",
       "      <td>1561.253858</td>\n",
       "      <td>False</td>\n",
       "    </tr>\n",
       "    <tr>\n",
       "      <th>128960</th>\n",
       "      <td>F</td>\n",
       "      <td>80+</td>\n",
       "      <td>Good</td>\n",
       "      <td>NaN</td>\n",
       "      <td>NaN</td>\n",
       "      <td>NaN</td>\n",
       "      <td>NaN</td>\n",
       "      <td>No</td>\n",
       "      <td>Never</td>\n",
       "      <td>176.379050</td>\n",
       "      <td>False</td>\n",
       "    </tr>\n",
       "    <tr>\n",
       "      <th>399136</th>\n",
       "      <td>F</td>\n",
       "      <td>18-24</td>\n",
       "      <td>Good</td>\n",
       "      <td>No</td>\n",
       "      <td>No</td>\n",
       "      <td>Yes</td>\n",
       "      <td>Yes</td>\n",
       "      <td>No</td>\n",
       "      <td>Never</td>\n",
       "      <td>944.718264</td>\n",
       "      <td>True</td>\n",
       "    </tr>\n",
       "    <tr>\n",
       "      <th>132641</th>\n",
       "      <td>F</td>\n",
       "      <td>18-24</td>\n",
       "      <td>Very good</td>\n",
       "      <td>NaN</td>\n",
       "      <td>NaN</td>\n",
       "      <td>NaN</td>\n",
       "      <td>NaN</td>\n",
       "      <td>No</td>\n",
       "      <td>Never</td>\n",
       "      <td>311.757606</td>\n",
       "      <td>False</td>\n",
       "    </tr>\n",
       "  </tbody>\n",
       "</table>\n",
       "</div>"
      ],
      "text/plain": [
       "       _SEX _AGEG5YR    GENHLTH ACEPRISN ACEDRUGS ACEDRINK ACEDEPRS ADDEPEV3  \\\n",
       "214514    F    18-24  Excellent      NaN      NaN      NaN      NaN      Yes   \n",
       "300840    M    30-34  Very good      NaN      NaN      NaN      NaN       No   \n",
       "128960    F      80+       Good      NaN      NaN      NaN      NaN       No   \n",
       "399136    F    18-24       Good       No       No      Yes      Yes       No   \n",
       "132641    F    18-24  Very good      NaN      NaN      NaN      NaN       No   \n",
       "\n",
       "       _SMOKER3      _LLCPWT  adverse_conditions  \n",
       "214514    Never  1930.429631               False  \n",
       "300840   Former  1561.253858               False  \n",
       "128960    Never   176.379050               False  \n",
       "399136    Never   944.718264                True  \n",
       "132641    Never   311.757606               False  "
      ]
     },
     "execution_count": 19,
     "metadata": {},
     "output_type": "execute_result"
    }
   ],
   "source": [
    "# copy samp_mod7\n",
    "samp_mod8 = samp_mod7.copy()\n",
    "\n",
    "# ace column positions\n",
    "ace_positions = samp_mod8.columns.str.startswith('ACE')\n",
    "\n",
    "# ace data\n",
    "ace_data = samp_mod8.loc[:, ace_positions]\n",
    "\n",
    "# ace yes indicators\n",
    "ace_yes = ace_data == 'Yes'\n",
    "\n",
    "# number of yesses\n",
    "ace_numyes = ace_yes.sum(axis=1)\n",
    "\n",
    "# assign new variable\n",
    "samp_mod8['adverse_conditions'] = ace_numyes > 0 \n",
    "\n",
    "# check result using .head()\n",
    "samp_mod8.head()"
   ]
  },
  {
   "cell_type": "markdown",
   "metadata": {},
   "source": [
    "### Q1 (e). Define missingness indicator variable\n",
    "\n",
    "As you saw earlier, there are some missing values for the ACE questions. These arise whenever a respondent is not asked these questions. In fact, answers are missing for nearly 80% of the respondents in our subsample! We should keep track of this information. Define a missing indicator:\n",
    "\n",
    "* `adverse_missing`: is a response missing for at least one of the ACE questions?\n"
   ]
  },
  {
   "cell_type": "code",
   "execution_count": 20,
   "metadata": {
    "tags": []
   },
   "outputs": [
    {
     "data": {
      "text/html": [
       "<div>\n",
       "<style scoped>\n",
       "    .dataframe tbody tr th:only-of-type {\n",
       "        vertical-align: middle;\n",
       "    }\n",
       "\n",
       "    .dataframe tbody tr th {\n",
       "        vertical-align: top;\n",
       "    }\n",
       "\n",
       "    .dataframe thead th {\n",
       "        text-align: right;\n",
       "    }\n",
       "</style>\n",
       "<table border=\"1\" class=\"dataframe\">\n",
       "  <thead>\n",
       "    <tr style=\"text-align: right;\">\n",
       "      <th></th>\n",
       "      <th>_SEX</th>\n",
       "      <th>_AGEG5YR</th>\n",
       "      <th>GENHLTH</th>\n",
       "      <th>ACEPRISN</th>\n",
       "      <th>ACEDRUGS</th>\n",
       "      <th>ACEDRINK</th>\n",
       "      <th>ACEDEPRS</th>\n",
       "      <th>ADDEPEV3</th>\n",
       "      <th>_SMOKER3</th>\n",
       "      <th>_LLCPWT</th>\n",
       "      <th>adverse_conditions</th>\n",
       "      <th>adverse_missing</th>\n",
       "    </tr>\n",
       "  </thead>\n",
       "  <tbody>\n",
       "    <tr>\n",
       "      <th>214514</th>\n",
       "      <td>F</td>\n",
       "      <td>18-24</td>\n",
       "      <td>Excellent</td>\n",
       "      <td>NaN</td>\n",
       "      <td>NaN</td>\n",
       "      <td>NaN</td>\n",
       "      <td>NaN</td>\n",
       "      <td>Yes</td>\n",
       "      <td>Never</td>\n",
       "      <td>1930.429631</td>\n",
       "      <td>False</td>\n",
       "      <td>True</td>\n",
       "    </tr>\n",
       "    <tr>\n",
       "      <th>300840</th>\n",
       "      <td>M</td>\n",
       "      <td>30-34</td>\n",
       "      <td>Very good</td>\n",
       "      <td>NaN</td>\n",
       "      <td>NaN</td>\n",
       "      <td>NaN</td>\n",
       "      <td>NaN</td>\n",
       "      <td>No</td>\n",
       "      <td>Former</td>\n",
       "      <td>1561.253858</td>\n",
       "      <td>False</td>\n",
       "      <td>True</td>\n",
       "    </tr>\n",
       "    <tr>\n",
       "      <th>128960</th>\n",
       "      <td>F</td>\n",
       "      <td>80+</td>\n",
       "      <td>Good</td>\n",
       "      <td>NaN</td>\n",
       "      <td>NaN</td>\n",
       "      <td>NaN</td>\n",
       "      <td>NaN</td>\n",
       "      <td>No</td>\n",
       "      <td>Never</td>\n",
       "      <td>176.379050</td>\n",
       "      <td>False</td>\n",
       "      <td>True</td>\n",
       "    </tr>\n",
       "    <tr>\n",
       "      <th>399136</th>\n",
       "      <td>F</td>\n",
       "      <td>18-24</td>\n",
       "      <td>Good</td>\n",
       "      <td>No</td>\n",
       "      <td>No</td>\n",
       "      <td>Yes</td>\n",
       "      <td>Yes</td>\n",
       "      <td>No</td>\n",
       "      <td>Never</td>\n",
       "      <td>944.718264</td>\n",
       "      <td>True</td>\n",
       "      <td>False</td>\n",
       "    </tr>\n",
       "    <tr>\n",
       "      <th>132641</th>\n",
       "      <td>F</td>\n",
       "      <td>18-24</td>\n",
       "      <td>Very good</td>\n",
       "      <td>NaN</td>\n",
       "      <td>NaN</td>\n",
       "      <td>NaN</td>\n",
       "      <td>NaN</td>\n",
       "      <td>No</td>\n",
       "      <td>Never</td>\n",
       "      <td>311.757606</td>\n",
       "      <td>False</td>\n",
       "      <td>True</td>\n",
       "    </tr>\n",
       "  </tbody>\n",
       "</table>\n",
       "</div>"
      ],
      "text/plain": [
       "       _SEX _AGEG5YR    GENHLTH ACEPRISN ACEDRUGS ACEDRINK ACEDEPRS ADDEPEV3  \\\n",
       "214514    F    18-24  Excellent      NaN      NaN      NaN      NaN      Yes   \n",
       "300840    M    30-34  Very good      NaN      NaN      NaN      NaN       No   \n",
       "128960    F      80+       Good      NaN      NaN      NaN      NaN       No   \n",
       "399136    F    18-24       Good       No       No      Yes      Yes       No   \n",
       "132641    F    18-24  Very good      NaN      NaN      NaN      NaN       No   \n",
       "\n",
       "       _SMOKER3      _LLCPWT  adverse_conditions  adverse_missing  \n",
       "214514    Never  1930.429631               False             True  \n",
       "300840   Former  1561.253858               False             True  \n",
       "128960    Never   176.379050               False             True  \n",
       "399136    Never   944.718264                True            False  \n",
       "132641    Never   311.757606               False             True  "
      ]
     },
     "execution_count": 20,
     "metadata": {},
     "output_type": "execute_result"
    }
   ],
   "source": [
    "# copy modification 8\n",
    "samp_mod9 = samp_mod8.copy()\n",
    "\n",
    "# define missing indicator using loc\n",
    "ace_positions = samp_mod8.columns.str.startswith('ACE')\n",
    "ace_na = samp_mod9.loc[:, ace_positions].isna().sum(axis=1)\n",
    "samp_mod9['adverse_missing'] = ace_na > 0 \n",
    "\n",
    "# check using head()\n",
    "samp_mod9.head()"
   ]
  },
  {
   "cell_type": "markdown",
   "metadata": {},
   "source": [
    "### Q1 (f). Filter respondents who did not answer ACE questions\n",
    "\n",
    "Since values are missing for the ACE question if a respondent was not asked, we can remove these observations and do any analysis *conditional on respondents answering the ACE questions*. Use your indicator variable `adverse_missing` to filter out respondents who were not asked the ACE questions.\n"
   ]
  },
  {
   "cell_type": "code",
   "execution_count": 21,
   "metadata": {
    "tags": []
   },
   "outputs": [
    {
     "data": {
      "text/html": [
       "<div>\n",
       "<style scoped>\n",
       "    .dataframe tbody tr th:only-of-type {\n",
       "        vertical-align: middle;\n",
       "    }\n",
       "\n",
       "    .dataframe tbody tr th {\n",
       "        vertical-align: top;\n",
       "    }\n",
       "\n",
       "    .dataframe thead th {\n",
       "        text-align: right;\n",
       "    }\n",
       "</style>\n",
       "<table border=\"1\" class=\"dataframe\">\n",
       "  <thead>\n",
       "    <tr style=\"text-align: right;\">\n",
       "      <th></th>\n",
       "      <th>_SEX</th>\n",
       "      <th>_AGEG5YR</th>\n",
       "      <th>GENHLTH</th>\n",
       "      <th>ACEPRISN</th>\n",
       "      <th>ACEDRUGS</th>\n",
       "      <th>ACEDRINK</th>\n",
       "      <th>ACEDEPRS</th>\n",
       "      <th>ADDEPEV3</th>\n",
       "      <th>_SMOKER3</th>\n",
       "      <th>_LLCPWT</th>\n",
       "      <th>adverse_conditions</th>\n",
       "      <th>adverse_missing</th>\n",
       "    </tr>\n",
       "  </thead>\n",
       "  <tbody>\n",
       "    <tr>\n",
       "      <th>399136</th>\n",
       "      <td>F</td>\n",
       "      <td>18-24</td>\n",
       "      <td>Good</td>\n",
       "      <td>No</td>\n",
       "      <td>No</td>\n",
       "      <td>Yes</td>\n",
       "      <td>Yes</td>\n",
       "      <td>No</td>\n",
       "      <td>Never</td>\n",
       "      <td>944.718264</td>\n",
       "      <td>True</td>\n",
       "      <td>False</td>\n",
       "    </tr>\n",
       "    <tr>\n",
       "      <th>379021</th>\n",
       "      <td>F</td>\n",
       "      <td>45-49</td>\n",
       "      <td>Good</td>\n",
       "      <td>No</td>\n",
       "      <td>No</td>\n",
       "      <td>No</td>\n",
       "      <td>No</td>\n",
       "      <td>No</td>\n",
       "      <td>Never</td>\n",
       "      <td>3228.145531</td>\n",
       "      <td>False</td>\n",
       "      <td>False</td>\n",
       "    </tr>\n",
       "    <tr>\n",
       "      <th>187304</th>\n",
       "      <td>F</td>\n",
       "      <td>30-34</td>\n",
       "      <td>Excellent</td>\n",
       "      <td>No</td>\n",
       "      <td>Yes</td>\n",
       "      <td>Yes</td>\n",
       "      <td>No</td>\n",
       "      <td>Yes</td>\n",
       "      <td>Daily</td>\n",
       "      <td>2810.594209</td>\n",
       "      <td>True</td>\n",
       "      <td>False</td>\n",
       "    </tr>\n",
       "    <tr>\n",
       "      <th>311584</th>\n",
       "      <td>F</td>\n",
       "      <td>40-44</td>\n",
       "      <td>Excellent</td>\n",
       "      <td>No</td>\n",
       "      <td>No</td>\n",
       "      <td>Yes</td>\n",
       "      <td>No</td>\n",
       "      <td>No</td>\n",
       "      <td>Some days</td>\n",
       "      <td>1829.552117</td>\n",
       "      <td>True</td>\n",
       "      <td>False</td>\n",
       "    </tr>\n",
       "    <tr>\n",
       "      <th>403020</th>\n",
       "      <td>F</td>\n",
       "      <td>70-74</td>\n",
       "      <td>Excellent</td>\n",
       "      <td>No</td>\n",
       "      <td>No</td>\n",
       "      <td>Yes</td>\n",
       "      <td>No</td>\n",
       "      <td>No</td>\n",
       "      <td>Never</td>\n",
       "      <td>445.449778</td>\n",
       "      <td>True</td>\n",
       "      <td>False</td>\n",
       "    </tr>\n",
       "  </tbody>\n",
       "</table>\n",
       "</div>"
      ],
      "text/plain": [
       "       _SEX _AGEG5YR    GENHLTH ACEPRISN ACEDRUGS ACEDRINK ACEDEPRS ADDEPEV3  \\\n",
       "399136    F    18-24       Good       No       No      Yes      Yes       No   \n",
       "379021    F    45-49       Good       No       No       No       No       No   \n",
       "187304    F    30-34  Excellent       No      Yes      Yes       No      Yes   \n",
       "311584    F    40-44  Excellent       No       No      Yes       No       No   \n",
       "403020    F    70-74  Excellent       No       No      Yes       No       No   \n",
       "\n",
       "         _SMOKER3      _LLCPWT  adverse_conditions  adverse_missing  \n",
       "399136      Never   944.718264                True            False  \n",
       "379021      Never  3228.145531               False            False  \n",
       "187304      Daily  2810.594209                True            False  \n",
       "311584  Some days  1829.552117                True            False  \n",
       "403020      Never   445.449778                True            False  "
      ]
     },
     "execution_count": 21,
     "metadata": {},
     "output_type": "execute_result"
    }
   ],
   "source": [
    "# solution\n",
    "samp_mod10 = samp_mod9[samp_mod9.adverse_missing == False]\n",
    "samp_mod10.head()"
   ]
  },
  {
   "cell_type": "markdown",
   "metadata": {},
   "source": [
    "### Q1 (g). Define depression indicator variable\n",
    "\n",
    "It will prove similarly helpful to define an indicator for reported depression:\n",
    "\n",
    "* `depression`: did the respondent report having been diagnosed with a depressive disorder?\n",
    "\n",
    "Follow the same strategy as above, and store the result as `samp_mod9`. See if you can perform the calculation of the new variable in a single line of code. Print the first few rows using `.head()`.\n"
   ]
  },
  {
   "cell_type": "code",
   "execution_count": 22,
   "metadata": {
    "tags": []
   },
   "outputs": [
    {
     "data": {
      "text/html": [
       "<div>\n",
       "<style scoped>\n",
       "    .dataframe tbody tr th:only-of-type {\n",
       "        vertical-align: middle;\n",
       "    }\n",
       "\n",
       "    .dataframe tbody tr th {\n",
       "        vertical-align: top;\n",
       "    }\n",
       "\n",
       "    .dataframe thead th {\n",
       "        text-align: right;\n",
       "    }\n",
       "</style>\n",
       "<table border=\"1\" class=\"dataframe\">\n",
       "  <thead>\n",
       "    <tr style=\"text-align: right;\">\n",
       "      <th></th>\n",
       "      <th>_SEX</th>\n",
       "      <th>_AGEG5YR</th>\n",
       "      <th>GENHLTH</th>\n",
       "      <th>ACEPRISN</th>\n",
       "      <th>ACEDRUGS</th>\n",
       "      <th>ACEDRINK</th>\n",
       "      <th>ACEDEPRS</th>\n",
       "      <th>ADDEPEV3</th>\n",
       "      <th>_SMOKER3</th>\n",
       "      <th>_LLCPWT</th>\n",
       "      <th>adverse_conditions</th>\n",
       "      <th>adverse_missing</th>\n",
       "      <th>depression</th>\n",
       "    </tr>\n",
       "  </thead>\n",
       "  <tbody>\n",
       "    <tr>\n",
       "      <th>399136</th>\n",
       "      <td>F</td>\n",
       "      <td>18-24</td>\n",
       "      <td>Good</td>\n",
       "      <td>No</td>\n",
       "      <td>No</td>\n",
       "      <td>Yes</td>\n",
       "      <td>Yes</td>\n",
       "      <td>No</td>\n",
       "      <td>Never</td>\n",
       "      <td>944.718264</td>\n",
       "      <td>True</td>\n",
       "      <td>False</td>\n",
       "      <td>False</td>\n",
       "    </tr>\n",
       "    <tr>\n",
       "      <th>379021</th>\n",
       "      <td>F</td>\n",
       "      <td>45-49</td>\n",
       "      <td>Good</td>\n",
       "      <td>No</td>\n",
       "      <td>No</td>\n",
       "      <td>No</td>\n",
       "      <td>No</td>\n",
       "      <td>No</td>\n",
       "      <td>Never</td>\n",
       "      <td>3228.145531</td>\n",
       "      <td>False</td>\n",
       "      <td>False</td>\n",
       "      <td>False</td>\n",
       "    </tr>\n",
       "    <tr>\n",
       "      <th>187304</th>\n",
       "      <td>F</td>\n",
       "      <td>30-34</td>\n",
       "      <td>Excellent</td>\n",
       "      <td>No</td>\n",
       "      <td>Yes</td>\n",
       "      <td>Yes</td>\n",
       "      <td>No</td>\n",
       "      <td>Yes</td>\n",
       "      <td>Daily</td>\n",
       "      <td>2810.594209</td>\n",
       "      <td>True</td>\n",
       "      <td>False</td>\n",
       "      <td>True</td>\n",
       "    </tr>\n",
       "    <tr>\n",
       "      <th>311584</th>\n",
       "      <td>F</td>\n",
       "      <td>40-44</td>\n",
       "      <td>Excellent</td>\n",
       "      <td>No</td>\n",
       "      <td>No</td>\n",
       "      <td>Yes</td>\n",
       "      <td>No</td>\n",
       "      <td>No</td>\n",
       "      <td>Some days</td>\n",
       "      <td>1829.552117</td>\n",
       "      <td>True</td>\n",
       "      <td>False</td>\n",
       "      <td>False</td>\n",
       "    </tr>\n",
       "    <tr>\n",
       "      <th>403020</th>\n",
       "      <td>F</td>\n",
       "      <td>70-74</td>\n",
       "      <td>Excellent</td>\n",
       "      <td>No</td>\n",
       "      <td>No</td>\n",
       "      <td>Yes</td>\n",
       "      <td>No</td>\n",
       "      <td>No</td>\n",
       "      <td>Never</td>\n",
       "      <td>445.449778</td>\n",
       "      <td>True</td>\n",
       "      <td>False</td>\n",
       "      <td>False</td>\n",
       "    </tr>\n",
       "  </tbody>\n",
       "</table>\n",
       "</div>"
      ],
      "text/plain": [
       "       _SEX _AGEG5YR    GENHLTH ACEPRISN ACEDRUGS ACEDRINK ACEDEPRS ADDEPEV3  \\\n",
       "399136    F    18-24       Good       No       No      Yes      Yes       No   \n",
       "379021    F    45-49       Good       No       No       No       No       No   \n",
       "187304    F    30-34  Excellent       No      Yes      Yes       No      Yes   \n",
       "311584    F    40-44  Excellent       No       No      Yes       No       No   \n",
       "403020    F    70-74  Excellent       No       No      Yes       No       No   \n",
       "\n",
       "         _SMOKER3      _LLCPWT  adverse_conditions  adverse_missing  \\\n",
       "399136      Never   944.718264                True            False   \n",
       "379021      Never  3228.145531               False            False   \n",
       "187304      Daily  2810.594209                True            False   \n",
       "311584  Some days  1829.552117                True            False   \n",
       "403020      Never   445.449778                True            False   \n",
       "\n",
       "        depression  \n",
       "399136       False  \n",
       "379021       False  \n",
       "187304        True  \n",
       "311584       False  \n",
       "403020       False  "
      ]
     },
     "execution_count": 22,
     "metadata": {},
     "output_type": "execute_result"
    }
   ],
   "source": [
    "# copy samp_mod10\n",
    "samp_mod11 = samp_mod10.copy()\n",
    "\n",
    "# define new variable using loc\n",
    "samp_mod11['depression'] = samp_mod11.ADDEPEV3 == 'Yes'\n",
    "\n",
    "# check using .head()\n",
    "samp_mod11.head()"
   ]
  },
  {
   "cell_type": "markdown",
   "metadata": {},
   "source": [
    "### Q1 (h). Final dataset.\n",
    "\n",
    "For the final dataset, drop the respondent answers to individual questions, the missingness indicator, and select just the derived indicator variables along with state, general health, sex, age, and smoking status. Check the [pandas documentation](https://pandas.pydata.org/pandas-docs/stable/reference/api/pandas.DataFrame.rename.html) for `.rename()` and follow the examples to rename the latter variables:\n",
    "\n",
    "* general_health\n",
    "* sex\n",
    "* age\n",
    "* smoking\n",
    "\n",
    "See if you can perform both operations (slicing and renaming) in a single chain.\n"
   ]
  },
  {
   "cell_type": "code",
   "execution_count": 23,
   "metadata": {
    "tags": []
   },
   "outputs": [
    {
     "data": {
      "text/html": [
       "<div>\n",
       "<style scoped>\n",
       "    .dataframe tbody tr th:only-of-type {\n",
       "        vertical-align: middle;\n",
       "    }\n",
       "\n",
       "    .dataframe tbody tr th {\n",
       "        vertical-align: top;\n",
       "    }\n",
       "\n",
       "    .dataframe thead th {\n",
       "        text-align: right;\n",
       "    }\n",
       "</style>\n",
       "<table border=\"1\" class=\"dataframe\">\n",
       "  <thead>\n",
       "    <tr style=\"text-align: right;\">\n",
       "      <th></th>\n",
       "      <th>sex</th>\n",
       "      <th>age</th>\n",
       "      <th>general_health</th>\n",
       "      <th>smoking</th>\n",
       "      <th>adverse_conditions</th>\n",
       "      <th>depression</th>\n",
       "    </tr>\n",
       "  </thead>\n",
       "  <tbody>\n",
       "    <tr>\n",
       "      <th>399136</th>\n",
       "      <td>F</td>\n",
       "      <td>18-24</td>\n",
       "      <td>Good</td>\n",
       "      <td>Never</td>\n",
       "      <td>True</td>\n",
       "      <td>False</td>\n",
       "    </tr>\n",
       "    <tr>\n",
       "      <th>379021</th>\n",
       "      <td>F</td>\n",
       "      <td>45-49</td>\n",
       "      <td>Good</td>\n",
       "      <td>Never</td>\n",
       "      <td>False</td>\n",
       "      <td>False</td>\n",
       "    </tr>\n",
       "    <tr>\n",
       "      <th>187304</th>\n",
       "      <td>F</td>\n",
       "      <td>30-34</td>\n",
       "      <td>Excellent</td>\n",
       "      <td>Daily</td>\n",
       "      <td>True</td>\n",
       "      <td>True</td>\n",
       "    </tr>\n",
       "    <tr>\n",
       "      <th>311584</th>\n",
       "      <td>F</td>\n",
       "      <td>40-44</td>\n",
       "      <td>Excellent</td>\n",
       "      <td>Some days</td>\n",
       "      <td>True</td>\n",
       "      <td>False</td>\n",
       "    </tr>\n",
       "    <tr>\n",
       "      <th>403020</th>\n",
       "      <td>F</td>\n",
       "      <td>70-74</td>\n",
       "      <td>Excellent</td>\n",
       "      <td>Never</td>\n",
       "      <td>True</td>\n",
       "      <td>False</td>\n",
       "    </tr>\n",
       "  </tbody>\n",
       "</table>\n",
       "</div>"
      ],
      "text/plain": [
       "       sex    age general_health    smoking  adverse_conditions  depression\n",
       "399136   F  18-24           Good      Never                True       False\n",
       "379021   F  45-49           Good      Never               False       False\n",
       "187304   F  30-34      Excellent      Daily                True        True\n",
       "311584   F  40-44      Excellent  Some days                True       False\n",
       "403020   F  70-74      Excellent      Never                True       False"
      ]
     },
     "execution_count": 23,
     "metadata": {},
     "output_type": "execute_result"
    }
   ],
   "source": [
    "# slice and rename\n",
    "data = samp_mod11.drop(\n",
    "    columns = ['ACEPRISN', 'ACEDRUGS', 'ACEDRINK', \\\n",
    "               'ACEDEPRS', 'ADDEPEV3', '_LLCPWT', 'adverse_missing']) \\\n",
    ".rename(columns = {'GENHLTH': 'general_health', '_SEX': 'sex', \\\n",
    "                   '_AGEG5YR': 'age', '_SMOKER3': 'smoking'})\n",
    "\n",
    "# check using .head()\n",
    "data.head()"
   ]
  },
  {
   "cell_type": "markdown",
   "metadata": {},
   "source": [
    "---\n",
    "\n",
    "# 2. Descriptive analysis\n",
    "\n",
    "Now that you have a clean dataset, you'll use grouping and aggregation to compute several summary statistics that will help you **explore** and **analyze** whether there is an apparent association between experiencing adverse childhood conditions and self-reported health, smoking status, and depressive disorders. \n",
    "\n",
    "The basic strategy will be to calculate the proportions of respondents who answered yes to one of the adverse experience questions when respondents are grouped by the other variables."
   ]
  },
  {
   "cell_type": "markdown",
   "metadata": {},
   "source": [
    "### Q2 (a). Proportion of respondents reporting ACEs\n",
    "\n",
    "Calculate the overall proportion of respondents in the subsample that reported experiencing at least one adverse condition (given that they answered the ACE questions). Use `.mean()`; store the result as `mean_ace` and print."
   ]
  },
  {
   "cell_type": "code",
   "execution_count": 24,
   "metadata": {},
   "outputs": [
    {
     "data": {
      "text/plain": [
       "0.3668157787718585"
      ]
     },
     "execution_count": 24,
     "metadata": {},
     "output_type": "execute_result"
    }
   ],
   "source": [
    "# proportion of respondents reporting at least one adverse condition\n",
    "mean_ace = data['adverse_conditions'].mean()\n",
    "\n",
    "# print\n",
    "mean_ace"
   ]
  },
  {
   "cell_type": "markdown",
   "metadata": {},
   "source": [
    "*Does the proportion of respondents who reported experiencing adverse childhood conditions vary by general health?*\n",
    "\n",
    "The cell below computes the porportion separately by general health self-rating. Notice that the depression variable is dropped so that the result doesn't also report the proportion of respondents reporting having been diagnosed with a depressive disorder. Notice also that the proportion of missing values for respondents indicating each general health rating is shown."
   ]
  },
  {
   "cell_type": "code",
   "execution_count": 25,
   "metadata": {},
   "outputs": [
    {
     "data": {
      "text/html": [
       "<div>\n",
       "<style scoped>\n",
       "    .dataframe tbody tr th:only-of-type {\n",
       "        vertical-align: middle;\n",
       "    }\n",
       "\n",
       "    .dataframe tbody tr th {\n",
       "        vertical-align: top;\n",
       "    }\n",
       "\n",
       "    .dataframe thead th {\n",
       "        text-align: right;\n",
       "    }\n",
       "</style>\n",
       "<table border=\"1\" class=\"dataframe\">\n",
       "  <thead>\n",
       "    <tr style=\"text-align: right;\">\n",
       "      <th></th>\n",
       "      <th>adverse_conditions</th>\n",
       "    </tr>\n",
       "    <tr>\n",
       "      <th>general_health</th>\n",
       "      <th></th>\n",
       "    </tr>\n",
       "  </thead>\n",
       "  <tbody>\n",
       "    <tr>\n",
       "      <th>Excellent</th>\n",
       "      <td>0.322404</td>\n",
       "    </tr>\n",
       "    <tr>\n",
       "      <th>Fair</th>\n",
       "      <td>0.428571</td>\n",
       "    </tr>\n",
       "    <tr>\n",
       "      <th>Good</th>\n",
       "      <td>0.364084</td>\n",
       "    </tr>\n",
       "    <tr>\n",
       "      <th>Poor</th>\n",
       "      <td>0.430657</td>\n",
       "    </tr>\n",
       "    <tr>\n",
       "      <th>Refused</th>\n",
       "      <td>NaN</td>\n",
       "    </tr>\n",
       "    <tr>\n",
       "      <th>Unsure</th>\n",
       "      <td>0.166667</td>\n",
       "    </tr>\n",
       "    <tr>\n",
       "      <th>Very good</th>\n",
       "      <td>0.355828</td>\n",
       "    </tr>\n",
       "  </tbody>\n",
       "</table>\n",
       "</div>"
      ],
      "text/plain": [
       "                adverse_conditions\n",
       "general_health                    \n",
       "Excellent                 0.322404\n",
       "Fair                      0.428571\n",
       "Good                      0.364084\n",
       "Poor                      0.430657\n",
       "Refused                        NaN\n",
       "Unsure                    0.166667\n",
       "Very good                 0.355828"
      ]
     },
     "execution_count": 25,
     "metadata": {},
     "output_type": "execute_result"
    }
   ],
   "source": [
    "# proportions grouped by general health\n",
    "data.drop(\n",
    "    columns = 'depression'\n",
    ").groupby(\n",
    "    'general_health'\n",
    ").mean()"
   ]
  },
  {
   "cell_type": "markdown",
   "metadata": {},
   "source": [
    "Notice that the row index lists the general health rating out of order. This can be fixed using a `.loc[]` call and the dictionary that was defined for the variable coding."
   ]
  },
  {
   "cell_type": "code",
   "execution_count": 26,
   "metadata": {},
   "outputs": [
    {
     "data": {
      "text/html": [
       "<div>\n",
       "<style scoped>\n",
       "    .dataframe tbody tr th:only-of-type {\n",
       "        vertical-align: middle;\n",
       "    }\n",
       "\n",
       "    .dataframe tbody tr th {\n",
       "        vertical-align: top;\n",
       "    }\n",
       "\n",
       "    .dataframe thead th {\n",
       "        text-align: right;\n",
       "    }\n",
       "</style>\n",
       "<table border=\"1\" class=\"dataframe\">\n",
       "  <thead>\n",
       "    <tr style=\"text-align: right;\">\n",
       "      <th></th>\n",
       "      <th>adverse_conditions</th>\n",
       "    </tr>\n",
       "    <tr>\n",
       "      <th>general_health</th>\n",
       "      <th></th>\n",
       "    </tr>\n",
       "  </thead>\n",
       "  <tbody>\n",
       "    <tr>\n",
       "      <th>Excellent</th>\n",
       "      <td>0.322404</td>\n",
       "    </tr>\n",
       "    <tr>\n",
       "      <th>Very good</th>\n",
       "      <td>0.355828</td>\n",
       "    </tr>\n",
       "    <tr>\n",
       "      <th>Good</th>\n",
       "      <td>0.364084</td>\n",
       "    </tr>\n",
       "    <tr>\n",
       "      <th>Fair</th>\n",
       "      <td>0.428571</td>\n",
       "    </tr>\n",
       "    <tr>\n",
       "      <th>Poor</th>\n",
       "      <td>0.430657</td>\n",
       "    </tr>\n",
       "    <tr>\n",
       "      <th>Unsure</th>\n",
       "      <td>0.166667</td>\n",
       "    </tr>\n",
       "    <tr>\n",
       "      <th>Refused</th>\n",
       "      <td>NaN</td>\n",
       "    </tr>\n",
       "  </tbody>\n",
       "</table>\n",
       "</div>"
      ],
      "text/plain": [
       "                adverse_conditions\n",
       "general_health                    \n",
       "Excellent                 0.322404\n",
       "Very good                 0.355828\n",
       "Good                      0.364084\n",
       "Fair                      0.428571\n",
       "Poor                      0.430657\n",
       "Unsure                    0.166667\n",
       "Refused                        NaN"
      ]
     },
     "execution_count": 26,
     "metadata": {},
     "output_type": "execute_result"
    }
   ],
   "source": [
    "# same as above, rearranging index\n",
    "ace_health = data.drop(\n",
    "    columns = 'depression'\n",
    ").groupby(\n",
    "    'general_health'\n",
    ").mean().loc[list(health_codes.values()), :]\n",
    "\n",
    "# print\n",
    "ace_health"
   ]
  },
  {
   "cell_type": "markdown",
   "metadata": {},
   "source": [
    "### Q2 (b). Association between smoking status and ACEs\n",
    "\n",
    "*Does the proportion of respondents who reported experiencing adverse childhood conditions vary by smoking status?*\n",
    "\n",
    "Following the example above for computing the proportion of respondents reporting ACEs by general health rating, calculate the proportion of respondents reporting ACEs by smoking status (be sure to arrange the rows in appropriate order of smoking status)."
   ]
  },
  {
   "cell_type": "code",
   "execution_count": 27,
   "metadata": {
    "scrolled": true
   },
   "outputs": [
    {
     "data": {
      "text/html": [
       "<div>\n",
       "<style scoped>\n",
       "    .dataframe tbody tr th:only-of-type {\n",
       "        vertical-align: middle;\n",
       "    }\n",
       "\n",
       "    .dataframe tbody tr th {\n",
       "        vertical-align: top;\n",
       "    }\n",
       "\n",
       "    .dataframe thead th {\n",
       "        text-align: right;\n",
       "    }\n",
       "</style>\n",
       "<table border=\"1\" class=\"dataframe\">\n",
       "  <thead>\n",
       "    <tr style=\"text-align: right;\">\n",
       "      <th></th>\n",
       "      <th>adverse_conditions</th>\n",
       "    </tr>\n",
       "    <tr>\n",
       "      <th>smoking</th>\n",
       "      <th></th>\n",
       "    </tr>\n",
       "  </thead>\n",
       "  <tbody>\n",
       "    <tr>\n",
       "      <th>Daily</th>\n",
       "      <td>0.576512</td>\n",
       "    </tr>\n",
       "    <tr>\n",
       "      <th>Some days</th>\n",
       "      <td>0.453782</td>\n",
       "    </tr>\n",
       "    <tr>\n",
       "      <th>Former</th>\n",
       "      <td>0.409020</td>\n",
       "    </tr>\n",
       "    <tr>\n",
       "      <th>Never</th>\n",
       "      <td>0.299427</td>\n",
       "    </tr>\n",
       "    <tr>\n",
       "      <th>Unsure/refused/missing</th>\n",
       "      <td>0.250000</td>\n",
       "    </tr>\n",
       "  </tbody>\n",
       "</table>\n",
       "</div>"
      ],
      "text/plain": [
       "                        adverse_conditions\n",
       "smoking                                   \n",
       "Daily                             0.576512\n",
       "Some days                         0.453782\n",
       "Former                            0.409020\n",
       "Never                             0.299427\n",
       "Unsure/refused/missing            0.250000"
      ]
     },
     "execution_count": 27,
     "metadata": {},
     "output_type": "execute_result"
    }
   ],
   "source": [
    "# proportions grouped by smoking status\n",
    "ace_smoking = data.drop(\n",
    "    columns = 'depression'\n",
    ").groupby(\n",
    "    'smoking'\n",
    ").mean().loc[list(smoke_codes.values()), :]\n",
    "\n",
    "\n",
    "# print\n",
    "ace_smoking"
   ]
  },
  {
   "cell_type": "markdown",
   "metadata": {},
   "source": [
    "### Q2 (c). Association between depression and ACEs\n",
    "\n",
    "*Does the proportion of respondents who reported experiencing adverse childhood conditions vary by smoking status?*\n",
    "\n",
    "Calculate the proportion of respondents reporting ACEs by whether respondents had been diagnosed with a depressive disorder."
   ]
  },
  {
   "cell_type": "code",
   "execution_count": 28,
   "metadata": {},
   "outputs": [
    {
     "data": {
      "text/html": [
       "<div>\n",
       "<style scoped>\n",
       "    .dataframe tbody tr th:only-of-type {\n",
       "        vertical-align: middle;\n",
       "    }\n",
       "\n",
       "    .dataframe tbody tr th {\n",
       "        vertical-align: top;\n",
       "    }\n",
       "\n",
       "    .dataframe thead th {\n",
       "        text-align: right;\n",
       "    }\n",
       "</style>\n",
       "<table border=\"1\" class=\"dataframe\">\n",
       "  <thead>\n",
       "    <tr style=\"text-align: right;\">\n",
       "      <th></th>\n",
       "      <th>adverse_conditions</th>\n",
       "    </tr>\n",
       "    <tr>\n",
       "      <th>depression</th>\n",
       "      <th></th>\n",
       "    </tr>\n",
       "  </thead>\n",
       "  <tbody>\n",
       "    <tr>\n",
       "      <th>False</th>\n",
       "      <td>0.314824</td>\n",
       "    </tr>\n",
       "    <tr>\n",
       "      <th>True</th>\n",
       "      <td>0.572581</td>\n",
       "    </tr>\n",
       "  </tbody>\n",
       "</table>\n",
       "</div>"
      ],
      "text/plain": [
       "            adverse_conditions\n",
       "depression                    \n",
       "False                 0.314824\n",
       "True                  0.572581"
      ]
     },
     "execution_count": 28,
     "metadata": {},
     "output_type": "execute_result"
    }
   ],
   "source": [
    "# proportions grouped by having experienced depression\n",
    "ace_depr = data.groupby('depression').mean()\n",
    "\n",
    "\n",
    "# print\n",
    "ace_depr"
   ]
  },
  {
   "cell_type": "markdown",
   "metadata": {},
   "source": [
    "### Q2 (d). Exploring subgroupings\n",
    "\n",
    "*Does the apparent association between general health and ACEs persist after accounting for sex?*\n",
    "\n",
    "Repeat the calculation of the proportion of respondents reporting ACEs by general health rating, but also group by sex. "
   ]
  },
  {
   "cell_type": "code",
   "execution_count": 29,
   "metadata": {},
   "outputs": [
    {
     "data": {
      "text/html": [
       "<div>\n",
       "<style scoped>\n",
       "    .dataframe tbody tr th:only-of-type {\n",
       "        vertical-align: middle;\n",
       "    }\n",
       "\n",
       "    .dataframe tbody tr th {\n",
       "        vertical-align: top;\n",
       "    }\n",
       "\n",
       "    .dataframe thead th {\n",
       "        text-align: right;\n",
       "    }\n",
       "</style>\n",
       "<table border=\"1\" class=\"dataframe\">\n",
       "  <thead>\n",
       "    <tr style=\"text-align: right;\">\n",
       "      <th>sex</th>\n",
       "      <th>F</th>\n",
       "      <th>M</th>\n",
       "    </tr>\n",
       "    <tr>\n",
       "      <th>general_health</th>\n",
       "      <th></th>\n",
       "      <th></th>\n",
       "    </tr>\n",
       "  </thead>\n",
       "  <tbody>\n",
       "    <tr>\n",
       "      <th>Excellent</th>\n",
       "      <td>0.327485</td>\n",
       "      <td>0.317949</td>\n",
       "    </tr>\n",
       "    <tr>\n",
       "      <th>Very good</th>\n",
       "      <td>0.356132</td>\n",
       "      <td>0.355499</td>\n",
       "    </tr>\n",
       "    <tr>\n",
       "      <th>Good</th>\n",
       "      <td>0.417266</td>\n",
       "      <td>0.308081</td>\n",
       "    </tr>\n",
       "    <tr>\n",
       "      <th>Fair</th>\n",
       "      <td>0.488636</td>\n",
       "      <td>0.356164</td>\n",
       "    </tr>\n",
       "    <tr>\n",
       "      <th>Poor</th>\n",
       "      <td>0.443038</td>\n",
       "      <td>0.413793</td>\n",
       "    </tr>\n",
       "    <tr>\n",
       "      <th>Unsure</th>\n",
       "      <td>0.000000</td>\n",
       "      <td>0.333333</td>\n",
       "    </tr>\n",
       "    <tr>\n",
       "      <th>Refused</th>\n",
       "      <td>NaN</td>\n",
       "      <td>NaN</td>\n",
       "    </tr>\n",
       "  </tbody>\n",
       "</table>\n",
       "</div>"
      ],
      "text/plain": [
       "sex                    F         M\n",
       "general_health                    \n",
       "Excellent       0.327485  0.317949\n",
       "Very good       0.356132  0.355499\n",
       "Good            0.417266  0.308081\n",
       "Fair            0.488636  0.356164\n",
       "Poor            0.443038  0.413793\n",
       "Unsure          0.000000  0.333333\n",
       "Refused              NaN       NaN"
      ]
     },
     "execution_count": 29,
     "metadata": {},
     "output_type": "execute_result"
    }
   ],
   "source": [
    "# group by general health and sex\n",
    "ace_health_sex = data.drop(\n",
    "    columns = 'depression'\n",
    ").groupby(\n",
    "    ['general_health', 'sex']\n",
    ").mean().loc[list(health_codes.values()), :]\n",
    "\n",
    "\n",
    "# # pivot table for better display\n",
    "ace_health_sex.reset_index().pivot(\n",
    "    index = 'general_health',\n",
    "    columns = 'sex',\n",
    "    values = 'adverse_conditions').loc[list(health_codes.values()), :]"
   ]
  },
  {
   "cell_type": "markdown",
   "metadata": {},
   "source": [
    "The table in the last question is a little tricky to read. This information would be better displayed in a plot. The example below generates a bar chart showing the summaries you calculated in Q2(d), with the proportion on the y axis, the health rating on the x axis, and separate bars for the two sexes."
   ]
  },
  {
   "cell_type": "code",
   "execution_count": 30,
   "metadata": {},
   "outputs": [
    {
     "data": {
      "text/html": [
       "\n",
       "<div id=\"altair-viz-8dc556e4110a48bb93a4de3247db1b88\"></div>\n",
       "<script type=\"text/javascript\">\n",
       "  (function(spec, embedOpt){\n",
       "    const outputDiv = document.getElementById(\"altair-viz-8dc556e4110a48bb93a4de3247db1b88\");\n",
       "    const paths = {\n",
       "      \"vega\": \"https://cdn.jsdelivr.net/npm//vega@5?noext\",\n",
       "      \"vega-lib\": \"https://cdn.jsdelivr.net/npm//vega-lib?noext\",\n",
       "      \"vega-lite\": \"https://cdn.jsdelivr.net/npm//vega-lite@4.0.2?noext\",\n",
       "      \"vega-embed\": \"https://cdn.jsdelivr.net/npm//vega-embed@6?noext\",\n",
       "    };\n",
       "\n",
       "    function loadScript(lib) {\n",
       "      return new Promise(function(resolve, reject) {\n",
       "        var s = document.createElement('script');\n",
       "        s.src = paths[lib];\n",
       "        s.async = true;\n",
       "        s.onload = () => resolve(paths[lib]);\n",
       "        s.onerror = () => reject(`Error loading script: ${paths[lib]}`);\n",
       "        document.getElementsByTagName(\"head\")[0].appendChild(s);\n",
       "      });\n",
       "    }\n",
       "\n",
       "    function showError(err) {\n",
       "      outputDiv.innerHTML = `<div class=\"error\" style=\"color:red;\">${err}</div>`;\n",
       "      throw err;\n",
       "    }\n",
       "\n",
       "    function displayChart(vegaEmbed) {\n",
       "      vegaEmbed(outputDiv, spec, embedOpt)\n",
       "        .catch(err => showError(`Javascript Error: ${err.message}<br>This usually means there's a typo in your chart specification. See the javascript console for the full traceback.`));\n",
       "    }\n",
       "\n",
       "    if(typeof define === \"function\" && define.amd) {\n",
       "      requirejs.config({paths});\n",
       "      require([\"vega-embed\"], displayChart, err => showError(`Error loading script: ${err.message}`));\n",
       "    } else if (typeof vegaEmbed === \"function\") {\n",
       "      displayChart(vegaEmbed);\n",
       "    } else {\n",
       "      loadScript(\"vega\")\n",
       "        .then(() => loadScript(\"vega-lite\"))\n",
       "        .then(() => loadScript(\"vega-embed\"))\n",
       "        .catch(showError)\n",
       "        .then(() => displayChart(vegaEmbed));\n",
       "    }\n",
       "  })({\"config\": {\"view\": {\"continuousWidth\": 400, \"continuousHeight\": 300}}, \"data\": {\"name\": \"data-96446ab1189f5cb5a3ef241389ce96dd\"}, \"mark\": \"bar\", \"encoding\": {\"color\": {\"type\": \"nominal\", \"field\": \"sex\"}, \"column\": {\"type\": \"nominal\", \"field\": \"sex\"}, \"x\": {\"type\": \"nominal\", \"field\": \"general_health\", \"sort\": [\"general_health\"], \"title\": \"Self-rated general health\"}, \"y\": {\"type\": \"quantitative\", \"field\": \"adverse_conditions\", \"title\": \"Prop. of respondents reporting ACEs\"}}, \"height\": 200, \"width\": 200, \"$schema\": \"https://vega.github.io/schema/vega-lite/v4.0.2.json\", \"datasets\": {\"data-96446ab1189f5cb5a3ef241389ce96dd\": [{\"general_health\": \"Excellent\", \"sex\": \"F\", \"adverse_conditions\": 0.32748538011695905}, {\"general_health\": \"Excellent\", \"sex\": \"M\", \"adverse_conditions\": 0.31794871794871793}, {\"general_health\": \"Very good\", \"sex\": \"F\", \"adverse_conditions\": 0.3561320754716981}, {\"general_health\": \"Very good\", \"sex\": \"M\", \"adverse_conditions\": 0.3554987212276215}, {\"general_health\": \"Good\", \"sex\": \"F\", \"adverse_conditions\": 0.4172661870503597}, {\"general_health\": \"Good\", \"sex\": \"M\", \"adverse_conditions\": 0.30808080808080807}, {\"general_health\": \"Fair\", \"sex\": \"F\", \"adverse_conditions\": 0.48863636363636365}, {\"general_health\": \"Fair\", \"sex\": \"M\", \"adverse_conditions\": 0.3561643835616438}, {\"general_health\": \"Poor\", \"sex\": \"F\", \"adverse_conditions\": 0.4430379746835443}, {\"general_health\": \"Poor\", \"sex\": \"M\", \"adverse_conditions\": 0.41379310344827586}, {\"general_health\": \"Unsure\", \"sex\": \"F\", \"adverse_conditions\": 0.0}, {\"general_health\": \"Unsure\", \"sex\": \"M\", \"adverse_conditions\": 0.3333333333333333}, {\"general_health\": \"Refused\", \"sex\": \"F\", \"adverse_conditions\": null}, {\"general_health\": \"Refused\", \"sex\": \"M\", \"adverse_conditions\": null}]}}, {\"mode\": \"vega-lite\"});\n",
       "</script>"
      ],
      "text/plain": [
       "alt.Chart(...)"
      ]
     },
     "execution_count": 30,
     "metadata": {},
     "output_type": "execute_result"
    }
   ],
   "source": [
    "# coerce indices to columns for plotting\n",
    "plot_df = ace_health_sex.reset_index()\n",
    "\n",
    "# specify order of general health categories\n",
    "genhealth_order = pd.CategoricalDtype(list(health_codes.values()), ordered = True)\n",
    "plot_df['general_health'] = plot_df.general_health.astype(genhealth_order)\n",
    "\n",
    "# plot\n",
    "alt.Chart(plot_df).mark_bar().encode(\n",
    "    x = alt.X('general_health', \n",
    "              sort = ['general_health'],\n",
    "              title = 'Self-rated general health'),\n",
    "    y = alt.Y('adverse_conditions',\n",
    "              title = 'Prop. of respondents reporting ACEs'),\n",
    "    color = 'sex',\n",
    "    column = 'sex'\n",
    ").properties(\n",
    "    width = 200, \n",
    "    height = 200\n",
    ")"
   ]
  },
  {
   "cell_type": "markdown",
   "metadata": {},
   "source": [
    "### Q2 (e). Visualization\n",
    "\n",
    "Use the example above to plot the proportion of respondents reporting ACEs \n",
    "against smoking status for men and women.\n",
    "\n",
    "*Hint*: you only need to modify the example by substituting smoking status for general health."
   ]
  },
  {
   "cell_type": "code",
   "execution_count": 31,
   "metadata": {},
   "outputs": [
    {
     "data": {
      "text/html": [
       "<div>\n",
       "<style scoped>\n",
       "    .dataframe tbody tr th:only-of-type {\n",
       "        vertical-align: middle;\n",
       "    }\n",
       "\n",
       "    .dataframe tbody tr th {\n",
       "        vertical-align: top;\n",
       "    }\n",
       "\n",
       "    .dataframe thead th {\n",
       "        text-align: right;\n",
       "    }\n",
       "</style>\n",
       "<table border=\"1\" class=\"dataframe\">\n",
       "  <thead>\n",
       "    <tr style=\"text-align: right;\">\n",
       "      <th>sex</th>\n",
       "      <th>F</th>\n",
       "      <th>M</th>\n",
       "    </tr>\n",
       "    <tr>\n",
       "      <th>smoking</th>\n",
       "      <th></th>\n",
       "      <th></th>\n",
       "    </tr>\n",
       "  </thead>\n",
       "  <tbody>\n",
       "    <tr>\n",
       "      <th>Daily</th>\n",
       "      <td>0.654412</td>\n",
       "      <td>0.503448</td>\n",
       "    </tr>\n",
       "    <tr>\n",
       "      <th>Former</th>\n",
       "      <td>0.454237</td>\n",
       "      <td>0.370690</td>\n",
       "    </tr>\n",
       "    <tr>\n",
       "      <th>Never</th>\n",
       "      <td>0.311604</td>\n",
       "      <td>0.284579</td>\n",
       "    </tr>\n",
       "    <tr>\n",
       "      <th>Some days</th>\n",
       "      <td>0.583333</td>\n",
       "      <td>0.322034</td>\n",
       "    </tr>\n",
       "    <tr>\n",
       "      <th>Unsure/refused/missing</th>\n",
       "      <td>0.416667</td>\n",
       "      <td>0.000000</td>\n",
       "    </tr>\n",
       "  </tbody>\n",
       "</table>\n",
       "</div>"
      ],
      "text/plain": [
       "sex                            F         M\n",
       "smoking                                   \n",
       "Daily                   0.654412  0.503448\n",
       "Former                  0.454237  0.370690\n",
       "Never                   0.311604  0.284579\n",
       "Some days               0.583333  0.322034\n",
       "Unsure/refused/missing  0.416667  0.000000"
      ]
     },
     "execution_count": 31,
     "metadata": {},
     "output_type": "execute_result"
    }
   ],
   "source": [
    "# grouping by smoking status and sex  \n",
    "\n",
    "ace_smoking = data.drop(\n",
    "    columns = 'depression'\n",
    ").groupby(\n",
    "    ['smoking', 'sex']\n",
    ").mean().loc[list(smoke_codes.values()), :]\n",
    "\n",
    "ace_smoking.reset_index().pivot(\n",
    "    index = 'smoking', \n",
    "    columns = 'sex', \n",
    "    values = 'adverse_conditions'\n",
    ")"
   ]
  },
  {
   "cell_type": "code",
   "execution_count": 32,
   "metadata": {},
   "outputs": [
    {
     "data": {
      "text/html": [
       "\n",
       "<div id=\"altair-viz-5342e3d646e14c688d002e1cca6f7883\"></div>\n",
       "<script type=\"text/javascript\">\n",
       "  (function(spec, embedOpt){\n",
       "    const outputDiv = document.getElementById(\"altair-viz-5342e3d646e14c688d002e1cca6f7883\");\n",
       "    const paths = {\n",
       "      \"vega\": \"https://cdn.jsdelivr.net/npm//vega@5?noext\",\n",
       "      \"vega-lib\": \"https://cdn.jsdelivr.net/npm//vega-lib?noext\",\n",
       "      \"vega-lite\": \"https://cdn.jsdelivr.net/npm//vega-lite@4.0.2?noext\",\n",
       "      \"vega-embed\": \"https://cdn.jsdelivr.net/npm//vega-embed@6?noext\",\n",
       "    };\n",
       "\n",
       "    function loadScript(lib) {\n",
       "      return new Promise(function(resolve, reject) {\n",
       "        var s = document.createElement('script');\n",
       "        s.src = paths[lib];\n",
       "        s.async = true;\n",
       "        s.onload = () => resolve(paths[lib]);\n",
       "        s.onerror = () => reject(`Error loading script: ${paths[lib]}`);\n",
       "        document.getElementsByTagName(\"head\")[0].appendChild(s);\n",
       "      });\n",
       "    }\n",
       "\n",
       "    function showError(err) {\n",
       "      outputDiv.innerHTML = `<div class=\"error\" style=\"color:red;\">${err}</div>`;\n",
       "      throw err;\n",
       "    }\n",
       "\n",
       "    function displayChart(vegaEmbed) {\n",
       "      vegaEmbed(outputDiv, spec, embedOpt)\n",
       "        .catch(err => showError(`Javascript Error: ${err.message}<br>This usually means there's a typo in your chart specification. See the javascript console for the full traceback.`));\n",
       "    }\n",
       "\n",
       "    if(typeof define === \"function\" && define.amd) {\n",
       "      requirejs.config({paths});\n",
       "      require([\"vega-embed\"], displayChart, err => showError(`Error loading script: ${err.message}`));\n",
       "    } else if (typeof vegaEmbed === \"function\") {\n",
       "      displayChart(vegaEmbed);\n",
       "    } else {\n",
       "      loadScript(\"vega\")\n",
       "        .then(() => loadScript(\"vega-lite\"))\n",
       "        .then(() => loadScript(\"vega-embed\"))\n",
       "        .catch(showError)\n",
       "        .then(() => displayChart(vegaEmbed));\n",
       "    }\n",
       "  })({\"config\": {\"view\": {\"continuousWidth\": 400, \"continuousHeight\": 300}}, \"data\": {\"name\": \"data-0fd89c1ca07f2222f9ad88650ae722f9\"}, \"mark\": \"bar\", \"encoding\": {\"color\": {\"type\": \"nominal\", \"field\": \"sex\"}, \"column\": {\"type\": \"nominal\", \"field\": \"sex\"}, \"x\": {\"type\": \"nominal\", \"field\": \"smoking\", \"sort\": [\"smoking\"], \"title\": \"Smoking Status\"}, \"y\": {\"type\": \"quantitative\", \"field\": \"adverse_conditions\", \"title\": \"Prop. of respondents reporting ACEs\"}}, \"height\": 200, \"width\": 200, \"$schema\": \"https://vega.github.io/schema/vega-lite/v4.0.2.json\", \"datasets\": {\"data-0fd89c1ca07f2222f9ad88650ae722f9\": [{\"smoking\": \"Daily\", \"sex\": \"F\", \"adverse_conditions\": 0.6544117647058824}, {\"smoking\": \"Daily\", \"sex\": \"M\", \"adverse_conditions\": 0.503448275862069}, {\"smoking\": \"Some days\", \"sex\": \"F\", \"adverse_conditions\": 0.5833333333333334}, {\"smoking\": \"Some days\", \"sex\": \"M\", \"adverse_conditions\": 0.3220338983050847}, {\"smoking\": \"Former\", \"sex\": \"F\", \"adverse_conditions\": 0.4542372881355932}, {\"smoking\": \"Former\", \"sex\": \"M\", \"adverse_conditions\": 0.3706896551724138}, {\"smoking\": \"Never\", \"sex\": \"F\", \"adverse_conditions\": 0.3116036505867014}, {\"smoking\": \"Never\", \"sex\": \"M\", \"adverse_conditions\": 0.2845786963434022}, {\"smoking\": \"Unsure/refused/missing\", \"sex\": \"F\", \"adverse_conditions\": 0.4166666666666667}, {\"smoking\": \"Unsure/refused/missing\", \"sex\": \"M\", \"adverse_conditions\": 0.0}]}}, {\"mode\": \"vega-lite\"});\n",
       "</script>"
      ],
      "text/plain": [
       "alt.Chart(...)"
      ]
     },
     "execution_count": 32,
     "metadata": {},
     "output_type": "execute_result"
    }
   ],
   "source": [
    "# plot codes go here\n",
    "\n",
    "# coerce indices to columns for plotting\n",
    "plot_df = ace_smoking.reset_index()\n",
    "\n",
    "# specify order of general health categories\n",
    "smoking_order = pd.CategoricalDtype(list(smoke_codes.values()), ordered = True)\n",
    "plot_df['smoking'] = plot_df.smoking.astype(smoking_order)\n",
    "\n",
    "# plot\n",
    "alt.Chart(plot_df).mark_bar().encode(\n",
    "    x = alt.X('smoking', \n",
    "              sort = ['smoking'],\n",
    "              title = 'Smoking Status'),\n",
    "    y = alt.Y('adverse_conditions',\n",
    "              title = 'Prop. of respondents reporting ACEs'),\n",
    "    color = 'sex',\n",
    "    column = 'sex'\n",
    ").properties(\n",
    "    width = 200, \n",
    "    height = 200\n",
    ")"
   ]
  },
  {
   "cell_type": "markdown",
   "metadata": {},
   "source": [
    "## 3. Communicating results\n",
    "\n",
    "Here you'll be asked to reflect briefly on your findings."
   ]
  },
  {
   "cell_type": "markdown",
   "metadata": {},
   "source": [
    "### Q3 (a). Summary\n",
    "\n",
    "*Is there an observed association between reporting ACEs and general health, smoking status, and depression among survey respondents who answered the ACE questions?*\n",
    "\n",
    "Write a two to three sentence answer to the above question summarizing your findings. State an answer to the question in your first sentence, and then in your second/third sentences describe exactly what you observed in the foregoing descriptive analysis of the BRFSS data. Be precise, but also concise. There is no need to describe any of the data manipulations, survey design, or the like."
   ]
  },
  {
   "cell_type": "markdown",
   "metadata": {},
   "source": [
    "**Answer**\n",
    "\n",
    "From our analysis, there is reasonable evidence to suggest there is an association between reporting ACEs and general health, smoking status, and depression among survey respondents who answered the ACE questions. The largest proportion of respondents reporting having ACEs were those who also reported having a depression diagnosis, being a daily smoker, and having a fair or poor general health rating. On the other hand, non-smokers, those with excellent self-reported general health ratings, and those never having been diagnosed with depression had a lower proportion of respondents reporting ACEs."
   ]
  },
  {
   "cell_type": "markdown",
   "metadata": {},
   "source": [
    "### Q3 (b). Generalization\n",
    "\n",
    "Recall from the overview documentation all the care that the BRFSS dedicates to collecting a representative sample of the U.S. adult population with phone numbers. Do you think that your findings provide evidence of an association among the general public (not just the individuals survey)? Why or why not? Answer in two sentences."
   ]
  },
  {
   "cell_type": "markdown",
   "metadata": {},
   "source": [
    "**Answer**\n",
    "\n",
    "Although the BRFSS had a large sample size, I do not think the findings provide evidence among the general public because this sample size is only representative of U.S. adults with phone numbers. This doesn't account for a large body of the U.S. population without phone numbers."
   ]
  },
  {
   "cell_type": "markdown",
   "metadata": {},
   "source": [
    "### Q3 (c). Bias\n",
    "\n",
    "What is a potential source of bias in the survey results, and how might this affect the proportions you've calculated?\n",
    "\n",
    "Answer in one or two sentences."
   ]
  },
  {
   "cell_type": "markdown",
   "metadata": {},
   "source": [
    "**Answer**\n",
    "\n",
    "Untruthful respondent answers is a potential bias in the survey results because some respondents may have tailored their answers to what they think is less shameful such as never smoking and having an excellent general health rating. This would have skewed the proportions such that the proportions of respondents reporting ACEs may not have been as polarized or clear among different subgroups."
   ]
  },
  {
   "cell_type": "markdown",
   "metadata": {},
   "source": [
    "### Comment\n",
    "\n",
    "Notice that the language 'association' is non-causual: we don't say that ACEs cause (or don't cause) poorer health outcomes. This is intentional, because the BRFSS data are what are known as 'observational' data, *i.e.* not originating from a controlled experiment. There could be unobserved factors that explain the association. \n",
    "\n",
    "To take a simple example, dog owners live longer, but the reason is simply that dog owners walk more -- so it's the exercise, not the dogs, that cause an increase in longevity. An observational study that doesn't measure exercise would show a positive association between dog ownership and lifespan, but it's a non-causal relationship.\n",
    "\n",
    "So there could easily be unobserved factors that account for the observed association in the BRFSS data. We guard against over-interpreting the results by using causally-neutral language."
   ]
  },
  {
   "cell_type": "markdown",
   "metadata": {},
   "source": [
    "## Submission\n",
    "\n",
    "1. Save file to confirm all changes are on disk\n",
    "2. Run *Kernel > Restart & Run All* to execute all code from top to bottom\n",
    "3. Save file again to write any new output to disk\n",
    "4. Select *File > Download as > Notebook*\n",
    "5. Submit to Gradescope"
   ]
  },
  {
   "cell_type": "markdown",
   "metadata": {
    "deletable": false,
    "editable": false
   },
   "source": [
    "---\n",
    "\n",
    "To double-check your work, the cell below will rerun all of the autograder tests."
   ]
  },
  {
   "cell_type": "code",
   "execution_count": 33,
   "metadata": {
    "deletable": false,
    "editable": false
   },
   "outputs": [
    {
     "data": {
      "text/plain": [
       "q0_a results: All test cases passed!\n",
       "\n",
       "q1_a results: All test cases passed!\n",
       "\n",
       "q1_b_i results: All test cases passed!\n",
       "\n",
       "q1_b_ii results: All test cases passed!\n",
       "\n",
       "q1_b_iii results: All test cases passed!"
      ]
     },
     "execution_count": 33,
     "metadata": {},
     "output_type": "execute_result"
    }
   ],
   "source": [
    "grader.check_all()"
   ]
  },
  {
   "cell_type": "code",
   "execution_count": null,
   "metadata": {},
   "outputs": [],
   "source": []
  }
 ],
 "metadata": {
  "kernelspec": {
   "display_name": "Python 3",
   "language": "python",
   "name": "python3"
  },
  "language_info": {
   "codemirror_mode": {
    "name": "ipython",
    "version": 3
   },
   "file_extension": ".py",
   "mimetype": "text/x-python",
   "name": "python",
   "nbconvert_exporter": "python",
   "pygments_lexer": "ipython3",
   "version": "3.7.12"
  },
  "otter": {
   "tests": {
    "q0_a": {
     "name": "q0_a",
     "points": 1,
     "suites": [
      {
       "cases": [],
       "scored": true,
       "setup": "",
       "teardown": "",
       "type": "doctest"
      }
     ]
    },
    "q1_a": {
     "name": "q1_a",
     "points": 1,
     "suites": [
      {
       "cases": [
        {
         "code": ">>> samp_mod1.shape == (10000, 10)\nTrue",
         "hidden": false,
         "locked": false
        }
       ],
       "scored": true,
       "setup": "",
       "teardown": "",
       "type": "doctest"
      }
     ]
    },
    "q1_b_i": {
     "name": "q1_b_i",
     "points": 1,
     "suites": [
      {
       "cases": [
        {
         "code": ">>> samp_mod3.shape == (10000, 10)\nTrue",
         "hidden": false,
         "locked": false
        },
        {
         "code": ">>> len(sex_codes.items()) == 2\nTrue",
         "hidden": false,
         "locked": false
        }
       ],
       "scored": true,
       "setup": "",
       "teardown": "",
       "type": "doctest"
      }
     ]
    },
    "q1_b_ii": {
     "name": "q1_b_ii",
     "points": 1,
     "suites": [
      {
       "cases": [
        {
         "code": ">>> samp_mod4.shape == (10000, 10)\nTrue",
         "hidden": false,
         "locked": false
        },
        {
         "code": ">>> len(health_codes.items()) == 7\nTrue",
         "hidden": false,
         "locked": false
        },
        {
         "code": ">>> (np.unique(samp_mod3.GENHLTH) == [1., 2., 3., 4., 5., 7., 9.]).all() # hint for creating samp_mod4\nTrue",
         "hidden": false,
         "locked": false
        }
       ],
       "scored": true,
       "setup": "",
       "teardown": "",
       "type": "doctest"
      }
     ]
    },
    "q1_b_iii": {
     "name": "q1_b_iii",
     "points": 1,
     "suites": [
      {
       "cases": [
        {
         "code": ">>> samp_mod5.shape == (10000, 10)\nTrue",
         "hidden": false,
         "locked": false
        },
        {
         "code": ">>> len(smoke_codes.items()) == 5\nTrue",
         "hidden": false,
         "locked": false
        },
        {
         "code": ">>> (np.unique(samp_mod3._SMOKER3) == [1., 2., 3., 4., 9.]).all() # hint for creating samp_mod5\nTrue",
         "hidden": false,
         "locked": false
        }
       ],
       "scored": true,
       "setup": "",
       "teardown": "",
       "type": "doctest"
      }
     ]
    }
   }
  }
 },
 "nbformat": 4,
 "nbformat_minor": 4
}
