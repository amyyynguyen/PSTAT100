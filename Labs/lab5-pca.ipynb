{
 "cells": [
  {
   "cell_type": "code",
   "execution_count": 1,
   "metadata": {
    "deletable": false,
    "editable": false
   },
   "outputs": [],
   "source": [
    "# Initialize Otter\n",
    "import otter\n",
    "grader = otter.Notebook(\"lab5-pca.ipynb\")"
   ]
  },
  {
   "cell_type": "code",
   "execution_count": 2,
   "metadata": {},
   "outputs": [
    {
     "data": {
      "text/plain": [
       "DataTransformerRegistry.enable('default')"
      ]
     },
     "execution_count": 2,
     "metadata": {},
     "output_type": "execute_result"
    }
   ],
   "source": [
    "import numpy as np\n",
    "import pandas as pd\n",
    "import altair as alt\n",
    "from sklearn.decomposition import PCA\n",
    "alt.data_transformers.disable_max_rows()"
   ]
  },
  {
   "cell_type": "markdown",
   "metadata": {},
   "source": [
    "# Lab 5: Principal components\n",
    "### Amy Nguyen\n",
    "\n",
    "There are many perspectives on principal components analysis (PCA). PCA is variously described as: a dimension reduction method; a method of approximating covariance structure; a latent model; a change of basis that optimally describes covariation; and so on. How can these seemingly distinct views be compatible with a single method?\n",
    "\n",
    "A simple answer is that PCA has a very wide range of applications in which it serves different purposes. Sometimes it is applied to find a few derived variables based on a large number of input variables -- hence, 'dimension reduction'. At others, it is used to interpret covariation among many variables -- hence, a 'covariance approximation'. With different objectives come different perspectives. \n",
    "\n",
    "In PSTAT100, we'll try to look beyond this and focus on the core technique of PCA: *finding linear data transformations that preserve variation and covariation*. In short, we'll focus on the *principal components* (PC) part of PCA, taking the following view.\n",
    "* **Principal components** are _**linear data transformations**_. \n",
    "* The **analysis** of principal components is _**varied depending on the application**_.\n",
    "\n",
    "We'll keep an open mind for the time being about what the analysis (A) part of PCA entails. So, what does it mean to say that 'principal components are linear data transformations'? Suppose you have a dataset with $n$ observations and $p$ variables. As a dataframe, this might look something like the following:\n",
    "\n",
    "Observation | Variable 1 | Variable 2 | $\\cdots$ | Variable $p$\n",
    "---|---|---|---|---\n",
    "1 | $x_{11}$ | $x_{12}$ | $\\cdots$ | $x_{1p}$\n",
    "2 | $x_{21}$ | $x_{22}$ | $\\cdots$ | $x_{2p}$\n",
    "$\\vdots$ | $\\vdots$ | $\\vdots$ |  | $\\vdots$\n",
    "$n$ | $x_{n1}$ | $x_{n2}$ | $\\cdots$ | $x_{np}$\n",
    "\n",
    "We can represent the values as a data matrix $\\mathbf{X}$ with $n$ rows and $p$ columns:\n",
    "\n",
    "$$\\mathbf{X} \n",
    "= \\underbrace{\\left[\\begin{array}{cccc}\n",
    "    \\mathbf{x}_1 &\\mathbf{x}_2 &\\cdots &\\mathbf{x}_p\n",
    "    \\end{array}\\right]}_{\\text{column vectors}}\n",
    "= \\left[\\begin{array}{cccc}\n",
    "    x_{11} &x_{12} &\\cdots &x_{1p} \\\\\n",
    "    x_{21} &x_{22} &\\cdots &x_{2p} \\\\\n",
    "    \\vdots &\\vdots &\\ddots &\\vdots \\\\\n",
    "    x_{n1} &x_{n2} &\\cdots &x_{np}\n",
    "\\end{array}\\right]$$\n",
    "\n",
    "To say that the principal components are linear data transformations means that each principal component is of the form:\n",
    "\n",
    "$$\\text{PC} = \\mathbf{Xv} = v_1 \\mathbf{x}_1 + v_2 \\mathbf{x}_2 + \\cdots + v_p \\mathbf{x}_p$$\n",
    "\n",
    "In other words, a linear combination of the columns of the data matrix. In PCA, the linear combination coefficients are known as *loadings*; the PC loadings are found in a particular way using the correlations among the columns.\n",
    "\n",
    "---\n",
    "### Objectives\n",
    "\n",
    "In this lab, you'll focus on computing and interpreting principal components:\n",
    "* finding the loadings (linear combination coefficients) for each PC;\n",
    "* quantifying the variation captured by each PC;\n",
    "* visualization-based techniques for selecting a number of PC's to A(nalyze);\n",
    "* plotting and interpreting loadings. \n",
    "\n",
    "In addition, you'll encounter a few ways that PCA is useful in exploratory analysis:\n",
    "* describing variation and covariation;\n",
    "* identifying variables that 'drive' variation and covariation;\n",
    "* visualizing multivariate data.\n",
    "\n",
    "You'll work with a selection of county summaries from the 2010 U.S. census. The first few rows of the dataset are shown below:"
   ]
  },
  {
   "cell_type": "code",
   "execution_count": 3,
   "metadata": {},
   "outputs": [
    {
     "data": {
      "text/html": [
       "<div>\n",
       "<style scoped>\n",
       "    .dataframe tbody tr th:only-of-type {\n",
       "        vertical-align: middle;\n",
       "    }\n",
       "\n",
       "    .dataframe tbody tr th {\n",
       "        vertical-align: top;\n",
       "    }\n",
       "\n",
       "    .dataframe thead th {\n",
       "        text-align: right;\n",
       "    }\n",
       "</style>\n",
       "<table border=\"1\" class=\"dataframe\">\n",
       "  <thead>\n",
       "    <tr style=\"text-align: right;\">\n",
       "      <th></th>\n",
       "      <th>State</th>\n",
       "      <th>County</th>\n",
       "      <th>Women</th>\n",
       "      <th>White</th>\n",
       "      <th>Citizen</th>\n",
       "      <th>IncomePerCap</th>\n",
       "      <th>Poverty</th>\n",
       "      <th>ChildPoverty</th>\n",
       "      <th>Professional</th>\n",
       "      <th>Service</th>\n",
       "      <th>...</th>\n",
       "      <th>Transit</th>\n",
       "      <th>OtherTransp</th>\n",
       "      <th>WorkAtHome</th>\n",
       "      <th>MeanCommute</th>\n",
       "      <th>Employed</th>\n",
       "      <th>PrivateWork</th>\n",
       "      <th>SelfEmployed</th>\n",
       "      <th>FamilyWork</th>\n",
       "      <th>Unemployment</th>\n",
       "      <th>Minority</th>\n",
       "    </tr>\n",
       "  </thead>\n",
       "  <tbody>\n",
       "    <tr>\n",
       "      <th>0</th>\n",
       "      <td>Alabama</td>\n",
       "      <td>Autauga</td>\n",
       "      <td>51.567339</td>\n",
       "      <td>75.788227</td>\n",
       "      <td>73.749117</td>\n",
       "      <td>24974.49970</td>\n",
       "      <td>12.912305</td>\n",
       "      <td>18.707580</td>\n",
       "      <td>32.790974</td>\n",
       "      <td>17.170444</td>\n",
       "      <td>...</td>\n",
       "      <td>0.095259</td>\n",
       "      <td>1.305969</td>\n",
       "      <td>1.835653</td>\n",
       "      <td>26.500165</td>\n",
       "      <td>43.436374</td>\n",
       "      <td>73.736490</td>\n",
       "      <td>5.433254</td>\n",
       "      <td>0.000000</td>\n",
       "      <td>7.733726</td>\n",
       "      <td>22.536870</td>\n",
       "    </tr>\n",
       "    <tr>\n",
       "      <th>1</th>\n",
       "      <td>Alabama</td>\n",
       "      <td>Baldwin</td>\n",
       "      <td>51.151337</td>\n",
       "      <td>83.102616</td>\n",
       "      <td>75.694057</td>\n",
       "      <td>27316.83516</td>\n",
       "      <td>13.424230</td>\n",
       "      <td>19.484305</td>\n",
       "      <td>32.729943</td>\n",
       "      <td>17.950921</td>\n",
       "      <td>...</td>\n",
       "      <td>0.126621</td>\n",
       "      <td>1.443800</td>\n",
       "      <td>3.850477</td>\n",
       "      <td>26.322179</td>\n",
       "      <td>44.051127</td>\n",
       "      <td>81.282655</td>\n",
       "      <td>5.909353</td>\n",
       "      <td>0.363327</td>\n",
       "      <td>7.589820</td>\n",
       "      <td>15.214260</td>\n",
       "    </tr>\n",
       "    <tr>\n",
       "      <th>2</th>\n",
       "      <td>Alabama</td>\n",
       "      <td>Barbour</td>\n",
       "      <td>46.171840</td>\n",
       "      <td>46.231594</td>\n",
       "      <td>76.912223</td>\n",
       "      <td>16824.21643</td>\n",
       "      <td>26.505629</td>\n",
       "      <td>43.559621</td>\n",
       "      <td>26.124042</td>\n",
       "      <td>16.463434</td>\n",
       "      <td>...</td>\n",
       "      <td>0.495403</td>\n",
       "      <td>1.621725</td>\n",
       "      <td>1.501946</td>\n",
       "      <td>24.518283</td>\n",
       "      <td>31.921135</td>\n",
       "      <td>71.594256</td>\n",
       "      <td>7.149837</td>\n",
       "      <td>0.089774</td>\n",
       "      <td>17.525557</td>\n",
       "      <td>51.943818</td>\n",
       "    </tr>\n",
       "    <tr>\n",
       "      <th>3</th>\n",
       "      <td>Alabama</td>\n",
       "      <td>Bibb</td>\n",
       "      <td>46.589099</td>\n",
       "      <td>74.499889</td>\n",
       "      <td>77.397806</td>\n",
       "      <td>18430.99031</td>\n",
       "      <td>16.603747</td>\n",
       "      <td>27.197085</td>\n",
       "      <td>21.590099</td>\n",
       "      <td>17.955450</td>\n",
       "      <td>...</td>\n",
       "      <td>0.503137</td>\n",
       "      <td>1.562095</td>\n",
       "      <td>0.731468</td>\n",
       "      <td>28.714391</td>\n",
       "      <td>36.692621</td>\n",
       "      <td>76.743846</td>\n",
       "      <td>6.637936</td>\n",
       "      <td>0.394151</td>\n",
       "      <td>8.163104</td>\n",
       "      <td>24.165971</td>\n",
       "    </tr>\n",
       "    <tr>\n",
       "      <th>4</th>\n",
       "      <td>Alabama</td>\n",
       "      <td>Blount</td>\n",
       "      <td>50.594351</td>\n",
       "      <td>87.853854</td>\n",
       "      <td>73.375498</td>\n",
       "      <td>20532.27467</td>\n",
       "      <td>16.721518</td>\n",
       "      <td>26.857377</td>\n",
       "      <td>28.529302</td>\n",
       "      <td>13.942519</td>\n",
       "      <td>...</td>\n",
       "      <td>0.362632</td>\n",
       "      <td>0.419941</td>\n",
       "      <td>2.265413</td>\n",
       "      <td>34.844893</td>\n",
       "      <td>38.449142</td>\n",
       "      <td>81.826708</td>\n",
       "      <td>4.228716</td>\n",
       "      <td>0.356493</td>\n",
       "      <td>7.699640</td>\n",
       "      <td>10.594744</td>\n",
       "    </tr>\n",
       "  </tbody>\n",
       "</table>\n",
       "<p>5 rows × 24 columns</p>\n",
       "</div>"
      ],
      "text/plain": [
       "     State   County      Women      White    Citizen  IncomePerCap    Poverty  \\\n",
       "0  Alabama  Autauga  51.567339  75.788227  73.749117   24974.49970  12.912305   \n",
       "1  Alabama  Baldwin  51.151337  83.102616  75.694057   27316.83516  13.424230   \n",
       "2  Alabama  Barbour  46.171840  46.231594  76.912223   16824.21643  26.505629   \n",
       "3  Alabama     Bibb  46.589099  74.499889  77.397806   18430.99031  16.603747   \n",
       "4  Alabama   Blount  50.594351  87.853854  73.375498   20532.27467  16.721518   \n",
       "\n",
       "   ChildPoverty  Professional    Service  ...   Transit  OtherTransp  \\\n",
       "0     18.707580     32.790974  17.170444  ...  0.095259     1.305969   \n",
       "1     19.484305     32.729943  17.950921  ...  0.126621     1.443800   \n",
       "2     43.559621     26.124042  16.463434  ...  0.495403     1.621725   \n",
       "3     27.197085     21.590099  17.955450  ...  0.503137     1.562095   \n",
       "4     26.857377     28.529302  13.942519  ...  0.362632     0.419941   \n",
       "\n",
       "   WorkAtHome  MeanCommute   Employed  PrivateWork  SelfEmployed  FamilyWork  \\\n",
       "0    1.835653    26.500165  43.436374    73.736490      5.433254    0.000000   \n",
       "1    3.850477    26.322179  44.051127    81.282655      5.909353    0.363327   \n",
       "2    1.501946    24.518283  31.921135    71.594256      7.149837    0.089774   \n",
       "3    0.731468    28.714391  36.692621    76.743846      6.637936    0.394151   \n",
       "4    2.265413    34.844893  38.449142    81.826708      4.228716    0.356493   \n",
       "\n",
       "   Unemployment   Minority  \n",
       "0      7.733726  22.536870  \n",
       "1      7.589820  15.214260  \n",
       "2     17.525557  51.943818  \n",
       "3      8.163104  24.165971  \n",
       "4      7.699640  10.594744  \n",
       "\n",
       "[5 rows x 24 columns]"
      ]
     },
     "execution_count": 3,
     "metadata": {},
     "output_type": "execute_result"
    }
   ],
   "source": [
    "# import tidy county-level 2010 census data\n",
    "census = pd.read_csv('data/census2010.csv', encoding = 'latin1')\n",
    "census.head()"
   ]
  },
  {
   "cell_type": "markdown",
   "metadata": {},
   "source": [
    "The observational units are U.S. counties, and each row (observation) is a county. The values are, for the most part, percentages of the county population. You can find variable descriptions in the metadata file in the data directory (*data > census2010metadata.csv*). "
   ]
  },
  {
   "cell_type": "markdown",
   "metadata": {},
   "source": [
    "---\n",
    "\n",
    "## 0. Correlations\n",
    "\n",
    "PCA identifies variable combinations that capture covariation by decomposing the correlation matrix. So, to start with, let's examine the correlation matrix for the 2010 county-level census data to get a sense of which variables tend to vary together.\n",
    "\n",
    "The correlation matrix is a matrix of all pairwise correlations between variables. If $x_ij$ denotes the value for the $i$th observation of variable $j$, then the entry at row $j$ and column $k$ of the correlation matrix $\\mathbf{R}$ is:\n",
    "\n",
    "$$r_{jk} = \\frac{\\sum_i (x_{ij} - \\bar{x}_j)(x_{ik} - \\bar{x}_k)}{S_j S_k}$$\n",
    "\n",
    "In the census data, the `State` and `County` columns indicate the geographic region for each observation; essentially, they are a row index. So we'll drop them before computing the matrix $\\mathbf{R}$:"
   ]
  },
  {
   "cell_type": "code",
   "execution_count": 4,
   "metadata": {},
   "outputs": [],
   "source": [
    "# store quantitative variables separately\n",
    "x_mx = census.drop(columns = ['State', 'County'])"
   ]
  },
  {
   "cell_type": "markdown",
   "metadata": {},
   "source": [
    "From here, the matrix is simple to compute in pandas using `.corr()`:"
   ]
  },
  {
   "cell_type": "code",
   "execution_count": 5,
   "metadata": {},
   "outputs": [],
   "source": [
    "# correlation matrix\n",
    "corr_mx = x_mx.corr()"
   ]
  },
  {
   "cell_type": "markdown",
   "metadata": {},
   "source": [
    "The matrix can be inspected directly to determine which variables vary together. For example, we could look at the correlations of the percentage of the population that is employed with all other variables in the dataset by extracting the `Employed` column:"
   ]
  },
  {
   "cell_type": "code",
   "execution_count": 6,
   "metadata": {},
   "outputs": [
    {
     "data": {
      "text/plain": [
       "ChildPoverty   -0.744510\n",
       "Poverty        -0.735569\n",
       "Unemployment   -0.697985\n",
       "Minority       -0.439053\n",
       "Service        -0.403261\n",
       "MeanCommute    -0.252111\n",
       "Drive          -0.215038\n",
       "Carpool        -0.144336\n",
       "Production     -0.136277\n",
       "Citizen        -0.087343\n",
       "Office         -0.014838\n",
       "OtherTransp    -0.010041\n",
       "FamilyWork      0.055654\n",
       "Women           0.131181\n",
       "Transit         0.151700\n",
       "SelfEmployed    0.154107\n",
       "PrivateWork     0.264826\n",
       "WorkAtHome      0.303839\n",
       "White           0.432856\n",
       "Professional    0.473413\n",
       "IncomePerCap    0.767001\n",
       "Employed        1.000000\n",
       "Name: Employed, dtype: float64"
      ]
     },
     "execution_count": 6,
     "metadata": {},
     "output_type": "execute_result"
    }
   ],
   "source": [
    "# correlation between poverty and other variables\n",
    "corr_mx.loc[:, 'Employed'].sort_values()"
   ]
  },
  {
   "cell_type": "markdown",
   "metadata": {},
   "source": [
    "Recall that correlation is a number in the interval [-1, 1] whose magnitude indicates the strength of the relationship between variables. \n",
    "* Correlations near -1 are *strongly negative*, and mean that the variables *tend to vary in opposition* \n",
    "    + (large values of one coincide with small values of the other and vice-versa).\n",
    "* Correlations near 1 are *strongly positive*, and mean that the variables *tend to vary together*\n",
    "    + (large values coincide and small values coincide).\n",
    "\n",
    "As a result, from examining these entries, it can be seen that the percentage of the county population that is employed is:\n",
    "* strongly *negatively* correlated with child poverty, poverty, and unemployment, meaning it *tends to vary in opposition* with these variables;\n",
    "* strongly *positively* correlated with income per capita, meaning it *tends to vary together* with this variable.\n",
    "\n",
    "If instead we wanted to look up the correlation between just two variables, we could retrieve the relevant entry directly using `.loc[...]`:"
   ]
  },
  {
   "cell_type": "code",
   "execution_count": 7,
   "metadata": {},
   "outputs": [
    {
     "data": {
      "text/plain": [
       "0.7670009685702536"
      ]
     },
     "execution_count": 7,
     "metadata": {},
     "output_type": "execute_result"
    }
   ],
   "source": [
    "# correlation between employment and income per capita\n",
    "corr_mx.loc['Employed', 'IncomePerCap']"
   ]
  },
  {
   "cell_type": "markdown",
   "metadata": {},
   "source": [
    "So across U.S. counties employment is, perhaps unsurprisingly, strongly and positively correlated with income per capita, meaning that higher employment rates tend to coincide with higher incomes per capita."
   ]
  },
  {
   "cell_type": "markdown",
   "metadata": {
    "deletable": false,
    "editable": false
   },
   "source": [
    "### Question 0 (a)\n",
    "\n",
    "Check your understanding by repeating this for a different pair of variables.\n",
    "\n",
    "#### (i) Find the correlation between the poverty rate and demographic minority rate and store it in `pov_dem_rate`. \n",
    "<!--\n",
    "BEGIN QUESTION\n",
    "name: q0_a_i\n",
    "points: 1\n",
    "manual: false\n",
    "-->"
   ]
  },
  {
   "cell_type": "code",
   "execution_count": 8,
   "metadata": {},
   "outputs": [
    {
     "data": {
      "text/plain": [
       "0.6231625196890354"
      ]
     },
     "execution_count": 8,
     "metadata": {},
     "output_type": "execute_result"
    }
   ],
   "source": [
    "# correlation between poverty and percent minority\n",
    "pov_dem_rate = corr_mx.loc['Poverty', 'Minority']\n",
    "# print\n",
    "pov_dem_rate"
   ]
  },
  {
   "cell_type": "code",
   "execution_count": 9,
   "metadata": {
    "deletable": false,
    "editable": false
   },
   "outputs": [
    {
     "ename": "KeyError",
     "evalue": "'otter'",
     "output_type": "error",
     "traceback": [
      "\u001b[0;31m---------------------------------------------------------------------------\u001b[0m",
      "\u001b[0;31mKeyError\u001b[0m                                  Traceback (most recent call last)",
      "Input \u001b[0;32mIn [9]\u001b[0m, in \u001b[0;36m<cell line: 1>\u001b[0;34m()\u001b[0m\n\u001b[0;32m----> 1\u001b[0m \u001b[43mgrader\u001b[49m\u001b[38;5;241;43m.\u001b[39;49m\u001b[43mcheck\u001b[49m\u001b[43m(\u001b[49m\u001b[38;5;124;43m\"\u001b[39;49m\u001b[38;5;124;43mq0_a_i\u001b[39;49m\u001b[38;5;124;43m\"\u001b[39;49m\u001b[43m)\u001b[49m\n",
      "File \u001b[0;32m/opt/conda/lib/python3.9/site-packages/otter/check/utils.py:131\u001b[0m, in \u001b[0;36mlogs_event.<locals>.event_logger.<locals>.run_function\u001b[0;34m(self, *args, **kwargs)\u001b[0m\n\u001b[1;32m    129\u001b[0m \u001b[38;5;28;01mexcept\u001b[39;00m \u001b[38;5;167;01mException\u001b[39;00m \u001b[38;5;28;01mas\u001b[39;00m e:\n\u001b[1;32m    130\u001b[0m     \u001b[38;5;28mself\u001b[39m\u001b[38;5;241m.\u001b[39m_log_event(event_type, success\u001b[38;5;241m=\u001b[39m\u001b[38;5;28;01mFalse\u001b[39;00m, error\u001b[38;5;241m=\u001b[39me)\n\u001b[0;32m--> 131\u001b[0m     \u001b[38;5;28;01mraise\u001b[39;00m e\n\u001b[1;32m    132\u001b[0m \u001b[38;5;28;01melse\u001b[39;00m:\n\u001b[1;32m    133\u001b[0m     \u001b[38;5;28mself\u001b[39m\u001b[38;5;241m.\u001b[39m_log_event(event_type, results\u001b[38;5;241m=\u001b[39mresults, question\u001b[38;5;241m=\u001b[39mquestion, shelve_env\u001b[38;5;241m=\u001b[39mshelve_env)\n",
      "File \u001b[0;32m/opt/conda/lib/python3.9/site-packages/otter/check/utils.py:124\u001b[0m, in \u001b[0;36mlogs_event.<locals>.event_logger.<locals>.run_function\u001b[0;34m(self, *args, **kwargs)\u001b[0m\n\u001b[1;32m    122\u001b[0m \u001b[38;5;28;01mtry\u001b[39;00m:\n\u001b[1;32m    123\u001b[0m     \u001b[38;5;28;01mif\u001b[39;00m event_type \u001b[38;5;241m==\u001b[39m EventType\u001b[38;5;241m.\u001b[39mCHECK:\n\u001b[0;32m--> 124\u001b[0m         question, results, shelve_env \u001b[38;5;241m=\u001b[39m \u001b[43mf\u001b[49m\u001b[43m(\u001b[49m\u001b[38;5;28;43mself\u001b[39;49m\u001b[43m,\u001b[49m\u001b[43m \u001b[49m\u001b[38;5;241;43m*\u001b[39;49m\u001b[43margs\u001b[49m\u001b[43m,\u001b[49m\u001b[43m \u001b[49m\u001b[38;5;241;43m*\u001b[39;49m\u001b[38;5;241;43m*\u001b[39;49m\u001b[43mkwargs\u001b[49m\u001b[43m)\u001b[49m\n\u001b[1;32m    125\u001b[0m     \u001b[38;5;28;01melse\u001b[39;00m:\n\u001b[1;32m    126\u001b[0m         results \u001b[38;5;241m=\u001b[39m f(\u001b[38;5;28mself\u001b[39m, \u001b[38;5;241m*\u001b[39margs, \u001b[38;5;241m*\u001b[39m\u001b[38;5;241m*\u001b[39mkwargs)\n",
      "File \u001b[0;32m/opt/conda/lib/python3.9/site-packages/otter/check/notebook.py:179\u001b[0m, in \u001b[0;36mNotebook.check\u001b[0;34m(self, question, global_env)\u001b[0m\n\u001b[1;32m    176\u001b[0m     global_env \u001b[38;5;241m=\u001b[39m inspect\u001b[38;5;241m.\u001b[39mcurrentframe()\u001b[38;5;241m.\u001b[39mf_back\u001b[38;5;241m.\u001b[39mf_back\u001b[38;5;241m.\u001b[39mf_globals\n\u001b[1;32m    178\u001b[0m \u001b[38;5;66;03m# run the check\u001b[39;00m\n\u001b[0;32m--> 179\u001b[0m result \u001b[38;5;241m=\u001b[39m \u001b[43mcheck\u001b[49m\u001b[43m(\u001b[49m\u001b[43mtest_path\u001b[49m\u001b[43m,\u001b[49m\u001b[43m \u001b[49m\u001b[43mtest_name\u001b[49m\u001b[43m,\u001b[49m\u001b[43m \u001b[49m\u001b[43mglobal_env\u001b[49m\u001b[43m)\u001b[49m\n\u001b[1;32m    181\u001b[0m \u001b[38;5;28;01mreturn\u001b[39;00m question, result, global_env\n",
      "File \u001b[0;32m/opt/conda/lib/python3.9/site-packages/otter/execute/__init__.py:46\u001b[0m, in \u001b[0;36mcheck\u001b[0;34m(nb_or_test_path, test_name, global_env)\u001b[0m\n\u001b[1;32m     44\u001b[0m     test \u001b[38;5;241m=\u001b[39m OKTestFile\u001b[38;5;241m.\u001b[39mfrom_file(nb_or_test_path)\n\u001b[1;32m     45\u001b[0m \u001b[38;5;28;01melse\u001b[39;00m:\n\u001b[0;32m---> 46\u001b[0m     test \u001b[38;5;241m=\u001b[39m \u001b[43mNotebookMetadataOKTestFile\u001b[49m\u001b[38;5;241;43m.\u001b[39;49m\u001b[43mfrom_file\u001b[49m\u001b[43m(\u001b[49m\u001b[43mnb_or_test_path\u001b[49m\u001b[43m,\u001b[49m\u001b[43m \u001b[49m\u001b[43mtest_name\u001b[49m\u001b[43m)\u001b[49m\n\u001b[1;32m     48\u001b[0m \u001b[38;5;28;01mif\u001b[39;00m global_env \u001b[38;5;129;01mis\u001b[39;00m \u001b[38;5;28;01mNone\u001b[39;00m:\n\u001b[1;32m     49\u001b[0m     \u001b[38;5;66;03m# Get the global env of our callers - one level below us in the stack\u001b[39;00m\n\u001b[1;32m     50\u001b[0m     \u001b[38;5;66;03m# The grade method should only be called directly from user / notebook\u001b[39;00m\n\u001b[1;32m     51\u001b[0m     \u001b[38;5;66;03m# code. If some other method is calling it, it should also use the\u001b[39;00m\n\u001b[1;32m     52\u001b[0m     \u001b[38;5;66;03m# inspect trick to pass in its parents' global env.\u001b[39;00m\n\u001b[1;32m     53\u001b[0m     global_env \u001b[38;5;241m=\u001b[39m inspect\u001b[38;5;241m.\u001b[39mcurrentframe()\u001b[38;5;241m.\u001b[39mf_back\u001b[38;5;241m.\u001b[39mf_globals\n",
      "File \u001b[0;32m/opt/conda/lib/python3.9/site-packages/otter/test_files/metadata_test.py:76\u001b[0m, in \u001b[0;36mNotebookMetadataOKTestFile.from_file\u001b[0;34m(cls, path, test_name)\u001b[0m\n\u001b[1;32m     73\u001b[0m \u001b[38;5;28;01mwith\u001b[39;00m \u001b[38;5;28mopen\u001b[39m(path, encoding\u001b[38;5;241m=\u001b[39m\u001b[38;5;124m\"\u001b[39m\u001b[38;5;124mutf-8\u001b[39m\u001b[38;5;124m\"\u001b[39m) \u001b[38;5;28;01mas\u001b[39;00m f:\n\u001b[1;32m     74\u001b[0m     nb \u001b[38;5;241m=\u001b[39m json\u001b[38;5;241m.\u001b[39mload(f)\n\u001b[0;32m---> 76\u001b[0m test_spec \u001b[38;5;241m=\u001b[39m \u001b[43mnb\u001b[49m\u001b[43m[\u001b[49m\u001b[38;5;124;43m\"\u001b[39;49m\u001b[38;5;124;43mmetadata\u001b[39;49m\u001b[38;5;124;43m\"\u001b[39;49m\u001b[43m]\u001b[49m\u001b[43m[\u001b[49m\u001b[43mNOTEBOOK_METADATA_KEY\u001b[49m\u001b[43m]\u001b[49m[\u001b[38;5;124m\"\u001b[39m\u001b[38;5;124mtests\u001b[39m\u001b[38;5;124m\"\u001b[39m]\n\u001b[1;32m     77\u001b[0m \u001b[38;5;28;01mif\u001b[39;00m test_name \u001b[38;5;129;01mnot\u001b[39;00m \u001b[38;5;129;01min\u001b[39;00m test_spec:\n\u001b[1;32m     78\u001b[0m     \u001b[38;5;28;01mraise\u001b[39;00m \u001b[38;5;167;01mValueError\u001b[39;00m(\u001b[38;5;124mf\u001b[39m\u001b[38;5;124m\"\u001b[39m\u001b[38;5;124mTest \u001b[39m\u001b[38;5;132;01m{\u001b[39;00mtest_name\u001b[38;5;132;01m}\u001b[39;00m\u001b[38;5;124m not found\u001b[39m\u001b[38;5;124m\"\u001b[39m)\n",
      "\u001b[0;31mKeyError\u001b[0m: 'otter'"
     ]
    }
   ],
   "source": [
    "grader.check(\"q0_a_i\")"
   ]
  },
  {
   "cell_type": "markdown",
   "metadata": {
    "deletable": false,
    "editable": false
   },
   "source": [
    "<!-- BEGIN QUESTION -->\n",
    "\n",
    "#### (ii) Interpret the correlation: is it large or small, positive or negative, and what does that mean?\n",
    "<!--\n",
    "BEGIN QUESTION\n",
    "name: q0_a_ii\n",
    "points: 1\n",
    "manual: true\n",
    "-->"
   ]
  },
  {
   "cell_type": "markdown",
   "metadata": {},
   "source": [
    "The correlation between poverty rate and demographic minority rate is 0.623, meaning that poverty rate is moderately and positively correlated with demographic minority rate. This indicates as poverty rate increases, so does demographic minority rate, although, their correlation is fairly moderate."
   ]
  },
  {
   "cell_type": "markdown",
   "metadata": {},
   "source": [
    "<!-- END QUESTION -->\n",
    "\n",
    "\n",
    "\n",
    "While direct inspection is useful, it can be cumbersome to check correlations for a large number of variables this way. A heatmap -- a colored image of the matrix -- provides a (sometimes) convenient way to see what's going on without having to examine the numerical values directly. The cell below shows one way of constructing this plot.\n",
    "\n",
    "Notice that the color scale shows positive correlations in orange, negative ones in blue, strong correlations in dark tones, and weak correlations in light tones. This is known as a 'diverging color gradient', and should, as a rule of thumb, always be used for plots of this type."
   ]
  },
  {
   "cell_type": "code",
   "execution_count": 10,
   "metadata": {},
   "outputs": [
    {
     "data": {
      "text/html": [
       "\n",
       "<div id=\"altair-viz-6508b1810ba9427889a64b4723119534\"></div>\n",
       "<script type=\"text/javascript\">\n",
       "  var VEGA_DEBUG = (typeof VEGA_DEBUG == \"undefined\") ? {} : VEGA_DEBUG;\n",
       "  (function(spec, embedOpt){\n",
       "    let outputDiv = document.currentScript.previousElementSibling;\n",
       "    if (outputDiv.id !== \"altair-viz-6508b1810ba9427889a64b4723119534\") {\n",
       "      outputDiv = document.getElementById(\"altair-viz-6508b1810ba9427889a64b4723119534\");\n",
       "    }\n",
       "    const paths = {\n",
       "      \"vega\": \"https://cdn.jsdelivr.net/npm//vega@5?noext\",\n",
       "      \"vega-lib\": \"https://cdn.jsdelivr.net/npm//vega-lib?noext\",\n",
       "      \"vega-lite\": \"https://cdn.jsdelivr.net/npm//vega-lite@4.17.0?noext\",\n",
       "      \"vega-embed\": \"https://cdn.jsdelivr.net/npm//vega-embed@6?noext\",\n",
       "    };\n",
       "\n",
       "    function maybeLoadScript(lib, version) {\n",
       "      var key = `${lib.replace(\"-\", \"\")}_version`;\n",
       "      return (VEGA_DEBUG[key] == version) ?\n",
       "        Promise.resolve(paths[lib]) :\n",
       "        new Promise(function(resolve, reject) {\n",
       "          var s = document.createElement('script');\n",
       "          document.getElementsByTagName(\"head\")[0].appendChild(s);\n",
       "          s.async = true;\n",
       "          s.onload = () => {\n",
       "            VEGA_DEBUG[key] = version;\n",
       "            return resolve(paths[lib]);\n",
       "          };\n",
       "          s.onerror = () => reject(`Error loading script: ${paths[lib]}`);\n",
       "          s.src = paths[lib];\n",
       "        });\n",
       "    }\n",
       "\n",
       "    function showError(err) {\n",
       "      outputDiv.innerHTML = `<div class=\"error\" style=\"color:red;\">${err}</div>`;\n",
       "      throw err;\n",
       "    }\n",
       "\n",
       "    function displayChart(vegaEmbed) {\n",
       "      vegaEmbed(outputDiv, spec, embedOpt)\n",
       "        .catch(err => showError(`Javascript Error: ${err.message}<br>This usually means there's a typo in your chart specification. See the javascript console for the full traceback.`));\n",
       "    }\n",
       "\n",
       "    if(typeof define === \"function\" && define.amd) {\n",
       "      requirejs.config({paths});\n",
       "      require([\"vega-embed\"], displayChart, err => showError(`Error loading script: ${err.message}`));\n",
       "    } else {\n",
       "      maybeLoadScript(\"vega\", \"5\")\n",
       "        .then(() => maybeLoadScript(\"vega-lite\", \"4.17.0\"))\n",
       "        .then(() => maybeLoadScript(\"vega-embed\", \"6\"))\n",
       "        .catch(showError)\n",
       "        .then(() => displayChart(vegaEmbed));\n",
       "    }\n",
       "  })({\"config\": {\"view\": {\"continuousWidth\": 400, \"continuousHeight\": 300}}, \"data\": {\"name\": \"data-6e782c2256a9677daa89935249da9c2b\"}, \"mark\": \"rect\", \"encoding\": {\"color\": {\"field\": \"Correlation\", \"legend\": {\"tickCount\": 5}, \"scale\": {\"domain\": [-1, 1], \"scheme\": \"blueorange\", \"type\": \"sqrt\"}, \"type\": \"quantitative\"}, \"x\": {\"field\": \"col\", \"sort\": {\"field\": \"Correlation\", \"order\": \"ascending\"}, \"title\": \"\", \"type\": \"nominal\"}, \"y\": {\"field\": \"row\", \"sort\": {\"field\": \"Correlation\", \"order\": \"ascending\"}, \"title\": \"\", \"type\": \"nominal\"}}, \"height\": 300, \"width\": 300, \"$schema\": \"https://vega.github.io/schema/vega-lite/v4.17.0.json\", \"datasets\": {\"data-6e782c2256a9677daa89935249da9c2b\": [{\"row\": \"Women\", \"col\": \"Women\", \"Correlation\": 1.0}, {\"row\": \"White\", \"col\": \"Women\", \"Correlation\": -0.03182630857984732}, {\"row\": \"Citizen\", \"col\": \"Women\", \"Correlation\": -0.023748760461760124}, {\"row\": \"IncomePerCap\", \"col\": \"Women\", \"Correlation\": 0.07781222951289651}, {\"row\": \"Poverty\", \"col\": \"Women\", \"Correlation\": 0.10184554050701987}, {\"row\": \"ChildPoverty\", \"col\": \"Women\", \"Correlation\": 0.09765163062494484}, {\"row\": \"Professional\", \"col\": \"Women\", \"Correlation\": 0.08061054615884049}, {\"row\": \"Service\", \"col\": \"Women\", \"Correlation\": -0.09271317762428642}, {\"row\": \"Office\", \"col\": \"Women\", \"Correlation\": 0.25603140564913957}, {\"row\": \"Production\", \"col\": \"Women\", \"Correlation\": 0.01586252412418283}, {\"row\": \"Drive\", \"col\": \"Women\", \"Correlation\": 0.17649143064232986}, {\"row\": \"Carpool\", \"col\": \"Women\", \"Correlation\": -0.08741660112485138}, {\"row\": \"Transit\", \"col\": \"Women\", \"Correlation\": 0.08451576539779682}, {\"row\": \"OtherTransp\", \"col\": \"Women\", \"Correlation\": -0.05834412083585871}, {\"row\": \"WorkAtHome\", \"col\": \"Women\", \"Correlation\": -0.1300965220339544}, {\"row\": \"MeanCommute\", \"col\": \"Women\", \"Correlation\": 0.11521868094393123}, {\"row\": \"Employed\", \"col\": \"Women\", \"Correlation\": 0.13118134393161449}, {\"row\": \"PrivateWork\", \"col\": \"Women\", \"Correlation\": 0.25748116352591344}, {\"row\": \"SelfEmployed\", \"col\": \"Women\", \"Correlation\": -0.1063004575988566}, {\"row\": \"FamilyWork\", \"col\": \"Women\", \"Correlation\": -0.06266999364090871}, {\"row\": \"Unemployment\", \"col\": \"Women\", \"Correlation\": 0.11257880663414505}, {\"row\": \"Minority\", \"col\": \"Women\", \"Correlation\": 0.03527940899593486}, {\"row\": \"Women\", \"col\": \"White\", \"Correlation\": -0.03182630857984732}, {\"row\": \"White\", \"col\": \"White\", \"Correlation\": 1.0}, {\"row\": \"Citizen\", \"col\": \"White\", \"Correlation\": 0.4462266946056251}, {\"row\": \"IncomePerCap\", \"col\": \"White\", \"Correlation\": 0.3501834433307562}, {\"row\": \"Poverty\", \"col\": \"White\", \"Correlation\": -0.6150562685644353}, {\"row\": \"ChildPoverty\", \"col\": \"White\", \"Correlation\": -0.5664427163983413}, {\"row\": \"Professional\", \"col\": \"White\", \"Correlation\": 0.10629263645606908}, {\"row\": \"Service\", \"col\": \"White\", \"Correlation\": -0.3347307377869619}, {\"row\": \"Office\", \"col\": \"White\", \"Correlation\": -0.11719704046342616}, {\"row\": \"Production\", \"col\": \"White\", \"Correlation\": 0.15540408095573277}, {\"row\": \"Drive\", \"col\": \"White\", \"Correlation\": 0.0821681501281317}, {\"row\": \"Carpool\", \"col\": \"White\", \"Correlation\": -0.1018919323798789}, {\"row\": \"Transit\", \"col\": \"White\", \"Correlation\": -0.18352986777662444}, {\"row\": \"OtherTransp\", \"col\": \"White\", \"Correlation\": -0.17845175048740844}, {\"row\": \"WorkAtHome\", \"col\": \"White\", \"Correlation\": 0.22844367663230775}, {\"row\": \"MeanCommute\", \"col\": \"White\", \"Correlation\": -0.07625067295361969}, {\"row\": \"Employed\", \"col\": \"White\", \"Correlation\": 0.43285551462753685}, {\"row\": \"PrivateWork\", \"col\": \"White\", \"Correlation\": 0.23165907207186026}, {\"row\": \"SelfEmployed\", \"col\": \"White\", \"Correlation\": 0.2037713246009374}, {\"row\": \"FamilyWork\", \"col\": \"White\", \"Correlation\": 0.11393236786171125}, {\"row\": \"Unemployment\", \"col\": \"White\", \"Correlation\": -0.5465775332297816}, {\"row\": \"Minority\", \"col\": \"White\", \"Correlation\": -0.9972201045094966}, {\"row\": \"Women\", \"col\": \"Citizen\", \"Correlation\": -0.023748760461760124}, {\"row\": \"White\", \"col\": \"Citizen\", \"Correlation\": 0.4462266946056251}, {\"row\": \"Citizen\", \"col\": \"Citizen\", \"Correlation\": 1.0}, {\"row\": \"IncomePerCap\", \"col\": \"Citizen\", \"Correlation\": -0.03222761927070879}, {\"row\": \"Poverty\", \"col\": \"Citizen\", \"Correlation\": -0.008074396376574984}, {\"row\": \"ChildPoverty\", \"col\": \"Citizen\", \"Correlation\": -0.0017250267397164332}, {\"row\": \"Professional\", \"col\": \"Citizen\", \"Correlation\": 0.002013688011861766}, {\"row\": \"Service\", \"col\": \"Citizen\", \"Correlation\": 0.10104641151417401}, {\"row\": \"Office\", \"col\": \"Citizen\", \"Correlation\": 0.030400814768283366}, {\"row\": \"Production\", \"col\": \"Citizen\", \"Correlation\": 0.017907160783963857}, {\"row\": \"Drive\", \"col\": \"Citizen\", \"Correlation\": 0.13282577933908893}, {\"row\": \"Carpool\", \"col\": \"Citizen\", \"Correlation\": -0.23469377444438366}, {\"row\": \"Transit\", \"col\": \"Citizen\", \"Correlation\": -0.18214115487297564}, {\"row\": \"OtherTransp\", \"col\": \"Citizen\", \"Correlation\": -0.1241907136641615}, {\"row\": \"WorkAtHome\", \"col\": \"Citizen\", \"Correlation\": 0.10008239127741952}, {\"row\": \"MeanCommute\", \"col\": \"Citizen\", \"Correlation\": 0.06994026321997729}, {\"row\": \"Employed\", \"col\": \"Citizen\", \"Correlation\": -0.08734254474702875}, {\"row\": \"PrivateWork\", \"col\": \"Citizen\", \"Correlation\": -0.08598896125139655}, {\"row\": \"SelfEmployed\", \"col\": \"Citizen\", \"Correlation\": 0.15733177624669134}, {\"row\": \"FamilyWork\", \"col\": \"Citizen\", \"Correlation\": 0.06382936488887052}, {\"row\": \"Unemployment\", \"col\": \"Citizen\", \"Correlation\": -0.0006729358887091376}, {\"row\": \"Minority\", \"col\": \"Citizen\", \"Correlation\": -0.44174119620392405}, {\"row\": \"Women\", \"col\": \"IncomePerCap\", \"Correlation\": 0.07781222951289651}, {\"row\": \"White\", \"col\": \"IncomePerCap\", \"Correlation\": 0.3501834433307562}, {\"row\": \"Citizen\", \"col\": \"IncomePerCap\", \"Correlation\": -0.03222761927070879}, {\"row\": \"IncomePerCap\", \"col\": \"IncomePerCap\", \"Correlation\": 1.0}, {\"row\": \"Poverty\", \"col\": \"IncomePerCap\", \"Correlation\": -0.7565861228851334}, {\"row\": \"ChildPoverty\", \"col\": \"IncomePerCap\", \"Correlation\": -0.747550925901896}, {\"row\": \"Professional\", \"col\": \"IncomePerCap\", \"Correlation\": 0.6673259160321738}, {\"row\": \"Service\", \"col\": \"IncomePerCap\", \"Correlation\": -0.35207389491834334}, {\"row\": \"Office\", \"col\": \"IncomePerCap\", \"Correlation\": 0.04980855087399395}, {\"row\": \"Production\", \"col\": \"IncomePerCap\", \"Correlation\": -0.36125577091100525}, {\"row\": \"Drive\", \"col\": \"IncomePerCap\", \"Correlation\": -0.2135865429277435}, {\"row\": \"Carpool\", \"col\": \"IncomePerCap\", \"Correlation\": -0.20181309241078987}, {\"row\": \"Transit\", \"col\": \"IncomePerCap\", \"Correlation\": 0.31109664818284916}, {\"row\": \"OtherTransp\", \"col\": \"IncomePerCap\", \"Correlation\": 0.011891129234262676}, {\"row\": \"WorkAtHome\", \"col\": \"IncomePerCap\", \"Correlation\": 0.3042375112675385}, {\"row\": \"MeanCommute\", \"col\": \"IncomePerCap\", \"Correlation\": -0.02797282950350505}, {\"row\": \"Employed\", \"col\": \"IncomePerCap\", \"Correlation\": 0.7670009685702536}, {\"row\": \"PrivateWork\", \"col\": \"IncomePerCap\", \"Correlation\": 0.19912033510426738}, {\"row\": \"SelfEmployed\", \"col\": \"IncomePerCap\", \"Correlation\": 0.08980568565363832}, {\"row\": \"FamilyWork\", \"col\": \"IncomePerCap\", \"Correlation\": 0.007455064394297375}, {\"row\": \"Unemployment\", \"col\": \"IncomePerCap\", \"Correlation\": -0.5471187466536133}, {\"row\": \"Minority\", \"col\": \"IncomePerCap\", \"Correlation\": -0.36179822123322014}, {\"row\": \"Women\", \"col\": \"Poverty\", \"Correlation\": 0.10184554050701987}, {\"row\": \"White\", \"col\": \"Poverty\", \"Correlation\": -0.6150562685644353}, {\"row\": \"Citizen\", \"col\": \"Poverty\", \"Correlation\": -0.008074396376574984}, {\"row\": \"IncomePerCap\", \"col\": \"Poverty\", \"Correlation\": -0.7565861228851334}, {\"row\": \"Poverty\", \"col\": \"Poverty\", \"Correlation\": 1.0}, {\"row\": \"ChildPoverty\", \"col\": \"Poverty\", \"Correlation\": 0.9351118907926058}, {\"row\": \"Professional\", \"col\": \"Poverty\", \"Correlation\": -0.35419624445033826}, {\"row\": \"Service\", \"col\": \"Poverty\", \"Correlation\": 0.41012870242680466}, {\"row\": \"Office\", \"col\": \"Poverty\", \"Correlation\": 0.02857915908884618}, {\"row\": \"Production\", \"col\": \"Poverty\", \"Correlation\": 0.0895959886450711}, {\"row\": \"Drive\", \"col\": \"Poverty\", \"Correlation\": 0.08010081601655}, {\"row\": \"Carpool\", \"col\": \"Poverty\", \"Correlation\": 0.07834222093827162}, {\"row\": \"Transit\", \"col\": \"Poverty\", \"Correlation\": -0.027353859085386487}, {\"row\": \"OtherTransp\", \"col\": \"Poverty\", \"Correlation\": 0.05865534448991194}, {\"row\": \"WorkAtHome\", \"col\": \"Poverty\", \"Correlation\": -0.2749832315536648}, {\"row\": \"MeanCommute\", \"col\": \"Poverty\", \"Correlation\": 0.09936311023825421}, {\"row\": \"Employed\", \"col\": \"Poverty\", \"Correlation\": -0.735569417621486}, {\"row\": \"PrivateWork\", \"col\": \"Poverty\", \"Correlation\": -0.24547241995374064}, {\"row\": \"SelfEmployed\", \"col\": \"Poverty\", \"Correlation\": -0.13244226211060062}, {\"row\": \"FamilyWork\", \"col\": \"Poverty\", \"Correlation\": -0.0554588381182765}, {\"row\": \"Unemployment\", \"col\": \"Poverty\", \"Correlation\": 0.7097778424662119}, {\"row\": \"Minority\", \"col\": \"Poverty\", \"Correlation\": 0.6231625196890354}, {\"row\": \"Women\", \"col\": \"ChildPoverty\", \"Correlation\": 0.09765163062494484}, {\"row\": \"White\", \"col\": \"ChildPoverty\", \"Correlation\": -0.5664427163983413}, {\"row\": \"Citizen\", \"col\": \"ChildPoverty\", \"Correlation\": -0.0017250267397164332}, {\"row\": \"IncomePerCap\", \"col\": \"ChildPoverty\", \"Correlation\": -0.747550925901896}, {\"row\": \"Poverty\", \"col\": \"ChildPoverty\", \"Correlation\": 0.9351118907926058}, {\"row\": \"ChildPoverty\", \"col\": \"ChildPoverty\", \"Correlation\": 1.0}, {\"row\": \"Professional\", \"col\": \"ChildPoverty\", \"Correlation\": -0.4338092353460614}, {\"row\": \"Service\", \"col\": \"ChildPoverty\", \"Correlation\": 0.3919867401059423}, {\"row\": \"Office\", \"col\": \"ChildPoverty\", \"Correlation\": 0.011465297177819219}, {\"row\": \"Production\", \"col\": \"ChildPoverty\", \"Correlation\": 0.1718764381970903}, {\"row\": \"Drive\", \"col\": \"ChildPoverty\", \"Correlation\": 0.1355019624747581}, {\"row\": \"Carpool\", \"col\": \"ChildPoverty\", \"Correlation\": 0.10925515487003287}, {\"row\": \"Transit\", \"col\": \"ChildPoverty\", \"Correlation\": -0.06235712123672934}, {\"row\": \"OtherTransp\", \"col\": \"ChildPoverty\", \"Correlation\": 0.027186590771703958}, {\"row\": \"WorkAtHome\", \"col\": \"ChildPoverty\", \"Correlation\": -0.2984120487256886}, {\"row\": \"MeanCommute\", \"col\": \"ChildPoverty\", \"Correlation\": 0.12965816137519556}, {\"row\": \"Employed\", \"col\": \"ChildPoverty\", \"Correlation\": -0.7445101177741732}, {\"row\": \"PrivateWork\", \"col\": \"ChildPoverty\", \"Correlation\": -0.18862830754802912}, {\"row\": \"SelfEmployed\", \"col\": \"ChildPoverty\", \"Correlation\": -0.13084143172528068}, {\"row\": \"FamilyWork\", \"col\": \"ChildPoverty\", \"Correlation\": -0.06930848293577441}, {\"row\": \"Unemployment\", \"col\": \"ChildPoverty\", \"Correlation\": 0.6760094004438228}, {\"row\": \"Minority\", \"col\": \"ChildPoverty\", \"Correlation\": 0.5745803846048789}, {\"row\": \"Women\", \"col\": \"Professional\", \"Correlation\": 0.08061054615884049}, {\"row\": \"White\", \"col\": \"Professional\", \"Correlation\": 0.10629263645606908}, {\"row\": \"Citizen\", \"col\": \"Professional\", \"Correlation\": 0.002013688011861766}, {\"row\": \"IncomePerCap\", \"col\": \"Professional\", \"Correlation\": 0.6673259160321738}, {\"row\": \"Poverty\", \"col\": \"Professional\", \"Correlation\": -0.35419624445033826}, {\"row\": \"ChildPoverty\", \"col\": \"Professional\", \"Correlation\": -0.4338092353460614}, {\"row\": \"Professional\", \"col\": \"Professional\", \"Correlation\": 1.0}, {\"row\": \"Service\", \"col\": \"Professional\", \"Correlation\": -0.2753947627387403}, {\"row\": \"Office\", \"col\": \"Professional\", \"Correlation\": -0.007447111110828063}, {\"row\": \"Production\", \"col\": \"Professional\", \"Correlation\": -0.6542692796676259}, {\"row\": \"Drive\", \"col\": \"Professional\", \"Correlation\": -0.27307332649804616}, {\"row\": \"Carpool\", \"col\": \"Professional\", \"Correlation\": -0.2891390831977213}, {\"row\": \"Transit\", \"col\": \"Professional\", \"Correlation\": 0.277349726522776}, {\"row\": \"OtherTransp\", \"col\": \"Professional\", \"Correlation\": 0.04923951204900591}, {\"row\": \"WorkAtHome\", \"col\": \"Professional\", \"Correlation\": 0.4152355253551888}, {\"row\": \"MeanCommute\", \"col\": \"Professional\", \"Correlation\": -0.09696615628908704}, {\"row\": \"Employed\", \"col\": \"Professional\", \"Correlation\": 0.4734129688905956}, {\"row\": \"PrivateWork\", \"col\": \"Professional\", \"Correlation\": -0.18513996679345296}, {\"row\": \"SelfEmployed\", \"col\": \"Professional\", \"Correlation\": 0.19845801787497697}, {\"row\": \"FamilyWork\", \"col\": \"Professional\", \"Correlation\": 0.07886237685638736}, {\"row\": \"Unemployment\", \"col\": \"Professional\", \"Correlation\": -0.3091353049772352}, {\"row\": \"Minority\", \"col\": \"Professional\", \"Correlation\": -0.1173750916309145}, {\"row\": \"Women\", \"col\": \"Service\", \"Correlation\": -0.09271317762428642}, {\"row\": \"White\", \"col\": \"Service\", \"Correlation\": -0.3347307377869619}, {\"row\": \"Citizen\", \"col\": \"Service\", \"Correlation\": 0.10104641151417401}, {\"row\": \"IncomePerCap\", \"col\": \"Service\", \"Correlation\": -0.35207389491834334}, {\"row\": \"Poverty\", \"col\": \"Service\", \"Correlation\": 0.41012870242680466}, {\"row\": \"ChildPoverty\", \"col\": \"Service\", \"Correlation\": 0.3919867401059423}, {\"row\": \"Professional\", \"col\": \"Service\", \"Correlation\": -0.2753947627387403}, {\"row\": \"Service\", \"col\": \"Service\", \"Correlation\": 1.0}, {\"row\": \"Office\", \"col\": \"Service\", \"Correlation\": -0.020725364936809758}, {\"row\": \"Production\", \"col\": \"Service\", \"Correlation\": -0.23671472113491998}, {\"row\": \"Drive\", \"col\": \"Service\", \"Correlation\": -0.0502797693825788}, {\"row\": \"Carpool\", \"col\": \"Service\", \"Correlation\": 0.08955497872365056}, {\"row\": \"Transit\", \"col\": \"Service\", \"Correlation\": 0.06425956097248385}, {\"row\": \"OtherTransp\", \"col\": \"Service\", \"Correlation\": 0.08682938807565699}, {\"row\": \"WorkAtHome\", \"col\": \"Service\", \"Correlation\": -0.14034138304779997}, {\"row\": \"MeanCommute\", \"col\": \"Service\", \"Correlation\": -0.032091498543797066}, {\"row\": \"Employed\", \"col\": \"Service\", \"Correlation\": -0.4032610491958844}, {\"row\": \"PrivateWork\", \"col\": \"Service\", \"Correlation\": -0.21742731569710932}, {\"row\": \"SelfEmployed\", \"col\": \"Service\", \"Correlation\": -0.15409303359628077}, {\"row\": \"FamilyWork\", \"col\": \"Service\", \"Correlation\": -0.07036667801366038}, {\"row\": \"Unemployment\", \"col\": \"Service\", \"Correlation\": 0.3770091752776986}, {\"row\": \"Minority\", \"col\": \"Service\", \"Correlation\": 0.33032737501890025}, {\"row\": \"Women\", \"col\": \"Office\", \"Correlation\": 0.25603140564913957}, {\"row\": \"White\", \"col\": \"Office\", \"Correlation\": -0.11719704046342616}, {\"row\": \"Citizen\", \"col\": \"Office\", \"Correlation\": 0.030400814768283366}, {\"row\": \"IncomePerCap\", \"col\": \"Office\", \"Correlation\": 0.04980855087399395}, {\"row\": \"Poverty\", \"col\": \"Office\", \"Correlation\": 0.02857915908884618}, {\"row\": \"ChildPoverty\", \"col\": \"Office\", \"Correlation\": 0.011465297177819219}, {\"row\": \"Professional\", \"col\": \"Office\", \"Correlation\": -0.007447111110828063}, {\"row\": \"Service\", \"col\": \"Office\", \"Correlation\": -0.020725364936809758}, {\"row\": \"Office\", \"col\": \"Office\", \"Correlation\": 1.0}, {\"row\": \"Production\", \"col\": \"Office\", \"Correlation\": -0.21531657569637644}, {\"row\": \"Drive\", \"col\": \"Office\", \"Correlation\": 0.26803764690807375}, {\"row\": \"Carpool\", \"col\": \"Office\", \"Correlation\": -0.15072436633182718}, {\"row\": \"Transit\", \"col\": \"Office\", \"Correlation\": 0.04812912823669369}, {\"row\": \"OtherTransp\", \"col\": \"Office\", \"Correlation\": -0.0009723413668524593}, {\"row\": \"WorkAtHome\", \"col\": \"Office\", \"Correlation\": -0.25453537628966616}, {\"row\": \"MeanCommute\", \"col\": \"Office\", \"Correlation\": 0.18811973957720038}, {\"row\": \"Employed\", \"col\": \"Office\", \"Correlation\": -0.014838396172372507}, {\"row\": \"PrivateWork\", \"col\": \"Office\", \"Correlation\": 0.3153624286282604}, {\"row\": \"SelfEmployed\", \"col\": \"Office\", \"Correlation\": -0.32696854420280796}, {\"row\": \"FamilyWork\", \"col\": \"Office\", \"Correlation\": -0.19834022448359478}, {\"row\": \"Unemployment\", \"col\": \"Office\", \"Correlation\": 0.16116789659984673}, {\"row\": \"Minority\", \"col\": \"Office\", \"Correlation\": 0.11501201525061337}, {\"row\": \"Women\", \"col\": \"Production\", \"Correlation\": 0.01586252412418283}, {\"row\": \"White\", \"col\": \"Production\", \"Correlation\": 0.15540408095573277}, {\"row\": \"Citizen\", \"col\": \"Production\", \"Correlation\": 0.017907160783963857}, {\"row\": \"IncomePerCap\", \"col\": \"Production\", \"Correlation\": -0.36125577091100525}, {\"row\": \"Poverty\", \"col\": \"Production\", \"Correlation\": 0.0895959886450711}, {\"row\": \"ChildPoverty\", \"col\": \"Production\", \"Correlation\": 0.1718764381970903}, {\"row\": \"Professional\", \"col\": \"Production\", \"Correlation\": -0.6542692796676259}, {\"row\": \"Service\", \"col\": \"Production\", \"Correlation\": -0.23671472113491998}, {\"row\": \"Office\", \"col\": \"Production\", \"Correlation\": -0.21531657569637644}, {\"row\": \"Production\", \"col\": \"Production\", \"Correlation\": 1.0}, {\"row\": \"Drive\", \"col\": \"Production\", \"Correlation\": 0.28694422636715783}, {\"row\": \"Carpool\", \"col\": \"Production\", \"Correlation\": 0.14349074415790655}, {\"row\": \"Transit\", \"col\": \"Production\", \"Correlation\": -0.213923786058658}, {\"row\": \"OtherTransp\", \"col\": \"Production\", \"Correlation\": -0.111435751382408}, {\"row\": \"WorkAtHome\", \"col\": \"Production\", \"Correlation\": -0.3435796522307649}, {\"row\": \"MeanCommute\", \"col\": \"Production\", \"Correlation\": 0.05698789255464169}, {\"row\": \"Employed\", \"col\": \"Production\", \"Correlation\": -0.13627668256658193}, {\"row\": \"PrivateWork\", \"col\": \"Production\", \"Correlation\": 0.3863123321869879}, {\"row\": \"SelfEmployed\", \"col\": \"Production\", \"Correlation\": -0.19999226947303886}, {\"row\": \"FamilyWork\", \"col\": \"Production\", \"Correlation\": -0.1041515362704294}, {\"row\": \"Unemployment\", \"col\": \"Production\", \"Correlation\": 0.07839040078243376}, {\"row\": \"Minority\", \"col\": \"Production\", \"Correlation\": -0.14430088968762447}, {\"row\": \"Women\", \"col\": \"Drive\", \"Correlation\": 0.17649143064232986}, {\"row\": \"White\", \"col\": \"Drive\", \"Correlation\": 0.0821681501281317}, {\"row\": \"Citizen\", \"col\": \"Drive\", \"Correlation\": 0.13282577933908893}, {\"row\": \"IncomePerCap\", \"col\": \"Drive\", \"Correlation\": -0.2135865429277435}, {\"row\": \"Poverty\", \"col\": \"Drive\", \"Correlation\": 0.08010081601655}, {\"row\": \"ChildPoverty\", \"col\": \"Drive\", \"Correlation\": 0.1355019624747581}, {\"row\": \"Professional\", \"col\": \"Drive\", \"Correlation\": -0.27307332649804616}, {\"row\": \"Service\", \"col\": \"Drive\", \"Correlation\": -0.0502797693825788}, {\"row\": \"Office\", \"col\": \"Drive\", \"Correlation\": 0.26803764690807375}, {\"row\": \"Production\", \"col\": \"Drive\", \"Correlation\": 0.28694422636715783}, {\"row\": \"Drive\", \"col\": \"Drive\", \"Correlation\": 1.0}, {\"row\": \"Carpool\", \"col\": \"Drive\", \"Correlation\": -0.27959785963092365}, {\"row\": \"Transit\", \"col\": \"Drive\", \"Correlation\": -0.4434157018503806}, {\"row\": \"OtherTransp\", \"col\": \"Drive\", \"Correlation\": -0.5191383777760297}, {\"row\": \"WorkAtHome\", \"col\": \"Drive\", \"Correlation\": -0.5536736983731423}, {\"row\": \"MeanCommute\", \"col\": \"Drive\", \"Correlation\": 0.22557884488503638}, {\"row\": \"Employed\", \"col\": \"Drive\", \"Correlation\": -0.21503784131545867}, {\"row\": \"PrivateWork\", \"col\": \"Drive\", \"Correlation\": 0.39744436256216825}, {\"row\": \"SelfEmployed\", \"col\": \"Drive\", \"Correlation\": -0.367501594931122}, {\"row\": \"FamilyWork\", \"col\": \"Drive\", \"Correlation\": -0.23682351246726885}, {\"row\": \"Unemployment\", \"col\": \"Drive\", \"Correlation\": 0.08783984286000077}, {\"row\": \"Minority\", \"col\": \"Drive\", \"Correlation\": -0.06917419400420849}, {\"row\": \"Women\", \"col\": \"Carpool\", \"Correlation\": -0.08741660112485138}, {\"row\": \"White\", \"col\": \"Carpool\", \"Correlation\": -0.1018919323798789}, {\"row\": \"Citizen\", \"col\": \"Carpool\", \"Correlation\": -0.23469377444438366}, {\"row\": \"IncomePerCap\", \"col\": \"Carpool\", \"Correlation\": -0.20181309241078987}, {\"row\": \"Poverty\", \"col\": \"Carpool\", \"Correlation\": 0.07834222093827162}, {\"row\": \"ChildPoverty\", \"col\": \"Carpool\", \"Correlation\": 0.10925515487003287}, {\"row\": \"Professional\", \"col\": \"Carpool\", \"Correlation\": -0.2891390831977213}, {\"row\": \"Service\", \"col\": \"Carpool\", \"Correlation\": 0.08955497872365056}, {\"row\": \"Office\", \"col\": \"Carpool\", \"Correlation\": -0.15072436633182718}, {\"row\": \"Production\", \"col\": \"Carpool\", \"Correlation\": 0.14349074415790655}, {\"row\": \"Drive\", \"col\": \"Carpool\", \"Correlation\": -0.27959785963092365}, {\"row\": \"Carpool\", \"col\": \"Carpool\", \"Correlation\": 1.0}, {\"row\": \"Transit\", \"col\": \"Carpool\", \"Correlation\": -0.09771108521579006}, {\"row\": \"OtherTransp\", \"col\": \"Carpool\", \"Correlation\": 0.02361877032561603}, {\"row\": \"WorkAtHome\", \"col\": \"Carpool\", \"Correlation\": -0.08867443645518024}, {\"row\": \"MeanCommute\", \"col\": \"Carpool\", \"Correlation\": 0.05868864129258439}, {\"row\": \"Employed\", \"col\": \"Carpool\", \"Correlation\": -0.14433612340930202}, {\"row\": \"PrivateWork\", \"col\": \"Carpool\", \"Correlation\": -0.06580355616146455}, {\"row\": \"SelfEmployed\", \"col\": \"Carpool\", \"Correlation\": 0.009505599320229267}, {\"row\": \"FamilyWork\", \"col\": \"Carpool\", \"Correlation\": -0.010248935032547766}, {\"row\": \"Unemployment\", \"col\": \"Carpool\", \"Correlation\": 0.0877756212755971}, {\"row\": \"Minority\", \"col\": \"Carpool\", \"Correlation\": 0.09785420065564963}, {\"row\": \"Women\", \"col\": \"Transit\", \"Correlation\": 0.08451576539779682}, {\"row\": \"White\", \"col\": \"Transit\", \"Correlation\": -0.18352986777662444}, {\"row\": \"Citizen\", \"col\": \"Transit\", \"Correlation\": -0.18214115487297564}, {\"row\": \"IncomePerCap\", \"col\": \"Transit\", \"Correlation\": 0.31109664818284916}, {\"row\": \"Poverty\", \"col\": \"Transit\", \"Correlation\": -0.027353859085386487}, {\"row\": \"ChildPoverty\", \"col\": \"Transit\", \"Correlation\": -0.06235712123672934}, {\"row\": \"Professional\", \"col\": \"Transit\", \"Correlation\": 0.277349726522776}, {\"row\": \"Service\", \"col\": \"Transit\", \"Correlation\": 0.06425956097248385}, {\"row\": \"Office\", \"col\": \"Transit\", \"Correlation\": 0.04812912823669369}, {\"row\": \"Production\", \"col\": \"Transit\", \"Correlation\": -0.213923786058658}, {\"row\": \"Drive\", \"col\": \"Transit\", \"Correlation\": -0.4434157018503806}, {\"row\": \"Carpool\", \"col\": \"Transit\", \"Correlation\": -0.09771108521579006}, {\"row\": \"Transit\", \"col\": \"Transit\", \"Correlation\": 1.0}, {\"row\": \"OtherTransp\", \"col\": \"Transit\", \"Correlation\": 0.09143370306809656}, {\"row\": \"WorkAtHome\", \"col\": \"Transit\", \"Correlation\": -0.0009238028822702871}, {\"row\": \"MeanCommute\", \"col\": \"Transit\", \"Correlation\": 0.19415572329021927}, {\"row\": \"Employed\", \"col\": \"Transit\", \"Correlation\": 0.15169998663329468}, {\"row\": \"PrivateWork\", \"col\": \"Transit\", \"Correlation\": 0.07527191661423273}, {\"row\": \"SelfEmployed\", \"col\": \"Transit\", \"Correlation\": -0.10639443017515017}, {\"row\": \"FamilyWork\", \"col\": \"Transit\", \"Correlation\": -0.058474740725079535}, {\"row\": \"Unemployment\", \"col\": \"Transit\", \"Correlation\": 0.040359069652296534}, {\"row\": \"Minority\", \"col\": \"Transit\", \"Correlation\": 0.17643199248469096}, {\"row\": \"Women\", \"col\": \"OtherTransp\", \"Correlation\": -0.05834412083585871}, {\"row\": \"White\", \"col\": \"OtherTransp\", \"Correlation\": -0.17845175048740844}, {\"row\": \"Citizen\", \"col\": \"OtherTransp\", \"Correlation\": -0.1241907136641615}, {\"row\": \"IncomePerCap\", \"col\": \"OtherTransp\", \"Correlation\": 0.011891129234262676}, {\"row\": \"Poverty\", \"col\": \"OtherTransp\", \"Correlation\": 0.05865534448991194}, {\"row\": \"ChildPoverty\", \"col\": \"OtherTransp\", \"Correlation\": 0.027186590771703958}, {\"row\": \"Professional\", \"col\": \"OtherTransp\", \"Correlation\": 0.04923951204900591}, {\"row\": \"Service\", \"col\": \"OtherTransp\", \"Correlation\": 0.08682938807565699}, {\"row\": \"Office\", \"col\": \"OtherTransp\", \"Correlation\": -0.0009723413668524593}, {\"row\": \"Production\", \"col\": \"OtherTransp\", \"Correlation\": -0.111435751382408}, {\"row\": \"Drive\", \"col\": \"OtherTransp\", \"Correlation\": -0.5191383777760297}, {\"row\": \"Carpool\", \"col\": \"OtherTransp\", \"Correlation\": 0.02361877032561603}, {\"row\": \"Transit\", \"col\": \"OtherTransp\", \"Correlation\": 0.09143370306809656}, {\"row\": \"OtherTransp\", \"col\": \"OtherTransp\", \"Correlation\": 1.0}, {\"row\": \"WorkAtHome\", \"col\": \"OtherTransp\", \"Correlation\": 0.04716293529661697}, {\"row\": \"MeanCommute\", \"col\": \"OtherTransp\", \"Correlation\": -0.1736823934810651}, {\"row\": \"Employed\", \"col\": \"OtherTransp\", \"Correlation\": -0.01004102500527049}, {\"row\": \"PrivateWork\", \"col\": \"OtherTransp\", \"Correlation\": -0.17788385455927871}, {\"row\": \"SelfEmployed\", \"col\": \"OtherTransp\", \"Correlation\": -0.027965314599275783}, {\"row\": \"FamilyWork\", \"col\": \"OtherTransp\", \"Correlation\": 0.0011079709534160954}, {\"row\": \"Unemployment\", \"col\": \"OtherTransp\", \"Correlation\": 0.12992154173238105}, {\"row\": \"Minority\", \"col\": \"OtherTransp\", \"Correlation\": 0.1672441878606198}, {\"row\": \"Women\", \"col\": \"WorkAtHome\", \"Correlation\": -0.1300965220339544}, {\"row\": \"White\", \"col\": \"WorkAtHome\", \"Correlation\": 0.22844367663230775}, {\"row\": \"Citizen\", \"col\": \"WorkAtHome\", \"Correlation\": 0.10008239127741952}, {\"row\": \"IncomePerCap\", \"col\": \"WorkAtHome\", \"Correlation\": 0.3042375112675385}, {\"row\": \"Poverty\", \"col\": \"WorkAtHome\", \"Correlation\": -0.2749832315536648}, {\"row\": \"ChildPoverty\", \"col\": \"WorkAtHome\", \"Correlation\": -0.2984120487256886}, {\"row\": \"Professional\", \"col\": \"WorkAtHome\", \"Correlation\": 0.4152355253551888}, {\"row\": \"Service\", \"col\": \"WorkAtHome\", \"Correlation\": -0.14034138304779997}, {\"row\": \"Office\", \"col\": \"WorkAtHome\", \"Correlation\": -0.25453537628966616}, {\"row\": \"Production\", \"col\": \"WorkAtHome\", \"Correlation\": -0.3435796522307649}, {\"row\": \"Drive\", \"col\": \"WorkAtHome\", \"Correlation\": -0.5536736983731423}, {\"row\": \"Carpool\", \"col\": \"WorkAtHome\", \"Correlation\": -0.08867443645518024}, {\"row\": \"Transit\", \"col\": \"WorkAtHome\", \"Correlation\": -0.0009238028822702871}, {\"row\": \"OtherTransp\", \"col\": \"WorkAtHome\", \"Correlation\": 0.04716293529661697}, {\"row\": \"WorkAtHome\", \"col\": \"WorkAtHome\", \"Correlation\": 1.0}, {\"row\": \"MeanCommute\", \"col\": \"WorkAtHome\", \"Correlation\": -0.20899320422547202}, {\"row\": \"Employed\", \"col\": \"WorkAtHome\", \"Correlation\": 0.3038387989933237}, {\"row\": \"PrivateWork\", \"col\": \"WorkAtHome\", \"Correlation\": -0.41301873526981514}, {\"row\": \"SelfEmployed\", \"col\": \"WorkAtHome\", \"Correlation\": 0.6758628599286012}, {\"row\": \"FamilyWork\", \"col\": \"WorkAtHome\", \"Correlation\": 0.38390031741884856}, {\"row\": \"Unemployment\", \"col\": \"WorkAtHome\", \"Correlation\": -0.3208240497183788}, {\"row\": \"Minority\", \"col\": \"WorkAtHome\", \"Correlation\": -0.23140839855476664}, {\"row\": \"Women\", \"col\": \"MeanCommute\", \"Correlation\": 0.11521868094393123}, {\"row\": \"White\", \"col\": \"MeanCommute\", \"Correlation\": -0.07625067295361969}, {\"row\": \"Citizen\", \"col\": \"MeanCommute\", \"Correlation\": 0.06994026321997729}, {\"row\": \"IncomePerCap\", \"col\": \"MeanCommute\", \"Correlation\": -0.02797282950350505}, {\"row\": \"Poverty\", \"col\": \"MeanCommute\", \"Correlation\": 0.09936311023825421}, {\"row\": \"ChildPoverty\", \"col\": \"MeanCommute\", \"Correlation\": 0.12965816137519556}, {\"row\": \"Professional\", \"col\": \"MeanCommute\", \"Correlation\": -0.09696615628908704}, {\"row\": \"Service\", \"col\": \"MeanCommute\", \"Correlation\": -0.032091498543797066}, {\"row\": \"Office\", \"col\": \"MeanCommute\", \"Correlation\": 0.18811973957720038}, {\"row\": \"Production\", \"col\": \"MeanCommute\", \"Correlation\": 0.05698789255464169}, {\"row\": \"Drive\", \"col\": \"MeanCommute\", \"Correlation\": 0.22557884488503638}, {\"row\": \"Carpool\", \"col\": \"MeanCommute\", \"Correlation\": 0.05868864129258439}, {\"row\": \"Transit\", \"col\": \"MeanCommute\", \"Correlation\": 0.19415572329021927}, {\"row\": \"OtherTransp\", \"col\": \"MeanCommute\", \"Correlation\": -0.1736823934810651}, {\"row\": \"WorkAtHome\", \"col\": \"MeanCommute\", \"Correlation\": -0.20899320422547202}, {\"row\": \"MeanCommute\", \"col\": \"MeanCommute\", \"Correlation\": 1.0}, {\"row\": \"Employed\", \"col\": \"MeanCommute\", \"Correlation\": -0.2521108999481691}, {\"row\": \"PrivateWork\", \"col\": \"MeanCommute\", \"Correlation\": 0.23393698480029346}, {\"row\": \"SelfEmployed\", \"col\": \"MeanCommute\", \"Correlation\": -0.2619463932661187}, {\"row\": \"FamilyWork\", \"col\": \"MeanCommute\", \"Correlation\": -0.17395471062286272}, {\"row\": \"Unemployment\", \"col\": \"MeanCommute\", \"Correlation\": 0.28862782596310355}, {\"row\": \"Minority\", \"col\": \"MeanCommute\", \"Correlation\": 0.08206807956847209}, {\"row\": \"Women\", \"col\": \"Employed\", \"Correlation\": 0.13118134393161449}, {\"row\": \"White\", \"col\": \"Employed\", \"Correlation\": 0.43285551462753685}, {\"row\": \"Citizen\", \"col\": \"Employed\", \"Correlation\": -0.08734254474702875}, {\"row\": \"IncomePerCap\", \"col\": \"Employed\", \"Correlation\": 0.7670009685702536}, {\"row\": \"Poverty\", \"col\": \"Employed\", \"Correlation\": -0.735569417621486}, {\"row\": \"ChildPoverty\", \"col\": \"Employed\", \"Correlation\": -0.7445101177741732}, {\"row\": \"Professional\", \"col\": \"Employed\", \"Correlation\": 0.4734129688905956}, {\"row\": \"Service\", \"col\": \"Employed\", \"Correlation\": -0.4032610491958844}, {\"row\": \"Office\", \"col\": \"Employed\", \"Correlation\": -0.014838396172372507}, {\"row\": \"Production\", \"col\": \"Employed\", \"Correlation\": -0.13627668256658193}, {\"row\": \"Drive\", \"col\": \"Employed\", \"Correlation\": -0.21503784131545867}, {\"row\": \"Carpool\", \"col\": \"Employed\", \"Correlation\": -0.14433612340930202}, {\"row\": \"Transit\", \"col\": \"Employed\", \"Correlation\": 0.15169998663329468}, {\"row\": \"OtherTransp\", \"col\": \"Employed\", \"Correlation\": -0.01004102500527049}, {\"row\": \"WorkAtHome\", \"col\": \"Employed\", \"Correlation\": 0.3038387989933237}, {\"row\": \"MeanCommute\", \"col\": \"Employed\", \"Correlation\": -0.2521108999481691}, {\"row\": \"Employed\", \"col\": \"Employed\", \"Correlation\": 1.0}, {\"row\": \"PrivateWork\", \"col\": \"Employed\", \"Correlation\": 0.2648256258218099}, {\"row\": \"SelfEmployed\", \"col\": \"Employed\", \"Correlation\": 0.1541071920652641}, {\"row\": \"FamilyWork\", \"col\": \"Employed\", \"Correlation\": 0.05565414401880145}, {\"row\": \"Unemployment\", \"col\": \"Employed\", \"Correlation\": -0.6979849022175607}, {\"row\": \"Minority\", \"col\": \"Employed\", \"Correlation\": -0.43905286840850277}, {\"row\": \"Women\", \"col\": \"PrivateWork\", \"Correlation\": 0.25748116352591344}, {\"row\": \"White\", \"col\": \"PrivateWork\", \"Correlation\": 0.23165907207186026}, {\"row\": \"Citizen\", \"col\": \"PrivateWork\", \"Correlation\": -0.08598896125139655}, {\"row\": \"IncomePerCap\", \"col\": \"PrivateWork\", \"Correlation\": 0.19912033510426738}, {\"row\": \"Poverty\", \"col\": \"PrivateWork\", \"Correlation\": -0.24547241995374064}, {\"row\": \"ChildPoverty\", \"col\": \"PrivateWork\", \"Correlation\": -0.18862830754802912}, {\"row\": \"Professional\", \"col\": \"PrivateWork\", \"Correlation\": -0.18513996679345296}, {\"row\": \"Service\", \"col\": \"PrivateWork\", \"Correlation\": -0.21742731569710932}, {\"row\": \"Office\", \"col\": \"PrivateWork\", \"Correlation\": 0.3153624286282604}, {\"row\": \"Production\", \"col\": \"PrivateWork\", \"Correlation\": 0.3863123321869879}, {\"row\": \"Drive\", \"col\": \"PrivateWork\", \"Correlation\": 0.39744436256216825}, {\"row\": \"Carpool\", \"col\": \"PrivateWork\", \"Correlation\": -0.06580355616146455}, {\"row\": \"Transit\", \"col\": \"PrivateWork\", \"Correlation\": 0.07527191661423273}, {\"row\": \"OtherTransp\", \"col\": \"PrivateWork\", \"Correlation\": -0.17788385455927871}, {\"row\": \"WorkAtHome\", \"col\": \"PrivateWork\", \"Correlation\": -0.41301873526981514}, {\"row\": \"MeanCommute\", \"col\": \"PrivateWork\", \"Correlation\": 0.23393698480029346}, {\"row\": \"Employed\", \"col\": \"PrivateWork\", \"Correlation\": 0.2648256258218099}, {\"row\": \"PrivateWork\", \"col\": \"PrivateWork\", \"Correlation\": 1.0}, {\"row\": \"SelfEmployed\", \"col\": \"PrivateWork\", \"Correlation\": -0.5436517991238836}, {\"row\": \"FamilyWork\", \"col\": \"PrivateWork\", \"Correlation\": -0.30551205013507526}, {\"row\": \"Unemployment\", \"col\": \"PrivateWork\", \"Correlation\": -0.10760459330940174}, {\"row\": \"Minority\", \"col\": \"PrivateWork\", \"Correlation\": -0.22415376803847195}, {\"row\": \"Women\", \"col\": \"SelfEmployed\", \"Correlation\": -0.1063004575988566}, {\"row\": \"White\", \"col\": \"SelfEmployed\", \"Correlation\": 0.2037713246009374}, {\"row\": \"Citizen\", \"col\": \"SelfEmployed\", \"Correlation\": 0.15733177624669134}, {\"row\": \"IncomePerCap\", \"col\": \"SelfEmployed\", \"Correlation\": 0.08980568565363832}, {\"row\": \"Poverty\", \"col\": \"SelfEmployed\", \"Correlation\": -0.13244226211060062}, {\"row\": \"ChildPoverty\", \"col\": \"SelfEmployed\", \"Correlation\": -0.13084143172528068}, {\"row\": \"Professional\", \"col\": \"SelfEmployed\", \"Correlation\": 0.19845801787497697}, {\"row\": \"Service\", \"col\": \"SelfEmployed\", \"Correlation\": -0.15409303359628077}, {\"row\": \"Office\", \"col\": \"SelfEmployed\", \"Correlation\": -0.32696854420280796}, {\"row\": \"Production\", \"col\": \"SelfEmployed\", \"Correlation\": -0.19999226947303886}, {\"row\": \"Drive\", \"col\": \"SelfEmployed\", \"Correlation\": -0.367501594931122}, {\"row\": \"Carpool\", \"col\": \"SelfEmployed\", \"Correlation\": 0.009505599320229267}, {\"row\": \"Transit\", \"col\": \"SelfEmployed\", \"Correlation\": -0.10639443017515017}, {\"row\": \"OtherTransp\", \"col\": \"SelfEmployed\", \"Correlation\": -0.027965314599275783}, {\"row\": \"WorkAtHome\", \"col\": \"SelfEmployed\", \"Correlation\": 0.6758628599286012}, {\"row\": \"MeanCommute\", \"col\": \"SelfEmployed\", \"Correlation\": -0.2619463932661187}, {\"row\": \"Employed\", \"col\": \"SelfEmployed\", \"Correlation\": 0.1541071920652641}, {\"row\": \"PrivateWork\", \"col\": \"SelfEmployed\", \"Correlation\": -0.5436517991238836}, {\"row\": \"SelfEmployed\", \"col\": \"SelfEmployed\", \"Correlation\": 1.0}, {\"row\": \"FamilyWork\", \"col\": \"SelfEmployed\", \"Correlation\": 0.38805723843657686}, {\"row\": \"Unemployment\", \"col\": \"SelfEmployed\", \"Correlation\": -0.2996067239607485}, {\"row\": \"Minority\", \"col\": \"SelfEmployed\", \"Correlation\": -0.20018522955248247}, {\"row\": \"Women\", \"col\": \"FamilyWork\", \"Correlation\": -0.06266999364090871}, {\"row\": \"White\", \"col\": \"FamilyWork\", \"Correlation\": 0.11393236786171125}, {\"row\": \"Citizen\", \"col\": \"FamilyWork\", \"Correlation\": 0.06382936488887052}, {\"row\": \"IncomePerCap\", \"col\": \"FamilyWork\", \"Correlation\": 0.007455064394297375}, {\"row\": \"Poverty\", \"col\": \"FamilyWork\", \"Correlation\": -0.0554588381182765}, {\"row\": \"ChildPoverty\", \"col\": \"FamilyWork\", \"Correlation\": -0.06930848293577441}, {\"row\": \"Professional\", \"col\": \"FamilyWork\", \"Correlation\": 0.07886237685638736}, {\"row\": \"Service\", \"col\": \"FamilyWork\", \"Correlation\": -0.07036667801366038}, {\"row\": \"Office\", \"col\": \"FamilyWork\", \"Correlation\": -0.19834022448359478}, {\"row\": \"Production\", \"col\": \"FamilyWork\", \"Correlation\": -0.1041515362704294}, {\"row\": \"Drive\", \"col\": \"FamilyWork\", \"Correlation\": -0.23682351246726885}, {\"row\": \"Carpool\", \"col\": \"FamilyWork\", \"Correlation\": -0.010248935032547766}, {\"row\": \"Transit\", \"col\": \"FamilyWork\", \"Correlation\": -0.058474740725079535}, {\"row\": \"OtherTransp\", \"col\": \"FamilyWork\", \"Correlation\": 0.0011079709534160954}, {\"row\": \"WorkAtHome\", \"col\": \"FamilyWork\", \"Correlation\": 0.38390031741884856}, {\"row\": \"MeanCommute\", \"col\": \"FamilyWork\", \"Correlation\": -0.17395471062286272}, {\"row\": \"Employed\", \"col\": \"FamilyWork\", \"Correlation\": 0.05565414401880145}, {\"row\": \"PrivateWork\", \"col\": \"FamilyWork\", \"Correlation\": -0.30551205013507526}, {\"row\": \"SelfEmployed\", \"col\": \"FamilyWork\", \"Correlation\": 0.38805723843657686}, {\"row\": \"FamilyWork\", \"col\": \"FamilyWork\", \"Correlation\": 1.0}, {\"row\": \"Unemployment\", \"col\": \"FamilyWork\", \"Correlation\": -0.12687763754575968}, {\"row\": \"Minority\", \"col\": \"FamilyWork\", \"Correlation\": -0.11320893999201097}, {\"row\": \"Women\", \"col\": \"Unemployment\", \"Correlation\": 0.11257880663414505}, {\"row\": \"White\", \"col\": \"Unemployment\", \"Correlation\": -0.5465775332297816}, {\"row\": \"Citizen\", \"col\": \"Unemployment\", \"Correlation\": -0.0006729358887091376}, {\"row\": \"IncomePerCap\", \"col\": \"Unemployment\", \"Correlation\": -0.5471187466536133}, {\"row\": \"Poverty\", \"col\": \"Unemployment\", \"Correlation\": 0.7097778424662119}, {\"row\": \"ChildPoverty\", \"col\": \"Unemployment\", \"Correlation\": 0.6760094004438228}, {\"row\": \"Professional\", \"col\": \"Unemployment\", \"Correlation\": -0.3091353049772352}, {\"row\": \"Service\", \"col\": \"Unemployment\", \"Correlation\": 0.3770091752776986}, {\"row\": \"Office\", \"col\": \"Unemployment\", \"Correlation\": 0.16116789659984673}, {\"row\": \"Production\", \"col\": \"Unemployment\", \"Correlation\": 0.07839040078243376}, {\"row\": \"Drive\", \"col\": \"Unemployment\", \"Correlation\": 0.08783984286000077}, {\"row\": \"Carpool\", \"col\": \"Unemployment\", \"Correlation\": 0.0877756212755971}, {\"row\": \"Transit\", \"col\": \"Unemployment\", \"Correlation\": 0.040359069652296534}, {\"row\": \"OtherTransp\", \"col\": \"Unemployment\", \"Correlation\": 0.12992154173238105}, {\"row\": \"WorkAtHome\", \"col\": \"Unemployment\", \"Correlation\": -0.3208240497183788}, {\"row\": \"MeanCommute\", \"col\": \"Unemployment\", \"Correlation\": 0.28862782596310355}, {\"row\": \"Employed\", \"col\": \"Unemployment\", \"Correlation\": -0.6979849022175607}, {\"row\": \"PrivateWork\", \"col\": \"Unemployment\", \"Correlation\": -0.10760459330940174}, {\"row\": \"SelfEmployed\", \"col\": \"Unemployment\", \"Correlation\": -0.2996067239607485}, {\"row\": \"FamilyWork\", \"col\": \"Unemployment\", \"Correlation\": -0.12687763754575968}, {\"row\": \"Unemployment\", \"col\": \"Unemployment\", \"Correlation\": 1.0}, {\"row\": \"Minority\", \"col\": \"Unemployment\", \"Correlation\": 0.5485291965646796}, {\"row\": \"Women\", \"col\": \"Minority\", \"Correlation\": 0.03527940899593486}, {\"row\": \"White\", \"col\": \"Minority\", \"Correlation\": -0.9972201045094966}, {\"row\": \"Citizen\", \"col\": \"Minority\", \"Correlation\": -0.44174119620392405}, {\"row\": \"IncomePerCap\", \"col\": \"Minority\", \"Correlation\": -0.36179822123322014}, {\"row\": \"Poverty\", \"col\": \"Minority\", \"Correlation\": 0.6231625196890354}, {\"row\": \"ChildPoverty\", \"col\": \"Minority\", \"Correlation\": 0.5745803846048789}, {\"row\": \"Professional\", \"col\": \"Minority\", \"Correlation\": -0.1173750916309145}, {\"row\": \"Service\", \"col\": \"Minority\", \"Correlation\": 0.33032737501890025}, {\"row\": \"Office\", \"col\": \"Minority\", \"Correlation\": 0.11501201525061337}, {\"row\": \"Production\", \"col\": \"Minority\", \"Correlation\": -0.14430088968762447}, {\"row\": \"Drive\", \"col\": \"Minority\", \"Correlation\": -0.06917419400420849}, {\"row\": \"Carpool\", \"col\": \"Minority\", \"Correlation\": 0.09785420065564963}, {\"row\": \"Transit\", \"col\": \"Minority\", \"Correlation\": 0.17643199248469096}, {\"row\": \"OtherTransp\", \"col\": \"Minority\", \"Correlation\": 0.1672441878606198}, {\"row\": \"WorkAtHome\", \"col\": \"Minority\", \"Correlation\": -0.23140839855476664}, {\"row\": \"MeanCommute\", \"col\": \"Minority\", \"Correlation\": 0.08206807956847209}, {\"row\": \"Employed\", \"col\": \"Minority\", \"Correlation\": -0.43905286840850277}, {\"row\": \"PrivateWork\", \"col\": \"Minority\", \"Correlation\": -0.22415376803847195}, {\"row\": \"SelfEmployed\", \"col\": \"Minority\", \"Correlation\": -0.20018522955248247}, {\"row\": \"FamilyWork\", \"col\": \"Minority\", \"Correlation\": -0.11320893999201097}, {\"row\": \"Unemployment\", \"col\": \"Minority\", \"Correlation\": 0.5485291965646796}, {\"row\": \"Minority\", \"col\": \"Minority\", \"Correlation\": 1.0}]}}, {\"mode\": \"vega-lite\"});\n",
       "</script>"
      ],
      "text/plain": [
       "alt.Chart(...)"
      ]
     },
     "execution_count": 10,
     "metadata": {},
     "output_type": "execute_result"
    }
   ],
   "source": [
    "# melt corr_mx\n",
    "corr_mx_long = corr_mx.reset_index().rename(\n",
    "    columns = {'index': 'row'}\n",
    ").melt(\n",
    "    id_vars = 'row',\n",
    "    var_name = 'col',\n",
    "    value_name = 'Correlation'\n",
    ")\n",
    "\n",
    "# construct plot\n",
    "alt.Chart(corr_mx_long).mark_rect().encode(\n",
    "    x = alt.X('col', title = '', sort = {'field': 'Correlation', 'order': 'ascending'}), \n",
    "    y = alt.Y('row', title = '', sort = {'field': 'Correlation', 'order': 'ascending'}),\n",
    "    color = alt.Color('Correlation', \n",
    "                      scale = alt.Scale(scheme = 'blueorange', # diverging gradient\n",
    "                                        domain = (-1, 1), # ensure white = 0\n",
    "                                        type = 'sqrt'), # adjust gradient scale\n",
    "                     legend = alt.Legend(tickCount = 5)) # add ticks to colorbar at 0.5 for reference\n",
    ").properties(width = 300, height = 300)"
   ]
  },
  {
   "cell_type": "markdown",
   "metadata": {
    "deletable": false,
    "editable": false
   },
   "source": [
    "<!-- BEGIN QUESTION -->\n",
    "\n",
    "### Question 0 (b)\n",
    "\n",
    "Which variable is self employment rate most *positively* correlated with? Refer to the heatmap.\n",
    "\n",
    "<!--\n",
    "BEGIN QUESTION\n",
    "name: q0_b\n",
    "points: 1\n",
    "manual: true\n",
    "-->"
   ]
  },
  {
   "cell_type": "markdown",
   "metadata": {},
   "source": [
    "#### Answer\n",
    "\n",
    "Based off the heatmap, self employment rate is most positively correlated with work at home rate."
   ]
  },
  {
   "cell_type": "markdown",
   "metadata": {},
   "source": [
    "<!-- END QUESTION -->\n",
    "\n",
    "\n",
    "\n",
    "---\n",
    "## 1. Principal components analysis\n",
    "\n",
    "Principal components analysis (PCA) consists in finding variable combinations that capture large portions of the variation and covariation in one's dataset. \n",
    "\n",
    "'Variable combinations' here means *linear* combinations. That is, if again $x_{ij}$ denotes the data value for the $i$th observation and the $j$th variable, the value of a principal component is of the form:\n",
    "\n",
    "$$\\text{PC}_{i} = \\sum_j w_j x_{ij} \\quad(\\text{value of PC for observation } i)$$\n",
    "\n",
    "The weights $w_j$ for each variable are called the *loadings*. The loadings tell which variables are most influential (heavily weighted) in each component, and thus offer an indirect picture of which variables are driving variation and covariation in the original data.\n",
    "\n",
    "Here we'll look at how to:\n",
    "* compute the full set of principal components;\n",
    "* determine the variation they capture;\n",
    "* select a subset of principal components for analysis;\n",
    "* and examine the loadings.\n",
    "\n",
    "The data should be normalized before carrying out PCA. (You'll see why a little later.)"
   ]
  },
  {
   "cell_type": "code",
   "execution_count": 11,
   "metadata": {},
   "outputs": [],
   "source": [
    "# center and scale ('normalize')\n",
    "x_ctr = (x_mx - x_mx.mean())/x_mx.std()"
   ]
  },
  {
   "cell_type": "markdown",
   "metadata": {},
   "source": [
    "### Computing PC loadings\n",
    "\n",
    "In `sklearn`, the module `PCA(...)` computes principal components, the proportion of variance captured by each one, and the loadings of each one. The syntax may be a bit different than what you're used to. First we'll configure the module with a fixed number of components to match the number of variables in the dataset and store the result under a separate name."
   ]
  },
  {
   "cell_type": "code",
   "execution_count": 12,
   "metadata": {},
   "outputs": [
    {
     "data": {
      "text/plain": [
       "PCA(n_components=22)"
      ]
     },
     "execution_count": 12,
     "metadata": {},
     "output_type": "execute_result"
    }
   ],
   "source": [
    "# compute principal components\n",
    "pca = PCA(n_components = x_ctr.shape[1]) \n",
    "pca.fit(x_ctr)"
   ]
  },
  {
   "cell_type": "markdown",
   "metadata": {},
   "source": [
    "Most quantities you might want to use in PCA can be retrieved as attributes of `pca` after `pca.fit(...)` has been run. In particular:\n",
    "* `.components_` contains the loadings of the principal components;\n",
    "* `.explained_variance_ratio_` contains the proportion of variation and covariation captured by each principal component.\n",
    "\n",
    "You might find it worthwhile to open up the [PCA documentation](https://scikit-learn.org/stable/modules/generated/sklearn.decomposition.PCA.html) and keep the 'Attributes' section visible as you're working through the remainder of this part."
   ]
  },
  {
   "cell_type": "markdown",
   "metadata": {},
   "source": [
    "### Selecting the number of PCs\n",
    "The basic strategy for selecting a number of principal components to work with is to determine how many are needed to capture a large portion of variation and covariation in the original data. This can be done graphically by plotting the variance ratios.\n",
    "\n",
    "Let's start by retrieving the variance ratios for each component. These are stored as the `.explained_variance_ratio_` attribute of `pca`:"
   ]
  },
  {
   "cell_type": "code",
   "execution_count": 13,
   "metadata": {},
   "outputs": [
    {
     "data": {
      "text/plain": [
       "array([2.62856309e-01, 1.51574359e-01, 1.14128491e-01, 7.66651854e-02,\n",
       "       5.43445926e-02, 5.15406137e-02, 4.73175702e-02, 4.02078608e-02,\n",
       "       3.66870768e-02, 3.36410429e-02, 2.63259728e-02, 2.20184669e-02,\n",
       "       1.75961200e-02, 1.68408338e-02, 1.42824011e-02, 1.02390948e-02,\n",
       "       7.83380242e-03, 6.30665716e-03, 4.71870613e-03, 2.66195282e-03,\n",
       "       2.10073405e-03, 1.12156844e-04])"
      ]
     },
     "execution_count": 13,
     "metadata": {},
     "output_type": "execute_result"
    }
   ],
   "source": [
    "# variance ratios\n",
    "pca.explained_variance_ratio_"
   ]
  },
  {
   "cell_type": "markdown",
   "metadata": {},
   "source": [
    "Notice that the components are sorted in descending order of variance ratio -- that means that the first component always captures the most variation and covariation, the second component always captures the secondmost, and so on. For plotting purposes, it will be helpful to store these in a dataframe:"
   ]
  },
  {
   "cell_type": "code",
   "execution_count": 14,
   "metadata": {},
   "outputs": [
    {
     "data": {
      "text/html": [
       "<div>\n",
       "<style scoped>\n",
       "    .dataframe tbody tr th:only-of-type {\n",
       "        vertical-align: middle;\n",
       "    }\n",
       "\n",
       "    .dataframe tbody tr th {\n",
       "        vertical-align: top;\n",
       "    }\n",
       "\n",
       "    .dataframe thead th {\n",
       "        text-align: right;\n",
       "    }\n",
       "</style>\n",
       "<table border=\"1\" class=\"dataframe\">\n",
       "  <thead>\n",
       "    <tr style=\"text-align: right;\">\n",
       "      <th></th>\n",
       "      <th>Proportion of variance explained</th>\n",
       "      <th>Component</th>\n",
       "    </tr>\n",
       "  </thead>\n",
       "  <tbody>\n",
       "    <tr>\n",
       "      <th>0</th>\n",
       "      <td>0.262856</td>\n",
       "      <td>1</td>\n",
       "    </tr>\n",
       "    <tr>\n",
       "      <th>1</th>\n",
       "      <td>0.151574</td>\n",
       "      <td>2</td>\n",
       "    </tr>\n",
       "    <tr>\n",
       "      <th>2</th>\n",
       "      <td>0.114128</td>\n",
       "      <td>3</td>\n",
       "    </tr>\n",
       "    <tr>\n",
       "      <th>3</th>\n",
       "      <td>0.076665</td>\n",
       "      <td>4</td>\n",
       "    </tr>\n",
       "    <tr>\n",
       "      <th>4</th>\n",
       "      <td>0.054345</td>\n",
       "      <td>5</td>\n",
       "    </tr>\n",
       "  </tbody>\n",
       "</table>\n",
       "</div>"
      ],
      "text/plain": [
       "   Proportion of variance explained  Component\n",
       "0                          0.262856          1\n",
       "1                          0.151574          2\n",
       "2                          0.114128          3\n",
       "3                          0.076665          4\n",
       "4                          0.054345          5"
      ]
     },
     "execution_count": 14,
     "metadata": {},
     "output_type": "execute_result"
    }
   ],
   "source": [
    "# store proportion of variance explained as a dataframe\n",
    "pca_var_explained = pd.DataFrame({'Proportion of variance explained': pca.explained_variance_ratio_})\n",
    "\n",
    "# add component number as a new column\n",
    "pca_var_explained['Component'] = np.arange(1, 23)\n",
    "\n",
    "# print\n",
    "pca_var_explained.head()"
   ]
  },
  {
   "cell_type": "markdown",
   "metadata": {},
   "source": [
    "These values report the proportion of variance explained *individually* by each component; it is also useful to show the proportion of variance explained *collectively* by a set of components."
   ]
  },
  {
   "cell_type": "markdown",
   "metadata": {
    "deletable": false,
    "editable": false
   },
   "source": [
    "### Question 1 (a)\n",
    "\n",
    "Add a column to `pca_var_explained` called `Cumulative variance explained` that contains the cumulative sum of the proportion of variance explained. For the first component, this new variable should be equal to the value of `Proportion of variance explained`; for the second component, it should be equal to the sum of the values of `Proportion of variance explained` for components 1 and 2; for the third, to the sum of values for components 1, 2, and 3; and so on.\n",
    "\n",
    "Print the first few rows.\n",
    "\n",
    "(*Hint*: use `cumsum(...)` with an appropriate axis specification.)\n",
    "\n",
    "<!--\n",
    "BEGIN QUESTION\n",
    "name: q1_a\n",
    "points: 1\n",
    "manual: false\n",
    "-->"
   ]
  },
  {
   "cell_type": "code",
   "execution_count": 15,
   "metadata": {
    "scrolled": true
   },
   "outputs": [
    {
     "data": {
      "text/html": [
       "<div>\n",
       "<style scoped>\n",
       "    .dataframe tbody tr th:only-of-type {\n",
       "        vertical-align: middle;\n",
       "    }\n",
       "\n",
       "    .dataframe tbody tr th {\n",
       "        vertical-align: top;\n",
       "    }\n",
       "\n",
       "    .dataframe thead th {\n",
       "        text-align: right;\n",
       "    }\n",
       "</style>\n",
       "<table border=\"1\" class=\"dataframe\">\n",
       "  <thead>\n",
       "    <tr style=\"text-align: right;\">\n",
       "      <th></th>\n",
       "      <th>Proportion of variance explained</th>\n",
       "      <th>Component</th>\n",
       "      <th>Cumulative variance explained</th>\n",
       "    </tr>\n",
       "  </thead>\n",
       "  <tbody>\n",
       "    <tr>\n",
       "      <th>0</th>\n",
       "      <td>0.262856</td>\n",
       "      <td>1</td>\n",
       "      <td>0.262856</td>\n",
       "    </tr>\n",
       "    <tr>\n",
       "      <th>1</th>\n",
       "      <td>0.151574</td>\n",
       "      <td>2</td>\n",
       "      <td>0.414431</td>\n",
       "    </tr>\n",
       "    <tr>\n",
       "      <th>2</th>\n",
       "      <td>0.114128</td>\n",
       "      <td>3</td>\n",
       "      <td>0.528559</td>\n",
       "    </tr>\n",
       "    <tr>\n",
       "      <th>3</th>\n",
       "      <td>0.076665</td>\n",
       "      <td>4</td>\n",
       "      <td>0.605224</td>\n",
       "    </tr>\n",
       "    <tr>\n",
       "      <th>4</th>\n",
       "      <td>0.054345</td>\n",
       "      <td>5</td>\n",
       "      <td>0.659569</td>\n",
       "    </tr>\n",
       "  </tbody>\n",
       "</table>\n",
       "</div>"
      ],
      "text/plain": [
       "   Proportion of variance explained  Component  Cumulative variance explained\n",
       "0                          0.262856          1                       0.262856\n",
       "1                          0.151574          2                       0.414431\n",
       "2                          0.114128          3                       0.528559\n",
       "3                          0.076665          4                       0.605224\n",
       "4                          0.054345          5                       0.659569"
      ]
     },
     "execution_count": 15,
     "metadata": {},
     "output_type": "execute_result"
    }
   ],
   "source": [
    "# add cumulative variance explained as a new column\n",
    "pca_var_explained['Cumulative variance explained'] = pca_var_explained.iloc[:, 0].cumsum(axis = 0)\n",
    "\n",
    "# print\n",
    "pca_var_explained.head()"
   ]
  },
  {
   "cell_type": "code",
   "execution_count": 16,
   "metadata": {
    "deletable": false,
    "editable": false
   },
   "outputs": [
    {
     "data": {
      "text/html": [
       "<p><strong><pre style='display: inline;'>q1_a</pre></strong> passed!</p>"
      ],
      "text/plain": [
       "q1_a results: All test cases passed!"
      ]
     },
     "execution_count": 16,
     "metadata": {},
     "output_type": "execute_result"
    }
   ],
   "source": [
    "grader.check(\"q1_a\")"
   ]
  },
  {
   "cell_type": "markdown",
   "metadata": {},
   "source": [
    "Now we'll make a dual-axis plot showing, on one side, the proportion of variance explained (y) as a function of component (x), and on the other side, the cumulative variance explained (y) also as a function of component (x). Make sure that you've completed Q1(a) before running the next cell."
   ]
  },
  {
   "cell_type": "code",
   "execution_count": 17,
   "metadata": {},
   "outputs": [
    {
     "data": {
      "text/html": [
       "\n",
       "<div id=\"altair-viz-a1b3364859764b2a98f62e51daeff877\"></div>\n",
       "<script type=\"text/javascript\">\n",
       "  var VEGA_DEBUG = (typeof VEGA_DEBUG == \"undefined\") ? {} : VEGA_DEBUG;\n",
       "  (function(spec, embedOpt){\n",
       "    let outputDiv = document.currentScript.previousElementSibling;\n",
       "    if (outputDiv.id !== \"altair-viz-a1b3364859764b2a98f62e51daeff877\") {\n",
       "      outputDiv = document.getElementById(\"altair-viz-a1b3364859764b2a98f62e51daeff877\");\n",
       "    }\n",
       "    const paths = {\n",
       "      \"vega\": \"https://cdn.jsdelivr.net/npm//vega@5?noext\",\n",
       "      \"vega-lib\": \"https://cdn.jsdelivr.net/npm//vega-lib?noext\",\n",
       "      \"vega-lite\": \"https://cdn.jsdelivr.net/npm//vega-lite@4.17.0?noext\",\n",
       "      \"vega-embed\": \"https://cdn.jsdelivr.net/npm//vega-embed@6?noext\",\n",
       "    };\n",
       "\n",
       "    function maybeLoadScript(lib, version) {\n",
       "      var key = `${lib.replace(\"-\", \"\")}_version`;\n",
       "      return (VEGA_DEBUG[key] == version) ?\n",
       "        Promise.resolve(paths[lib]) :\n",
       "        new Promise(function(resolve, reject) {\n",
       "          var s = document.createElement('script');\n",
       "          document.getElementsByTagName(\"head\")[0].appendChild(s);\n",
       "          s.async = true;\n",
       "          s.onload = () => {\n",
       "            VEGA_DEBUG[key] = version;\n",
       "            return resolve(paths[lib]);\n",
       "          };\n",
       "          s.onerror = () => reject(`Error loading script: ${paths[lib]}`);\n",
       "          s.src = paths[lib];\n",
       "        });\n",
       "    }\n",
       "\n",
       "    function showError(err) {\n",
       "      outputDiv.innerHTML = `<div class=\"error\" style=\"color:red;\">${err}</div>`;\n",
       "      throw err;\n",
       "    }\n",
       "\n",
       "    function displayChart(vegaEmbed) {\n",
       "      vegaEmbed(outputDiv, spec, embedOpt)\n",
       "        .catch(err => showError(`Javascript Error: ${err.message}<br>This usually means there's a typo in your chart specification. See the javascript console for the full traceback.`));\n",
       "    }\n",
       "\n",
       "    if(typeof define === \"function\" && define.amd) {\n",
       "      requirejs.config({paths});\n",
       "      require([\"vega-embed\"], displayChart, err => showError(`Error loading script: ${err.message}`));\n",
       "    } else {\n",
       "      maybeLoadScript(\"vega\", \"5\")\n",
       "        .then(() => maybeLoadScript(\"vega-lite\", \"4.17.0\"))\n",
       "        .then(() => maybeLoadScript(\"vega-embed\", \"6\"))\n",
       "        .catch(showError)\n",
       "        .then(() => displayChart(vegaEmbed));\n",
       "    }\n",
       "  })({\"config\": {\"view\": {\"continuousWidth\": 400, \"continuousHeight\": 300}}, \"layer\": [{\"layer\": [{\"mark\": {\"type\": \"line\", \"stroke\": \"#A0DAA9\"}, \"encoding\": {\"x\": {\"field\": \"Component\", \"type\": \"quantitative\"}, \"y\": {\"axis\": {\"titleColor\": \"#A0DAA9\"}, \"field\": \"Proportion of variance explained\", \"type\": \"quantitative\"}}}, {\"mark\": {\"type\": \"point\", \"color\": \"#A0DAA9\"}, \"encoding\": {\"x\": {\"field\": \"Component\", \"type\": \"quantitative\"}, \"y\": {\"axis\": {\"titleColor\": \"#A0DAA9\"}, \"field\": \"Proportion of variance explained\", \"type\": \"quantitative\"}}}]}, {\"layer\": [{\"mark\": {\"type\": \"line\", \"stroke\": \"#926AA6\"}, \"encoding\": {\"x\": {\"field\": \"Component\", \"type\": \"quantitative\"}, \"y\": {\"axis\": {\"titleColor\": \"#926AA6\"}, \"field\": \"Cumulative variance explained\", \"type\": \"quantitative\"}}}, {\"mark\": {\"type\": \"point\", \"stroke\": \"#926AA6\"}, \"encoding\": {\"x\": {\"field\": \"Component\", \"type\": \"quantitative\"}, \"y\": {\"axis\": {\"titleColor\": \"#926AA6\"}, \"field\": \"Cumulative variance explained\", \"type\": \"quantitative\"}}}]}], \"data\": {\"name\": \"data-9a8fc2f0ef32f553f62bdf07a645644d\"}, \"resolve\": {\"scale\": {\"y\": \"independent\"}}, \"$schema\": \"https://vega.github.io/schema/vega-lite/v4.17.0.json\", \"datasets\": {\"data-9a8fc2f0ef32f553f62bdf07a645644d\": [{\"Proportion of variance explained\": 0.2628563092464779, \"Component\": 1, \"Cumulative variance explained\": 0.2628563092464779}, {\"Proportion of variance explained\": 0.15157435854644147, \"Component\": 2, \"Cumulative variance explained\": 0.41443066779291937}, {\"Proportion of variance explained\": 0.11412849106965818, \"Component\": 3, \"Cumulative variance explained\": 0.5285591588625775}, {\"Proportion of variance explained\": 0.0766651854149681, \"Component\": 4, \"Cumulative variance explained\": 0.6052243442775457}, {\"Proportion of variance explained\": 0.05434459255187639, \"Component\": 5, \"Cumulative variance explained\": 0.6595689368294221}, {\"Proportion of variance explained\": 0.05154061366977899, \"Component\": 6, \"Cumulative variance explained\": 0.7111095504992011}, {\"Proportion of variance explained\": 0.04731757023720516, \"Component\": 7, \"Cumulative variance explained\": 0.7584271207364063}, {\"Proportion of variance explained\": 0.040207860836874935, \"Component\": 8, \"Cumulative variance explained\": 0.7986349815732812}, {\"Proportion of variance explained\": 0.03668707683766926, \"Component\": 9, \"Cumulative variance explained\": 0.8353220584109504}, {\"Proportion of variance explained\": 0.03364104285053447, \"Component\": 10, \"Cumulative variance explained\": 0.8689631012614849}, {\"Proportion of variance explained\": 0.026325972806127848, \"Component\": 11, \"Cumulative variance explained\": 0.8952890740676127}, {\"Proportion of variance explained\": 0.02201846686220342, \"Component\": 12, \"Cumulative variance explained\": 0.9173075409298161}, {\"Proportion of variance explained\": 0.017596119954008227, \"Component\": 13, \"Cumulative variance explained\": 0.9349036608838244}, {\"Proportion of variance explained\": 0.016840833771347347, \"Component\": 14, \"Cumulative variance explained\": 0.9517444946551717}, {\"Proportion of variance explained\": 0.014282401125384536, \"Component\": 15, \"Cumulative variance explained\": 0.9660268957805562}, {\"Proportion of variance explained\": 0.010239094808255352, \"Component\": 16, \"Cumulative variance explained\": 0.9762659905888116}, {\"Proportion of variance explained\": 0.007833802415224555, \"Component\": 17, \"Cumulative variance explained\": 0.9840997930040362}, {\"Proportion of variance explained\": 0.0063066571645285455, \"Component\": 18, \"Cumulative variance explained\": 0.9904064501685647}, {\"Proportion of variance explained\": 0.004718706125896681, \"Component\": 19, \"Cumulative variance explained\": 0.9951251562944613}, {\"Proportion of variance explained\": 0.0026619528151467027, \"Component\": 20, \"Cumulative variance explained\": 0.997787109109608}, {\"Proportion of variance explained\": 0.0021007340466207896, \"Component\": 21, \"Cumulative variance explained\": 0.9998878431562288}, {\"Proportion of variance explained\": 0.0001121568437710562, \"Component\": 22, \"Cumulative variance explained\": 0.9999999999999999}]}}, {\"mode\": \"vega-lite\"});\n",
       "</script>"
      ],
      "text/plain": [
       "alt.LayerChart(...)"
      ]
     },
     "execution_count": 17,
     "metadata": {},
     "output_type": "execute_result"
    }
   ],
   "source": [
    "# encode component axis only as base layer\n",
    "base = alt.Chart(pca_var_explained).encode(\n",
    "    x = 'Component')\n",
    "\n",
    "# make a base layer for the proportion of variance explained\n",
    "prop_var_base = base.encode(\n",
    "    y = alt.Y('Proportion of variance explained',\n",
    "              axis = alt.Axis(titleColor = '#A0DAA9'))\n",
    ")\n",
    "\n",
    "# make a base layer for the cumulative variance explained\n",
    "cum_var_base = base.encode(\n",
    "    y = alt.Y('Cumulative variance explained', axis = alt.Axis(titleColor = '#926AA6'))\n",
    ")\n",
    "\n",
    "# add points and lines to each base layer\n",
    "prop_var = prop_var_base.mark_line(stroke = '#A0DAA9') + prop_var_base.mark_point(color = '#A0DAA9')\n",
    "cum_var = cum_var_base.mark_line(stroke = '#926AA6') + cum_var_base.mark_point(stroke = '#926AA6')\n",
    "\n",
    "# layer the layers\n",
    "var_explained_plot = alt.layer(prop_var, cum_var).resolve_scale(y = 'independent')\n",
    "\n",
    "# display\n",
    "var_explained_plot"
   ]
  },
  {
   "cell_type": "markdown",
   "metadata": {},
   "source": [
    "The purpose of making this plot is to quickly determine the fewest number of principal components that capture a considerable portion of variation and covariation. 'Considerable' here is a bit subjective. \n",
    "\n",
    "In this case, we'll base that decision on the proportion of variance explained (left axis) rather than the cumulative variance explained. Notice that there are diminishing gains after a certain number of components, in the sense that adjacent components explain similar proportions of variation. Sometimes it's said that there's an 'elbow' in the plot to describe this phenomenon."
   ]
  },
  {
   "cell_type": "markdown",
   "metadata": {
    "deletable": false,
    "editable": false
   },
   "source": [
    "### Question 1 (b)\n",
    "\n",
    "Using the graph and table above, how many principal components explain more than 6% of total variation (variation and covariation) individually? Store this in `main_pca`.\n",
    "\n",
    "<!--\n",
    "BEGIN QUESTION\n",
    "name: q1_b\n",
    "points: 1\n",
    "manual: false\n",
    "-->"
   ]
  },
  {
   "cell_type": "code",
   "execution_count": 18,
   "metadata": {},
   "outputs": [
    {
     "data": {
      "text/plain": [
       "4"
      ]
     },
     "execution_count": 18,
     "metadata": {},
     "output_type": "execute_result"
    }
   ],
   "source": [
    "main_pca = pca_var_explained[pca_var_explained['Proportion of variance explained'] > 0.06].shape[0]\n",
    "#print\n",
    "main_pca"
   ]
  },
  {
   "cell_type": "code",
   "execution_count": 19,
   "metadata": {
    "deletable": false,
    "editable": false
   },
   "outputs": [
    {
     "data": {
      "text/html": [
       "<p><strong><pre style='display: inline;'>q1_b</pre></strong> passed!</p>"
      ],
      "text/plain": [
       "q1_b results: All test cases passed!"
      ]
     },
     "execution_count": 19,
     "metadata": {},
     "output_type": "execute_result"
    }
   ],
   "source": [
    "grader.check(\"q1_b\")"
   ]
  },
  {
   "cell_type": "markdown",
   "metadata": {
    "deletable": false,
    "editable": false
   },
   "source": [
    "### Question 1 (c)\n",
    "\n",
    "How much total variation is captured collectively by the number of components you stated above? Store this exact proportion in `main_variation`.\n",
    "<!--\n",
    "BEGIN QUESTION\n",
    "name: q1_c\n",
    "points: 1\n",
    "manual: false\n",
    "-->"
   ]
  },
  {
   "cell_type": "code",
   "execution_count": 20,
   "metadata": {},
   "outputs": [
    {
     "data": {
      "text/plain": [
       "0.6595689368294221"
      ]
     },
     "execution_count": 20,
     "metadata": {},
     "output_type": "execute_result"
    }
   ],
   "source": [
    "main_variation = pca_var_explained.iloc[main_pca, 2]\n",
    "\n",
    "#print\n",
    "main_variation"
   ]
  },
  {
   "cell_type": "code",
   "execution_count": 21,
   "metadata": {
    "deletable": false,
    "editable": false
   },
   "outputs": [
    {
     "data": {
      "text/html": [
       "<p><strong><pre style='display: inline;'>q1_c</pre></strong> passed!</p>"
      ],
      "text/plain": [
       "q1_c results: All test cases passed!"
      ]
     },
     "execution_count": 21,
     "metadata": {},
     "output_type": "execute_result"
    }
   ],
   "source": [
    "grader.check(\"q1_c\")"
   ]
  },
  {
   "cell_type": "markdown",
   "metadata": {
    "deletable": false,
    "editable": false
   },
   "source": [
    "<!-- BEGIN QUESTION -->\n",
    "\n",
    "### Question 1 (d)\n",
    "\n",
    "Indicate your selected number of components (answer in Q1(b)) by adding a vertical line to the plot above. Instead of placing the line directly on your selected number of components, put it at the midpoint between your selected number and the next-largest number. Choose a [color of your liking](https://www.w3schools.com/colors/colors_2021.asp) for the line. If you're not sure where to start, have a look at the week 5 lecture codes.\n",
    "\n",
    "(*Hint*: in order to make this work in Altair, you'll need to layer the line on to either `prop_var` or `cum_var` *before* calling `alt.layer(...)`; if you try to add the line as a layer to `var_explained_plot`, Altair will throw an error.)\n",
    "\n",
    "<!--\n",
    "BEGIN QUESTION\n",
    "name: q1_d\n",
    "points: 1\n",
    "manual: true\n",
    "-->"
   ]
  },
  {
   "cell_type": "code",
   "execution_count": 22,
   "metadata": {},
   "outputs": [
    {
     "data": {
      "text/html": [
       "\n",
       "<div id=\"altair-viz-2e72aeee08384387b50c9f38a143383d\"></div>\n",
       "<script type=\"text/javascript\">\n",
       "  var VEGA_DEBUG = (typeof VEGA_DEBUG == \"undefined\") ? {} : VEGA_DEBUG;\n",
       "  (function(spec, embedOpt){\n",
       "    let outputDiv = document.currentScript.previousElementSibling;\n",
       "    if (outputDiv.id !== \"altair-viz-2e72aeee08384387b50c9f38a143383d\") {\n",
       "      outputDiv = document.getElementById(\"altair-viz-2e72aeee08384387b50c9f38a143383d\");\n",
       "    }\n",
       "    const paths = {\n",
       "      \"vega\": \"https://cdn.jsdelivr.net/npm//vega@5?noext\",\n",
       "      \"vega-lib\": \"https://cdn.jsdelivr.net/npm//vega-lib?noext\",\n",
       "      \"vega-lite\": \"https://cdn.jsdelivr.net/npm//vega-lite@4.17.0?noext\",\n",
       "      \"vega-embed\": \"https://cdn.jsdelivr.net/npm//vega-embed@6?noext\",\n",
       "    };\n",
       "\n",
       "    function maybeLoadScript(lib, version) {\n",
       "      var key = `${lib.replace(\"-\", \"\")}_version`;\n",
       "      return (VEGA_DEBUG[key] == version) ?\n",
       "        Promise.resolve(paths[lib]) :\n",
       "        new Promise(function(resolve, reject) {\n",
       "          var s = document.createElement('script');\n",
       "          document.getElementsByTagName(\"head\")[0].appendChild(s);\n",
       "          s.async = true;\n",
       "          s.onload = () => {\n",
       "            VEGA_DEBUG[key] = version;\n",
       "            return resolve(paths[lib]);\n",
       "          };\n",
       "          s.onerror = () => reject(`Error loading script: ${paths[lib]}`);\n",
       "          s.src = paths[lib];\n",
       "        });\n",
       "    }\n",
       "\n",
       "    function showError(err) {\n",
       "      outputDiv.innerHTML = `<div class=\"error\" style=\"color:red;\">${err}</div>`;\n",
       "      throw err;\n",
       "    }\n",
       "\n",
       "    function displayChart(vegaEmbed) {\n",
       "      vegaEmbed(outputDiv, spec, embedOpt)\n",
       "        .catch(err => showError(`Javascript Error: ${err.message}<br>This usually means there's a typo in your chart specification. See the javascript console for the full traceback.`));\n",
       "    }\n",
       "\n",
       "    if(typeof define === \"function\" && define.amd) {\n",
       "      requirejs.config({paths});\n",
       "      require([\"vega-embed\"], displayChart, err => showError(`Error loading script: ${err.message}`));\n",
       "    } else {\n",
       "      maybeLoadScript(\"vega\", \"5\")\n",
       "        .then(() => maybeLoadScript(\"vega-lite\", \"4.17.0\"))\n",
       "        .then(() => maybeLoadScript(\"vega-embed\", \"6\"))\n",
       "        .catch(showError)\n",
       "        .then(() => displayChart(vegaEmbed));\n",
       "    }\n",
       "  })({\"config\": {\"view\": {\"continuousWidth\": 400, \"continuousHeight\": 300}}, \"layer\": [{\"layer\": [{\"mark\": {\"type\": \"line\", \"stroke\": \"#A0DAA9\"}, \"encoding\": {\"x\": {\"field\": \"Component\", \"type\": \"quantitative\"}, \"y\": {\"axis\": {\"titleColor\": \"#A0DAA9\"}, \"field\": \"Proportion of variance explained\", \"type\": \"quantitative\"}}}, {\"mark\": {\"type\": \"point\", \"color\": \"#A0DAA9\"}, \"encoding\": {\"x\": {\"field\": \"Component\", \"type\": \"quantitative\"}, \"y\": {\"axis\": {\"titleColor\": \"#A0DAA9\"}, \"field\": \"Proportion of variance explained\", \"type\": \"quantitative\"}}}, {\"data\": {\"name\": \"data-9cfd5515333356e119911d633e4d5828\"}, \"mark\": {\"type\": \"rule\", \"color\": \"blue\", \"opacity\": 0.3}, \"encoding\": {\"x\": {\"field\": \"Component\", \"type\": \"quantitative\"}}}]}, {\"layer\": [{\"mark\": {\"type\": \"line\", \"stroke\": \"#926AA6\"}, \"encoding\": {\"x\": {\"field\": \"Component\", \"type\": \"quantitative\"}, \"y\": {\"axis\": {\"titleColor\": \"#926AA6\"}, \"field\": \"Cumulative variance explained\", \"type\": \"quantitative\"}}}, {\"mark\": {\"type\": \"point\", \"stroke\": \"#926AA6\"}, \"encoding\": {\"x\": {\"field\": \"Component\", \"type\": \"quantitative\"}, \"y\": {\"axis\": {\"titleColor\": \"#926AA6\"}, \"field\": \"Cumulative variance explained\", \"type\": \"quantitative\"}}}, {\"data\": {\"name\": \"data-9cfd5515333356e119911d633e4d5828\"}, \"mark\": {\"type\": \"rule\", \"color\": \"blue\", \"opacity\": 0.3}, \"encoding\": {\"x\": {\"field\": \"Component\", \"type\": \"quantitative\"}}}]}], \"data\": {\"name\": \"data-9a8fc2f0ef32f553f62bdf07a645644d\"}, \"height\": 200, \"resolve\": {\"scale\": {\"y\": \"independent\"}}, \"width\": 400, \"$schema\": \"https://vega.github.io/schema/vega-lite/v4.17.0.json\", \"datasets\": {\"data-9a8fc2f0ef32f553f62bdf07a645644d\": [{\"Proportion of variance explained\": 0.2628563092464779, \"Component\": 1, \"Cumulative variance explained\": 0.2628563092464779}, {\"Proportion of variance explained\": 0.15157435854644147, \"Component\": 2, \"Cumulative variance explained\": 0.41443066779291937}, {\"Proportion of variance explained\": 0.11412849106965818, \"Component\": 3, \"Cumulative variance explained\": 0.5285591588625775}, {\"Proportion of variance explained\": 0.0766651854149681, \"Component\": 4, \"Cumulative variance explained\": 0.6052243442775457}, {\"Proportion of variance explained\": 0.05434459255187639, \"Component\": 5, \"Cumulative variance explained\": 0.6595689368294221}, {\"Proportion of variance explained\": 0.05154061366977899, \"Component\": 6, \"Cumulative variance explained\": 0.7111095504992011}, {\"Proportion of variance explained\": 0.04731757023720516, \"Component\": 7, \"Cumulative variance explained\": 0.7584271207364063}, {\"Proportion of variance explained\": 0.040207860836874935, \"Component\": 8, \"Cumulative variance explained\": 0.7986349815732812}, {\"Proportion of variance explained\": 0.03668707683766926, \"Component\": 9, \"Cumulative variance explained\": 0.8353220584109504}, {\"Proportion of variance explained\": 0.03364104285053447, \"Component\": 10, \"Cumulative variance explained\": 0.8689631012614849}, {\"Proportion of variance explained\": 0.026325972806127848, \"Component\": 11, \"Cumulative variance explained\": 0.8952890740676127}, {\"Proportion of variance explained\": 0.02201846686220342, \"Component\": 12, \"Cumulative variance explained\": 0.9173075409298161}, {\"Proportion of variance explained\": 0.017596119954008227, \"Component\": 13, \"Cumulative variance explained\": 0.9349036608838244}, {\"Proportion of variance explained\": 0.016840833771347347, \"Component\": 14, \"Cumulative variance explained\": 0.9517444946551717}, {\"Proportion of variance explained\": 0.014282401125384536, \"Component\": 15, \"Cumulative variance explained\": 0.9660268957805562}, {\"Proportion of variance explained\": 0.010239094808255352, \"Component\": 16, \"Cumulative variance explained\": 0.9762659905888116}, {\"Proportion of variance explained\": 0.007833802415224555, \"Component\": 17, \"Cumulative variance explained\": 0.9840997930040362}, {\"Proportion of variance explained\": 0.0063066571645285455, \"Component\": 18, \"Cumulative variance explained\": 0.9904064501685647}, {\"Proportion of variance explained\": 0.004718706125896681, \"Component\": 19, \"Cumulative variance explained\": 0.9951251562944613}, {\"Proportion of variance explained\": 0.0026619528151467027, \"Component\": 20, \"Cumulative variance explained\": 0.997787109109608}, {\"Proportion of variance explained\": 0.0021007340466207896, \"Component\": 21, \"Cumulative variance explained\": 0.9998878431562288}, {\"Proportion of variance explained\": 0.0001121568437710562, \"Component\": 22, \"Cumulative variance explained\": 0.9999999999999999}], \"data-9cfd5515333356e119911d633e4d5828\": [{\"Component\": 5}]}}, {\"mode\": \"vega-lite\"});\n",
       "</script>"
      ],
      "text/plain": [
       "alt.LayerChart(...)"
      ]
     },
     "execution_count": 22,
     "metadata": {},
     "output_type": "execute_result"
    }
   ],
   "source": [
    "# add vertical line indicating number of selected pcs\n",
    "line = alt.Chart(pd.DataFrame({'Component': [main_pca+1]})).mark_rule(opacity = 0.3, color = 'blue').encode(x = 'Component')\n",
    "\n",
    "# add line to one layer\n",
    "prop_var1 = prop_var + line\n",
    "cum_var1 = cum_var + line\n",
    "\n",
    "# layer the layers\n",
    "variance_plot = alt.layer(prop_var1, cum_var1).resolve_scale(y = 'independent') \n",
    "\n",
    "# display\n",
    "variance_plot.properties(height = 200, width = 400)"
   ]
  },
  {
   "cell_type": "markdown",
   "metadata": {},
   "source": [
    "<!-- END QUESTION -->\n",
    "\n",
    "\n",
    "\n",
    "### Plotting and interpreting loadings\n",
    "\n",
    "Now that you've chosen the number of components to work with, the next step is to examine loadings to understand just *which* variables the components combine with significant weight.\n",
    "\n",
    "The loadings are stored as the `.components_` attribute of `pca` as an array of lists:"
   ]
  },
  {
   "cell_type": "code",
   "execution_count": 23,
   "metadata": {},
   "outputs": [
    {
     "data": {
      "text/plain": [
       "array([[ 0.0200547 , -0.28961352, -0.05069832, -0.33486321,  0.36521186,\n",
       "         0.36483606, -0.24013945,  0.2032542 ,  0.05216762,  0.09430653,\n",
       "         0.1021974 ,  0.0791294 , -0.03023258,  0.02187119, -0.21835338,\n",
       "         0.09700319, -0.3455879 , -0.03553872, -0.15530037, -0.08507737,\n",
       "         0.33342029,  0.29246071],\n",
       "       [-0.13995796, -0.19654947, -0.06499401, -0.02043167,  0.12017151,\n",
       "         0.0810864 ,  0.17561108,  0.13971356, -0.189803  , -0.2823294 ,\n",
       "        -0.40613046,  0.06374361,  0.10114242,  0.20940286,  0.33163575,\n",
       "        -0.17673925, -0.05465314, -0.44192238,  0.3161738 ,  0.22113731,\n",
       "         0.04304656,  0.19162849]])"
      ]
     },
     "execution_count": 23,
     "metadata": {},
     "output_type": "execute_result"
    }
   ],
   "source": [
    "# loadings for first two pcs\n",
    "pca.components_[0:2]"
   ]
  },
  {
   "cell_type": "markdown",
   "metadata": {},
   "source": [
    "As with the variance ratios, these will be more useful to us in a dataframe."
   ]
  },
  {
   "cell_type": "markdown",
   "metadata": {
    "deletable": false,
    "editable": false
   },
   "source": [
    "### Question 1 (e)\n",
    "\n",
    "Modify the code cell below to rename and select the loadings for the number of components you chose above.\n",
    "\n",
    "<!--\n",
    "BEGIN QUESTION\n",
    "name: q1_e\n",
    "points: 1\n",
    "manual: false\n",
    "-->"
   ]
  },
  {
   "cell_type": "code",
   "execution_count": 24,
   "metadata": {},
   "outputs": [
    {
     "data": {
      "text/html": [
       "<div>\n",
       "<style scoped>\n",
       "    .dataframe tbody tr th:only-of-type {\n",
       "        vertical-align: middle;\n",
       "    }\n",
       "\n",
       "    .dataframe tbody tr th {\n",
       "        vertical-align: top;\n",
       "    }\n",
       "\n",
       "    .dataframe thead th {\n",
       "        text-align: right;\n",
       "    }\n",
       "</style>\n",
       "<table border=\"1\" class=\"dataframe\">\n",
       "  <thead>\n",
       "    <tr style=\"text-align: right;\">\n",
       "      <th></th>\n",
       "      <th>PC1</th>\n",
       "      <th>PC2</th>\n",
       "      <th>PC3</th>\n",
       "      <th>PC4</th>\n",
       "      <th>Variable</th>\n",
       "    </tr>\n",
       "  </thead>\n",
       "  <tbody>\n",
       "    <tr>\n",
       "      <th>0</th>\n",
       "      <td>0.020055</td>\n",
       "      <td>-0.139958</td>\n",
       "      <td>0.187600</td>\n",
       "      <td>-0.176614</td>\n",
       "      <td>Women</td>\n",
       "    </tr>\n",
       "    <tr>\n",
       "      <th>1</th>\n",
       "      <td>-0.289614</td>\n",
       "      <td>-0.196549</td>\n",
       "      <td>-0.288902</td>\n",
       "      <td>-0.078059</td>\n",
       "      <td>White</td>\n",
       "    </tr>\n",
       "    <tr>\n",
       "      <th>2</th>\n",
       "      <td>-0.050698</td>\n",
       "      <td>-0.064994</td>\n",
       "      <td>-0.281904</td>\n",
       "      <td>-0.467986</td>\n",
       "      <td>Citizen</td>\n",
       "    </tr>\n",
       "    <tr>\n",
       "      <th>3</th>\n",
       "      <td>-0.334863</td>\n",
       "      <td>-0.020432</td>\n",
       "      <td>0.284074</td>\n",
       "      <td>-0.022197</td>\n",
       "      <td>IncomePerCap</td>\n",
       "    </tr>\n",
       "    <tr>\n",
       "      <th>4</th>\n",
       "      <td>0.365212</td>\n",
       "      <td>0.120172</td>\n",
       "      <td>-0.040170</td>\n",
       "      <td>-0.128231</td>\n",
       "      <td>Poverty</td>\n",
       "    </tr>\n",
       "  </tbody>\n",
       "</table>\n",
       "</div>"
      ],
      "text/plain": [
       "        PC1       PC2       PC3       PC4      Variable\n",
       "0  0.020055 -0.139958  0.187600 -0.176614         Women\n",
       "1 -0.289614 -0.196549 -0.288902 -0.078059         White\n",
       "2 -0.050698 -0.064994 -0.281904 -0.467986       Citizen\n",
       "3 -0.334863 -0.020432  0.284074 -0.022197  IncomePerCap\n",
       "4  0.365212  0.120172 -0.040170 -0.128231       Poverty"
      ]
     },
     "execution_count": 24,
     "metadata": {},
     "output_type": "execute_result"
    }
   ],
   "source": [
    "# store the loadings as a data frame with appropriate names\n",
    "loading_df = pd.DataFrame(pca.components_).transpose().rename(\n",
    "    columns = {0: 'PC1', 1: 'PC2', \n",
    "               2: 'PC3', 3: 'PC4',} # add entries for each selected component\n",
    ").loc[:, ['PC1', 'PC2', 'PC3', 'PC4']] # slice just components of interest\n",
    "\n",
    "# add a column with the variable names\n",
    "loading_df['Variable'] = x_ctr.columns.values\n",
    "\n",
    "# print\n",
    "loading_df.head()"
   ]
  },
  {
   "cell_type": "code",
   "execution_count": 25,
   "metadata": {
    "deletable": false,
    "editable": false
   },
   "outputs": [
    {
     "ename": "KeyError",
     "evalue": "'otter'",
     "output_type": "error",
     "traceback": [
      "\u001b[0;31m---------------------------------------------------------------------------\u001b[0m",
      "\u001b[0;31mKeyError\u001b[0m                                  Traceback (most recent call last)",
      "Input \u001b[0;32mIn [25]\u001b[0m, in \u001b[0;36m<cell line: 1>\u001b[0;34m()\u001b[0m\n\u001b[0;32m----> 1\u001b[0m \u001b[43mgrader\u001b[49m\u001b[38;5;241;43m.\u001b[39;49m\u001b[43mcheck\u001b[49m\u001b[43m(\u001b[49m\u001b[38;5;124;43m\"\u001b[39;49m\u001b[38;5;124;43mq1_e\u001b[39;49m\u001b[38;5;124;43m\"\u001b[39;49m\u001b[43m)\u001b[49m\n",
      "File \u001b[0;32m/opt/conda/lib/python3.9/site-packages/otter/check/utils.py:131\u001b[0m, in \u001b[0;36mlogs_event.<locals>.event_logger.<locals>.run_function\u001b[0;34m(self, *args, **kwargs)\u001b[0m\n\u001b[1;32m    129\u001b[0m \u001b[38;5;28;01mexcept\u001b[39;00m \u001b[38;5;167;01mException\u001b[39;00m \u001b[38;5;28;01mas\u001b[39;00m e:\n\u001b[1;32m    130\u001b[0m     \u001b[38;5;28mself\u001b[39m\u001b[38;5;241m.\u001b[39m_log_event(event_type, success\u001b[38;5;241m=\u001b[39m\u001b[38;5;28;01mFalse\u001b[39;00m, error\u001b[38;5;241m=\u001b[39me)\n\u001b[0;32m--> 131\u001b[0m     \u001b[38;5;28;01mraise\u001b[39;00m e\n\u001b[1;32m    132\u001b[0m \u001b[38;5;28;01melse\u001b[39;00m:\n\u001b[1;32m    133\u001b[0m     \u001b[38;5;28mself\u001b[39m\u001b[38;5;241m.\u001b[39m_log_event(event_type, results\u001b[38;5;241m=\u001b[39mresults, question\u001b[38;5;241m=\u001b[39mquestion, shelve_env\u001b[38;5;241m=\u001b[39mshelve_env)\n",
      "File \u001b[0;32m/opt/conda/lib/python3.9/site-packages/otter/check/utils.py:124\u001b[0m, in \u001b[0;36mlogs_event.<locals>.event_logger.<locals>.run_function\u001b[0;34m(self, *args, **kwargs)\u001b[0m\n\u001b[1;32m    122\u001b[0m \u001b[38;5;28;01mtry\u001b[39;00m:\n\u001b[1;32m    123\u001b[0m     \u001b[38;5;28;01mif\u001b[39;00m event_type \u001b[38;5;241m==\u001b[39m EventType\u001b[38;5;241m.\u001b[39mCHECK:\n\u001b[0;32m--> 124\u001b[0m         question, results, shelve_env \u001b[38;5;241m=\u001b[39m \u001b[43mf\u001b[49m\u001b[43m(\u001b[49m\u001b[38;5;28;43mself\u001b[39;49m\u001b[43m,\u001b[49m\u001b[43m \u001b[49m\u001b[38;5;241;43m*\u001b[39;49m\u001b[43margs\u001b[49m\u001b[43m,\u001b[49m\u001b[43m \u001b[49m\u001b[38;5;241;43m*\u001b[39;49m\u001b[38;5;241;43m*\u001b[39;49m\u001b[43mkwargs\u001b[49m\u001b[43m)\u001b[49m\n\u001b[1;32m    125\u001b[0m     \u001b[38;5;28;01melse\u001b[39;00m:\n\u001b[1;32m    126\u001b[0m         results \u001b[38;5;241m=\u001b[39m f(\u001b[38;5;28mself\u001b[39m, \u001b[38;5;241m*\u001b[39margs, \u001b[38;5;241m*\u001b[39m\u001b[38;5;241m*\u001b[39mkwargs)\n",
      "File \u001b[0;32m/opt/conda/lib/python3.9/site-packages/otter/check/notebook.py:179\u001b[0m, in \u001b[0;36mNotebook.check\u001b[0;34m(self, question, global_env)\u001b[0m\n\u001b[1;32m    176\u001b[0m     global_env \u001b[38;5;241m=\u001b[39m inspect\u001b[38;5;241m.\u001b[39mcurrentframe()\u001b[38;5;241m.\u001b[39mf_back\u001b[38;5;241m.\u001b[39mf_back\u001b[38;5;241m.\u001b[39mf_globals\n\u001b[1;32m    178\u001b[0m \u001b[38;5;66;03m# run the check\u001b[39;00m\n\u001b[0;32m--> 179\u001b[0m result \u001b[38;5;241m=\u001b[39m \u001b[43mcheck\u001b[49m\u001b[43m(\u001b[49m\u001b[43mtest_path\u001b[49m\u001b[43m,\u001b[49m\u001b[43m \u001b[49m\u001b[43mtest_name\u001b[49m\u001b[43m,\u001b[49m\u001b[43m \u001b[49m\u001b[43mglobal_env\u001b[49m\u001b[43m)\u001b[49m\n\u001b[1;32m    181\u001b[0m \u001b[38;5;28;01mreturn\u001b[39;00m question, result, global_env\n",
      "File \u001b[0;32m/opt/conda/lib/python3.9/site-packages/otter/execute/__init__.py:46\u001b[0m, in \u001b[0;36mcheck\u001b[0;34m(nb_or_test_path, test_name, global_env)\u001b[0m\n\u001b[1;32m     44\u001b[0m     test \u001b[38;5;241m=\u001b[39m OKTestFile\u001b[38;5;241m.\u001b[39mfrom_file(nb_or_test_path)\n\u001b[1;32m     45\u001b[0m \u001b[38;5;28;01melse\u001b[39;00m:\n\u001b[0;32m---> 46\u001b[0m     test \u001b[38;5;241m=\u001b[39m \u001b[43mNotebookMetadataOKTestFile\u001b[49m\u001b[38;5;241;43m.\u001b[39;49m\u001b[43mfrom_file\u001b[49m\u001b[43m(\u001b[49m\u001b[43mnb_or_test_path\u001b[49m\u001b[43m,\u001b[49m\u001b[43m \u001b[49m\u001b[43mtest_name\u001b[49m\u001b[43m)\u001b[49m\n\u001b[1;32m     48\u001b[0m \u001b[38;5;28;01mif\u001b[39;00m global_env \u001b[38;5;129;01mis\u001b[39;00m \u001b[38;5;28;01mNone\u001b[39;00m:\n\u001b[1;32m     49\u001b[0m     \u001b[38;5;66;03m# Get the global env of our callers - one level below us in the stack\u001b[39;00m\n\u001b[1;32m     50\u001b[0m     \u001b[38;5;66;03m# The grade method should only be called directly from user / notebook\u001b[39;00m\n\u001b[1;32m     51\u001b[0m     \u001b[38;5;66;03m# code. If some other method is calling it, it should also use the\u001b[39;00m\n\u001b[1;32m     52\u001b[0m     \u001b[38;5;66;03m# inspect trick to pass in its parents' global env.\u001b[39;00m\n\u001b[1;32m     53\u001b[0m     global_env \u001b[38;5;241m=\u001b[39m inspect\u001b[38;5;241m.\u001b[39mcurrentframe()\u001b[38;5;241m.\u001b[39mf_back\u001b[38;5;241m.\u001b[39mf_globals\n",
      "File \u001b[0;32m/opt/conda/lib/python3.9/site-packages/otter/test_files/metadata_test.py:76\u001b[0m, in \u001b[0;36mNotebookMetadataOKTestFile.from_file\u001b[0;34m(cls, path, test_name)\u001b[0m\n\u001b[1;32m     73\u001b[0m \u001b[38;5;28;01mwith\u001b[39;00m \u001b[38;5;28mopen\u001b[39m(path, encoding\u001b[38;5;241m=\u001b[39m\u001b[38;5;124m\"\u001b[39m\u001b[38;5;124mutf-8\u001b[39m\u001b[38;5;124m\"\u001b[39m) \u001b[38;5;28;01mas\u001b[39;00m f:\n\u001b[1;32m     74\u001b[0m     nb \u001b[38;5;241m=\u001b[39m json\u001b[38;5;241m.\u001b[39mload(f)\n\u001b[0;32m---> 76\u001b[0m test_spec \u001b[38;5;241m=\u001b[39m \u001b[43mnb\u001b[49m\u001b[43m[\u001b[49m\u001b[38;5;124;43m\"\u001b[39;49m\u001b[38;5;124;43mmetadata\u001b[39;49m\u001b[38;5;124;43m\"\u001b[39;49m\u001b[43m]\u001b[49m\u001b[43m[\u001b[49m\u001b[43mNOTEBOOK_METADATA_KEY\u001b[49m\u001b[43m]\u001b[49m[\u001b[38;5;124m\"\u001b[39m\u001b[38;5;124mtests\u001b[39m\u001b[38;5;124m\"\u001b[39m]\n\u001b[1;32m     77\u001b[0m \u001b[38;5;28;01mif\u001b[39;00m test_name \u001b[38;5;129;01mnot\u001b[39;00m \u001b[38;5;129;01min\u001b[39;00m test_spec:\n\u001b[1;32m     78\u001b[0m     \u001b[38;5;28;01mraise\u001b[39;00m \u001b[38;5;167;01mValueError\u001b[39;00m(\u001b[38;5;124mf\u001b[39m\u001b[38;5;124m\"\u001b[39m\u001b[38;5;124mTest \u001b[39m\u001b[38;5;132;01m{\u001b[39;00mtest_name\u001b[38;5;132;01m}\u001b[39;00m\u001b[38;5;124m not found\u001b[39m\u001b[38;5;124m\"\u001b[39m)\n",
      "\u001b[0;31mKeyError\u001b[0m: 'otter'"
     ]
    }
   ],
   "source": [
    "grader.check(\"q1_e\")"
   ]
  },
  {
   "cell_type": "markdown",
   "metadata": {},
   "source": [
    "Again, the loadings are the *weights* with which the variables are combined to form the principal components. This is why the variable names have been appended as a separate column: each row is the weight for one variable in the dataset, and each column is a distinct set of weights.\n",
    "\n",
    "For example, the `PC1` column tells us that this component is equal to:\n",
    "\n",
    "$$(0.020055\\times\\text{women}) + (-0.289614\\times\\text{white}) + (-0.050698\\times\\text{citizen}) + \\dots$$\n",
    "\n",
    "Since the components together capture over half the total variation, the heavily weighted variables in the selected components are the ones that drive variation in the original data. By visualizing the loadings, we can see which variables are most influential for each component, and thereby also which variables seem to drive total variation in the data.\n",
    "\n",
    "Loadings are typically plotted against variable name as points connected by lines, as in the plot below. Make sure the previous question is complete before running this cell."
   ]
  },
  {
   "cell_type": "code",
   "execution_count": null,
   "metadata": {
    "slideshow": {
     "slide_type": "skip"
    },
    "tags": []
   },
   "outputs": [],
   "source": [
    "# melt from wide to long\n",
    "loading_plot_df = loading_df.melt(\n",
    "    id_vars = 'Variable',\n",
    "    var_name = 'Principal Component',\n",
    "    value_name = 'Loading'\n",
    ")\n",
    "\n",
    "# add a column of zeros to encode for x = 0 line to plot\n",
    "loading_plot_df['zero'] = np.repeat(0, len(loading_plot_df))\n",
    "\n",
    "# create base layer\n",
    "base = alt.Chart(loading_plot_df)\n",
    "\n",
    "# create lines + points for loadings\n",
    "loadings = base.mark_line(point = True).encode(\n",
    "    y = alt.X('Variable', title = ''),\n",
    "    x = 'Loading',\n",
    "    color = 'Principal Component'\n",
    ")\n",
    "\n",
    "# create line at zero\n",
    "rule = base.mark_rule().encode(x = alt.X('zero', title = 'Loading'), size = alt.value(0.05))\n",
    "\n",
    "# layer\n",
    "loading_plot = (loadings + rule).properties(width = 120)\n",
    "\n",
    "# show\n",
    "loading_plot"
   ]
  },
  {
   "cell_type": "markdown",
   "metadata": {
    "deletable": false,
    "editable": false
   },
   "source": [
    "<!-- BEGIN QUESTION -->\n",
    "\n",
    "### Question 1 (f)\n",
    "\n",
    "The plot above is a bit crowded -- use `.facet(...)` to show each line separately. The resulting plot should have four adjacent panels, one for each PC.\n",
    "\n",
    "(*Hint*: you can do this in one line by modifying `loading_plot`.)\n",
    "\n",
    "<!--\n",
    "BEGIN QUESTION\n",
    "name: q1_f\n",
    "points: 1\n",
    "manual: true\n",
    "-->"
   ]
  },
  {
   "cell_type": "code",
   "execution_count": null,
   "metadata": {
    "scrolled": true
   },
   "outputs": [],
   "source": [
    "loading_plot.facet(column = 'Principal Component')"
   ]
  },
  {
   "cell_type": "markdown",
   "metadata": {},
   "source": [
    "<!-- END QUESTION -->\n",
    "\n",
    "\n",
    "\n",
    "Great, but what do these plots have to say?\n",
    "\n",
    "Look first at PC1: the variables with the largest loadings (points farthest in either direction from the zero line) are Child Poverty (positive), Employed (negative), Income per capita (negative), Poverty (positive), and Unemployment (positive). We know from exploring the correlation matrix that employment rate, unemployment rate, and income per capita are all related, and similarly child poverty rate and poverty rate are related. Therefore, the positively-loaded variables are all measuring more or less the same thing, and likewise for the negatively-loaded variables. \n",
    "\n",
    "Essentially, then, PC1 is predominantly (but not entirely) a representation of income and poverty. In particular, counties have a higher value for PC1 if they have lower-than-average income per capita and higher-than-average poverty rates, and a smaller value for PC1 if they have higher-than-average income per capita and lower-than-average poverty rates.\n",
    "\n",
    "Often interpreting principal components can be difficult, and sometimes there's no clear interpretation available! That said, it helps to have a system instead of staring at the plot and scratching our heads. Here is a semi-systematic approach to interpreting loadings:\n",
    "0. Divert your attention away from the zero line.\n",
    "1. Find the largest positive loading, and list all variables with similar loadings.\n",
    "2. Find the largest negative loading, and list all variables with similar loadings.\n",
    "3. The principal component represents the difference between the average of the first set and the average of the second set.\n",
    "4. Try to come up with a description of less than 4 words.\n",
    "\n",
    "This system is based on the following ideas:\n",
    "* a high loading value (negative or positive) indicates that a variable strongly influences the principal component;\n",
    "* a negative loading value indicates that\n",
    "    + increases in the value of a variable *decrease* the value of the principal component \n",
    "    + and decreases in the value of a variable *increase* the value of the principal component;\n",
    "* a positive loading value indicates that \n",
    "    + increases in the value of a variable *increase* the value of the principal component\n",
    "    + and decreases in the value of a variable *decrease* the value of the principal component;\n",
    "* similar loadings between two or more variables indicate that the principal component reflects their *average*;\n",
    "* divergent loadings between two sets of variables indicates that the principal component reflects their *difference*."
   ]
  },
  {
   "cell_type": "markdown",
   "metadata": {},
   "source": [
    "Let's call PC1 'Income and poverty'. Here are my best stabs at the remaining ones.\n",
    "\n",
    "PC2: Self employment. (High values come from high self employment + high work-at-home + low private sector workers.)\n",
    "\n",
    "PC3: Urbanization. (High values come from high transit use + professional/office workers + commute + diversity + high income.)\n",
    "\n",
    "PC4: Carpooling. (High values come from high carpooling rates + low number of citizens.)\n",
    "\n",
    "You'll get some practice with this in HW3. For now, please take a moment to consider how I arrived at these interpretations by looking at the loading plots and thinking through the steps above.\n",
    "\n",
    "### Why normalize?\n",
    "\n",
    "Data are typically normalized because without normalization, the variables on the largest scales tend to dominate the principal components, and most of the time PC1 will capture the majority of the variation.\n",
    "\n",
    "However, that is artificial. In the census data, income per capita has the largest magnitudes, and thus, the highest variance. "
   ]
  },
  {
   "cell_type": "code",
   "execution_count": null,
   "metadata": {},
   "outputs": [],
   "source": [
    "# three largest variances\n",
    "x_mx.var().sort_values(ascending = False).head(3)"
   ]
  },
  {
   "cell_type": "markdown",
   "metadata": {},
   "source": [
    "When PCs are computed without normalization, the total variation is mostly just the variance of income per capita. But that's just because of the *scale* of the variable -- incomes per capita are large numbers -- not a reflection that it varies more or less than the other variables.\n",
    "\n",
    "Run the cell below to see what happens to the loadings if the data are not normalized."
   ]
  },
  {
   "cell_type": "code",
   "execution_count": null,
   "metadata": {},
   "outputs": [],
   "source": [
    "# recompute pcs without normalization\n",
    "pca_unscaled = PCA(22)\n",
    "pca_unscaled.fit(x_mx)\n",
    "\n",
    "# show variance ratios for first three pcs\n",
    "pd.Series(pca_unscaled.explained_variance_ratio_, index = range(1, 23)).head(3)"
   ]
  },
  {
   "cell_type": "code",
   "execution_count": null,
   "metadata": {},
   "outputs": [],
   "source": [
    "# store the loadings as a data frame with appropriate names\n",
    "unscaled_loading_df = pd.DataFrame(pca_unscaled.components_).transpose().rename(\n",
    "    columns = {0: 'PC1', 1: 'PC2'} # add entries for each selected component\n",
    ").loc[:, ['PC1', 'PC2']] # slice just components of interest\n",
    "\n",
    "# add a column with the variable names\n",
    "unscaled_loading_df['Variable'] = x_mx.columns.values\n",
    "\n",
    "# melt from wide to long\n",
    "unscaled_loading_plot_df = unscaled_loading_df.melt(\n",
    "    id_vars = 'Variable',\n",
    "    var_name = 'Principal Component',\n",
    "    value_name = 'Loading'\n",
    ")\n",
    "\n",
    "# add a column of zeros to encode for x = 0 line to plot\n",
    "unscaled_loading_plot_df['zero'] = np.repeat(0, len(unscaled_loading_plot_df))\n",
    "\n",
    "# create base layer\n",
    "base = alt.Chart(unscaled_loading_plot_df)\n",
    "\n",
    "# create lines + points for loadings\n",
    "loadings = base.mark_line(point = True).encode(\n",
    "    y = alt.X('Variable', title = ''),\n",
    "    x = 'Loading',\n",
    "    color = 'Principal Component'\n",
    ")\n",
    "\n",
    "# create line at zero\n",
    "rule = base.mark_rule().encode(x = alt.X('zero', title = 'Loading'), size = alt.value(0.05))\n",
    "\n",
    "# layer\n",
    "loading_plot = (loadings + rule).properties(width = 120, title = 'Loadings from unscaled PCA')\n",
    "\n",
    "# show\n",
    "loading_plot"
   ]
  },
  {
   "cell_type": "markdown",
   "metadata": {},
   "source": [
    "Notice that the variables with nonzero loadings in unscaled PCA are simply the three variables with the largest variances.  "
   ]
  },
  {
   "cell_type": "code",
   "execution_count": null,
   "metadata": {},
   "outputs": [],
   "source": [
    "# three largest variances\n",
    "x_mx.var().sort_values(ascending = False).head(3)"
   ]
  },
  {
   "cell_type": "markdown",
   "metadata": {},
   "source": [
    "---\n",
    "## 2. Exploratory analysis based on PCA\n",
    "\n",
    "Now that we have the principal components, we can use them for exploratory data visualizations. The principal component values are computed via `.fit_transform(...)` in the PCA module:"
   ]
  },
  {
   "cell_type": "code",
   "execution_count": null,
   "metadata": {},
   "outputs": [],
   "source": [
    "# principal component values\n",
    "pca.fit_transform(x_ctr)"
   ]
  },
  {
   "cell_type": "markdown",
   "metadata": {},
   "source": [
    "The cell below extracts the first four PCs and stores them as a dataframe."
   ]
  },
  {
   "cell_type": "code",
   "execution_count": null,
   "metadata": {},
   "outputs": [],
   "source": [
    "# project data onto first four components; store as data frame\n",
    "projected_data = pd.DataFrame(pca.fit_transform(x_ctr)).iloc[:, 0:4].rename(columns = {0: 'PC1', 1: 'PC2', 2: 'PC3', 3: 'PC4'})\n",
    "\n",
    "# add state and county\n",
    "projected_data[['State', 'County']] = census[['State', 'County']]\n",
    "\n",
    "# print\n",
    "projected_data.head(4)"
   ]
  },
  {
   "cell_type": "markdown",
   "metadata": {},
   "source": [
    "The PC's can be used to construct scatterplots of the data and search for patterns. \n",
    "\n",
    "### Outliers\n",
    "The cell below plots PC2 (self-employment) against PC4 (carpooling):"
   ]
  },
  {
   "cell_type": "code",
   "execution_count": null,
   "metadata": {},
   "outputs": [],
   "source": [
    "# base chart\n",
    "base = alt.Chart(projected_data)\n",
    "\n",
    "# data scatter\n",
    "scatter = base.mark_point(opacity = 0.2).encode(\n",
    "    x = alt.X('PC2:Q', title = 'Self-employment PC'),\n",
    "    y = alt.Y('PC4:Q', title = 'Carpooling PC')\n",
    ")\n",
    "\n",
    "# show\n",
    "scatter"
   ]
  },
  {
   "cell_type": "markdown",
   "metadata": {},
   "source": [
    "Notice that there are a handful of outling points in the upper right region away from the dense scatter. What are those?\n",
    "\n",
    "In order to inspect the outlying counties, we first need to figure out how to identify them. The outlying values have a large *sum* of PC2 and PC4. We can distinguish them by finding a cutoff value for the sum."
   ]
  },
  {
   "cell_type": "markdown",
   "metadata": {
    "deletable": false,
    "editable": false
   },
   "source": [
    "### Question 2 (a)\n",
    "\n",
    "Compute the sum of principal components 2 and 4 and sort them in descending order. Store the result in `pc_2plus4` and print the first 15 sorted values. \n",
    "\n",
    "<!--\n",
    "BEGIN QUESTION\n",
    "name: q2_a\n",
    "points: 1\n",
    "manual: false\n",
    "-->"
   ]
  },
  {
   "cell_type": "code",
   "execution_count": null,
   "metadata": {},
   "outputs": [],
   "source": [
    "# find cutoff value\n",
    "pc_2plus4 = projected_data['PC2'].add(projected_data['PC4']).sort_values(ascending=False)\n",
    "\n",
    "#print\n",
    "pc_2plus4.head(15)"
   ]
  },
  {
   "cell_type": "code",
   "execution_count": null,
   "metadata": {
    "deletable": false,
    "editable": false
   },
   "outputs": [],
   "source": [
    "grader.check(\"q2_a\")"
   ]
  },
  {
   "cell_type": "markdown",
   "metadata": {},
   "source": [
    "Notice that there's a large jump from about 10 to about 13 (you could compare this with the typical jump using `.diff()` if you're curious); so we'll take 12 as the cutoff value. The plot below shows that this cutoff captures the points of interest."
   ]
  },
  {
   "cell_type": "code",
   "execution_count": null,
   "metadata": {},
   "outputs": [],
   "source": [
    "# store outlying rows using cutoff\n",
    "outliers = projected_data[(projected_data.PC2 + projected_data.PC4) > 12]\n",
    "\n",
    "# plot outliers in red\n",
    "pts = alt.Chart(outliers).mark_circle(\n",
    "    color = 'red',\n",
    "    opacity = 0.3\n",
    ").encode(\n",
    "    x = 'PC2',\n",
    "    y = 'PC4'\n",
    ")\n",
    "\n",
    "# layer\n",
    "scatter + pts"
   ]
  },
  {
   "cell_type": "markdown",
   "metadata": {},
   "source": [
    "Notice that all the outlying counties are remote regions of Alaska:"
   ]
  },
  {
   "cell_type": "code",
   "execution_count": null,
   "metadata": {
    "tags": []
   },
   "outputs": [],
   "source": [
    "outliers"
   ]
  },
  {
   "cell_type": "markdown",
   "metadata": {},
   "source": [
    "What sets them apart? The cell below retrieves the normalized data and county name for the outlying rows, and then plots the normalized values of each variable for all 9 counties as vertical ticks, along with a point indicating the mean for the outlying counties. This plot can be used to determine which variables are over- or under-average for the outlying counties relative to the nation by simply locating means that are far from zero in either direction.   "
   ]
  },
  {
   "cell_type": "code",
   "execution_count": null,
   "metadata": {},
   "outputs": [],
   "source": [
    "# retrieve normalized data for outlying rows\n",
    "outlier_data = x_ctr.loc[outliers.index.values].join(\n",
    "    census.loc[outliers.index.values, ['County']]\n",
    ")\n",
    "\n",
    "# melt to long format for plotting\n",
    "outlier_plot_df = outlier_data.melt(\n",
    "    id_vars = 'County',\n",
    "    var_name = 'Variable',\n",
    "    value_name = 'Normalized value'\n",
    ")\n",
    "\n",
    "# plot ticks for values (x) for each variable (y)\n",
    "ticks = alt.Chart(outlier_plot_df).mark_tick().encode(\n",
    "    x = 'Normalized value',\n",
    "    y = 'Variable'\n",
    ")\n",
    "\n",
    "# shade out region within 3SD of mean\n",
    "grey = alt.Chart(\n",
    "    pd.DataFrame(\n",
    "        {'Variable': x_ctr.columns, \n",
    "         'upr': np.repeat(3, 22), \n",
    "         'lwr': np.repeat(-3, 22)}\n",
    "    )\n",
    ").mark_area(opacity = 0.2, color = 'gray').encode(\n",
    "    y = 'Variable',\n",
    "    x = alt.X('upr', title = 'Normalized value'),\n",
    "    x2 = 'lwr'\n",
    ")\n",
    "\n",
    "# compute means of each variable across counties\n",
    "means = alt.Chart(outlier_plot_df).transform_aggregate(\n",
    "    group_mean = 'mean(Normalized value)',\n",
    "    groupby = ['Variable']\n",
    ").transform_calculate(\n",
    "    large = 'abs(datum.group_mean) > 3'\n",
    ").mark_circle(size = 80).encode(\n",
    "    x = 'group_mean:Q',\n",
    "    y = 'Variable',\n",
    "    color = alt.Color('large:N', legend = None)\n",
    ")\n",
    "\n",
    "# layer\n",
    "ticks + grey + means"
   ]
  },
  {
   "cell_type": "markdown",
   "metadata": {
    "deletable": false,
    "editable": false
   },
   "source": [
    "<!-- BEGIN QUESTION -->\n",
    "\n",
    "### Question 2 (b)\n",
    "The two variables that clearly set the outlying counties apart from the nation are the percentage of the population using alternative transportation (extremely above average) and the percentage that drive to work (extremely below average). Why is this?\n",
    "\n",
    "(*Hint:* take a peek at the [Wikipedia page on transportation in Alaska](https://en.wikipedia.org/wiki/Transportation_in_Alaska).)\n",
    "\n",
    "<!--\n",
    "BEGIN QUESTION\n",
    "name: q2_b\n",
    "points: 1\n",
    "manual: true\n",
    "-->"
   ]
  },
  {
   "cell_type": "markdown",
   "metadata": {},
   "source": [
    "Alaska has a vast geographic region and only a small portion of the state has a road system. Air travel is the critical connection to transport across long distances, and ATV trails are used seasonally between smaller communities. "
   ]
  },
  {
   "cell_type": "markdown",
   "metadata": {},
   "source": [
    "<!-- END QUESTION -->\n",
    "\n",
    "\n",
    "\n",
    "### Regional patterns\n",
    "Are there regional patterns in the data? The cell below merges a table of U.S. census regions with the projected data."
   ]
  },
  {
   "cell_type": "code",
   "execution_count": null,
   "metadata": {},
   "outputs": [],
   "source": [
    "# add US region\n",
    "regions = pd.read_table('data/regions.txt', sep = ',')\n",
    "plot_df = pd.merge(projected_data, regions, how = 'left', on = 'State')\n",
    "\n",
    "# any non-matches?\n",
    "plot_df.Region.isna().mean()"
   ]
  },
  {
   "cell_type": "markdown",
   "metadata": {},
   "source": [
    "However, there are some counties that didn't get a match in the region table. In fact, all of Puerto Rico:"
   ]
  },
  {
   "cell_type": "code",
   "execution_count": null,
   "metadata": {},
   "outputs": [],
   "source": [
    "# inspect rows with missing region\n",
    "plot_df[plot_df.Region.isna()].State.value_counts()"
   ]
  },
  {
   "cell_type": "markdown",
   "metadata": {},
   "source": [
    "That's an easy fix. We'll just give PR its own epynomous region. "
   ]
  },
  {
   "cell_type": "code",
   "execution_count": null,
   "metadata": {},
   "outputs": [],
   "source": [
    "# replace NaNs\n",
    "plot_df.Region = plot_df.Region.fillna('Puerto Rico')"
   ]
  },
  {
   "cell_type": "markdown",
   "metadata": {
    "deletable": false,
    "editable": false
   },
   "source": [
    "<!-- BEGIN QUESTION -->\n",
    "\n",
    "### Question 2 (c)\n",
    "\n",
    "Use `plot_df` to construct a faceted scatterplot of PC2 against PC1 by region, and color the points by region.\n",
    "\n",
    "<!--\n",
    "BEGIN QUESTION\n",
    "name: q2_c\n",
    "points: 1\n",
    "manual: true\n",
    "-->"
   ]
  },
  {
   "cell_type": "code",
   "execution_count": null,
   "metadata": {},
   "outputs": [],
   "source": [
    "# base chart\n",
    "base = alt.Chart(plot_df)\n",
    "\n",
    "# data scatter\n",
    "scatter = base.mark_point(opacity = 0.2).encode(\n",
    "    x = alt.X('PC1:Q', title = 'Income and Poverty'),\n",
    "    y = alt.Y('PC2:Q', title = 'Self employment'),\n",
    "    color = alt.Color('Region')\n",
    ").facet(\n",
    "    column = 'Region'\n",
    ")\n",
    "\n",
    "# show\n",
    "scatter"
   ]
  },
  {
   "cell_type": "markdown",
   "metadata": {
    "deletable": false,
    "editable": false
   },
   "source": [
    "<!-- END QUESTION -->\n",
    "\n",
    "<!-- BEGIN QUESTION -->\n",
    "\n",
    "### Question 2 (d)\n",
    "\n",
    "How does the northeast compare with the south? \n",
    "\n",
    "#### (i) Describe the location of scatter along the PC axes.\n",
    "\n",
    "(For instance, the western region scatter is centered around a PC1 value just below zero, say around -1, and a PC2 value just above zero, say around 2.)\n",
    "\n",
    "<!--\n",
    "BEGIN QUESTION\n",
    "name: q2_d_i\n",
    "points: 1\n",
    "manual: true\n",
    "-->"
   ]
  },
  {
   "cell_type": "markdown",
   "metadata": {},
   "source": [
    "#### Answer\n",
    "\n",
    "The northeast region scatter is centered around a PC1 value around -1, and a PC2 value of about 0. Meanwhile the south is centered around a PC1 value around 1 and a PC2 value around -1. Additionally, the northeast has less scatter points that are concentrated around the same area, while the south has a large scatter and a heavier concentration of points that are located all along PC1."
   ]
  },
  {
   "cell_type": "markdown",
   "metadata": {
    "deletable": false,
    "editable": false
   },
   "source": [
    "<!-- END QUESTION -->\n",
    "\n",
    "<!-- BEGIN QUESTION -->\n",
    "\n",
    "#### (ii) Can you interpret the difference in location in any way?\n",
    "\n",
    "State one qualitative difference in southern and northeastern counties that this points to.\n",
    "\n",
    "<!--\n",
    "BEGIN QUESTION\n",
    "name: q2_d_ii\n",
    "points: 1\n",
    "manual: true\n",
    "-->"
   ]
  },
  {
   "cell_type": "markdown",
   "metadata": {},
   "source": [
    "#### Answer\n",
    "\n",
    "The south is more rural and spread out, while the northeast is densely populated with larger urban cities. This may explain the scatter concentrations in the plots since the south will have more smaller counties, and the northeast will have less scatter since there are fewer counties due to the bigger cities. Because of how rural the south is, this may explain lower income and higher poverty rates in the south, and similarly, the northeast has a bigger population in urban areas will have higher income and lower poverty rates. "
   ]
  },
  {
   "cell_type": "markdown",
   "metadata": {
    "tags": []
   },
   "source": [
    "<!-- END QUESTION -->\n",
    "\n",
    "\n",
    "\n",
    "---\n",
    "## Submission Checklist\n",
    "1. Save file to confirm all changes are on disk\n",
    "2. Run *Kernel > Restart & Run All* to execute all code from top to bottom\n",
    "3. Save file again to write any new output to disk\n",
    "4. Select *File > Download as > HTML*.\n",
    "5. Open in Google Chrome and print to PDF on A3 paper in portrait orientation.\n",
    "6. Submit to Gradescope"
   ]
  },
  {
   "cell_type": "markdown",
   "metadata": {
    "deletable": false,
    "editable": false
   },
   "source": [
    "---\n",
    "\n",
    "To double-check your work, the cell below will rerun all of the autograder tests."
   ]
  },
  {
   "cell_type": "code",
   "execution_count": null,
   "metadata": {
    "deletable": false,
    "editable": false
   },
   "outputs": [],
   "source": [
    "grader.check_all()"
   ]
  },
  {
   "cell_type": "code",
   "execution_count": null,
   "metadata": {},
   "outputs": [],
   "source": []
  }
 ],
 "metadata": {
  "kernelspec": {
   "display_name": "Python 3 (ipykernel)",
   "language": "python",
   "name": "python3"
  },
  "language_info": {
   "codemirror_mode": {
    "name": "ipython",
    "version": 3
   },
   "file_extension": ".py",
   "mimetype": "text/x-python",
   "name": "python",
   "nbconvert_exporter": "python",
   "pygments_lexer": "ipython3",
   "version": "3.9.10"
  }
 },
 "nbformat": 4,
 "nbformat_minor": 4
}
