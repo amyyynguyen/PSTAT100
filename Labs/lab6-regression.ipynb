{
 "cells": [
  {
   "cell_type": "code",
   "execution_count": 1,
   "metadata": {
    "deletable": false,
    "editable": false
   },
   "outputs": [],
   "source": [
    "# Initialize Otter\n",
    "import otter\n",
    "grader = otter.Notebook(\"lab6-regression.ipynb\")"
   ]
  },
  {
   "cell_type": "code",
   "execution_count": 2,
   "metadata": {},
   "outputs": [
    {
     "data": {
      "text/plain": [
       "DataTransformerRegistry.enable('default')"
      ]
     },
     "execution_count": 2,
     "metadata": {},
     "output_type": "execute_result"
    }
   ],
   "source": [
    "import numpy as np\n",
    "import pandas as pd\n",
    "import altair as alt\n",
    "from sklearn.linear_model import LinearRegression\n",
    "from sklearn.metrics import r2_score\n",
    "from sklearn.preprocessing import add_dummy_feature\n",
    "\n",
    "alt.data_transformers.disable_max_rows()"
   ]
  },
  {
   "cell_type": "markdown",
   "metadata": {},
   "source": [
    "# Lab 6: Regression\n",
    "\n",
    "This lab covers the nuts and bolts of fitting linear models using the `sklearn.linear_model` module. The linear model expresses a response variable, $y$, as a linear function of $p - 1$ explanatory variables $x_1, \\dots, x_{p - 1}$ and a random error $\\epsilon$. Its general form is:\n",
    "\n",
    "$$y = \\beta_0 + \\beta_1 x_1 + \\cdots + \\beta_{p - 1} x_{p - 1} + \\epsilon \\qquad \\epsilon \\sim N(0, \\sigma^2)$$\n",
    "\n",
    "Usually, the response and explanatory variables and error term are indexed by observation $i = 1, \\dots, n$ so that the model describes a dataset comprising $n$ values of each variable:\n",
    "\n",
    "$$y_i = \\beta_0 + \\beta_1 x_{i1} + \\cdots + \\beta_{p - 1} x_{i, p - 1} + \\epsilon_i \\qquad\\begin{cases} \\epsilon_i \\sim N(0, \\sigma^2) \\\\ i = 1, \\dots, n\\end{cases}$$\n",
    "\n",
    "Because the indices get confusing to keep track of, it is much easier to express the model in matrix form as\n",
    "\n",
    "$$\\mathbf{y} = \\mathbf{X}\\beta + \\epsilon$$\n",
    "\n",
    "where:\n",
    "\n",
    "$$\\mathbf{y} = \\left[\\begin{array}{c} y_1 \\\\ y_2 \\\\ \\vdots \\\\ y_n \\end{array}\\right]_{\\;n \\times 1} \\qquad\n",
    "    \\mathbf{X} = \\left[\\begin{array}{cccc} \n",
    "        1 &x_{11} &\\cdots &x_{1, p - 1} \\\\\n",
    "        1 &x_{21} &\\cdots &x_{2, p - 1} \\\\\n",
    "        \\vdots &\\vdots &\\ddots &\\vdots \\\\\n",
    "        1 &x_{n1} &\\cdots &x_{n, p - 1}\n",
    "        \\end{array}\\right]_{\\;n \\times p} \\qquad\n",
    "    \\beta = \\left[\\begin{array}{c} \\beta_0 \\\\ \\beta_1 \\\\ \\vdots \\\\ \\beta_{p - 1} \\end{array} \\right]_{\\;p \\times 1} \\qquad\n",
    "    \\epsilon = \\left[\\begin{array}{c} \\epsilon_1 \\\\ \\epsilon_2 \\\\ \\vdots \\\\ \\epsilon_n \\end{array}\\right]_{\\;n \\times 1}$$\n",
    "    \n",
    "\n",
    "**Fitting** a model of this form means _**estimating the parameters**_ $\\beta_0, \\beta_1, \\dots, \\beta_{p - 1}$ and $\\sigma^2$ from a set of data. \n",
    "* The ordinary least squares estimates of $\\beta$, which are best under most circumstances, are\n",
    "$$\\hat{\\beta} = (\\mathbf{X'X})^{-1}\\mathbf{X'y}$$\n",
    "* The error variance $\\sigma^2$ can be estimated by\n",
    "$$\\hat{\\sigma}^2 = \\frac{1}{n - p - 1}\\left(\\mathbf{y} - \\mathbf{X}\\hat{\\beta}\\right)'\\left(\\mathbf{y} - \\mathbf{X}\\hat{\\beta}\\right)$$\n",
    "\n",
    "When fitting a linear model, it is also of interest to quantify uncertainty by estimating the variability of $\\hat{\\beta}$ and measure overall quality of fit. This lab illustrates that process and the computations involved.\n",
    "\n",
    "---\n",
    "### Objectives\n",
    "\n",
    "In this lab, you'll learn how to use the `sklearn.linear_model` module to:\n",
    "* compute OLS estimates;\n",
    "* calculate fitted values and residuals;\n",
    "* compute the error variance estimate.\n",
    "\n",
    "In addition, you'll see how to calculate:\n",
    "* the variance-covariance matrix of $\\hat{\\beta}$, which quantifies the variability of model estimates;\n",
    "* standard errors for each model estimate;\n",
    "* the proportion of variation captured by a linear model.\n",
    "\n",
    "Throughout you'll use simple visualizations to help make the connection between fitted models and the aspects of a dataset that model features describe. The lab activity proceeds through the following sections:\n",
    "\n",
    "0. Exploratory plots for regression analysis\n",
    "1. Simple linear regression (single explanatory variable)\n",
    "    + Model fitting\n",
    "    + Uncertainty quantification\n",
    "    + Model visualization\n",
    "2. Multiple linear regression (several explanatory variables)\n",
    "    + Data preprocessing: encoding categorical variables\n",
    "    + Interaction terms\n",
    "    + Model fitting\n",
    "    + Uncertainty quantification\n",
    "    + Model visualization\n",
    "\n",
    "---\n",
    "### Data: fertility rates and meausres of development \n",
    "\n",
    "By way of data, you'll work with country indicators, total fertility rates, and gender indicators for a selection of countries in 2018, and explore the decline in fertility rates associated with developed nations. This has been in the news lately due to preliminary data from the U.S. 2020 census indicating significant [population growth decline in the United States](https://www.washingtonpost.com/dc-md-va/interactive/2021/2020-census-us-population-results/). If the topic interests you, you can read more about perspectives and existing data in this [Our World in Data article](https://ourworldindata.org/fertility-rate). \n",
    "\n",
    "The data are stored in separate .csv files imported below:"
   ]
  },
  {
   "cell_type": "code",
   "execution_count": 3,
   "metadata": {},
   "outputs": [],
   "source": [
    "fertility = pd.read_csv('data/fertility.csv')\n",
    "country = pd.read_csv('data/country-indicators.csv')\n",
    "gender = pd.read_csv('data/gender-data.csv')"
   ]
  },
  {
   "cell_type": "markdown",
   "metadata": {},
   "source": [
    "The variables you'll work with in this portion are the following:\n",
    "\n",
    "Dataset | Name | Variable | Units\n",
    "---|---|---|---\n",
    "`fertility` | `fertility_total` | National fertility rate | Average number of children per woman\n",
    "`country` | `hdi` | Human development index | Index between 0 and 1 (0 is lowest, 1 is highest)\n",
    "`gender` | `edu_expected_yrs_f` | Expected years of education for adult women | Years"
   ]
  },
  {
   "cell_type": "markdown",
   "metadata": {},
   "source": [
    "Because the variables of interest are stored in three separate dataframes, you'll first need to extract them and merge by country."
   ]
  },
  {
   "cell_type": "code",
   "execution_count": 4,
   "metadata": {},
   "outputs": [
    {
     "data": {
      "text/html": [
       "<div>\n",
       "<style scoped>\n",
       "    .dataframe tbody tr th:only-of-type {\n",
       "        vertical-align: middle;\n",
       "    }\n",
       "\n",
       "    .dataframe tbody tr th {\n",
       "        vertical-align: top;\n",
       "    }\n",
       "\n",
       "    .dataframe thead th {\n",
       "        text-align: right;\n",
       "    }\n",
       "</style>\n",
       "<table border=\"1\" class=\"dataframe\">\n",
       "  <thead>\n",
       "    <tr style=\"text-align: right;\">\n",
       "      <th></th>\n",
       "      <th>fertility_total</th>\n",
       "      <th>educ_expected_yrs_f</th>\n",
       "      <th>hdi</th>\n",
       "    </tr>\n",
       "    <tr>\n",
       "      <th>Country</th>\n",
       "      <th></th>\n",
       "      <th></th>\n",
       "      <th></th>\n",
       "    </tr>\n",
       "  </thead>\n",
       "  <tbody>\n",
       "    <tr>\n",
       "      <th>Afghanistan</th>\n",
       "      <td>4.473</td>\n",
       "      <td>6.795722</td>\n",
       "      <td>0.509</td>\n",
       "    </tr>\n",
       "    <tr>\n",
       "      <th>Albania</th>\n",
       "      <td>1.617</td>\n",
       "      <td>13.201755</td>\n",
       "      <td>0.792</td>\n",
       "    </tr>\n",
       "    <tr>\n",
       "      <th>Algeria</th>\n",
       "      <td>3.023</td>\n",
       "      <td>12.108990</td>\n",
       "      <td>0.746</td>\n",
       "    </tr>\n",
       "    <tr>\n",
       "      <th>Angola</th>\n",
       "      <td>5.519</td>\n",
       "      <td>6.973901</td>\n",
       "      <td>0.582</td>\n",
       "    </tr>\n",
       "  </tbody>\n",
       "</table>\n",
       "</div>"
      ],
      "text/plain": [
       "             fertility_total  educ_expected_yrs_f    hdi\n",
       "Country                                                 \n",
       "Afghanistan            4.473             6.795722  0.509\n",
       "Albania                1.617            13.201755  0.792\n",
       "Algeria                3.023            12.108990  0.746\n",
       "Angola                 5.519             6.973901  0.582"
      ]
     },
     "execution_count": 4,
     "metadata": {},
     "output_type": "execute_result"
    }
   ],
   "source": [
    "# slice variables of interest\n",
    "fertility_sub = fertility.loc[:, ['Country', 'fertility_total']]\n",
    "gender_sub = gender.loc[:, ['educ_expected_yrs_f', 'Country']]\n",
    "country_sub = country.loc[:, ['Country', 'hdi']]\n",
    "\n",
    "# merge variables of interest\n",
    "reg_data = pd.merge(\n",
    "    fertility_sub, \n",
    "    gender_sub, \n",
    "    on = 'Country', \n",
    "    how = 'inner'\n",
    ").merge(\n",
    "    country_sub,\n",
    "    on = 'Country',\n",
    "    how = 'left'\n",
    ").set_index('Country').dropna()\n",
    "\n",
    "# preview\n",
    "reg_data.head(4)"
   ]
  },
  {
   "cell_type": "markdown",
   "metadata": {},
   "source": [
    "---\n",
    "## 0. Exploratory plots\n",
    "\n",
    "A preliminary step in regression analysis is typically data exploration through scatterplots. This relies on skills you've already developed -- you may find it helpful to refer to Lab 3 (visualization) throughout this section."
   ]
  },
  {
   "cell_type": "markdown",
   "metadata": {
    "deletable": false,
    "editable": false
   },
   "source": [
    "<!-- BEGIN QUESTION -->\n",
    "\n",
    "### Q0 (a) Simple scatterplot\n",
    "\n",
    "Construct a scatterplot of total fertility against expected years of education for women. Label the axes 'Fertility rate' and 'Expected years of education for women'. Store this plot as `simple_scatter` and display the graphic.\n",
    "\n",
    "(*Remark*: be sure to include `scale = alt.Scale(zero = False)` in the axis specification so that your plot does not have extra whitespace.)\n",
    "\n",
    "<!--\n",
    "BEGIN QUESTION\n",
    "name: q0_a\n",
    "points: 1\n",
    "manual: true\n",
    "-->"
   ]
  },
  {
   "cell_type": "code",
   "execution_count": 5,
   "metadata": {},
   "outputs": [
    {
     "data": {
      "text/html": [
       "\n",
       "<div id=\"altair-viz-e223767d854845d39b9c945aea749db8\"></div>\n",
       "<script type=\"text/javascript\">\n",
       "  var VEGA_DEBUG = (typeof VEGA_DEBUG == \"undefined\") ? {} : VEGA_DEBUG;\n",
       "  (function(spec, embedOpt){\n",
       "    let outputDiv = document.currentScript.previousElementSibling;\n",
       "    if (outputDiv.id !== \"altair-viz-e223767d854845d39b9c945aea749db8\") {\n",
       "      outputDiv = document.getElementById(\"altair-viz-e223767d854845d39b9c945aea749db8\");\n",
       "    }\n",
       "    const paths = {\n",
       "      \"vega\": \"https://cdn.jsdelivr.net/npm//vega@5?noext\",\n",
       "      \"vega-lib\": \"https://cdn.jsdelivr.net/npm//vega-lib?noext\",\n",
       "      \"vega-lite\": \"https://cdn.jsdelivr.net/npm//vega-lite@4.17.0?noext\",\n",
       "      \"vega-embed\": \"https://cdn.jsdelivr.net/npm//vega-embed@6?noext\",\n",
       "    };\n",
       "\n",
       "    function maybeLoadScript(lib, version) {\n",
       "      var key = `${lib.replace(\"-\", \"\")}_version`;\n",
       "      return (VEGA_DEBUG[key] == version) ?\n",
       "        Promise.resolve(paths[lib]) :\n",
       "        new Promise(function(resolve, reject) {\n",
       "          var s = document.createElement('script');\n",
       "          document.getElementsByTagName(\"head\")[0].appendChild(s);\n",
       "          s.async = true;\n",
       "          s.onload = () => {\n",
       "            VEGA_DEBUG[key] = version;\n",
       "            return resolve(paths[lib]);\n",
       "          };\n",
       "          s.onerror = () => reject(`Error loading script: ${paths[lib]}`);\n",
       "          s.src = paths[lib];\n",
       "        });\n",
       "    }\n",
       "\n",
       "    function showError(err) {\n",
       "      outputDiv.innerHTML = `<div class=\"error\" style=\"color:red;\">${err}</div>`;\n",
       "      throw err;\n",
       "    }\n",
       "\n",
       "    function displayChart(vegaEmbed) {\n",
       "      vegaEmbed(outputDiv, spec, embedOpt)\n",
       "        .catch(err => showError(`Javascript Error: ${err.message}<br>This usually means there's a typo in your chart specification. See the javascript console for the full traceback.`));\n",
       "    }\n",
       "\n",
       "    if(typeof define === \"function\" && define.amd) {\n",
       "      requirejs.config({paths});\n",
       "      require([\"vega-embed\"], displayChart, err => showError(`Error loading script: ${err.message}`));\n",
       "    } else {\n",
       "      maybeLoadScript(\"vega\", \"5\")\n",
       "        .then(() => maybeLoadScript(\"vega-lite\", \"4.17.0\"))\n",
       "        .then(() => maybeLoadScript(\"vega-embed\", \"6\"))\n",
       "        .catch(showError)\n",
       "        .then(() => displayChart(vegaEmbed));\n",
       "    }\n",
       "  })({\"config\": {\"view\": {\"continuousWidth\": 400, \"continuousHeight\": 300}}, \"data\": {\"name\": \"data-8db060f081acab01582dba50ceaf6303\"}, \"mark\": \"circle\", \"encoding\": {\"x\": {\"field\": \"educ_expected_yrs_f\", \"scale\": {\"zero\": false}, \"title\": \"Expected years of education for women\", \"type\": \"quantitative\"}, \"y\": {\"field\": \"fertility_total\", \"scale\": {\"zero\": false}, \"title\": \"Fertility rate\", \"type\": \"quantitative\"}}, \"$schema\": \"https://vega.github.io/schema/vega-lite/v4.17.0.json\", \"datasets\": {\"data-8db060f081acab01582dba50ceaf6303\": [{\"fertility_total\": 4.473, \"educ_expected_yrs_f\": 6.795722485, \"hdi\": 0.509}, {\"fertility_total\": 1.617, \"educ_expected_yrs_f\": 13.20175457, \"hdi\": 0.792}, {\"fertility_total\": 3.023, \"educ_expected_yrs_f\": 12.10898972, \"hdi\": 0.746}, {\"fertility_total\": 5.519, \"educ_expected_yrs_f\": 6.973901272000001, \"hdi\": 0.5820000000000001}, {\"fertility_total\": 1.994, \"educ_expected_yrs_f\": 12.91444111, \"hdi\": 0.772}, {\"fertility_total\": 2.261, \"educ_expected_yrs_f\": 13.06125259, \"hdi\": 0.8420000000000001}, {\"fertility_total\": 1.755, \"educ_expected_yrs_f\": 11.62581253, \"hdi\": 0.7709999999999999}, {\"fertility_total\": 1.74, \"educ_expected_yrs_f\": 13.62022209, \"hdi\": 0.943}, {\"fertility_total\": 1.47, \"educ_expected_yrs_f\": 13.46689415, \"hdi\": 0.921}, {\"fertility_total\": 1.73, \"educ_expected_yrs_f\": 12.44501495, \"hdi\": 0.754}, {\"fertility_total\": 1.987, \"educ_expected_yrs_f\": 13.27036572, \"hdi\": 0.852}, {\"fertility_total\": 2.036, \"educ_expected_yrs_f\": 10.52187443, \"hdi\": 0.625}, {\"fertility_total\": 1.4480000000000002, \"educ_expected_yrs_f\": 13.75893879, \"hdi\": 0.823}, {\"fertility_total\": 1.62, \"educ_expected_yrs_f\": 13.56679726, \"hdi\": 0.93}, {\"fertility_total\": 4.836, \"educ_expected_yrs_f\": 8.782134056, \"hdi\": 0.541}, {\"fertility_total\": 1.975, \"educ_expected_yrs_f\": 10.70332813, \"hdi\": 0.649}, {\"fertility_total\": 1.265, \"educ_expected_yrs_f\": 11.78481483, \"hdi\": 0.777}, {\"fertility_total\": 2.874, \"educ_expected_yrs_f\": 8.500170707999999, \"hdi\": 0.73}, {\"fertility_total\": 1.848, \"educ_expected_yrs_f\": 13.21317291, \"hdi\": 0.836}, {\"fertility_total\": 1.56, \"educ_expected_yrs_f\": 12.24310493, \"hdi\": 0.813}, {\"fertility_total\": 5.189, \"educ_expected_yrs_f\": 6.696904658999999, \"hdi\": 0.4429999999999999}, {\"fertility_total\": 5.41, \"educ_expected_yrs_f\": 8.191820145, \"hdi\": 0.431}, {\"fertility_total\": 2.503, \"educ_expected_yrs_f\": 9.635119438, \"hdi\": 0.585}, {\"fertility_total\": 4.572, \"educ_expected_yrs_f\": 8.315596581, \"hdi\": 0.56}, {\"fertility_total\": 1.4988, \"educ_expected_yrs_f\": 13.709587099999998, \"hdi\": 0.928}, {\"fertility_total\": 4.721, \"educ_expected_yrs_f\": 3.848102808, \"hdi\": 0.395}, {\"fertility_total\": 5.747000000000001, \"educ_expected_yrs_f\": 4.473656654, \"hdi\": 0.397}, {\"fertility_total\": 1.649, \"educ_expected_yrs_f\": 13.05471802, \"hdi\": 0.8490000000000001}, {\"fertility_total\": 1.69, \"educ_expected_yrs_f\": 13.0906477, \"hdi\": 0.755}, {\"fertility_total\": 1.807, \"educ_expected_yrs_f\": 12.70421314, \"hdi\": 0.764}, {\"fertility_total\": 4.205, \"educ_expected_yrs_f\": 8.128657341, \"hdi\": 0.552}, {\"fertility_total\": 1.754, \"educ_expected_yrs_f\": 12.51764488, \"hdi\": 0.8079999999999999}, {\"fertility_total\": 1.47, \"educ_expected_yrs_f\": 13.5518446, \"hdi\": 0.848}, {\"fertility_total\": 1.329, \"educ_expected_yrs_f\": 13.61954403, \"hdi\": 0.885}, {\"fertility_total\": 1.73, \"educ_expected_yrs_f\": 13.47161579, \"hdi\": 0.939}, {\"fertility_total\": 2.346, \"educ_expected_yrs_f\": 12.15325356, \"hdi\": 0.7509999999999999}, {\"fertility_total\": 2.427, \"educ_expected_yrs_f\": 13.219711300000002, \"hdi\": 0.762}, {\"fertility_total\": 2.039, \"educ_expected_yrs_f\": 10.9428196, \"hdi\": 0.67}, {\"fertility_total\": 1.67, \"educ_expected_yrs_f\": 13.53030491, \"hdi\": 0.889}, {\"fertility_total\": 4.247, \"educ_expected_yrs_f\": 7.516855717, \"hdi\": 0.478}, {\"fertility_total\": 2.774, \"educ_expected_yrs_f\": 11.43205929, \"hdi\": 0.742}, {\"fertility_total\": 1.41, \"educ_expected_yrs_f\": 13.74469662, \"hdi\": 0.937}, {\"fertility_total\": 1.88, \"educ_expected_yrs_f\": 13.8239584, \"hdi\": 0.898}, {\"fertility_total\": 3.969, \"educ_expected_yrs_f\": 8.538388252, \"hdi\": 0.6970000000000001}, {\"fertility_total\": 2.06, \"educ_expected_yrs_f\": 13.02663994, \"hdi\": 0.805}, {\"fertility_total\": 1.57, \"educ_expected_yrs_f\": 13.34453487, \"hdi\": 0.946}, {\"fertility_total\": 3.87, \"educ_expected_yrs_f\": 11.91578197, \"hdi\": 0.606}, {\"fertility_total\": 1.35, \"educ_expected_yrs_f\": 13.28767872, \"hdi\": 0.8809999999999999}, {\"fertility_total\": 2.063, \"educ_expected_yrs_f\": 13.13885593, \"hdi\": 0.773}, {\"fertility_total\": 2.87, \"educ_expected_yrs_f\": 9.521496773, \"hdi\": 0.657}, {\"fertility_total\": 4.7, \"educ_expected_yrs_f\": 6.210740089, \"hdi\": 0.473}, {\"fertility_total\": 2.462, \"educ_expected_yrs_f\": 12.30990696, \"hdi\": 0.68}, {\"fertility_total\": 2.935, \"educ_expected_yrs_f\": 11.44699955, \"hdi\": 0.508}, {\"fertility_total\": 2.46, \"educ_expected_yrs_f\": 9.822359085, \"hdi\": 0.633}, {\"fertility_total\": 1.55, \"educ_expected_yrs_f\": 12.96164417, \"hdi\": 0.85}, {\"fertility_total\": 1.71, \"educ_expected_yrs_f\": 13.54500961, \"hdi\": 0.946}, {\"fertility_total\": 2.222, \"educ_expected_yrs_f\": 10.93618393, \"hdi\": 0.642}, {\"fertility_total\": 2.311, \"educ_expected_yrs_f\": 12.41253376, \"hdi\": 0.7120000000000001}, {\"fertility_total\": 3.672, \"educ_expected_yrs_f\": 7.038986206000001, \"hdi\": 0.6709999999999999}, {\"fertility_total\": 1.75, \"educ_expected_yrs_f\": 13.92032051, \"hdi\": 0.951}, {\"fertility_total\": 3.09, \"educ_expected_yrs_f\": 13.90762043, \"hdi\": 0.916}, {\"fertility_total\": 1.29, \"educ_expected_yrs_f\": 13.31961727, \"hdi\": 0.89}, {\"fertility_total\": 1.979, \"educ_expected_yrs_f\": 11.82789326, \"hdi\": 0.7340000000000001}, {\"fertility_total\": 2.761, \"educ_expected_yrs_f\": 11.72220421, \"hdi\": 0.728}, {\"fertility_total\": 2.84, \"educ_expected_yrs_f\": 13.86884308, \"hdi\": 0.8190000000000001}, {\"fertility_total\": 3.492, \"educ_expected_yrs_f\": 11.30184937, \"hdi\": 0.599}, {\"fertility_total\": 3.569, \"educ_expected_yrs_f\": 11.82059479, \"hdi\": 0.628}, {\"fertility_total\": 2.082, \"educ_expected_yrs_f\": 12.40283394, \"hdi\": 0.807}, {\"fertility_total\": 1.6, \"educ_expected_yrs_f\": 13.7176199, \"hdi\": 0.863}, {\"fertility_total\": 3.141, \"educ_expected_yrs_f\": 10.41264439, \"hdi\": 0.522}, {\"fertility_total\": 4.315, \"educ_expected_yrs_f\": 4.166073798999999, \"hdi\": 0.48}, {\"fertility_total\": 1.63, \"educ_expected_yrs_f\": 13.88928127, \"hdi\": 0.8759999999999999}, {\"fertility_total\": 1.38, \"educ_expected_yrs_f\": 12.47436428, \"hdi\": 0.913}, {\"fertility_total\": 4.077, \"educ_expected_yrs_f\": 8.609224318999999, \"hdi\": 0.527}, {\"fertility_total\": 4.209, \"educ_expected_yrs_f\": 9.583486557, \"hdi\": 0.478}, {\"fertility_total\": 2.001, \"educ_expected_yrs_f\": 12.68888378, \"hdi\": 0.805}, {\"fertility_total\": 5.877000000000001, \"educ_expected_yrs_f\": 5.42065239, \"hdi\": 0.431}, {\"fertility_total\": 1.23, \"educ_expected_yrs_f\": 13.50980282, \"hdi\": 0.894}, {\"fertility_total\": 4.561, \"educ_expected_yrs_f\": 7.564128876, \"hdi\": 0.542}, {\"fertility_total\": 1.41, \"educ_expected_yrs_f\": 12.77645302, \"hdi\": 0.8009999999999999}, {\"fertility_total\": 2.129, \"educ_expected_yrs_f\": 12.97874069, \"hdi\": 0.7759999999999999}, {\"fertility_total\": 2.895, \"educ_expected_yrs_f\": 13.25112915, \"hdi\": 0.735}, {\"fertility_total\": 1.745, \"educ_expected_yrs_f\": 12.64217091, \"hdi\": 0.826}, {\"fertility_total\": 2.415, \"educ_expected_yrs_f\": 10.41762161, \"hdi\": 0.68}, {\"fertility_total\": 2.154, \"educ_expected_yrs_f\": 9.829102516, \"hdi\": 0.579}, {\"fertility_total\": 3.3960000000000004, \"educ_expected_yrs_f\": 9.723130226, \"hdi\": 0.645}, {\"fertility_total\": 1.917, \"educ_expected_yrs_f\": 12.0131464, \"hdi\": 0.596}, {\"fertility_total\": 1.59, \"educ_expected_yrs_f\": 13.92983341, \"hdi\": 0.942}, {\"fertility_total\": 1.71, \"educ_expected_yrs_f\": 13.77946663, \"hdi\": 0.928}, {\"fertility_total\": 2.404, \"educ_expected_yrs_f\": 11.10092926, \"hdi\": 0.659}, {\"fertility_total\": 6.912999999999999, \"educ_expected_yrs_f\": 5.059231758, \"hdi\": 0.391}, {\"fertility_total\": 5.3870000000000005, \"educ_expected_yrs_f\": 10.09999943, \"hdi\": 0.534}, {\"fertility_total\": 1.496, \"educ_expected_yrs_f\": 11.08503532, \"hdi\": 0.77}, {\"fertility_total\": 1.56, \"educ_expected_yrs_f\": 13.67211056, \"hdi\": 0.956}, {\"fertility_total\": 2.888, \"educ_expected_yrs_f\": 13.10266685, \"hdi\": 0.813}, {\"fertility_total\": 3.51, \"educ_expected_yrs_f\": 8.687153816, \"hdi\": 0.552}, {\"fertility_total\": 2.461, \"educ_expected_yrs_f\": 10.88493347, \"hdi\": 0.812}, {\"fertility_total\": 3.564, \"educ_expected_yrs_f\": 9.818692207, \"hdi\": 0.5489999999999999}, {\"fertility_total\": 2.4290000000000003, \"educ_expected_yrs_f\": 11.26677418, \"hdi\": 0.727}, {\"fertility_total\": 2.254, \"educ_expected_yrs_f\": 12.89012051, \"hdi\": 0.7709999999999999}, {\"fertility_total\": 2.576, \"educ_expected_yrs_f\": 13.04763317, \"hdi\": 0.711}, {\"fertility_total\": 1.46, \"educ_expected_yrs_f\": 13.45503712, \"hdi\": 0.877}, {\"fertility_total\": 1.42, \"educ_expected_yrs_f\": 13.82900047, \"hdi\": 0.86}, {\"fertility_total\": 1.866, \"educ_expected_yrs_f\": 12.7883606, \"hdi\": 0.845}, {\"fertility_total\": 1.76, \"educ_expected_yrs_f\": 11.98094845, \"hdi\": 0.823}, {\"fertility_total\": 1.579, \"educ_expected_yrs_f\": 13.68534756, \"hdi\": 0.823}, {\"fertility_total\": 4.044, \"educ_expected_yrs_f\": 6.980305195, \"hdi\": 0.54}, {\"fertility_total\": 3.877, \"educ_expected_yrs_f\": 12.44684696, \"hdi\": 0.7090000000000001}, {\"fertility_total\": 2.319, \"educ_expected_yrs_f\": 12.26758575, \"hdi\": 0.8540000000000001}, {\"fertility_total\": 4.625, \"educ_expected_yrs_f\": 7.849748135, \"hdi\": 0.516}, {\"fertility_total\": 1.49, \"educ_expected_yrs_f\": 13.49239731, \"hdi\": 0.8029999999999999}, {\"fertility_total\": 2.41, \"educ_expected_yrs_f\": 13.53542233, \"hdi\": 0.79}, {\"fertility_total\": 4.263, \"educ_expected_yrs_f\": 9.282006264, \"hdi\": 0.447}, {\"fertility_total\": 1.14, \"educ_expected_yrs_f\": 13.90422153, \"hdi\": 0.936}, {\"fertility_total\": 1.61, \"educ_expected_yrs_f\": 13.71750641, \"hdi\": 0.912}, {\"fertility_total\": 4.4030000000000005, \"educ_expected_yrs_f\": 8.841700553999999, \"hdi\": 0.564}, {\"fertility_total\": 2.405, \"educ_expected_yrs_f\": 10.11397743, \"hdi\": 0.7070000000000001}, {\"fertility_total\": 4.696000000000001, \"educ_expected_yrs_f\": 3.916237831, \"hdi\": 0.429}, {\"fertility_total\": 1.26, \"educ_expected_yrs_f\": 13.08606815, \"hdi\": 0.905}, {\"fertility_total\": 2.199, \"educ_expected_yrs_f\": 13.11488724, \"hdi\": 0.779}, {\"fertility_total\": 4.407, \"educ_expected_yrs_f\": 6.943500996, \"hdi\": 0.506}, {\"fertility_total\": 1.76, \"educ_expected_yrs_f\": 13.90402126, \"hdi\": 0.943}, {\"fertility_total\": 1.52, \"educ_expected_yrs_f\": 13.21845913, \"hdi\": 0.955}, {\"fertility_total\": 3.585, \"educ_expected_yrs_f\": 10.43918705, \"hdi\": 0.6609999999999999}, {\"fertility_total\": 1.525, \"educ_expected_yrs_f\": 12.644207000000002, \"hdi\": 0.772}, {\"fertility_total\": 4.023, \"educ_expected_yrs_f\": 10.87477875, \"hdi\": 0.599}, {\"fertility_total\": 4.32, \"educ_expected_yrs_f\": 9.123530388, \"hdi\": 0.51}, {\"fertility_total\": 3.556, \"educ_expected_yrs_f\": 11.83284092, \"hdi\": 0.723}, {\"fertility_total\": 2.197, \"educ_expected_yrs_f\": 10.95233727, \"hdi\": 0.738}, {\"fertility_total\": 2.069, \"educ_expected_yrs_f\": 11.99552917, \"hdi\": 0.8170000000000001}, {\"fertility_total\": 1.301, \"educ_expected_yrs_f\": 13.00567055, \"hdi\": 0.774}, {\"fertility_total\": 1.413, \"educ_expected_yrs_f\": 13.1702652, \"hdi\": 0.889}, {\"fertility_total\": 1.68, \"educ_expected_yrs_f\": 13.85765934, \"hdi\": 0.928}, {\"fertility_total\": 1.7295, \"educ_expected_yrs_f\": 12.93639374, \"hdi\": 0.925}, {\"fertility_total\": 1.973, \"educ_expected_yrs_f\": 12.47761631, \"hdi\": 0.816}, {\"fertility_total\": 2.604, \"educ_expected_yrs_f\": 12.00484753, \"hdi\": 0.7170000000000001}, {\"fertility_total\": 3.782, \"educ_expected_yrs_f\": 10.13373089, \"hdi\": 0.603}, {\"fertility_total\": 4.633, \"educ_expected_yrs_f\": 8.745135307, \"hdi\": 0.5820000000000001}, {\"fertility_total\": 3.615, \"educ_expected_yrs_f\": 10.97491837, \"hdi\": 0.569}]}}, {\"mode\": \"vega-lite\"});\n",
       "</script>"
      ],
      "text/plain": [
       "alt.Chart(...)"
      ]
     },
     "execution_count": 5,
     "metadata": {},
     "output_type": "execute_result"
    }
   ],
   "source": [
    "#solution\n",
    "simple_scatter = alt.Chart(reg_data).mark_circle().encode(\n",
    "    x = alt.X('educ_expected_yrs_f', \n",
    "              title = 'Expected years of education for women', \n",
    "              scale = alt.Scale(zero=False)),\n",
    "    y = alt.Y('fertility_total', \n",
    "              title = 'Fertility rate', \n",
    "              scale = alt.Scale(zero=False))\n",
    ")\n",
    "\n",
    "simple_scatter"
   ]
  },
  {
   "cell_type": "markdown",
   "metadata": {},
   "source": [
    "<!-- END QUESTION -->\n",
    "\n",
    "\n",
    "\n",
    "The cell below coerces the human development index to a high-med-low factor (categorical variable) using `pd.qcut(...)`. The cutoffs for the factor levels are determined by sample quantiles."
   ]
  },
  {
   "cell_type": "code",
   "execution_count": 6,
   "metadata": {},
   "outputs": [
    {
     "data": {
      "text/html": [
       "<div>\n",
       "<style scoped>\n",
       "    .dataframe tbody tr th:only-of-type {\n",
       "        vertical-align: middle;\n",
       "    }\n",
       "\n",
       "    .dataframe tbody tr th {\n",
       "        vertical-align: top;\n",
       "    }\n",
       "\n",
       "    .dataframe thead th {\n",
       "        text-align: right;\n",
       "    }\n",
       "</style>\n",
       "<table border=\"1\" class=\"dataframe\">\n",
       "  <thead>\n",
       "    <tr style=\"text-align: right;\">\n",
       "      <th></th>\n",
       "      <th>fertility_total</th>\n",
       "      <th>educ_expected_yrs_f</th>\n",
       "      <th>hdi</th>\n",
       "      <th>hdi_fac</th>\n",
       "    </tr>\n",
       "    <tr>\n",
       "      <th>Country</th>\n",
       "      <th></th>\n",
       "      <th></th>\n",
       "      <th></th>\n",
       "      <th></th>\n",
       "    </tr>\n",
       "  </thead>\n",
       "  <tbody>\n",
       "    <tr>\n",
       "      <th>Afghanistan</th>\n",
       "      <td>4.473</td>\n",
       "      <td>6.795722</td>\n",
       "      <td>0.509</td>\n",
       "      <td>1_low</td>\n",
       "    </tr>\n",
       "    <tr>\n",
       "      <th>Albania</th>\n",
       "      <td>1.617</td>\n",
       "      <td>13.201755</td>\n",
       "      <td>0.792</td>\n",
       "      <td>2_medium</td>\n",
       "    </tr>\n",
       "    <tr>\n",
       "      <th>Algeria</th>\n",
       "      <td>3.023</td>\n",
       "      <td>12.108990</td>\n",
       "      <td>0.746</td>\n",
       "      <td>2_medium</td>\n",
       "    </tr>\n",
       "  </tbody>\n",
       "</table>\n",
       "</div>"
      ],
      "text/plain": [
       "             fertility_total  educ_expected_yrs_f    hdi   hdi_fac\n",
       "Country                                                           \n",
       "Afghanistan            4.473             6.795722  0.509     1_low\n",
       "Albania                1.617            13.201755  0.792  2_medium\n",
       "Algeria                3.023            12.108990  0.746  2_medium"
      ]
     },
     "execution_count": 6,
     "metadata": {},
     "output_type": "execute_result"
    }
   ],
   "source": [
    "# labels for the factor\n",
    "hdi_labels = ['1_low', '2_medium', '3_high']\n",
    "\n",
    "# cut hdi based on quantiles and store as new variable\n",
    "reg_data['hdi_fac'] = pd.qcut(reg_data.hdi, \n",
    "                              q = 3, \n",
    "                              labels = hdi_labels)\n",
    "\n",
    "# preview\n",
    "reg_data.head(3)"
   ]
  },
  {
   "cell_type": "markdown",
   "metadata": {
    "deletable": false,
    "editable": false
   },
   "source": [
    "<!-- BEGIN QUESTION -->\n",
    "\n",
    "### Q0 (b) Scatter by HDI level\n",
    "\n",
    "#### (i) Add HDI level\n",
    "\n",
    "Modify your plot from Q0 (a) so that points are colored according to the corresponding country's level of human development. Make sure you choose appropriate labels for your axes and plot. Store this plot as `scatter` and display the graphic.\n",
    "\n",
    "<!--\n",
    "BEGIN QUESTION\n",
    "name: q0_b_i\n",
    "points: 1\n",
    "manual: true\n",
    "-->"
   ]
  },
  {
   "cell_type": "code",
   "execution_count": 7,
   "metadata": {},
   "outputs": [
    {
     "data": {
      "text/html": [
       "\n",
       "<div id=\"altair-viz-25676ba0590e45d1b32c39938b0ecf45\"></div>\n",
       "<script type=\"text/javascript\">\n",
       "  var VEGA_DEBUG = (typeof VEGA_DEBUG == \"undefined\") ? {} : VEGA_DEBUG;\n",
       "  (function(spec, embedOpt){\n",
       "    let outputDiv = document.currentScript.previousElementSibling;\n",
       "    if (outputDiv.id !== \"altair-viz-25676ba0590e45d1b32c39938b0ecf45\") {\n",
       "      outputDiv = document.getElementById(\"altair-viz-25676ba0590e45d1b32c39938b0ecf45\");\n",
       "    }\n",
       "    const paths = {\n",
       "      \"vega\": \"https://cdn.jsdelivr.net/npm//vega@5?noext\",\n",
       "      \"vega-lib\": \"https://cdn.jsdelivr.net/npm//vega-lib?noext\",\n",
       "      \"vega-lite\": \"https://cdn.jsdelivr.net/npm//vega-lite@4.17.0?noext\",\n",
       "      \"vega-embed\": \"https://cdn.jsdelivr.net/npm//vega-embed@6?noext\",\n",
       "    };\n",
       "\n",
       "    function maybeLoadScript(lib, version) {\n",
       "      var key = `${lib.replace(\"-\", \"\")}_version`;\n",
       "      return (VEGA_DEBUG[key] == version) ?\n",
       "        Promise.resolve(paths[lib]) :\n",
       "        new Promise(function(resolve, reject) {\n",
       "          var s = document.createElement('script');\n",
       "          document.getElementsByTagName(\"head\")[0].appendChild(s);\n",
       "          s.async = true;\n",
       "          s.onload = () => {\n",
       "            VEGA_DEBUG[key] = version;\n",
       "            return resolve(paths[lib]);\n",
       "          };\n",
       "          s.onerror = () => reject(`Error loading script: ${paths[lib]}`);\n",
       "          s.src = paths[lib];\n",
       "        });\n",
       "    }\n",
       "\n",
       "    function showError(err) {\n",
       "      outputDiv.innerHTML = `<div class=\"error\" style=\"color:red;\">${err}</div>`;\n",
       "      throw err;\n",
       "    }\n",
       "\n",
       "    function displayChart(vegaEmbed) {\n",
       "      vegaEmbed(outputDiv, spec, embedOpt)\n",
       "        .catch(err => showError(`Javascript Error: ${err.message}<br>This usually means there's a typo in your chart specification. See the javascript console for the full traceback.`));\n",
       "    }\n",
       "\n",
       "    if(typeof define === \"function\" && define.amd) {\n",
       "      requirejs.config({paths});\n",
       "      require([\"vega-embed\"], displayChart, err => showError(`Error loading script: ${err.message}`));\n",
       "    } else {\n",
       "      maybeLoadScript(\"vega\", \"5\")\n",
       "        .then(() => maybeLoadScript(\"vega-lite\", \"4.17.0\"))\n",
       "        .then(() => maybeLoadScript(\"vega-embed\", \"6\"))\n",
       "        .catch(showError)\n",
       "        .then(() => displayChart(vegaEmbed));\n",
       "    }\n",
       "  })({\"config\": {\"view\": {\"continuousWidth\": 400, \"continuousHeight\": 300}}, \"data\": {\"name\": \"data-55aa22b03e6d171f9a62cb1eb9279c29\"}, \"mark\": \"circle\", \"encoding\": {\"color\": {\"field\": \"hdi_fac\", \"type\": \"nominal\"}, \"x\": {\"field\": \"educ_expected_yrs_f\", \"scale\": {\"zero\": false}, \"title\": \"Expected years of education for women\", \"type\": \"quantitative\"}, \"y\": {\"field\": \"fertility_total\", \"scale\": {\"zero\": false}, \"title\": \"Fertility rate\", \"type\": \"quantitative\"}}, \"$schema\": \"https://vega.github.io/schema/vega-lite/v4.17.0.json\", \"datasets\": {\"data-55aa22b03e6d171f9a62cb1eb9279c29\": [{\"fertility_total\": 4.473, \"educ_expected_yrs_f\": 6.795722485, \"hdi\": 0.509, \"hdi_fac\": \"1_low\"}, {\"fertility_total\": 1.617, \"educ_expected_yrs_f\": 13.20175457, \"hdi\": 0.792, \"hdi_fac\": \"2_medium\"}, {\"fertility_total\": 3.023, \"educ_expected_yrs_f\": 12.10898972, \"hdi\": 0.746, \"hdi_fac\": \"2_medium\"}, {\"fertility_total\": 5.519, \"educ_expected_yrs_f\": 6.973901272000001, \"hdi\": 0.5820000000000001, \"hdi_fac\": \"1_low\"}, {\"fertility_total\": 1.994, \"educ_expected_yrs_f\": 12.91444111, \"hdi\": 0.772, \"hdi_fac\": \"2_medium\"}, {\"fertility_total\": 2.261, \"educ_expected_yrs_f\": 13.06125259, \"hdi\": 0.8420000000000001, \"hdi_fac\": \"3_high\"}, {\"fertility_total\": 1.755, \"educ_expected_yrs_f\": 11.62581253, \"hdi\": 0.7709999999999999, \"hdi_fac\": \"2_medium\"}, {\"fertility_total\": 1.74, \"educ_expected_yrs_f\": 13.62022209, \"hdi\": 0.943, \"hdi_fac\": \"3_high\"}, {\"fertility_total\": 1.47, \"educ_expected_yrs_f\": 13.46689415, \"hdi\": 0.921, \"hdi_fac\": \"3_high\"}, {\"fertility_total\": 1.73, \"educ_expected_yrs_f\": 12.44501495, \"hdi\": 0.754, \"hdi_fac\": \"2_medium\"}, {\"fertility_total\": 1.987, \"educ_expected_yrs_f\": 13.27036572, \"hdi\": 0.852, \"hdi_fac\": \"3_high\"}, {\"fertility_total\": 2.036, \"educ_expected_yrs_f\": 10.52187443, \"hdi\": 0.625, \"hdi_fac\": \"1_low\"}, {\"fertility_total\": 1.4480000000000002, \"educ_expected_yrs_f\": 13.75893879, \"hdi\": 0.823, \"hdi_fac\": \"3_high\"}, {\"fertility_total\": 1.62, \"educ_expected_yrs_f\": 13.56679726, \"hdi\": 0.93, \"hdi_fac\": \"3_high\"}, {\"fertility_total\": 4.836, \"educ_expected_yrs_f\": 8.782134056, \"hdi\": 0.541, \"hdi_fac\": \"1_low\"}, {\"fertility_total\": 1.975, \"educ_expected_yrs_f\": 10.70332813, \"hdi\": 0.649, \"hdi_fac\": \"1_low\"}, {\"fertility_total\": 1.265, \"educ_expected_yrs_f\": 11.78481483, \"hdi\": 0.777, \"hdi_fac\": \"2_medium\"}, {\"fertility_total\": 2.874, \"educ_expected_yrs_f\": 8.500170707999999, \"hdi\": 0.73, \"hdi_fac\": \"2_medium\"}, {\"fertility_total\": 1.848, \"educ_expected_yrs_f\": 13.21317291, \"hdi\": 0.836, \"hdi_fac\": \"3_high\"}, {\"fertility_total\": 1.56, \"educ_expected_yrs_f\": 12.24310493, \"hdi\": 0.813, \"hdi_fac\": \"2_medium\"}, {\"fertility_total\": 5.189, \"educ_expected_yrs_f\": 6.696904658999999, \"hdi\": 0.4429999999999999, \"hdi_fac\": \"1_low\"}, {\"fertility_total\": 5.41, \"educ_expected_yrs_f\": 8.191820145, \"hdi\": 0.431, \"hdi_fac\": \"1_low\"}, {\"fertility_total\": 2.503, \"educ_expected_yrs_f\": 9.635119438, \"hdi\": 0.585, \"hdi_fac\": \"1_low\"}, {\"fertility_total\": 4.572, \"educ_expected_yrs_f\": 8.315596581, \"hdi\": 0.56, \"hdi_fac\": \"1_low\"}, {\"fertility_total\": 1.4988, \"educ_expected_yrs_f\": 13.709587099999998, \"hdi\": 0.928, \"hdi_fac\": \"3_high\"}, {\"fertility_total\": 4.721, \"educ_expected_yrs_f\": 3.848102808, \"hdi\": 0.395, \"hdi_fac\": \"1_low\"}, {\"fertility_total\": 5.747000000000001, \"educ_expected_yrs_f\": 4.473656654, \"hdi\": 0.397, \"hdi_fac\": \"1_low\"}, {\"fertility_total\": 1.649, \"educ_expected_yrs_f\": 13.05471802, \"hdi\": 0.8490000000000001, \"hdi_fac\": \"3_high\"}, {\"fertility_total\": 1.69, \"educ_expected_yrs_f\": 13.0906477, \"hdi\": 0.755, \"hdi_fac\": \"2_medium\"}, {\"fertility_total\": 1.807, \"educ_expected_yrs_f\": 12.70421314, \"hdi\": 0.764, \"hdi_fac\": \"2_medium\"}, {\"fertility_total\": 4.205, \"educ_expected_yrs_f\": 8.128657341, \"hdi\": 0.552, \"hdi_fac\": \"1_low\"}, {\"fertility_total\": 1.754, \"educ_expected_yrs_f\": 12.51764488, \"hdi\": 0.8079999999999999, \"hdi_fac\": \"2_medium\"}, {\"fertility_total\": 1.47, \"educ_expected_yrs_f\": 13.5518446, \"hdi\": 0.848, \"hdi_fac\": \"3_high\"}, {\"fertility_total\": 1.329, \"educ_expected_yrs_f\": 13.61954403, \"hdi\": 0.885, \"hdi_fac\": \"3_high\"}, {\"fertility_total\": 1.73, \"educ_expected_yrs_f\": 13.47161579, \"hdi\": 0.939, \"hdi_fac\": \"3_high\"}, {\"fertility_total\": 2.346, \"educ_expected_yrs_f\": 12.15325356, \"hdi\": 0.7509999999999999, \"hdi_fac\": \"2_medium\"}, {\"fertility_total\": 2.427, \"educ_expected_yrs_f\": 13.219711300000002, \"hdi\": 0.762, \"hdi_fac\": \"2_medium\"}, {\"fertility_total\": 2.039, \"educ_expected_yrs_f\": 10.9428196, \"hdi\": 0.67, \"hdi_fac\": \"2_medium\"}, {\"fertility_total\": 1.67, \"educ_expected_yrs_f\": 13.53030491, \"hdi\": 0.889, \"hdi_fac\": \"3_high\"}, {\"fertility_total\": 4.247, \"educ_expected_yrs_f\": 7.516855717, \"hdi\": 0.478, \"hdi_fac\": \"1_low\"}, {\"fertility_total\": 2.774, \"educ_expected_yrs_f\": 11.43205929, \"hdi\": 0.742, \"hdi_fac\": \"2_medium\"}, {\"fertility_total\": 1.41, \"educ_expected_yrs_f\": 13.74469662, \"hdi\": 0.937, \"hdi_fac\": \"3_high\"}, {\"fertility_total\": 1.88, \"educ_expected_yrs_f\": 13.8239584, \"hdi\": 0.898, \"hdi_fac\": \"3_high\"}, {\"fertility_total\": 3.969, \"educ_expected_yrs_f\": 8.538388252, \"hdi\": 0.6970000000000001, \"hdi_fac\": \"2_medium\"}, {\"fertility_total\": 2.06, \"educ_expected_yrs_f\": 13.02663994, \"hdi\": 0.805, \"hdi_fac\": \"2_medium\"}, {\"fertility_total\": 1.57, \"educ_expected_yrs_f\": 13.34453487, \"hdi\": 0.946, \"hdi_fac\": \"3_high\"}, {\"fertility_total\": 3.87, \"educ_expected_yrs_f\": 11.91578197, \"hdi\": 0.606, \"hdi_fac\": \"1_low\"}, {\"fertility_total\": 1.35, \"educ_expected_yrs_f\": 13.28767872, \"hdi\": 0.8809999999999999, \"hdi_fac\": \"3_high\"}, {\"fertility_total\": 2.063, \"educ_expected_yrs_f\": 13.13885593, \"hdi\": 0.773, \"hdi_fac\": \"2_medium\"}, {\"fertility_total\": 2.87, \"educ_expected_yrs_f\": 9.521496773, \"hdi\": 0.657, \"hdi_fac\": \"1_low\"}, {\"fertility_total\": 4.7, \"educ_expected_yrs_f\": 6.210740089, \"hdi\": 0.473, \"hdi_fac\": \"1_low\"}, {\"fertility_total\": 2.462, \"educ_expected_yrs_f\": 12.30990696, \"hdi\": 0.68, \"hdi_fac\": \"2_medium\"}, {\"fertility_total\": 2.935, \"educ_expected_yrs_f\": 11.44699955, \"hdi\": 0.508, \"hdi_fac\": \"1_low\"}, {\"fertility_total\": 2.46, \"educ_expected_yrs_f\": 9.822359085, \"hdi\": 0.633, \"hdi_fac\": \"1_low\"}, {\"fertility_total\": 1.55, \"educ_expected_yrs_f\": 12.96164417, \"hdi\": 0.85, \"hdi_fac\": \"3_high\"}, {\"fertility_total\": 1.71, \"educ_expected_yrs_f\": 13.54500961, \"hdi\": 0.946, \"hdi_fac\": \"3_high\"}, {\"fertility_total\": 2.222, \"educ_expected_yrs_f\": 10.93618393, \"hdi\": 0.642, \"hdi_fac\": \"1_low\"}, {\"fertility_total\": 2.311, \"educ_expected_yrs_f\": 12.41253376, \"hdi\": 0.7120000000000001, \"hdi_fac\": \"2_medium\"}, {\"fertility_total\": 3.672, \"educ_expected_yrs_f\": 7.038986206000001, \"hdi\": 0.6709999999999999, \"hdi_fac\": \"2_medium\"}, {\"fertility_total\": 1.75, \"educ_expected_yrs_f\": 13.92032051, \"hdi\": 0.951, \"hdi_fac\": \"3_high\"}, {\"fertility_total\": 3.09, \"educ_expected_yrs_f\": 13.90762043, \"hdi\": 0.916, \"hdi_fac\": \"3_high\"}, {\"fertility_total\": 1.29, \"educ_expected_yrs_f\": 13.31961727, \"hdi\": 0.89, \"hdi_fac\": \"3_high\"}, {\"fertility_total\": 1.979, \"educ_expected_yrs_f\": 11.82789326, \"hdi\": 0.7340000000000001, \"hdi_fac\": \"2_medium\"}, {\"fertility_total\": 2.761, \"educ_expected_yrs_f\": 11.72220421, \"hdi\": 0.728, \"hdi_fac\": \"2_medium\"}, {\"fertility_total\": 2.84, \"educ_expected_yrs_f\": 13.86884308, \"hdi\": 0.8190000000000001, \"hdi_fac\": \"3_high\"}, {\"fertility_total\": 3.492, \"educ_expected_yrs_f\": 11.30184937, \"hdi\": 0.599, \"hdi_fac\": \"1_low\"}, {\"fertility_total\": 3.569, \"educ_expected_yrs_f\": 11.82059479, \"hdi\": 0.628, \"hdi_fac\": \"1_low\"}, {\"fertility_total\": 2.082, \"educ_expected_yrs_f\": 12.40283394, \"hdi\": 0.807, \"hdi_fac\": \"2_medium\"}, {\"fertility_total\": 1.6, \"educ_expected_yrs_f\": 13.7176199, \"hdi\": 0.863, \"hdi_fac\": \"3_high\"}, {\"fertility_total\": 3.141, \"educ_expected_yrs_f\": 10.41264439, \"hdi\": 0.522, \"hdi_fac\": \"1_low\"}, {\"fertility_total\": 4.315, \"educ_expected_yrs_f\": 4.166073798999999, \"hdi\": 0.48, \"hdi_fac\": \"1_low\"}, {\"fertility_total\": 1.63, \"educ_expected_yrs_f\": 13.88928127, \"hdi\": 0.8759999999999999, \"hdi_fac\": \"3_high\"}, {\"fertility_total\": 1.38, \"educ_expected_yrs_f\": 12.47436428, \"hdi\": 0.913, \"hdi_fac\": \"3_high\"}, {\"fertility_total\": 4.077, \"educ_expected_yrs_f\": 8.609224318999999, \"hdi\": 0.527, \"hdi_fac\": \"1_low\"}, {\"fertility_total\": 4.209, \"educ_expected_yrs_f\": 9.583486557, \"hdi\": 0.478, \"hdi_fac\": \"1_low\"}, {\"fertility_total\": 2.001, \"educ_expected_yrs_f\": 12.68888378, \"hdi\": 0.805, \"hdi_fac\": \"2_medium\"}, {\"fertility_total\": 5.877000000000001, \"educ_expected_yrs_f\": 5.42065239, \"hdi\": 0.431, \"hdi_fac\": \"1_low\"}, {\"fertility_total\": 1.23, \"educ_expected_yrs_f\": 13.50980282, \"hdi\": 0.894, \"hdi_fac\": \"3_high\"}, {\"fertility_total\": 4.561, \"educ_expected_yrs_f\": 7.564128876, \"hdi\": 0.542, \"hdi_fac\": \"1_low\"}, {\"fertility_total\": 1.41, \"educ_expected_yrs_f\": 12.77645302, \"hdi\": 0.8009999999999999, \"hdi_fac\": \"2_medium\"}, {\"fertility_total\": 2.129, \"educ_expected_yrs_f\": 12.97874069, \"hdi\": 0.7759999999999999, \"hdi_fac\": \"2_medium\"}, {\"fertility_total\": 2.895, \"educ_expected_yrs_f\": 13.25112915, \"hdi\": 0.735, \"hdi_fac\": \"2_medium\"}, {\"fertility_total\": 1.745, \"educ_expected_yrs_f\": 12.64217091, \"hdi\": 0.826, \"hdi_fac\": \"3_high\"}, {\"fertility_total\": 2.415, \"educ_expected_yrs_f\": 10.41762161, \"hdi\": 0.68, \"hdi_fac\": \"2_medium\"}, {\"fertility_total\": 2.154, \"educ_expected_yrs_f\": 9.829102516, \"hdi\": 0.579, \"hdi_fac\": \"1_low\"}, {\"fertility_total\": 3.3960000000000004, \"educ_expected_yrs_f\": 9.723130226, \"hdi\": 0.645, \"hdi_fac\": \"1_low\"}, {\"fertility_total\": 1.917, \"educ_expected_yrs_f\": 12.0131464, \"hdi\": 0.596, \"hdi_fac\": \"1_low\"}, {\"fertility_total\": 1.59, \"educ_expected_yrs_f\": 13.92983341, \"hdi\": 0.942, \"hdi_fac\": \"3_high\"}, {\"fertility_total\": 1.71, \"educ_expected_yrs_f\": 13.77946663, \"hdi\": 0.928, \"hdi_fac\": \"3_high\"}, {\"fertility_total\": 2.404, \"educ_expected_yrs_f\": 11.10092926, \"hdi\": 0.659, \"hdi_fac\": \"1_low\"}, {\"fertility_total\": 6.912999999999999, \"educ_expected_yrs_f\": 5.059231758, \"hdi\": 0.391, \"hdi_fac\": \"1_low\"}, {\"fertility_total\": 5.3870000000000005, \"educ_expected_yrs_f\": 10.09999943, \"hdi\": 0.534, \"hdi_fac\": \"1_low\"}, {\"fertility_total\": 1.496, \"educ_expected_yrs_f\": 11.08503532, \"hdi\": 0.77, \"hdi_fac\": \"2_medium\"}, {\"fertility_total\": 1.56, \"educ_expected_yrs_f\": 13.67211056, \"hdi\": 0.956, \"hdi_fac\": \"3_high\"}, {\"fertility_total\": 2.888, \"educ_expected_yrs_f\": 13.10266685, \"hdi\": 0.813, \"hdi_fac\": \"2_medium\"}, {\"fertility_total\": 3.51, \"educ_expected_yrs_f\": 8.687153816, \"hdi\": 0.552, \"hdi_fac\": \"1_low\"}, {\"fertility_total\": 2.461, \"educ_expected_yrs_f\": 10.88493347, \"hdi\": 0.812, \"hdi_fac\": \"2_medium\"}, {\"fertility_total\": 3.564, \"educ_expected_yrs_f\": 9.818692207, \"hdi\": 0.5489999999999999, \"hdi_fac\": \"1_low\"}, {\"fertility_total\": 2.4290000000000003, \"educ_expected_yrs_f\": 11.26677418, \"hdi\": 0.727, \"hdi_fac\": \"2_medium\"}, {\"fertility_total\": 2.254, \"educ_expected_yrs_f\": 12.89012051, \"hdi\": 0.7709999999999999, \"hdi_fac\": \"2_medium\"}, {\"fertility_total\": 2.576, \"educ_expected_yrs_f\": 13.04763317, \"hdi\": 0.711, \"hdi_fac\": \"2_medium\"}, {\"fertility_total\": 1.46, \"educ_expected_yrs_f\": 13.45503712, \"hdi\": 0.877, \"hdi_fac\": \"3_high\"}, {\"fertility_total\": 1.42, \"educ_expected_yrs_f\": 13.82900047, \"hdi\": 0.86, \"hdi_fac\": \"3_high\"}, {\"fertility_total\": 1.866, \"educ_expected_yrs_f\": 12.7883606, \"hdi\": 0.845, \"hdi_fac\": \"3_high\"}, {\"fertility_total\": 1.76, \"educ_expected_yrs_f\": 11.98094845, \"hdi\": 0.823, \"hdi_fac\": \"3_high\"}, {\"fertility_total\": 1.579, \"educ_expected_yrs_f\": 13.68534756, \"hdi\": 0.823, \"hdi_fac\": \"3_high\"}, {\"fertility_total\": 4.044, \"educ_expected_yrs_f\": 6.980305195, \"hdi\": 0.54, \"hdi_fac\": \"1_low\"}, {\"fertility_total\": 3.877, \"educ_expected_yrs_f\": 12.44684696, \"hdi\": 0.7090000000000001, \"hdi_fac\": \"2_medium\"}, {\"fertility_total\": 2.319, \"educ_expected_yrs_f\": 12.26758575, \"hdi\": 0.8540000000000001, \"hdi_fac\": \"3_high\"}, {\"fertility_total\": 4.625, \"educ_expected_yrs_f\": 7.849748135, \"hdi\": 0.516, \"hdi_fac\": \"1_low\"}, {\"fertility_total\": 1.49, \"educ_expected_yrs_f\": 13.49239731, \"hdi\": 0.8029999999999999, \"hdi_fac\": \"2_medium\"}, {\"fertility_total\": 2.41, \"educ_expected_yrs_f\": 13.53542233, \"hdi\": 0.79, \"hdi_fac\": \"2_medium\"}, {\"fertility_total\": 4.263, \"educ_expected_yrs_f\": 9.282006264, \"hdi\": 0.447, \"hdi_fac\": \"1_low\"}, {\"fertility_total\": 1.14, \"educ_expected_yrs_f\": 13.90422153, \"hdi\": 0.936, \"hdi_fac\": \"3_high\"}, {\"fertility_total\": 1.61, \"educ_expected_yrs_f\": 13.71750641, \"hdi\": 0.912, \"hdi_fac\": \"3_high\"}, {\"fertility_total\": 4.4030000000000005, \"educ_expected_yrs_f\": 8.841700553999999, \"hdi\": 0.564, \"hdi_fac\": \"1_low\"}, {\"fertility_total\": 2.405, \"educ_expected_yrs_f\": 10.11397743, \"hdi\": 0.7070000000000001, \"hdi_fac\": \"2_medium\"}, {\"fertility_total\": 4.696000000000001, \"educ_expected_yrs_f\": 3.916237831, \"hdi\": 0.429, \"hdi_fac\": \"1_low\"}, {\"fertility_total\": 1.26, \"educ_expected_yrs_f\": 13.08606815, \"hdi\": 0.905, \"hdi_fac\": \"3_high\"}, {\"fertility_total\": 2.199, \"educ_expected_yrs_f\": 13.11488724, \"hdi\": 0.779, \"hdi_fac\": \"2_medium\"}, {\"fertility_total\": 4.407, \"educ_expected_yrs_f\": 6.943500996, \"hdi\": 0.506, \"hdi_fac\": \"1_low\"}, {\"fertility_total\": 1.76, \"educ_expected_yrs_f\": 13.90402126, \"hdi\": 0.943, \"hdi_fac\": \"3_high\"}, {\"fertility_total\": 1.52, \"educ_expected_yrs_f\": 13.21845913, \"hdi\": 0.955, \"hdi_fac\": \"3_high\"}, {\"fertility_total\": 3.585, \"educ_expected_yrs_f\": 10.43918705, \"hdi\": 0.6609999999999999, \"hdi_fac\": \"1_low\"}, {\"fertility_total\": 1.525, \"educ_expected_yrs_f\": 12.644207000000002, \"hdi\": 0.772, \"hdi_fac\": \"2_medium\"}, {\"fertility_total\": 4.023, \"educ_expected_yrs_f\": 10.87477875, \"hdi\": 0.599, \"hdi_fac\": \"1_low\"}, {\"fertility_total\": 4.32, \"educ_expected_yrs_f\": 9.123530388, \"hdi\": 0.51, \"hdi_fac\": \"1_low\"}, {\"fertility_total\": 3.556, \"educ_expected_yrs_f\": 11.83284092, \"hdi\": 0.723, \"hdi_fac\": \"2_medium\"}, {\"fertility_total\": 2.197, \"educ_expected_yrs_f\": 10.95233727, \"hdi\": 0.738, \"hdi_fac\": \"2_medium\"}, {\"fertility_total\": 2.069, \"educ_expected_yrs_f\": 11.99552917, \"hdi\": 0.8170000000000001, \"hdi_fac\": \"3_high\"}, {\"fertility_total\": 1.301, \"educ_expected_yrs_f\": 13.00567055, \"hdi\": 0.774, \"hdi_fac\": \"2_medium\"}, {\"fertility_total\": 1.413, \"educ_expected_yrs_f\": 13.1702652, \"hdi\": 0.889, \"hdi_fac\": \"3_high\"}, {\"fertility_total\": 1.68, \"educ_expected_yrs_f\": 13.85765934, \"hdi\": 0.928, \"hdi_fac\": \"3_high\"}, {\"fertility_total\": 1.7295, \"educ_expected_yrs_f\": 12.93639374, \"hdi\": 0.925, \"hdi_fac\": \"3_high\"}, {\"fertility_total\": 1.973, \"educ_expected_yrs_f\": 12.47761631, \"hdi\": 0.816, \"hdi_fac\": \"2_medium\"}, {\"fertility_total\": 2.604, \"educ_expected_yrs_f\": 12.00484753, \"hdi\": 0.7170000000000001, \"hdi_fac\": \"2_medium\"}, {\"fertility_total\": 3.782, \"educ_expected_yrs_f\": 10.13373089, \"hdi\": 0.603, \"hdi_fac\": \"1_low\"}, {\"fertility_total\": 4.633, \"educ_expected_yrs_f\": 8.745135307, \"hdi\": 0.5820000000000001, \"hdi_fac\": \"1_low\"}, {\"fertility_total\": 3.615, \"educ_expected_yrs_f\": 10.97491837, \"hdi\": 0.569, \"hdi_fac\": \"1_low\"}]}}, {\"mode\": \"vega-lite\"});\n",
       "</script>"
      ],
      "text/plain": [
       "alt.Chart(...)"
      ]
     },
     "execution_count": 7,
     "metadata": {},
     "output_type": "execute_result"
    }
   ],
   "source": [
    "scatter = simple_scatter.encode(color = 'hdi_fac')\n",
    "scatter"
   ]
  },
  {
   "cell_type": "markdown",
   "metadata": {
    "deletable": false,
    "editable": false
   },
   "source": [
    "<!-- END QUESTION -->\n",
    "\n",
    "<!-- BEGIN QUESTION -->\n",
    "\n",
    "#### (ii) Adjust axis scales\n",
    "\n",
    "Notice that the scatter is clumped together densely in the lower right corner. To better see what's happening in that region, modify your codes for constructing `scatter` so that your axis specifications for both axes include `alt.Scale(zero = False, type = 'pow', exponent = ...)`. Make sure you choose appropriate labels for your axes and plot.\n",
    "\n",
    "This will display the axes on a power-transformed scale with an exponent of your choosing. Use an exponent around 2.5 for the education axis, and an exponent around 1/3 for the fertility axis. Store the plot as `scatter_scaled` and display the result.\n",
    "\n",
    "<!--\n",
    "BEGIN QUESTION\n",
    "name: q0_b_ii\n",
    "points: 1\n",
    "manual: true\n",
    "-->"
   ]
  },
  {
   "cell_type": "code",
   "execution_count": 8,
   "metadata": {},
   "outputs": [
    {
     "data": {
      "text/html": [
       "\n",
       "<div id=\"altair-viz-832c07a5a8a742c49d11480907c04b66\"></div>\n",
       "<script type=\"text/javascript\">\n",
       "  var VEGA_DEBUG = (typeof VEGA_DEBUG == \"undefined\") ? {} : VEGA_DEBUG;\n",
       "  (function(spec, embedOpt){\n",
       "    let outputDiv = document.currentScript.previousElementSibling;\n",
       "    if (outputDiv.id !== \"altair-viz-832c07a5a8a742c49d11480907c04b66\") {\n",
       "      outputDiv = document.getElementById(\"altair-viz-832c07a5a8a742c49d11480907c04b66\");\n",
       "    }\n",
       "    const paths = {\n",
       "      \"vega\": \"https://cdn.jsdelivr.net/npm//vega@5?noext\",\n",
       "      \"vega-lib\": \"https://cdn.jsdelivr.net/npm//vega-lib?noext\",\n",
       "      \"vega-lite\": \"https://cdn.jsdelivr.net/npm//vega-lite@4.17.0?noext\",\n",
       "      \"vega-embed\": \"https://cdn.jsdelivr.net/npm//vega-embed@6?noext\",\n",
       "    };\n",
       "\n",
       "    function maybeLoadScript(lib, version) {\n",
       "      var key = `${lib.replace(\"-\", \"\")}_version`;\n",
       "      return (VEGA_DEBUG[key] == version) ?\n",
       "        Promise.resolve(paths[lib]) :\n",
       "        new Promise(function(resolve, reject) {\n",
       "          var s = document.createElement('script');\n",
       "          document.getElementsByTagName(\"head\")[0].appendChild(s);\n",
       "          s.async = true;\n",
       "          s.onload = () => {\n",
       "            VEGA_DEBUG[key] = version;\n",
       "            return resolve(paths[lib]);\n",
       "          };\n",
       "          s.onerror = () => reject(`Error loading script: ${paths[lib]}`);\n",
       "          s.src = paths[lib];\n",
       "        });\n",
       "    }\n",
       "\n",
       "    function showError(err) {\n",
       "      outputDiv.innerHTML = `<div class=\"error\" style=\"color:red;\">${err}</div>`;\n",
       "      throw err;\n",
       "    }\n",
       "\n",
       "    function displayChart(vegaEmbed) {\n",
       "      vegaEmbed(outputDiv, spec, embedOpt)\n",
       "        .catch(err => showError(`Javascript Error: ${err.message}<br>This usually means there's a typo in your chart specification. See the javascript console for the full traceback.`));\n",
       "    }\n",
       "\n",
       "    if(typeof define === \"function\" && define.amd) {\n",
       "      requirejs.config({paths});\n",
       "      require([\"vega-embed\"], displayChart, err => showError(`Error loading script: ${err.message}`));\n",
       "    } else {\n",
       "      maybeLoadScript(\"vega\", \"5\")\n",
       "        .then(() => maybeLoadScript(\"vega-lite\", \"4.17.0\"))\n",
       "        .then(() => maybeLoadScript(\"vega-embed\", \"6\"))\n",
       "        .catch(showError)\n",
       "        .then(() => displayChart(vegaEmbed));\n",
       "    }\n",
       "  })({\"config\": {\"view\": {\"continuousWidth\": 400, \"continuousHeight\": 300}}, \"data\": {\"name\": \"data-55aa22b03e6d171f9a62cb1eb9279c29\"}, \"mark\": \"circle\", \"encoding\": {\"color\": {\"field\": \"hdi_fac\", \"title\": \"Level of Human development\", \"type\": \"nominal\"}, \"x\": {\"field\": \"educ_expected_yrs_f\", \"scale\": {\"exponent\": 2.5, \"type\": \"pow\", \"zero\": false}, \"title\": \"Expected years of education for women\", \"type\": \"quantitative\"}, \"y\": {\"field\": \"fertility_total\", \"scale\": {\"exponent\": 0.3333333333333333, \"type\": \"pow\", \"zero\": false}, \"title\": \"Fertility rate\", \"type\": \"quantitative\"}}, \"$schema\": \"https://vega.github.io/schema/vega-lite/v4.17.0.json\", \"datasets\": {\"data-55aa22b03e6d171f9a62cb1eb9279c29\": [{\"fertility_total\": 4.473, \"educ_expected_yrs_f\": 6.795722485, \"hdi\": 0.509, \"hdi_fac\": \"1_low\"}, {\"fertility_total\": 1.617, \"educ_expected_yrs_f\": 13.20175457, \"hdi\": 0.792, \"hdi_fac\": \"2_medium\"}, {\"fertility_total\": 3.023, \"educ_expected_yrs_f\": 12.10898972, \"hdi\": 0.746, \"hdi_fac\": \"2_medium\"}, {\"fertility_total\": 5.519, \"educ_expected_yrs_f\": 6.973901272000001, \"hdi\": 0.5820000000000001, \"hdi_fac\": \"1_low\"}, {\"fertility_total\": 1.994, \"educ_expected_yrs_f\": 12.91444111, \"hdi\": 0.772, \"hdi_fac\": \"2_medium\"}, {\"fertility_total\": 2.261, \"educ_expected_yrs_f\": 13.06125259, \"hdi\": 0.8420000000000001, \"hdi_fac\": \"3_high\"}, {\"fertility_total\": 1.755, \"educ_expected_yrs_f\": 11.62581253, \"hdi\": 0.7709999999999999, \"hdi_fac\": \"2_medium\"}, {\"fertility_total\": 1.74, \"educ_expected_yrs_f\": 13.62022209, \"hdi\": 0.943, \"hdi_fac\": \"3_high\"}, {\"fertility_total\": 1.47, \"educ_expected_yrs_f\": 13.46689415, \"hdi\": 0.921, \"hdi_fac\": \"3_high\"}, {\"fertility_total\": 1.73, \"educ_expected_yrs_f\": 12.44501495, \"hdi\": 0.754, \"hdi_fac\": \"2_medium\"}, {\"fertility_total\": 1.987, \"educ_expected_yrs_f\": 13.27036572, \"hdi\": 0.852, \"hdi_fac\": \"3_high\"}, {\"fertility_total\": 2.036, \"educ_expected_yrs_f\": 10.52187443, \"hdi\": 0.625, \"hdi_fac\": \"1_low\"}, {\"fertility_total\": 1.4480000000000002, \"educ_expected_yrs_f\": 13.75893879, \"hdi\": 0.823, \"hdi_fac\": \"3_high\"}, {\"fertility_total\": 1.62, \"educ_expected_yrs_f\": 13.56679726, \"hdi\": 0.93, \"hdi_fac\": \"3_high\"}, {\"fertility_total\": 4.836, \"educ_expected_yrs_f\": 8.782134056, \"hdi\": 0.541, \"hdi_fac\": \"1_low\"}, {\"fertility_total\": 1.975, \"educ_expected_yrs_f\": 10.70332813, \"hdi\": 0.649, \"hdi_fac\": \"1_low\"}, {\"fertility_total\": 1.265, \"educ_expected_yrs_f\": 11.78481483, \"hdi\": 0.777, \"hdi_fac\": \"2_medium\"}, {\"fertility_total\": 2.874, \"educ_expected_yrs_f\": 8.500170707999999, \"hdi\": 0.73, \"hdi_fac\": \"2_medium\"}, {\"fertility_total\": 1.848, \"educ_expected_yrs_f\": 13.21317291, \"hdi\": 0.836, \"hdi_fac\": \"3_high\"}, {\"fertility_total\": 1.56, \"educ_expected_yrs_f\": 12.24310493, \"hdi\": 0.813, \"hdi_fac\": \"2_medium\"}, {\"fertility_total\": 5.189, \"educ_expected_yrs_f\": 6.696904658999999, \"hdi\": 0.4429999999999999, \"hdi_fac\": \"1_low\"}, {\"fertility_total\": 5.41, \"educ_expected_yrs_f\": 8.191820145, \"hdi\": 0.431, \"hdi_fac\": \"1_low\"}, {\"fertility_total\": 2.503, \"educ_expected_yrs_f\": 9.635119438, \"hdi\": 0.585, \"hdi_fac\": \"1_low\"}, {\"fertility_total\": 4.572, \"educ_expected_yrs_f\": 8.315596581, \"hdi\": 0.56, \"hdi_fac\": \"1_low\"}, {\"fertility_total\": 1.4988, \"educ_expected_yrs_f\": 13.709587099999998, \"hdi\": 0.928, \"hdi_fac\": \"3_high\"}, {\"fertility_total\": 4.721, \"educ_expected_yrs_f\": 3.848102808, \"hdi\": 0.395, \"hdi_fac\": \"1_low\"}, {\"fertility_total\": 5.747000000000001, \"educ_expected_yrs_f\": 4.473656654, \"hdi\": 0.397, \"hdi_fac\": \"1_low\"}, {\"fertility_total\": 1.649, \"educ_expected_yrs_f\": 13.05471802, \"hdi\": 0.8490000000000001, \"hdi_fac\": \"3_high\"}, {\"fertility_total\": 1.69, \"educ_expected_yrs_f\": 13.0906477, \"hdi\": 0.755, \"hdi_fac\": \"2_medium\"}, {\"fertility_total\": 1.807, \"educ_expected_yrs_f\": 12.70421314, \"hdi\": 0.764, \"hdi_fac\": \"2_medium\"}, {\"fertility_total\": 4.205, \"educ_expected_yrs_f\": 8.128657341, \"hdi\": 0.552, \"hdi_fac\": \"1_low\"}, {\"fertility_total\": 1.754, \"educ_expected_yrs_f\": 12.51764488, \"hdi\": 0.8079999999999999, \"hdi_fac\": \"2_medium\"}, {\"fertility_total\": 1.47, \"educ_expected_yrs_f\": 13.5518446, \"hdi\": 0.848, \"hdi_fac\": \"3_high\"}, {\"fertility_total\": 1.329, \"educ_expected_yrs_f\": 13.61954403, \"hdi\": 0.885, \"hdi_fac\": \"3_high\"}, {\"fertility_total\": 1.73, \"educ_expected_yrs_f\": 13.47161579, \"hdi\": 0.939, \"hdi_fac\": \"3_high\"}, {\"fertility_total\": 2.346, \"educ_expected_yrs_f\": 12.15325356, \"hdi\": 0.7509999999999999, \"hdi_fac\": \"2_medium\"}, {\"fertility_total\": 2.427, \"educ_expected_yrs_f\": 13.219711300000002, \"hdi\": 0.762, \"hdi_fac\": \"2_medium\"}, {\"fertility_total\": 2.039, \"educ_expected_yrs_f\": 10.9428196, \"hdi\": 0.67, \"hdi_fac\": \"2_medium\"}, {\"fertility_total\": 1.67, \"educ_expected_yrs_f\": 13.53030491, \"hdi\": 0.889, \"hdi_fac\": \"3_high\"}, {\"fertility_total\": 4.247, \"educ_expected_yrs_f\": 7.516855717, \"hdi\": 0.478, \"hdi_fac\": \"1_low\"}, {\"fertility_total\": 2.774, \"educ_expected_yrs_f\": 11.43205929, \"hdi\": 0.742, \"hdi_fac\": \"2_medium\"}, {\"fertility_total\": 1.41, \"educ_expected_yrs_f\": 13.74469662, \"hdi\": 0.937, \"hdi_fac\": \"3_high\"}, {\"fertility_total\": 1.88, \"educ_expected_yrs_f\": 13.8239584, \"hdi\": 0.898, \"hdi_fac\": \"3_high\"}, {\"fertility_total\": 3.969, \"educ_expected_yrs_f\": 8.538388252, \"hdi\": 0.6970000000000001, \"hdi_fac\": \"2_medium\"}, {\"fertility_total\": 2.06, \"educ_expected_yrs_f\": 13.02663994, \"hdi\": 0.805, \"hdi_fac\": \"2_medium\"}, {\"fertility_total\": 1.57, \"educ_expected_yrs_f\": 13.34453487, \"hdi\": 0.946, \"hdi_fac\": \"3_high\"}, {\"fertility_total\": 3.87, \"educ_expected_yrs_f\": 11.91578197, \"hdi\": 0.606, \"hdi_fac\": \"1_low\"}, {\"fertility_total\": 1.35, \"educ_expected_yrs_f\": 13.28767872, \"hdi\": 0.8809999999999999, \"hdi_fac\": \"3_high\"}, {\"fertility_total\": 2.063, \"educ_expected_yrs_f\": 13.13885593, \"hdi\": 0.773, \"hdi_fac\": \"2_medium\"}, {\"fertility_total\": 2.87, \"educ_expected_yrs_f\": 9.521496773, \"hdi\": 0.657, \"hdi_fac\": \"1_low\"}, {\"fertility_total\": 4.7, \"educ_expected_yrs_f\": 6.210740089, \"hdi\": 0.473, \"hdi_fac\": \"1_low\"}, {\"fertility_total\": 2.462, \"educ_expected_yrs_f\": 12.30990696, \"hdi\": 0.68, \"hdi_fac\": \"2_medium\"}, {\"fertility_total\": 2.935, \"educ_expected_yrs_f\": 11.44699955, \"hdi\": 0.508, \"hdi_fac\": \"1_low\"}, {\"fertility_total\": 2.46, \"educ_expected_yrs_f\": 9.822359085, \"hdi\": 0.633, \"hdi_fac\": \"1_low\"}, {\"fertility_total\": 1.55, \"educ_expected_yrs_f\": 12.96164417, \"hdi\": 0.85, \"hdi_fac\": \"3_high\"}, {\"fertility_total\": 1.71, \"educ_expected_yrs_f\": 13.54500961, \"hdi\": 0.946, \"hdi_fac\": \"3_high\"}, {\"fertility_total\": 2.222, \"educ_expected_yrs_f\": 10.93618393, \"hdi\": 0.642, \"hdi_fac\": \"1_low\"}, {\"fertility_total\": 2.311, \"educ_expected_yrs_f\": 12.41253376, \"hdi\": 0.7120000000000001, \"hdi_fac\": \"2_medium\"}, {\"fertility_total\": 3.672, \"educ_expected_yrs_f\": 7.038986206000001, \"hdi\": 0.6709999999999999, \"hdi_fac\": \"2_medium\"}, {\"fertility_total\": 1.75, \"educ_expected_yrs_f\": 13.92032051, \"hdi\": 0.951, \"hdi_fac\": \"3_high\"}, {\"fertility_total\": 3.09, \"educ_expected_yrs_f\": 13.90762043, \"hdi\": 0.916, \"hdi_fac\": \"3_high\"}, {\"fertility_total\": 1.29, \"educ_expected_yrs_f\": 13.31961727, \"hdi\": 0.89, \"hdi_fac\": \"3_high\"}, {\"fertility_total\": 1.979, \"educ_expected_yrs_f\": 11.82789326, \"hdi\": 0.7340000000000001, \"hdi_fac\": \"2_medium\"}, {\"fertility_total\": 2.761, \"educ_expected_yrs_f\": 11.72220421, \"hdi\": 0.728, \"hdi_fac\": \"2_medium\"}, {\"fertility_total\": 2.84, \"educ_expected_yrs_f\": 13.86884308, \"hdi\": 0.8190000000000001, \"hdi_fac\": \"3_high\"}, {\"fertility_total\": 3.492, \"educ_expected_yrs_f\": 11.30184937, \"hdi\": 0.599, \"hdi_fac\": \"1_low\"}, {\"fertility_total\": 3.569, \"educ_expected_yrs_f\": 11.82059479, \"hdi\": 0.628, \"hdi_fac\": \"1_low\"}, {\"fertility_total\": 2.082, \"educ_expected_yrs_f\": 12.40283394, \"hdi\": 0.807, \"hdi_fac\": \"2_medium\"}, {\"fertility_total\": 1.6, \"educ_expected_yrs_f\": 13.7176199, \"hdi\": 0.863, \"hdi_fac\": \"3_high\"}, {\"fertility_total\": 3.141, \"educ_expected_yrs_f\": 10.41264439, \"hdi\": 0.522, \"hdi_fac\": \"1_low\"}, {\"fertility_total\": 4.315, \"educ_expected_yrs_f\": 4.166073798999999, \"hdi\": 0.48, \"hdi_fac\": \"1_low\"}, {\"fertility_total\": 1.63, \"educ_expected_yrs_f\": 13.88928127, \"hdi\": 0.8759999999999999, \"hdi_fac\": \"3_high\"}, {\"fertility_total\": 1.38, \"educ_expected_yrs_f\": 12.47436428, \"hdi\": 0.913, \"hdi_fac\": \"3_high\"}, {\"fertility_total\": 4.077, \"educ_expected_yrs_f\": 8.609224318999999, \"hdi\": 0.527, \"hdi_fac\": \"1_low\"}, {\"fertility_total\": 4.209, \"educ_expected_yrs_f\": 9.583486557, \"hdi\": 0.478, \"hdi_fac\": \"1_low\"}, {\"fertility_total\": 2.001, \"educ_expected_yrs_f\": 12.68888378, \"hdi\": 0.805, \"hdi_fac\": \"2_medium\"}, {\"fertility_total\": 5.877000000000001, \"educ_expected_yrs_f\": 5.42065239, \"hdi\": 0.431, \"hdi_fac\": \"1_low\"}, {\"fertility_total\": 1.23, \"educ_expected_yrs_f\": 13.50980282, \"hdi\": 0.894, \"hdi_fac\": \"3_high\"}, {\"fertility_total\": 4.561, \"educ_expected_yrs_f\": 7.564128876, \"hdi\": 0.542, \"hdi_fac\": \"1_low\"}, {\"fertility_total\": 1.41, \"educ_expected_yrs_f\": 12.77645302, \"hdi\": 0.8009999999999999, \"hdi_fac\": \"2_medium\"}, {\"fertility_total\": 2.129, \"educ_expected_yrs_f\": 12.97874069, \"hdi\": 0.7759999999999999, \"hdi_fac\": \"2_medium\"}, {\"fertility_total\": 2.895, \"educ_expected_yrs_f\": 13.25112915, \"hdi\": 0.735, \"hdi_fac\": \"2_medium\"}, {\"fertility_total\": 1.745, \"educ_expected_yrs_f\": 12.64217091, \"hdi\": 0.826, \"hdi_fac\": \"3_high\"}, {\"fertility_total\": 2.415, \"educ_expected_yrs_f\": 10.41762161, \"hdi\": 0.68, \"hdi_fac\": \"2_medium\"}, {\"fertility_total\": 2.154, \"educ_expected_yrs_f\": 9.829102516, \"hdi\": 0.579, \"hdi_fac\": \"1_low\"}, {\"fertility_total\": 3.3960000000000004, \"educ_expected_yrs_f\": 9.723130226, \"hdi\": 0.645, \"hdi_fac\": \"1_low\"}, {\"fertility_total\": 1.917, \"educ_expected_yrs_f\": 12.0131464, \"hdi\": 0.596, \"hdi_fac\": \"1_low\"}, {\"fertility_total\": 1.59, \"educ_expected_yrs_f\": 13.92983341, \"hdi\": 0.942, \"hdi_fac\": \"3_high\"}, {\"fertility_total\": 1.71, \"educ_expected_yrs_f\": 13.77946663, \"hdi\": 0.928, \"hdi_fac\": \"3_high\"}, {\"fertility_total\": 2.404, \"educ_expected_yrs_f\": 11.10092926, \"hdi\": 0.659, \"hdi_fac\": \"1_low\"}, {\"fertility_total\": 6.912999999999999, \"educ_expected_yrs_f\": 5.059231758, \"hdi\": 0.391, \"hdi_fac\": \"1_low\"}, {\"fertility_total\": 5.3870000000000005, \"educ_expected_yrs_f\": 10.09999943, \"hdi\": 0.534, \"hdi_fac\": \"1_low\"}, {\"fertility_total\": 1.496, \"educ_expected_yrs_f\": 11.08503532, \"hdi\": 0.77, \"hdi_fac\": \"2_medium\"}, {\"fertility_total\": 1.56, \"educ_expected_yrs_f\": 13.67211056, \"hdi\": 0.956, \"hdi_fac\": \"3_high\"}, {\"fertility_total\": 2.888, \"educ_expected_yrs_f\": 13.10266685, \"hdi\": 0.813, \"hdi_fac\": \"2_medium\"}, {\"fertility_total\": 3.51, \"educ_expected_yrs_f\": 8.687153816, \"hdi\": 0.552, \"hdi_fac\": \"1_low\"}, {\"fertility_total\": 2.461, \"educ_expected_yrs_f\": 10.88493347, \"hdi\": 0.812, \"hdi_fac\": \"2_medium\"}, {\"fertility_total\": 3.564, \"educ_expected_yrs_f\": 9.818692207, \"hdi\": 0.5489999999999999, \"hdi_fac\": \"1_low\"}, {\"fertility_total\": 2.4290000000000003, \"educ_expected_yrs_f\": 11.26677418, \"hdi\": 0.727, \"hdi_fac\": \"2_medium\"}, {\"fertility_total\": 2.254, \"educ_expected_yrs_f\": 12.89012051, \"hdi\": 0.7709999999999999, \"hdi_fac\": \"2_medium\"}, {\"fertility_total\": 2.576, \"educ_expected_yrs_f\": 13.04763317, \"hdi\": 0.711, \"hdi_fac\": \"2_medium\"}, {\"fertility_total\": 1.46, \"educ_expected_yrs_f\": 13.45503712, \"hdi\": 0.877, \"hdi_fac\": \"3_high\"}, {\"fertility_total\": 1.42, \"educ_expected_yrs_f\": 13.82900047, \"hdi\": 0.86, \"hdi_fac\": \"3_high\"}, {\"fertility_total\": 1.866, \"educ_expected_yrs_f\": 12.7883606, \"hdi\": 0.845, \"hdi_fac\": \"3_high\"}, {\"fertility_total\": 1.76, \"educ_expected_yrs_f\": 11.98094845, \"hdi\": 0.823, \"hdi_fac\": \"3_high\"}, {\"fertility_total\": 1.579, \"educ_expected_yrs_f\": 13.68534756, \"hdi\": 0.823, \"hdi_fac\": \"3_high\"}, {\"fertility_total\": 4.044, \"educ_expected_yrs_f\": 6.980305195, \"hdi\": 0.54, \"hdi_fac\": \"1_low\"}, {\"fertility_total\": 3.877, \"educ_expected_yrs_f\": 12.44684696, \"hdi\": 0.7090000000000001, \"hdi_fac\": \"2_medium\"}, {\"fertility_total\": 2.319, \"educ_expected_yrs_f\": 12.26758575, \"hdi\": 0.8540000000000001, \"hdi_fac\": \"3_high\"}, {\"fertility_total\": 4.625, \"educ_expected_yrs_f\": 7.849748135, \"hdi\": 0.516, \"hdi_fac\": \"1_low\"}, {\"fertility_total\": 1.49, \"educ_expected_yrs_f\": 13.49239731, \"hdi\": 0.8029999999999999, \"hdi_fac\": \"2_medium\"}, {\"fertility_total\": 2.41, \"educ_expected_yrs_f\": 13.53542233, \"hdi\": 0.79, \"hdi_fac\": \"2_medium\"}, {\"fertility_total\": 4.263, \"educ_expected_yrs_f\": 9.282006264, \"hdi\": 0.447, \"hdi_fac\": \"1_low\"}, {\"fertility_total\": 1.14, \"educ_expected_yrs_f\": 13.90422153, \"hdi\": 0.936, \"hdi_fac\": \"3_high\"}, {\"fertility_total\": 1.61, \"educ_expected_yrs_f\": 13.71750641, \"hdi\": 0.912, \"hdi_fac\": \"3_high\"}, {\"fertility_total\": 4.4030000000000005, \"educ_expected_yrs_f\": 8.841700553999999, \"hdi\": 0.564, \"hdi_fac\": \"1_low\"}, {\"fertility_total\": 2.405, \"educ_expected_yrs_f\": 10.11397743, \"hdi\": 0.7070000000000001, \"hdi_fac\": \"2_medium\"}, {\"fertility_total\": 4.696000000000001, \"educ_expected_yrs_f\": 3.916237831, \"hdi\": 0.429, \"hdi_fac\": \"1_low\"}, {\"fertility_total\": 1.26, \"educ_expected_yrs_f\": 13.08606815, \"hdi\": 0.905, \"hdi_fac\": \"3_high\"}, {\"fertility_total\": 2.199, \"educ_expected_yrs_f\": 13.11488724, \"hdi\": 0.779, \"hdi_fac\": \"2_medium\"}, {\"fertility_total\": 4.407, \"educ_expected_yrs_f\": 6.943500996, \"hdi\": 0.506, \"hdi_fac\": \"1_low\"}, {\"fertility_total\": 1.76, \"educ_expected_yrs_f\": 13.90402126, \"hdi\": 0.943, \"hdi_fac\": \"3_high\"}, {\"fertility_total\": 1.52, \"educ_expected_yrs_f\": 13.21845913, \"hdi\": 0.955, \"hdi_fac\": \"3_high\"}, {\"fertility_total\": 3.585, \"educ_expected_yrs_f\": 10.43918705, \"hdi\": 0.6609999999999999, \"hdi_fac\": \"1_low\"}, {\"fertility_total\": 1.525, \"educ_expected_yrs_f\": 12.644207000000002, \"hdi\": 0.772, \"hdi_fac\": \"2_medium\"}, {\"fertility_total\": 4.023, \"educ_expected_yrs_f\": 10.87477875, \"hdi\": 0.599, \"hdi_fac\": \"1_low\"}, {\"fertility_total\": 4.32, \"educ_expected_yrs_f\": 9.123530388, \"hdi\": 0.51, \"hdi_fac\": \"1_low\"}, {\"fertility_total\": 3.556, \"educ_expected_yrs_f\": 11.83284092, \"hdi\": 0.723, \"hdi_fac\": \"2_medium\"}, {\"fertility_total\": 2.197, \"educ_expected_yrs_f\": 10.95233727, \"hdi\": 0.738, \"hdi_fac\": \"2_medium\"}, {\"fertility_total\": 2.069, \"educ_expected_yrs_f\": 11.99552917, \"hdi\": 0.8170000000000001, \"hdi_fac\": \"3_high\"}, {\"fertility_total\": 1.301, \"educ_expected_yrs_f\": 13.00567055, \"hdi\": 0.774, \"hdi_fac\": \"2_medium\"}, {\"fertility_total\": 1.413, \"educ_expected_yrs_f\": 13.1702652, \"hdi\": 0.889, \"hdi_fac\": \"3_high\"}, {\"fertility_total\": 1.68, \"educ_expected_yrs_f\": 13.85765934, \"hdi\": 0.928, \"hdi_fac\": \"3_high\"}, {\"fertility_total\": 1.7295, \"educ_expected_yrs_f\": 12.93639374, \"hdi\": 0.925, \"hdi_fac\": \"3_high\"}, {\"fertility_total\": 1.973, \"educ_expected_yrs_f\": 12.47761631, \"hdi\": 0.816, \"hdi_fac\": \"2_medium\"}, {\"fertility_total\": 2.604, \"educ_expected_yrs_f\": 12.00484753, \"hdi\": 0.7170000000000001, \"hdi_fac\": \"2_medium\"}, {\"fertility_total\": 3.782, \"educ_expected_yrs_f\": 10.13373089, \"hdi\": 0.603, \"hdi_fac\": \"1_low\"}, {\"fertility_total\": 4.633, \"educ_expected_yrs_f\": 8.745135307, \"hdi\": 0.5820000000000001, \"hdi_fac\": \"1_low\"}, {\"fertility_total\": 3.615, \"educ_expected_yrs_f\": 10.97491837, \"hdi\": 0.569, \"hdi_fac\": \"1_low\"}]}}, {\"mode\": \"vega-lite\"});\n",
       "</script>"
      ],
      "text/plain": [
       "alt.Chart(...)"
      ]
     },
     "execution_count": 8,
     "metadata": {},
     "output_type": "execute_result"
    }
   ],
   "source": [
    "scatter_scaled = scatter.encode(\n",
    "    x = alt.X('educ_expected_yrs_f', \n",
    "              title = 'Expected years of education for women', \n",
    "              scale = alt.Scale(zero=False, type = 'pow', exponent = 2.5)),\n",
    "    y = alt.Y('fertility_total', \n",
    "              title = 'Fertility rate', \n",
    "              scale = alt.Scale(zero=False, type = 'pow', exponent = 1/3)),\n",
    "    color = alt.Color('hdi_fac', title = 'Level of Human development')\n",
    ")\n",
    "scatter_scaled"
   ]
  },
  {
   "cell_type": "markdown",
   "metadata": {},
   "source": [
    "<!-- END QUESTION -->\n",
    "\n",
    "\n",
    "\n",
    "### Q0 (c) Interpret your graphic\n",
    "\n",
    "Does the negative association (downward trend in the scatter) seem to hold steady among countries at each level of human development? Try to imagine drawing a line to fit the points of each color, and ask yourself whether the slopes would be the same."
   ]
  },
  {
   "cell_type": "markdown",
   "metadata": {
    "deletable": false,
    "editable": false
   },
   "source": [
    "<!-- BEGIN QUESTION -->\n",
    "\n",
    "**i.** Facet by human development (`hdi_fac` level) and store the result in `faceted_hdi` so that you can see the pattern for each development level apart from the other levels.\n",
    "\n",
    "<!--\n",
    "BEGIN QUESTION\n",
    "name: q0_c_i\n",
    "points: 1\n",
    "manual: true\n",
    "-->"
   ]
  },
  {
   "cell_type": "code",
   "execution_count": 9,
   "metadata": {},
   "outputs": [
    {
     "data": {
      "text/html": [
       "\n",
       "<div id=\"altair-viz-b65a665cb64a42ba9990910b2d4ddef1\"></div>\n",
       "<script type=\"text/javascript\">\n",
       "  var VEGA_DEBUG = (typeof VEGA_DEBUG == \"undefined\") ? {} : VEGA_DEBUG;\n",
       "  (function(spec, embedOpt){\n",
       "    let outputDiv = document.currentScript.previousElementSibling;\n",
       "    if (outputDiv.id !== \"altair-viz-b65a665cb64a42ba9990910b2d4ddef1\") {\n",
       "      outputDiv = document.getElementById(\"altair-viz-b65a665cb64a42ba9990910b2d4ddef1\");\n",
       "    }\n",
       "    const paths = {\n",
       "      \"vega\": \"https://cdn.jsdelivr.net/npm//vega@5?noext\",\n",
       "      \"vega-lib\": \"https://cdn.jsdelivr.net/npm//vega-lib?noext\",\n",
       "      \"vega-lite\": \"https://cdn.jsdelivr.net/npm//vega-lite@4.17.0?noext\",\n",
       "      \"vega-embed\": \"https://cdn.jsdelivr.net/npm//vega-embed@6?noext\",\n",
       "    };\n",
       "\n",
       "    function maybeLoadScript(lib, version) {\n",
       "      var key = `${lib.replace(\"-\", \"\")}_version`;\n",
       "      return (VEGA_DEBUG[key] == version) ?\n",
       "        Promise.resolve(paths[lib]) :\n",
       "        new Promise(function(resolve, reject) {\n",
       "          var s = document.createElement('script');\n",
       "          document.getElementsByTagName(\"head\")[0].appendChild(s);\n",
       "          s.async = true;\n",
       "          s.onload = () => {\n",
       "            VEGA_DEBUG[key] = version;\n",
       "            return resolve(paths[lib]);\n",
       "          };\n",
       "          s.onerror = () => reject(`Error loading script: ${paths[lib]}`);\n",
       "          s.src = paths[lib];\n",
       "        });\n",
       "    }\n",
       "\n",
       "    function showError(err) {\n",
       "      outputDiv.innerHTML = `<div class=\"error\" style=\"color:red;\">${err}</div>`;\n",
       "      throw err;\n",
       "    }\n",
       "\n",
       "    function displayChart(vegaEmbed) {\n",
       "      vegaEmbed(outputDiv, spec, embedOpt)\n",
       "        .catch(err => showError(`Javascript Error: ${err.message}<br>This usually means there's a typo in your chart specification. See the javascript console for the full traceback.`));\n",
       "    }\n",
       "\n",
       "    if(typeof define === \"function\" && define.amd) {\n",
       "      requirejs.config({paths});\n",
       "      require([\"vega-embed\"], displayChart, err => showError(`Error loading script: ${err.message}`));\n",
       "    } else {\n",
       "      maybeLoadScript(\"vega\", \"5\")\n",
       "        .then(() => maybeLoadScript(\"vega-lite\", \"4.17.0\"))\n",
       "        .then(() => maybeLoadScript(\"vega-embed\", \"6\"))\n",
       "        .catch(showError)\n",
       "        .then(() => displayChart(vegaEmbed));\n",
       "    }\n",
       "  })({\"config\": {\"view\": {\"continuousWidth\": 400, \"continuousHeight\": 300}}, \"data\": {\"name\": \"data-55aa22b03e6d171f9a62cb1eb9279c29\"}, \"facet\": {\"column\": {\"field\": \"hdi_fac\", \"type\": \"nominal\"}}, \"spec\": {\"mark\": \"circle\", \"encoding\": {\"color\": {\"field\": \"hdi_fac\", \"title\": \"Level of Human development\", \"type\": \"nominal\"}, \"x\": {\"field\": \"educ_expected_yrs_f\", \"scale\": {\"exponent\": 2.5, \"type\": \"pow\", \"zero\": false}, \"title\": \"Expected years of education for women\", \"type\": \"quantitative\"}, \"y\": {\"field\": \"fertility_total\", \"scale\": {\"exponent\": 0.3333333333333333, \"type\": \"pow\", \"zero\": false}, \"title\": \"Fertility rate\", \"type\": \"quantitative\"}}, \"height\": 200, \"width\": 200}, \"$schema\": \"https://vega.github.io/schema/vega-lite/v4.17.0.json\", \"datasets\": {\"data-55aa22b03e6d171f9a62cb1eb9279c29\": [{\"fertility_total\": 4.473, \"educ_expected_yrs_f\": 6.795722485, \"hdi\": 0.509, \"hdi_fac\": \"1_low\"}, {\"fertility_total\": 1.617, \"educ_expected_yrs_f\": 13.20175457, \"hdi\": 0.792, \"hdi_fac\": \"2_medium\"}, {\"fertility_total\": 3.023, \"educ_expected_yrs_f\": 12.10898972, \"hdi\": 0.746, \"hdi_fac\": \"2_medium\"}, {\"fertility_total\": 5.519, \"educ_expected_yrs_f\": 6.973901272000001, \"hdi\": 0.5820000000000001, \"hdi_fac\": \"1_low\"}, {\"fertility_total\": 1.994, \"educ_expected_yrs_f\": 12.91444111, \"hdi\": 0.772, \"hdi_fac\": \"2_medium\"}, {\"fertility_total\": 2.261, \"educ_expected_yrs_f\": 13.06125259, \"hdi\": 0.8420000000000001, \"hdi_fac\": \"3_high\"}, {\"fertility_total\": 1.755, \"educ_expected_yrs_f\": 11.62581253, \"hdi\": 0.7709999999999999, \"hdi_fac\": \"2_medium\"}, {\"fertility_total\": 1.74, \"educ_expected_yrs_f\": 13.62022209, \"hdi\": 0.943, \"hdi_fac\": \"3_high\"}, {\"fertility_total\": 1.47, \"educ_expected_yrs_f\": 13.46689415, \"hdi\": 0.921, \"hdi_fac\": \"3_high\"}, {\"fertility_total\": 1.73, \"educ_expected_yrs_f\": 12.44501495, \"hdi\": 0.754, \"hdi_fac\": \"2_medium\"}, {\"fertility_total\": 1.987, \"educ_expected_yrs_f\": 13.27036572, \"hdi\": 0.852, \"hdi_fac\": \"3_high\"}, {\"fertility_total\": 2.036, \"educ_expected_yrs_f\": 10.52187443, \"hdi\": 0.625, \"hdi_fac\": \"1_low\"}, {\"fertility_total\": 1.4480000000000002, \"educ_expected_yrs_f\": 13.75893879, \"hdi\": 0.823, \"hdi_fac\": \"3_high\"}, {\"fertility_total\": 1.62, \"educ_expected_yrs_f\": 13.56679726, \"hdi\": 0.93, \"hdi_fac\": \"3_high\"}, {\"fertility_total\": 4.836, \"educ_expected_yrs_f\": 8.782134056, \"hdi\": 0.541, \"hdi_fac\": \"1_low\"}, {\"fertility_total\": 1.975, \"educ_expected_yrs_f\": 10.70332813, \"hdi\": 0.649, \"hdi_fac\": \"1_low\"}, {\"fertility_total\": 1.265, \"educ_expected_yrs_f\": 11.78481483, \"hdi\": 0.777, \"hdi_fac\": \"2_medium\"}, {\"fertility_total\": 2.874, \"educ_expected_yrs_f\": 8.500170707999999, \"hdi\": 0.73, \"hdi_fac\": \"2_medium\"}, {\"fertility_total\": 1.848, \"educ_expected_yrs_f\": 13.21317291, \"hdi\": 0.836, \"hdi_fac\": \"3_high\"}, {\"fertility_total\": 1.56, \"educ_expected_yrs_f\": 12.24310493, \"hdi\": 0.813, \"hdi_fac\": \"2_medium\"}, {\"fertility_total\": 5.189, \"educ_expected_yrs_f\": 6.696904658999999, \"hdi\": 0.4429999999999999, \"hdi_fac\": \"1_low\"}, {\"fertility_total\": 5.41, \"educ_expected_yrs_f\": 8.191820145, \"hdi\": 0.431, \"hdi_fac\": \"1_low\"}, {\"fertility_total\": 2.503, \"educ_expected_yrs_f\": 9.635119438, \"hdi\": 0.585, \"hdi_fac\": \"1_low\"}, {\"fertility_total\": 4.572, \"educ_expected_yrs_f\": 8.315596581, \"hdi\": 0.56, \"hdi_fac\": \"1_low\"}, {\"fertility_total\": 1.4988, \"educ_expected_yrs_f\": 13.709587099999998, \"hdi\": 0.928, \"hdi_fac\": \"3_high\"}, {\"fertility_total\": 4.721, \"educ_expected_yrs_f\": 3.848102808, \"hdi\": 0.395, \"hdi_fac\": \"1_low\"}, {\"fertility_total\": 5.747000000000001, \"educ_expected_yrs_f\": 4.473656654, \"hdi\": 0.397, \"hdi_fac\": \"1_low\"}, {\"fertility_total\": 1.649, \"educ_expected_yrs_f\": 13.05471802, \"hdi\": 0.8490000000000001, \"hdi_fac\": \"3_high\"}, {\"fertility_total\": 1.69, \"educ_expected_yrs_f\": 13.0906477, \"hdi\": 0.755, \"hdi_fac\": \"2_medium\"}, {\"fertility_total\": 1.807, \"educ_expected_yrs_f\": 12.70421314, \"hdi\": 0.764, \"hdi_fac\": \"2_medium\"}, {\"fertility_total\": 4.205, \"educ_expected_yrs_f\": 8.128657341, \"hdi\": 0.552, \"hdi_fac\": \"1_low\"}, {\"fertility_total\": 1.754, \"educ_expected_yrs_f\": 12.51764488, \"hdi\": 0.8079999999999999, \"hdi_fac\": \"2_medium\"}, {\"fertility_total\": 1.47, \"educ_expected_yrs_f\": 13.5518446, \"hdi\": 0.848, \"hdi_fac\": \"3_high\"}, {\"fertility_total\": 1.329, \"educ_expected_yrs_f\": 13.61954403, \"hdi\": 0.885, \"hdi_fac\": \"3_high\"}, {\"fertility_total\": 1.73, \"educ_expected_yrs_f\": 13.47161579, \"hdi\": 0.939, \"hdi_fac\": \"3_high\"}, {\"fertility_total\": 2.346, \"educ_expected_yrs_f\": 12.15325356, \"hdi\": 0.7509999999999999, \"hdi_fac\": \"2_medium\"}, {\"fertility_total\": 2.427, \"educ_expected_yrs_f\": 13.219711300000002, \"hdi\": 0.762, \"hdi_fac\": \"2_medium\"}, {\"fertility_total\": 2.039, \"educ_expected_yrs_f\": 10.9428196, \"hdi\": 0.67, \"hdi_fac\": \"2_medium\"}, {\"fertility_total\": 1.67, \"educ_expected_yrs_f\": 13.53030491, \"hdi\": 0.889, \"hdi_fac\": \"3_high\"}, {\"fertility_total\": 4.247, \"educ_expected_yrs_f\": 7.516855717, \"hdi\": 0.478, \"hdi_fac\": \"1_low\"}, {\"fertility_total\": 2.774, \"educ_expected_yrs_f\": 11.43205929, \"hdi\": 0.742, \"hdi_fac\": \"2_medium\"}, {\"fertility_total\": 1.41, \"educ_expected_yrs_f\": 13.74469662, \"hdi\": 0.937, \"hdi_fac\": \"3_high\"}, {\"fertility_total\": 1.88, \"educ_expected_yrs_f\": 13.8239584, \"hdi\": 0.898, \"hdi_fac\": \"3_high\"}, {\"fertility_total\": 3.969, \"educ_expected_yrs_f\": 8.538388252, \"hdi\": 0.6970000000000001, \"hdi_fac\": \"2_medium\"}, {\"fertility_total\": 2.06, \"educ_expected_yrs_f\": 13.02663994, \"hdi\": 0.805, \"hdi_fac\": \"2_medium\"}, {\"fertility_total\": 1.57, \"educ_expected_yrs_f\": 13.34453487, \"hdi\": 0.946, \"hdi_fac\": \"3_high\"}, {\"fertility_total\": 3.87, \"educ_expected_yrs_f\": 11.91578197, \"hdi\": 0.606, \"hdi_fac\": \"1_low\"}, {\"fertility_total\": 1.35, \"educ_expected_yrs_f\": 13.28767872, \"hdi\": 0.8809999999999999, \"hdi_fac\": \"3_high\"}, {\"fertility_total\": 2.063, \"educ_expected_yrs_f\": 13.13885593, \"hdi\": 0.773, \"hdi_fac\": \"2_medium\"}, {\"fertility_total\": 2.87, \"educ_expected_yrs_f\": 9.521496773, \"hdi\": 0.657, \"hdi_fac\": \"1_low\"}, {\"fertility_total\": 4.7, \"educ_expected_yrs_f\": 6.210740089, \"hdi\": 0.473, \"hdi_fac\": \"1_low\"}, {\"fertility_total\": 2.462, \"educ_expected_yrs_f\": 12.30990696, \"hdi\": 0.68, \"hdi_fac\": \"2_medium\"}, {\"fertility_total\": 2.935, \"educ_expected_yrs_f\": 11.44699955, \"hdi\": 0.508, \"hdi_fac\": \"1_low\"}, {\"fertility_total\": 2.46, \"educ_expected_yrs_f\": 9.822359085, \"hdi\": 0.633, \"hdi_fac\": \"1_low\"}, {\"fertility_total\": 1.55, \"educ_expected_yrs_f\": 12.96164417, \"hdi\": 0.85, \"hdi_fac\": \"3_high\"}, {\"fertility_total\": 1.71, \"educ_expected_yrs_f\": 13.54500961, \"hdi\": 0.946, \"hdi_fac\": \"3_high\"}, {\"fertility_total\": 2.222, \"educ_expected_yrs_f\": 10.93618393, \"hdi\": 0.642, \"hdi_fac\": \"1_low\"}, {\"fertility_total\": 2.311, \"educ_expected_yrs_f\": 12.41253376, \"hdi\": 0.7120000000000001, \"hdi_fac\": \"2_medium\"}, {\"fertility_total\": 3.672, \"educ_expected_yrs_f\": 7.038986206000001, \"hdi\": 0.6709999999999999, \"hdi_fac\": \"2_medium\"}, {\"fertility_total\": 1.75, \"educ_expected_yrs_f\": 13.92032051, \"hdi\": 0.951, \"hdi_fac\": \"3_high\"}, {\"fertility_total\": 3.09, \"educ_expected_yrs_f\": 13.90762043, \"hdi\": 0.916, \"hdi_fac\": \"3_high\"}, {\"fertility_total\": 1.29, \"educ_expected_yrs_f\": 13.31961727, \"hdi\": 0.89, \"hdi_fac\": \"3_high\"}, {\"fertility_total\": 1.979, \"educ_expected_yrs_f\": 11.82789326, \"hdi\": 0.7340000000000001, \"hdi_fac\": \"2_medium\"}, {\"fertility_total\": 2.761, \"educ_expected_yrs_f\": 11.72220421, \"hdi\": 0.728, \"hdi_fac\": \"2_medium\"}, {\"fertility_total\": 2.84, \"educ_expected_yrs_f\": 13.86884308, \"hdi\": 0.8190000000000001, \"hdi_fac\": \"3_high\"}, {\"fertility_total\": 3.492, \"educ_expected_yrs_f\": 11.30184937, \"hdi\": 0.599, \"hdi_fac\": \"1_low\"}, {\"fertility_total\": 3.569, \"educ_expected_yrs_f\": 11.82059479, \"hdi\": 0.628, \"hdi_fac\": \"1_low\"}, {\"fertility_total\": 2.082, \"educ_expected_yrs_f\": 12.40283394, \"hdi\": 0.807, \"hdi_fac\": \"2_medium\"}, {\"fertility_total\": 1.6, \"educ_expected_yrs_f\": 13.7176199, \"hdi\": 0.863, \"hdi_fac\": \"3_high\"}, {\"fertility_total\": 3.141, \"educ_expected_yrs_f\": 10.41264439, \"hdi\": 0.522, \"hdi_fac\": \"1_low\"}, {\"fertility_total\": 4.315, \"educ_expected_yrs_f\": 4.166073798999999, \"hdi\": 0.48, \"hdi_fac\": \"1_low\"}, {\"fertility_total\": 1.63, \"educ_expected_yrs_f\": 13.88928127, \"hdi\": 0.8759999999999999, \"hdi_fac\": \"3_high\"}, {\"fertility_total\": 1.38, \"educ_expected_yrs_f\": 12.47436428, \"hdi\": 0.913, \"hdi_fac\": \"3_high\"}, {\"fertility_total\": 4.077, \"educ_expected_yrs_f\": 8.609224318999999, \"hdi\": 0.527, \"hdi_fac\": \"1_low\"}, {\"fertility_total\": 4.209, \"educ_expected_yrs_f\": 9.583486557, \"hdi\": 0.478, \"hdi_fac\": \"1_low\"}, {\"fertility_total\": 2.001, \"educ_expected_yrs_f\": 12.68888378, \"hdi\": 0.805, \"hdi_fac\": \"2_medium\"}, {\"fertility_total\": 5.877000000000001, \"educ_expected_yrs_f\": 5.42065239, \"hdi\": 0.431, \"hdi_fac\": \"1_low\"}, {\"fertility_total\": 1.23, \"educ_expected_yrs_f\": 13.50980282, \"hdi\": 0.894, \"hdi_fac\": \"3_high\"}, {\"fertility_total\": 4.561, \"educ_expected_yrs_f\": 7.564128876, \"hdi\": 0.542, \"hdi_fac\": \"1_low\"}, {\"fertility_total\": 1.41, \"educ_expected_yrs_f\": 12.77645302, \"hdi\": 0.8009999999999999, \"hdi_fac\": \"2_medium\"}, {\"fertility_total\": 2.129, \"educ_expected_yrs_f\": 12.97874069, \"hdi\": 0.7759999999999999, \"hdi_fac\": \"2_medium\"}, {\"fertility_total\": 2.895, \"educ_expected_yrs_f\": 13.25112915, \"hdi\": 0.735, \"hdi_fac\": \"2_medium\"}, {\"fertility_total\": 1.745, \"educ_expected_yrs_f\": 12.64217091, \"hdi\": 0.826, \"hdi_fac\": \"3_high\"}, {\"fertility_total\": 2.415, \"educ_expected_yrs_f\": 10.41762161, \"hdi\": 0.68, \"hdi_fac\": \"2_medium\"}, {\"fertility_total\": 2.154, \"educ_expected_yrs_f\": 9.829102516, \"hdi\": 0.579, \"hdi_fac\": \"1_low\"}, {\"fertility_total\": 3.3960000000000004, \"educ_expected_yrs_f\": 9.723130226, \"hdi\": 0.645, \"hdi_fac\": \"1_low\"}, {\"fertility_total\": 1.917, \"educ_expected_yrs_f\": 12.0131464, \"hdi\": 0.596, \"hdi_fac\": \"1_low\"}, {\"fertility_total\": 1.59, \"educ_expected_yrs_f\": 13.92983341, \"hdi\": 0.942, \"hdi_fac\": \"3_high\"}, {\"fertility_total\": 1.71, \"educ_expected_yrs_f\": 13.77946663, \"hdi\": 0.928, \"hdi_fac\": \"3_high\"}, {\"fertility_total\": 2.404, \"educ_expected_yrs_f\": 11.10092926, \"hdi\": 0.659, \"hdi_fac\": \"1_low\"}, {\"fertility_total\": 6.912999999999999, \"educ_expected_yrs_f\": 5.059231758, \"hdi\": 0.391, \"hdi_fac\": \"1_low\"}, {\"fertility_total\": 5.3870000000000005, \"educ_expected_yrs_f\": 10.09999943, \"hdi\": 0.534, \"hdi_fac\": \"1_low\"}, {\"fertility_total\": 1.496, \"educ_expected_yrs_f\": 11.08503532, \"hdi\": 0.77, \"hdi_fac\": \"2_medium\"}, {\"fertility_total\": 1.56, \"educ_expected_yrs_f\": 13.67211056, \"hdi\": 0.956, \"hdi_fac\": \"3_high\"}, {\"fertility_total\": 2.888, \"educ_expected_yrs_f\": 13.10266685, \"hdi\": 0.813, \"hdi_fac\": \"2_medium\"}, {\"fertility_total\": 3.51, \"educ_expected_yrs_f\": 8.687153816, \"hdi\": 0.552, \"hdi_fac\": \"1_low\"}, {\"fertility_total\": 2.461, \"educ_expected_yrs_f\": 10.88493347, \"hdi\": 0.812, \"hdi_fac\": \"2_medium\"}, {\"fertility_total\": 3.564, \"educ_expected_yrs_f\": 9.818692207, \"hdi\": 0.5489999999999999, \"hdi_fac\": \"1_low\"}, {\"fertility_total\": 2.4290000000000003, \"educ_expected_yrs_f\": 11.26677418, \"hdi\": 0.727, \"hdi_fac\": \"2_medium\"}, {\"fertility_total\": 2.254, \"educ_expected_yrs_f\": 12.89012051, \"hdi\": 0.7709999999999999, \"hdi_fac\": \"2_medium\"}, {\"fertility_total\": 2.576, \"educ_expected_yrs_f\": 13.04763317, \"hdi\": 0.711, \"hdi_fac\": \"2_medium\"}, {\"fertility_total\": 1.46, \"educ_expected_yrs_f\": 13.45503712, \"hdi\": 0.877, \"hdi_fac\": \"3_high\"}, {\"fertility_total\": 1.42, \"educ_expected_yrs_f\": 13.82900047, \"hdi\": 0.86, \"hdi_fac\": \"3_high\"}, {\"fertility_total\": 1.866, \"educ_expected_yrs_f\": 12.7883606, \"hdi\": 0.845, \"hdi_fac\": \"3_high\"}, {\"fertility_total\": 1.76, \"educ_expected_yrs_f\": 11.98094845, \"hdi\": 0.823, \"hdi_fac\": \"3_high\"}, {\"fertility_total\": 1.579, \"educ_expected_yrs_f\": 13.68534756, \"hdi\": 0.823, \"hdi_fac\": \"3_high\"}, {\"fertility_total\": 4.044, \"educ_expected_yrs_f\": 6.980305195, \"hdi\": 0.54, \"hdi_fac\": \"1_low\"}, {\"fertility_total\": 3.877, \"educ_expected_yrs_f\": 12.44684696, \"hdi\": 0.7090000000000001, \"hdi_fac\": \"2_medium\"}, {\"fertility_total\": 2.319, \"educ_expected_yrs_f\": 12.26758575, \"hdi\": 0.8540000000000001, \"hdi_fac\": \"3_high\"}, {\"fertility_total\": 4.625, \"educ_expected_yrs_f\": 7.849748135, \"hdi\": 0.516, \"hdi_fac\": \"1_low\"}, {\"fertility_total\": 1.49, \"educ_expected_yrs_f\": 13.49239731, \"hdi\": 0.8029999999999999, \"hdi_fac\": \"2_medium\"}, {\"fertility_total\": 2.41, \"educ_expected_yrs_f\": 13.53542233, \"hdi\": 0.79, \"hdi_fac\": \"2_medium\"}, {\"fertility_total\": 4.263, \"educ_expected_yrs_f\": 9.282006264, \"hdi\": 0.447, \"hdi_fac\": \"1_low\"}, {\"fertility_total\": 1.14, \"educ_expected_yrs_f\": 13.90422153, \"hdi\": 0.936, \"hdi_fac\": \"3_high\"}, {\"fertility_total\": 1.61, \"educ_expected_yrs_f\": 13.71750641, \"hdi\": 0.912, \"hdi_fac\": \"3_high\"}, {\"fertility_total\": 4.4030000000000005, \"educ_expected_yrs_f\": 8.841700553999999, \"hdi\": 0.564, \"hdi_fac\": \"1_low\"}, {\"fertility_total\": 2.405, \"educ_expected_yrs_f\": 10.11397743, \"hdi\": 0.7070000000000001, \"hdi_fac\": \"2_medium\"}, {\"fertility_total\": 4.696000000000001, \"educ_expected_yrs_f\": 3.916237831, \"hdi\": 0.429, \"hdi_fac\": \"1_low\"}, {\"fertility_total\": 1.26, \"educ_expected_yrs_f\": 13.08606815, \"hdi\": 0.905, \"hdi_fac\": \"3_high\"}, {\"fertility_total\": 2.199, \"educ_expected_yrs_f\": 13.11488724, \"hdi\": 0.779, \"hdi_fac\": \"2_medium\"}, {\"fertility_total\": 4.407, \"educ_expected_yrs_f\": 6.943500996, \"hdi\": 0.506, \"hdi_fac\": \"1_low\"}, {\"fertility_total\": 1.76, \"educ_expected_yrs_f\": 13.90402126, \"hdi\": 0.943, \"hdi_fac\": \"3_high\"}, {\"fertility_total\": 1.52, \"educ_expected_yrs_f\": 13.21845913, \"hdi\": 0.955, \"hdi_fac\": \"3_high\"}, {\"fertility_total\": 3.585, \"educ_expected_yrs_f\": 10.43918705, \"hdi\": 0.6609999999999999, \"hdi_fac\": \"1_low\"}, {\"fertility_total\": 1.525, \"educ_expected_yrs_f\": 12.644207000000002, \"hdi\": 0.772, \"hdi_fac\": \"2_medium\"}, {\"fertility_total\": 4.023, \"educ_expected_yrs_f\": 10.87477875, \"hdi\": 0.599, \"hdi_fac\": \"1_low\"}, {\"fertility_total\": 4.32, \"educ_expected_yrs_f\": 9.123530388, \"hdi\": 0.51, \"hdi_fac\": \"1_low\"}, {\"fertility_total\": 3.556, \"educ_expected_yrs_f\": 11.83284092, \"hdi\": 0.723, \"hdi_fac\": \"2_medium\"}, {\"fertility_total\": 2.197, \"educ_expected_yrs_f\": 10.95233727, \"hdi\": 0.738, \"hdi_fac\": \"2_medium\"}, {\"fertility_total\": 2.069, \"educ_expected_yrs_f\": 11.99552917, \"hdi\": 0.8170000000000001, \"hdi_fac\": \"3_high\"}, {\"fertility_total\": 1.301, \"educ_expected_yrs_f\": 13.00567055, \"hdi\": 0.774, \"hdi_fac\": \"2_medium\"}, {\"fertility_total\": 1.413, \"educ_expected_yrs_f\": 13.1702652, \"hdi\": 0.889, \"hdi_fac\": \"3_high\"}, {\"fertility_total\": 1.68, \"educ_expected_yrs_f\": 13.85765934, \"hdi\": 0.928, \"hdi_fac\": \"3_high\"}, {\"fertility_total\": 1.7295, \"educ_expected_yrs_f\": 12.93639374, \"hdi\": 0.925, \"hdi_fac\": \"3_high\"}, {\"fertility_total\": 1.973, \"educ_expected_yrs_f\": 12.47761631, \"hdi\": 0.816, \"hdi_fac\": \"2_medium\"}, {\"fertility_total\": 2.604, \"educ_expected_yrs_f\": 12.00484753, \"hdi\": 0.7170000000000001, \"hdi_fac\": \"2_medium\"}, {\"fertility_total\": 3.782, \"educ_expected_yrs_f\": 10.13373089, \"hdi\": 0.603, \"hdi_fac\": \"1_low\"}, {\"fertility_total\": 4.633, \"educ_expected_yrs_f\": 8.745135307, \"hdi\": 0.5820000000000001, \"hdi_fac\": \"1_low\"}, {\"fertility_total\": 3.615, \"educ_expected_yrs_f\": 10.97491837, \"hdi\": 0.569, \"hdi_fac\": \"1_low\"}]}}, {\"mode\": \"vega-lite\"});\n",
       "</script>"
      ],
      "text/plain": [
       "alt.FacetChart(...)"
      ]
     },
     "execution_count": 9,
     "metadata": {},
     "output_type": "execute_result"
    }
   ],
   "source": [
    "# facet by hdi level\n",
    "faceted_hdi = scatter_scaled.properties(\n",
    "    width = 200, height = 200\n",
    ").facet(column = 'hdi_fac')\n",
    "faceted_hdi"
   ]
  },
  {
   "cell_type": "markdown",
   "metadata": {
    "deletable": false,
    "editable": false
   },
   "source": [
    "<!-- END QUESTION -->\n",
    "\n",
    "<!-- BEGIN QUESTION -->\n",
    "\n",
    "Does the negative association (downward trend in the scatter) seem to hold steady among countries at each level of human development?\n",
    "<!--\n",
    "BEGIN QUESTION\n",
    "name: q0_c_ii\n",
    "points: 1\n",
    "manual: true\n",
    "-->"
   ]
  },
  {
   "cell_type": "markdown",
   "metadata": {},
   "source": [
    "At each level of human development there is a clear negative association between fertility rate and expected years of education for women. The slope appears to get less steep as the level of human development increases. "
   ]
  },
  {
   "cell_type": "markdown",
   "metadata": {},
   "source": [
    "<!-- END QUESTION -->\n",
    "\n",
    "\n",
    "\n",
    "### Examining individual points\n",
    "\n",
    "Often it can be helpful to graphically examine individual points. Especially so if you notice outliers. In this dataset there aren't any apparent outliers, but there are a few points that seem a little farther from the scatter than others, so we can practice on those.\n",
    "\n",
    "Let's zoom in on the lower-right region of the scatterplot; the cell below applies an Altair filter transform to show only data for which expected education exceeds 12. \n",
    "\n",
    "Please be sure you've created `scatter_scaled` in Q0 (b) (ii) before running this cell."
   ]
  },
  {
   "cell_type": "code",
   "execution_count": 10,
   "metadata": {},
   "outputs": [
    {
     "data": {
      "text/html": [
       "\n",
       "<div id=\"altair-viz-e406609679a34435b4d5c41660213bd2\"></div>\n",
       "<script type=\"text/javascript\">\n",
       "  var VEGA_DEBUG = (typeof VEGA_DEBUG == \"undefined\") ? {} : VEGA_DEBUG;\n",
       "  (function(spec, embedOpt){\n",
       "    let outputDiv = document.currentScript.previousElementSibling;\n",
       "    if (outputDiv.id !== \"altair-viz-e406609679a34435b4d5c41660213bd2\") {\n",
       "      outputDiv = document.getElementById(\"altair-viz-e406609679a34435b4d5c41660213bd2\");\n",
       "    }\n",
       "    const paths = {\n",
       "      \"vega\": \"https://cdn.jsdelivr.net/npm//vega@5?noext\",\n",
       "      \"vega-lib\": \"https://cdn.jsdelivr.net/npm//vega-lib?noext\",\n",
       "      \"vega-lite\": \"https://cdn.jsdelivr.net/npm//vega-lite@4.17.0?noext\",\n",
       "      \"vega-embed\": \"https://cdn.jsdelivr.net/npm//vega-embed@6?noext\",\n",
       "    };\n",
       "\n",
       "    function maybeLoadScript(lib, version) {\n",
       "      var key = `${lib.replace(\"-\", \"\")}_version`;\n",
       "      return (VEGA_DEBUG[key] == version) ?\n",
       "        Promise.resolve(paths[lib]) :\n",
       "        new Promise(function(resolve, reject) {\n",
       "          var s = document.createElement('script');\n",
       "          document.getElementsByTagName(\"head\")[0].appendChild(s);\n",
       "          s.async = true;\n",
       "          s.onload = () => {\n",
       "            VEGA_DEBUG[key] = version;\n",
       "            return resolve(paths[lib]);\n",
       "          };\n",
       "          s.onerror = () => reject(`Error loading script: ${paths[lib]}`);\n",
       "          s.src = paths[lib];\n",
       "        });\n",
       "    }\n",
       "\n",
       "    function showError(err) {\n",
       "      outputDiv.innerHTML = `<div class=\"error\" style=\"color:red;\">${err}</div>`;\n",
       "      throw err;\n",
       "    }\n",
       "\n",
       "    function displayChart(vegaEmbed) {\n",
       "      vegaEmbed(outputDiv, spec, embedOpt)\n",
       "        .catch(err => showError(`Javascript Error: ${err.message}<br>This usually means there's a typo in your chart specification. See the javascript console for the full traceback.`));\n",
       "    }\n",
       "\n",
       "    if(typeof define === \"function\" && define.amd) {\n",
       "      requirejs.config({paths});\n",
       "      require([\"vega-embed\"], displayChart, err => showError(`Error loading script: ${err.message}`));\n",
       "    } else {\n",
       "      maybeLoadScript(\"vega\", \"5\")\n",
       "        .then(() => maybeLoadScript(\"vega-lite\", \"4.17.0\"))\n",
       "        .then(() => maybeLoadScript(\"vega-embed\", \"6\"))\n",
       "        .catch(showError)\n",
       "        .then(() => displayChart(vegaEmbed));\n",
       "    }\n",
       "  })({\"config\": {\"view\": {\"continuousWidth\": 400, \"continuousHeight\": 300}}, \"data\": {\"name\": \"data-55aa22b03e6d171f9a62cb1eb9279c29\"}, \"mark\": \"circle\", \"encoding\": {\"color\": {\"field\": \"hdi_fac\", \"title\": \"Level of Human development\", \"type\": \"nominal\"}, \"x\": {\"field\": \"educ_expected_yrs_f\", \"scale\": {\"exponent\": 2.5, \"type\": \"pow\", \"zero\": false}, \"title\": \"Expected years of education for women\", \"type\": \"quantitative\"}, \"y\": {\"field\": \"fertility_total\", \"scale\": {\"exponent\": 0.3333333333333333, \"type\": \"pow\", \"zero\": false}, \"title\": \"Fertility rate\", \"type\": \"quantitative\"}}, \"transform\": [{\"filter\": {\"field\": \"educ_expected_yrs_f\", \"gt\": 12}}], \"$schema\": \"https://vega.github.io/schema/vega-lite/v4.17.0.json\", \"datasets\": {\"data-55aa22b03e6d171f9a62cb1eb9279c29\": [{\"fertility_total\": 4.473, \"educ_expected_yrs_f\": 6.795722485, \"hdi\": 0.509, \"hdi_fac\": \"1_low\"}, {\"fertility_total\": 1.617, \"educ_expected_yrs_f\": 13.20175457, \"hdi\": 0.792, \"hdi_fac\": \"2_medium\"}, {\"fertility_total\": 3.023, \"educ_expected_yrs_f\": 12.10898972, \"hdi\": 0.746, \"hdi_fac\": \"2_medium\"}, {\"fertility_total\": 5.519, \"educ_expected_yrs_f\": 6.973901272000001, \"hdi\": 0.5820000000000001, \"hdi_fac\": \"1_low\"}, {\"fertility_total\": 1.994, \"educ_expected_yrs_f\": 12.91444111, \"hdi\": 0.772, \"hdi_fac\": \"2_medium\"}, {\"fertility_total\": 2.261, \"educ_expected_yrs_f\": 13.06125259, \"hdi\": 0.8420000000000001, \"hdi_fac\": \"3_high\"}, {\"fertility_total\": 1.755, \"educ_expected_yrs_f\": 11.62581253, \"hdi\": 0.7709999999999999, \"hdi_fac\": \"2_medium\"}, {\"fertility_total\": 1.74, \"educ_expected_yrs_f\": 13.62022209, \"hdi\": 0.943, \"hdi_fac\": \"3_high\"}, {\"fertility_total\": 1.47, \"educ_expected_yrs_f\": 13.46689415, \"hdi\": 0.921, \"hdi_fac\": \"3_high\"}, {\"fertility_total\": 1.73, \"educ_expected_yrs_f\": 12.44501495, \"hdi\": 0.754, \"hdi_fac\": \"2_medium\"}, {\"fertility_total\": 1.987, \"educ_expected_yrs_f\": 13.27036572, \"hdi\": 0.852, \"hdi_fac\": \"3_high\"}, {\"fertility_total\": 2.036, \"educ_expected_yrs_f\": 10.52187443, \"hdi\": 0.625, \"hdi_fac\": \"1_low\"}, {\"fertility_total\": 1.4480000000000002, \"educ_expected_yrs_f\": 13.75893879, \"hdi\": 0.823, \"hdi_fac\": \"3_high\"}, {\"fertility_total\": 1.62, \"educ_expected_yrs_f\": 13.56679726, \"hdi\": 0.93, \"hdi_fac\": \"3_high\"}, {\"fertility_total\": 4.836, \"educ_expected_yrs_f\": 8.782134056, \"hdi\": 0.541, \"hdi_fac\": \"1_low\"}, {\"fertility_total\": 1.975, \"educ_expected_yrs_f\": 10.70332813, \"hdi\": 0.649, \"hdi_fac\": \"1_low\"}, {\"fertility_total\": 1.265, \"educ_expected_yrs_f\": 11.78481483, \"hdi\": 0.777, \"hdi_fac\": \"2_medium\"}, {\"fertility_total\": 2.874, \"educ_expected_yrs_f\": 8.500170707999999, \"hdi\": 0.73, \"hdi_fac\": \"2_medium\"}, {\"fertility_total\": 1.848, \"educ_expected_yrs_f\": 13.21317291, \"hdi\": 0.836, \"hdi_fac\": \"3_high\"}, {\"fertility_total\": 1.56, \"educ_expected_yrs_f\": 12.24310493, \"hdi\": 0.813, \"hdi_fac\": \"2_medium\"}, {\"fertility_total\": 5.189, \"educ_expected_yrs_f\": 6.696904658999999, \"hdi\": 0.4429999999999999, \"hdi_fac\": \"1_low\"}, {\"fertility_total\": 5.41, \"educ_expected_yrs_f\": 8.191820145, \"hdi\": 0.431, \"hdi_fac\": \"1_low\"}, {\"fertility_total\": 2.503, \"educ_expected_yrs_f\": 9.635119438, \"hdi\": 0.585, \"hdi_fac\": \"1_low\"}, {\"fertility_total\": 4.572, \"educ_expected_yrs_f\": 8.315596581, \"hdi\": 0.56, \"hdi_fac\": \"1_low\"}, {\"fertility_total\": 1.4988, \"educ_expected_yrs_f\": 13.709587099999998, \"hdi\": 0.928, \"hdi_fac\": \"3_high\"}, {\"fertility_total\": 4.721, \"educ_expected_yrs_f\": 3.848102808, \"hdi\": 0.395, \"hdi_fac\": \"1_low\"}, {\"fertility_total\": 5.747000000000001, \"educ_expected_yrs_f\": 4.473656654, \"hdi\": 0.397, \"hdi_fac\": \"1_low\"}, {\"fertility_total\": 1.649, \"educ_expected_yrs_f\": 13.05471802, \"hdi\": 0.8490000000000001, \"hdi_fac\": \"3_high\"}, {\"fertility_total\": 1.69, \"educ_expected_yrs_f\": 13.0906477, \"hdi\": 0.755, \"hdi_fac\": \"2_medium\"}, {\"fertility_total\": 1.807, \"educ_expected_yrs_f\": 12.70421314, \"hdi\": 0.764, \"hdi_fac\": \"2_medium\"}, {\"fertility_total\": 4.205, \"educ_expected_yrs_f\": 8.128657341, \"hdi\": 0.552, \"hdi_fac\": \"1_low\"}, {\"fertility_total\": 1.754, \"educ_expected_yrs_f\": 12.51764488, \"hdi\": 0.8079999999999999, \"hdi_fac\": \"2_medium\"}, {\"fertility_total\": 1.47, \"educ_expected_yrs_f\": 13.5518446, \"hdi\": 0.848, \"hdi_fac\": \"3_high\"}, {\"fertility_total\": 1.329, \"educ_expected_yrs_f\": 13.61954403, \"hdi\": 0.885, \"hdi_fac\": \"3_high\"}, {\"fertility_total\": 1.73, \"educ_expected_yrs_f\": 13.47161579, \"hdi\": 0.939, \"hdi_fac\": \"3_high\"}, {\"fertility_total\": 2.346, \"educ_expected_yrs_f\": 12.15325356, \"hdi\": 0.7509999999999999, \"hdi_fac\": \"2_medium\"}, {\"fertility_total\": 2.427, \"educ_expected_yrs_f\": 13.219711300000002, \"hdi\": 0.762, \"hdi_fac\": \"2_medium\"}, {\"fertility_total\": 2.039, \"educ_expected_yrs_f\": 10.9428196, \"hdi\": 0.67, \"hdi_fac\": \"2_medium\"}, {\"fertility_total\": 1.67, \"educ_expected_yrs_f\": 13.53030491, \"hdi\": 0.889, \"hdi_fac\": \"3_high\"}, {\"fertility_total\": 4.247, \"educ_expected_yrs_f\": 7.516855717, \"hdi\": 0.478, \"hdi_fac\": \"1_low\"}, {\"fertility_total\": 2.774, \"educ_expected_yrs_f\": 11.43205929, \"hdi\": 0.742, \"hdi_fac\": \"2_medium\"}, {\"fertility_total\": 1.41, \"educ_expected_yrs_f\": 13.74469662, \"hdi\": 0.937, \"hdi_fac\": \"3_high\"}, {\"fertility_total\": 1.88, \"educ_expected_yrs_f\": 13.8239584, \"hdi\": 0.898, \"hdi_fac\": \"3_high\"}, {\"fertility_total\": 3.969, \"educ_expected_yrs_f\": 8.538388252, \"hdi\": 0.6970000000000001, \"hdi_fac\": \"2_medium\"}, {\"fertility_total\": 2.06, \"educ_expected_yrs_f\": 13.02663994, \"hdi\": 0.805, \"hdi_fac\": \"2_medium\"}, {\"fertility_total\": 1.57, \"educ_expected_yrs_f\": 13.34453487, \"hdi\": 0.946, \"hdi_fac\": \"3_high\"}, {\"fertility_total\": 3.87, \"educ_expected_yrs_f\": 11.91578197, \"hdi\": 0.606, \"hdi_fac\": \"1_low\"}, {\"fertility_total\": 1.35, \"educ_expected_yrs_f\": 13.28767872, \"hdi\": 0.8809999999999999, \"hdi_fac\": \"3_high\"}, {\"fertility_total\": 2.063, \"educ_expected_yrs_f\": 13.13885593, \"hdi\": 0.773, \"hdi_fac\": \"2_medium\"}, {\"fertility_total\": 2.87, \"educ_expected_yrs_f\": 9.521496773, \"hdi\": 0.657, \"hdi_fac\": \"1_low\"}, {\"fertility_total\": 4.7, \"educ_expected_yrs_f\": 6.210740089, \"hdi\": 0.473, \"hdi_fac\": \"1_low\"}, {\"fertility_total\": 2.462, \"educ_expected_yrs_f\": 12.30990696, \"hdi\": 0.68, \"hdi_fac\": \"2_medium\"}, {\"fertility_total\": 2.935, \"educ_expected_yrs_f\": 11.44699955, \"hdi\": 0.508, \"hdi_fac\": \"1_low\"}, {\"fertility_total\": 2.46, \"educ_expected_yrs_f\": 9.822359085, \"hdi\": 0.633, \"hdi_fac\": \"1_low\"}, {\"fertility_total\": 1.55, \"educ_expected_yrs_f\": 12.96164417, \"hdi\": 0.85, \"hdi_fac\": \"3_high\"}, {\"fertility_total\": 1.71, \"educ_expected_yrs_f\": 13.54500961, \"hdi\": 0.946, \"hdi_fac\": \"3_high\"}, {\"fertility_total\": 2.222, \"educ_expected_yrs_f\": 10.93618393, \"hdi\": 0.642, \"hdi_fac\": \"1_low\"}, {\"fertility_total\": 2.311, \"educ_expected_yrs_f\": 12.41253376, \"hdi\": 0.7120000000000001, \"hdi_fac\": \"2_medium\"}, {\"fertility_total\": 3.672, \"educ_expected_yrs_f\": 7.038986206000001, \"hdi\": 0.6709999999999999, \"hdi_fac\": \"2_medium\"}, {\"fertility_total\": 1.75, \"educ_expected_yrs_f\": 13.92032051, \"hdi\": 0.951, \"hdi_fac\": \"3_high\"}, {\"fertility_total\": 3.09, \"educ_expected_yrs_f\": 13.90762043, \"hdi\": 0.916, \"hdi_fac\": \"3_high\"}, {\"fertility_total\": 1.29, \"educ_expected_yrs_f\": 13.31961727, \"hdi\": 0.89, \"hdi_fac\": \"3_high\"}, {\"fertility_total\": 1.979, \"educ_expected_yrs_f\": 11.82789326, \"hdi\": 0.7340000000000001, \"hdi_fac\": \"2_medium\"}, {\"fertility_total\": 2.761, \"educ_expected_yrs_f\": 11.72220421, \"hdi\": 0.728, \"hdi_fac\": \"2_medium\"}, {\"fertility_total\": 2.84, \"educ_expected_yrs_f\": 13.86884308, \"hdi\": 0.8190000000000001, \"hdi_fac\": \"3_high\"}, {\"fertility_total\": 3.492, \"educ_expected_yrs_f\": 11.30184937, \"hdi\": 0.599, \"hdi_fac\": \"1_low\"}, {\"fertility_total\": 3.569, \"educ_expected_yrs_f\": 11.82059479, \"hdi\": 0.628, \"hdi_fac\": \"1_low\"}, {\"fertility_total\": 2.082, \"educ_expected_yrs_f\": 12.40283394, \"hdi\": 0.807, \"hdi_fac\": \"2_medium\"}, {\"fertility_total\": 1.6, \"educ_expected_yrs_f\": 13.7176199, \"hdi\": 0.863, \"hdi_fac\": \"3_high\"}, {\"fertility_total\": 3.141, \"educ_expected_yrs_f\": 10.41264439, \"hdi\": 0.522, \"hdi_fac\": \"1_low\"}, {\"fertility_total\": 4.315, \"educ_expected_yrs_f\": 4.166073798999999, \"hdi\": 0.48, \"hdi_fac\": \"1_low\"}, {\"fertility_total\": 1.63, \"educ_expected_yrs_f\": 13.88928127, \"hdi\": 0.8759999999999999, \"hdi_fac\": \"3_high\"}, {\"fertility_total\": 1.38, \"educ_expected_yrs_f\": 12.47436428, \"hdi\": 0.913, \"hdi_fac\": \"3_high\"}, {\"fertility_total\": 4.077, \"educ_expected_yrs_f\": 8.609224318999999, \"hdi\": 0.527, \"hdi_fac\": \"1_low\"}, {\"fertility_total\": 4.209, \"educ_expected_yrs_f\": 9.583486557, \"hdi\": 0.478, \"hdi_fac\": \"1_low\"}, {\"fertility_total\": 2.001, \"educ_expected_yrs_f\": 12.68888378, \"hdi\": 0.805, \"hdi_fac\": \"2_medium\"}, {\"fertility_total\": 5.877000000000001, \"educ_expected_yrs_f\": 5.42065239, \"hdi\": 0.431, \"hdi_fac\": \"1_low\"}, {\"fertility_total\": 1.23, \"educ_expected_yrs_f\": 13.50980282, \"hdi\": 0.894, \"hdi_fac\": \"3_high\"}, {\"fertility_total\": 4.561, \"educ_expected_yrs_f\": 7.564128876, \"hdi\": 0.542, \"hdi_fac\": \"1_low\"}, {\"fertility_total\": 1.41, \"educ_expected_yrs_f\": 12.77645302, \"hdi\": 0.8009999999999999, \"hdi_fac\": \"2_medium\"}, {\"fertility_total\": 2.129, \"educ_expected_yrs_f\": 12.97874069, \"hdi\": 0.7759999999999999, \"hdi_fac\": \"2_medium\"}, {\"fertility_total\": 2.895, \"educ_expected_yrs_f\": 13.25112915, \"hdi\": 0.735, \"hdi_fac\": \"2_medium\"}, {\"fertility_total\": 1.745, \"educ_expected_yrs_f\": 12.64217091, \"hdi\": 0.826, \"hdi_fac\": \"3_high\"}, {\"fertility_total\": 2.415, \"educ_expected_yrs_f\": 10.41762161, \"hdi\": 0.68, \"hdi_fac\": \"2_medium\"}, {\"fertility_total\": 2.154, \"educ_expected_yrs_f\": 9.829102516, \"hdi\": 0.579, \"hdi_fac\": \"1_low\"}, {\"fertility_total\": 3.3960000000000004, \"educ_expected_yrs_f\": 9.723130226, \"hdi\": 0.645, \"hdi_fac\": \"1_low\"}, {\"fertility_total\": 1.917, \"educ_expected_yrs_f\": 12.0131464, \"hdi\": 0.596, \"hdi_fac\": \"1_low\"}, {\"fertility_total\": 1.59, \"educ_expected_yrs_f\": 13.92983341, \"hdi\": 0.942, \"hdi_fac\": \"3_high\"}, {\"fertility_total\": 1.71, \"educ_expected_yrs_f\": 13.77946663, \"hdi\": 0.928, \"hdi_fac\": \"3_high\"}, {\"fertility_total\": 2.404, \"educ_expected_yrs_f\": 11.10092926, \"hdi\": 0.659, \"hdi_fac\": \"1_low\"}, {\"fertility_total\": 6.912999999999999, \"educ_expected_yrs_f\": 5.059231758, \"hdi\": 0.391, \"hdi_fac\": \"1_low\"}, {\"fertility_total\": 5.3870000000000005, \"educ_expected_yrs_f\": 10.09999943, \"hdi\": 0.534, \"hdi_fac\": \"1_low\"}, {\"fertility_total\": 1.496, \"educ_expected_yrs_f\": 11.08503532, \"hdi\": 0.77, \"hdi_fac\": \"2_medium\"}, {\"fertility_total\": 1.56, \"educ_expected_yrs_f\": 13.67211056, \"hdi\": 0.956, \"hdi_fac\": \"3_high\"}, {\"fertility_total\": 2.888, \"educ_expected_yrs_f\": 13.10266685, \"hdi\": 0.813, \"hdi_fac\": \"2_medium\"}, {\"fertility_total\": 3.51, \"educ_expected_yrs_f\": 8.687153816, \"hdi\": 0.552, \"hdi_fac\": \"1_low\"}, {\"fertility_total\": 2.461, \"educ_expected_yrs_f\": 10.88493347, \"hdi\": 0.812, \"hdi_fac\": \"2_medium\"}, {\"fertility_total\": 3.564, \"educ_expected_yrs_f\": 9.818692207, \"hdi\": 0.5489999999999999, \"hdi_fac\": \"1_low\"}, {\"fertility_total\": 2.4290000000000003, \"educ_expected_yrs_f\": 11.26677418, \"hdi\": 0.727, \"hdi_fac\": \"2_medium\"}, {\"fertility_total\": 2.254, \"educ_expected_yrs_f\": 12.89012051, \"hdi\": 0.7709999999999999, \"hdi_fac\": \"2_medium\"}, {\"fertility_total\": 2.576, \"educ_expected_yrs_f\": 13.04763317, \"hdi\": 0.711, \"hdi_fac\": \"2_medium\"}, {\"fertility_total\": 1.46, \"educ_expected_yrs_f\": 13.45503712, \"hdi\": 0.877, \"hdi_fac\": \"3_high\"}, {\"fertility_total\": 1.42, \"educ_expected_yrs_f\": 13.82900047, \"hdi\": 0.86, \"hdi_fac\": \"3_high\"}, {\"fertility_total\": 1.866, \"educ_expected_yrs_f\": 12.7883606, \"hdi\": 0.845, \"hdi_fac\": \"3_high\"}, {\"fertility_total\": 1.76, \"educ_expected_yrs_f\": 11.98094845, \"hdi\": 0.823, \"hdi_fac\": \"3_high\"}, {\"fertility_total\": 1.579, \"educ_expected_yrs_f\": 13.68534756, \"hdi\": 0.823, \"hdi_fac\": \"3_high\"}, {\"fertility_total\": 4.044, \"educ_expected_yrs_f\": 6.980305195, \"hdi\": 0.54, \"hdi_fac\": \"1_low\"}, {\"fertility_total\": 3.877, \"educ_expected_yrs_f\": 12.44684696, \"hdi\": 0.7090000000000001, \"hdi_fac\": \"2_medium\"}, {\"fertility_total\": 2.319, \"educ_expected_yrs_f\": 12.26758575, \"hdi\": 0.8540000000000001, \"hdi_fac\": \"3_high\"}, {\"fertility_total\": 4.625, \"educ_expected_yrs_f\": 7.849748135, \"hdi\": 0.516, \"hdi_fac\": \"1_low\"}, {\"fertility_total\": 1.49, \"educ_expected_yrs_f\": 13.49239731, \"hdi\": 0.8029999999999999, \"hdi_fac\": \"2_medium\"}, {\"fertility_total\": 2.41, \"educ_expected_yrs_f\": 13.53542233, \"hdi\": 0.79, \"hdi_fac\": \"2_medium\"}, {\"fertility_total\": 4.263, \"educ_expected_yrs_f\": 9.282006264, \"hdi\": 0.447, \"hdi_fac\": \"1_low\"}, {\"fertility_total\": 1.14, \"educ_expected_yrs_f\": 13.90422153, \"hdi\": 0.936, \"hdi_fac\": \"3_high\"}, {\"fertility_total\": 1.61, \"educ_expected_yrs_f\": 13.71750641, \"hdi\": 0.912, \"hdi_fac\": \"3_high\"}, {\"fertility_total\": 4.4030000000000005, \"educ_expected_yrs_f\": 8.841700553999999, \"hdi\": 0.564, \"hdi_fac\": \"1_low\"}, {\"fertility_total\": 2.405, \"educ_expected_yrs_f\": 10.11397743, \"hdi\": 0.7070000000000001, \"hdi_fac\": \"2_medium\"}, {\"fertility_total\": 4.696000000000001, \"educ_expected_yrs_f\": 3.916237831, \"hdi\": 0.429, \"hdi_fac\": \"1_low\"}, {\"fertility_total\": 1.26, \"educ_expected_yrs_f\": 13.08606815, \"hdi\": 0.905, \"hdi_fac\": \"3_high\"}, {\"fertility_total\": 2.199, \"educ_expected_yrs_f\": 13.11488724, \"hdi\": 0.779, \"hdi_fac\": \"2_medium\"}, {\"fertility_total\": 4.407, \"educ_expected_yrs_f\": 6.943500996, \"hdi\": 0.506, \"hdi_fac\": \"1_low\"}, {\"fertility_total\": 1.76, \"educ_expected_yrs_f\": 13.90402126, \"hdi\": 0.943, \"hdi_fac\": \"3_high\"}, {\"fertility_total\": 1.52, \"educ_expected_yrs_f\": 13.21845913, \"hdi\": 0.955, \"hdi_fac\": \"3_high\"}, {\"fertility_total\": 3.585, \"educ_expected_yrs_f\": 10.43918705, \"hdi\": 0.6609999999999999, \"hdi_fac\": \"1_low\"}, {\"fertility_total\": 1.525, \"educ_expected_yrs_f\": 12.644207000000002, \"hdi\": 0.772, \"hdi_fac\": \"2_medium\"}, {\"fertility_total\": 4.023, \"educ_expected_yrs_f\": 10.87477875, \"hdi\": 0.599, \"hdi_fac\": \"1_low\"}, {\"fertility_total\": 4.32, \"educ_expected_yrs_f\": 9.123530388, \"hdi\": 0.51, \"hdi_fac\": \"1_low\"}, {\"fertility_total\": 3.556, \"educ_expected_yrs_f\": 11.83284092, \"hdi\": 0.723, \"hdi_fac\": \"2_medium\"}, {\"fertility_total\": 2.197, \"educ_expected_yrs_f\": 10.95233727, \"hdi\": 0.738, \"hdi_fac\": \"2_medium\"}, {\"fertility_total\": 2.069, \"educ_expected_yrs_f\": 11.99552917, \"hdi\": 0.8170000000000001, \"hdi_fac\": \"3_high\"}, {\"fertility_total\": 1.301, \"educ_expected_yrs_f\": 13.00567055, \"hdi\": 0.774, \"hdi_fac\": \"2_medium\"}, {\"fertility_total\": 1.413, \"educ_expected_yrs_f\": 13.1702652, \"hdi\": 0.889, \"hdi_fac\": \"3_high\"}, {\"fertility_total\": 1.68, \"educ_expected_yrs_f\": 13.85765934, \"hdi\": 0.928, \"hdi_fac\": \"3_high\"}, {\"fertility_total\": 1.7295, \"educ_expected_yrs_f\": 12.93639374, \"hdi\": 0.925, \"hdi_fac\": \"3_high\"}, {\"fertility_total\": 1.973, \"educ_expected_yrs_f\": 12.47761631, \"hdi\": 0.816, \"hdi_fac\": \"2_medium\"}, {\"fertility_total\": 2.604, \"educ_expected_yrs_f\": 12.00484753, \"hdi\": 0.7170000000000001, \"hdi_fac\": \"2_medium\"}, {\"fertility_total\": 3.782, \"educ_expected_yrs_f\": 10.13373089, \"hdi\": 0.603, \"hdi_fac\": \"1_low\"}, {\"fertility_total\": 4.633, \"educ_expected_yrs_f\": 8.745135307, \"hdi\": 0.5820000000000001, \"hdi_fac\": \"1_low\"}, {\"fertility_total\": 3.615, \"educ_expected_yrs_f\": 10.97491837, \"hdi\": 0.569, \"hdi_fac\": \"1_low\"}]}}, {\"mode\": \"vega-lite\"});\n",
       "</script>"
      ],
      "text/plain": [
       "alt.Chart(...)"
      ]
     },
     "execution_count": 10,
     "metadata": {},
     "output_type": "execute_result"
    }
   ],
   "source": [
    "# zoom in\n",
    "scatter_highed = scatter_scaled.transform_filter(\n",
    "    alt.FieldGTPredicate(field = 'educ_expected_yrs_f', gt = 12)\n",
    ")\n",
    "\n",
    "scatter_highed"
   ]
  },
  {
   "cell_type": "markdown",
   "metadata": {},
   "source": [
    "Notice that there are a few points that stand apart from the main scatter. Which countries do  those points represent? It's not to tricky to pick them out by filtering and taking maxima or minima. For example, the country with the lowest fertility rate is: "
   ]
  },
  {
   "cell_type": "code",
   "execution_count": 11,
   "metadata": {},
   "outputs": [
    {
     "data": {
      "text/plain": [
       "'Singapore'"
      ]
     },
     "execution_count": 11,
     "metadata": {},
     "output_type": "execute_result"
    }
   ],
   "source": [
    "reg_data[reg_data.educ_expected_yrs_f > 12].fertility_total.idxmin()"
   ]
  },
  {
   "cell_type": "markdown",
   "metadata": {},
   "source": [
    "### Q0 (e) Labeling specific countries\n",
    "\n",
    "Here you'll look at a few more specific countries, and then label them on the plot."
   ]
  },
  {
   "cell_type": "markdown",
   "metadata": {
    "deletable": false,
    "editable": false
   },
   "source": [
    "#### (i) Find the country among the high-HDI nations with the highest total fertility and store it as `high_high_fert`.\n",
    "\n",
    "<!--\n",
    "BEGIN QUESTION\n",
    "name: q0_d_i\n",
    "points: 1\n",
    "manual: false\n",
    "-->"
   ]
  },
  {
   "cell_type": "code",
   "execution_count": 12,
   "metadata": {},
   "outputs": [
    {
     "name": "stdout",
     "output_type": "stream",
     "text": [
      "Israel\n"
     ]
    }
   ],
   "source": [
    "high_high_fert = reg_data[(reg_data.hdi_fac == '3_high')].fertility_total.idxmax()\n",
    "\n",
    "print(high_high_fert)"
   ]
  },
  {
   "cell_type": "markdown",
   "metadata": {
    "deletable": false,
    "editable": false
   },
   "source": [
    "#### (ii) Find the country among the medium-HDI nations with the highest total fertility and store it as `med_high_fert`.\n",
    "<!--\n",
    "BEGIN QUESTION\n",
    "name: q0_d_ii\n",
    "points: 1\n",
    "manual: false\n",
    "-->"
   ]
  },
  {
   "cell_type": "code",
   "execution_count": 13,
   "metadata": {},
   "outputs": [
    {
     "name": "stdout",
     "output_type": "stream",
     "text": [
      "Samoa\n"
     ]
    }
   ],
   "source": [
    "med_high_fert = reg_data[(reg_data.educ_expected_yrs_f > 12) & (reg_data.hdi_fac == '2_medium')].fertility_total.idxmax()\n",
    "\n",
    "print(med_high_fert)"
   ]
  },
  {
   "cell_type": "markdown",
   "metadata": {
    "deletable": false,
    "editable": false
   },
   "source": [
    "<!-- BEGIN QUESTION -->\n",
    "\n",
    "#### (iii) Identify one other country that calls your attention.\n",
    "\n",
    "<!--\n",
    "BEGIN QUESTION\n",
    "name: q0_d_iii\n",
    "points: 1\n",
    "manual: true\n",
    "-->"
   ]
  },
  {
   "cell_type": "code",
   "execution_count": 14,
   "metadata": {},
   "outputs": [
    {
     "data": {
      "text/plain": [
       "'Nepal'"
      ]
     },
     "execution_count": 14,
     "metadata": {},
     "output_type": "execute_result"
    }
   ],
   "source": [
    "#BEGIN SOLUTION NO PROMPT\n",
    "reg_data[(reg_data.hdi_fac == '2_medium')  & (reg_data.educ_expected_yrs_f > 12)].fertility_total.idxmin()\n",
    "#potential solution\n",
    "reg_data[(reg_data.hdi_fac == '1_low')  & (reg_data.educ_expected_yrs_f > 12)].fertility_total.idxmax()\n",
    "#END SOLUTION"
   ]
  },
  {
   "cell_type": "markdown",
   "metadata": {
    "deletable": false,
    "editable": false
   },
   "source": [
    "<!-- END QUESTION -->\n",
    "\n",
    "<!-- BEGIN QUESTION -->\n",
    "\n",
    "#### (iv) Modify the cell below to label the three countries identified above. \n",
    "\n",
    "<!--\n",
    "BEGIN QUESTION\n",
    "name: q0_d_iv\n",
    "points: 1\n",
    "manual: true\n",
    "-->"
   ]
  },
  {
   "cell_type": "code",
   "execution_count": 15,
   "metadata": {},
   "outputs": [
    {
     "data": {
      "text/html": [
       "\n",
       "<div id=\"altair-viz-fae06c8757d6487face83eb66002425c\"></div>\n",
       "<script type=\"text/javascript\">\n",
       "  var VEGA_DEBUG = (typeof VEGA_DEBUG == \"undefined\") ? {} : VEGA_DEBUG;\n",
       "  (function(spec, embedOpt){\n",
       "    let outputDiv = document.currentScript.previousElementSibling;\n",
       "    if (outputDiv.id !== \"altair-viz-fae06c8757d6487face83eb66002425c\") {\n",
       "      outputDiv = document.getElementById(\"altair-viz-fae06c8757d6487face83eb66002425c\");\n",
       "    }\n",
       "    const paths = {\n",
       "      \"vega\": \"https://cdn.jsdelivr.net/npm//vega@5?noext\",\n",
       "      \"vega-lib\": \"https://cdn.jsdelivr.net/npm//vega-lib?noext\",\n",
       "      \"vega-lite\": \"https://cdn.jsdelivr.net/npm//vega-lite@4.17.0?noext\",\n",
       "      \"vega-embed\": \"https://cdn.jsdelivr.net/npm//vega-embed@6?noext\",\n",
       "    };\n",
       "\n",
       "    function maybeLoadScript(lib, version) {\n",
       "      var key = `${lib.replace(\"-\", \"\")}_version`;\n",
       "      return (VEGA_DEBUG[key] == version) ?\n",
       "        Promise.resolve(paths[lib]) :\n",
       "        new Promise(function(resolve, reject) {\n",
       "          var s = document.createElement('script');\n",
       "          document.getElementsByTagName(\"head\")[0].appendChild(s);\n",
       "          s.async = true;\n",
       "          s.onload = () => {\n",
       "            VEGA_DEBUG[key] = version;\n",
       "            return resolve(paths[lib]);\n",
       "          };\n",
       "          s.onerror = () => reject(`Error loading script: ${paths[lib]}`);\n",
       "          s.src = paths[lib];\n",
       "        });\n",
       "    }\n",
       "\n",
       "    function showError(err) {\n",
       "      outputDiv.innerHTML = `<div class=\"error\" style=\"color:red;\">${err}</div>`;\n",
       "      throw err;\n",
       "    }\n",
       "\n",
       "    function displayChart(vegaEmbed) {\n",
       "      vegaEmbed(outputDiv, spec, embedOpt)\n",
       "        .catch(err => showError(`Javascript Error: ${err.message}<br>This usually means there's a typo in your chart specification. See the javascript console for the full traceback.`));\n",
       "    }\n",
       "\n",
       "    if(typeof define === \"function\" && define.amd) {\n",
       "      requirejs.config({paths});\n",
       "      require([\"vega-embed\"], displayChart, err => showError(`Error loading script: ${err.message}`));\n",
       "    } else {\n",
       "      maybeLoadScript(\"vega\", \"5\")\n",
       "        .then(() => maybeLoadScript(\"vega-lite\", \"4.17.0\"))\n",
       "        .then(() => maybeLoadScript(\"vega-embed\", \"6\"))\n",
       "        .catch(showError)\n",
       "        .then(() => displayChart(vegaEmbed));\n",
       "    }\n",
       "  })({\"config\": {\"view\": {\"continuousWidth\": 400, \"continuousHeight\": 300}}, \"layer\": [{\"data\": {\"name\": \"data-55aa22b03e6d171f9a62cb1eb9279c29\"}, \"mark\": \"circle\", \"encoding\": {\"color\": {\"field\": \"hdi_fac\", \"title\": \"Level of Human development\", \"type\": \"nominal\"}, \"x\": {\"field\": \"educ_expected_yrs_f\", \"scale\": {\"exponent\": 2.5, \"type\": \"pow\", \"zero\": false}, \"title\": \"Expected years of education for women\", \"type\": \"quantitative\"}, \"y\": {\"field\": \"fertility_total\", \"scale\": {\"exponent\": 0.3333333333333333, \"type\": \"pow\", \"zero\": false}, \"title\": \"Fertility rate\", \"type\": \"quantitative\"}}, \"transform\": [{\"filter\": {\"field\": \"educ_expected_yrs_f\", \"gt\": 12}}]}, {\"data\": {\"name\": \"data-b2076d8fb703d252112e18e1a918a337\"}, \"mark\": {\"type\": \"text\", \"align\": \"left\", \"dx\": 5, \"dy\": 3}, \"encoding\": {\"text\": {\"field\": \"Country\", \"type\": \"nominal\"}, \"x\": {\"field\": \"educ_expected_yrs_f\", \"type\": \"quantitative\"}, \"y\": {\"field\": \"fertility_total\", \"type\": \"quantitative\"}}}], \"$schema\": \"https://vega.github.io/schema/vega-lite/v4.17.0.json\", \"datasets\": {\"data-55aa22b03e6d171f9a62cb1eb9279c29\": [{\"fertility_total\": 4.473, \"educ_expected_yrs_f\": 6.795722485, \"hdi\": 0.509, \"hdi_fac\": \"1_low\"}, {\"fertility_total\": 1.617, \"educ_expected_yrs_f\": 13.20175457, \"hdi\": 0.792, \"hdi_fac\": \"2_medium\"}, {\"fertility_total\": 3.023, \"educ_expected_yrs_f\": 12.10898972, \"hdi\": 0.746, \"hdi_fac\": \"2_medium\"}, {\"fertility_total\": 5.519, \"educ_expected_yrs_f\": 6.973901272000001, \"hdi\": 0.5820000000000001, \"hdi_fac\": \"1_low\"}, {\"fertility_total\": 1.994, \"educ_expected_yrs_f\": 12.91444111, \"hdi\": 0.772, \"hdi_fac\": \"2_medium\"}, {\"fertility_total\": 2.261, \"educ_expected_yrs_f\": 13.06125259, \"hdi\": 0.8420000000000001, \"hdi_fac\": \"3_high\"}, {\"fertility_total\": 1.755, \"educ_expected_yrs_f\": 11.62581253, \"hdi\": 0.7709999999999999, \"hdi_fac\": \"2_medium\"}, {\"fertility_total\": 1.74, \"educ_expected_yrs_f\": 13.62022209, \"hdi\": 0.943, \"hdi_fac\": \"3_high\"}, {\"fertility_total\": 1.47, \"educ_expected_yrs_f\": 13.46689415, \"hdi\": 0.921, \"hdi_fac\": \"3_high\"}, {\"fertility_total\": 1.73, \"educ_expected_yrs_f\": 12.44501495, \"hdi\": 0.754, \"hdi_fac\": \"2_medium\"}, {\"fertility_total\": 1.987, \"educ_expected_yrs_f\": 13.27036572, \"hdi\": 0.852, \"hdi_fac\": \"3_high\"}, {\"fertility_total\": 2.036, \"educ_expected_yrs_f\": 10.52187443, \"hdi\": 0.625, \"hdi_fac\": \"1_low\"}, {\"fertility_total\": 1.4480000000000002, \"educ_expected_yrs_f\": 13.75893879, \"hdi\": 0.823, \"hdi_fac\": \"3_high\"}, {\"fertility_total\": 1.62, \"educ_expected_yrs_f\": 13.56679726, \"hdi\": 0.93, \"hdi_fac\": \"3_high\"}, {\"fertility_total\": 4.836, \"educ_expected_yrs_f\": 8.782134056, \"hdi\": 0.541, \"hdi_fac\": \"1_low\"}, {\"fertility_total\": 1.975, \"educ_expected_yrs_f\": 10.70332813, \"hdi\": 0.649, \"hdi_fac\": \"1_low\"}, {\"fertility_total\": 1.265, \"educ_expected_yrs_f\": 11.78481483, \"hdi\": 0.777, \"hdi_fac\": \"2_medium\"}, {\"fertility_total\": 2.874, \"educ_expected_yrs_f\": 8.500170707999999, \"hdi\": 0.73, \"hdi_fac\": \"2_medium\"}, {\"fertility_total\": 1.848, \"educ_expected_yrs_f\": 13.21317291, \"hdi\": 0.836, \"hdi_fac\": \"3_high\"}, {\"fertility_total\": 1.56, \"educ_expected_yrs_f\": 12.24310493, \"hdi\": 0.813, \"hdi_fac\": \"2_medium\"}, {\"fertility_total\": 5.189, \"educ_expected_yrs_f\": 6.696904658999999, \"hdi\": 0.4429999999999999, \"hdi_fac\": \"1_low\"}, {\"fertility_total\": 5.41, \"educ_expected_yrs_f\": 8.191820145, \"hdi\": 0.431, \"hdi_fac\": \"1_low\"}, {\"fertility_total\": 2.503, \"educ_expected_yrs_f\": 9.635119438, \"hdi\": 0.585, \"hdi_fac\": \"1_low\"}, {\"fertility_total\": 4.572, \"educ_expected_yrs_f\": 8.315596581, \"hdi\": 0.56, \"hdi_fac\": \"1_low\"}, {\"fertility_total\": 1.4988, \"educ_expected_yrs_f\": 13.709587099999998, \"hdi\": 0.928, \"hdi_fac\": \"3_high\"}, {\"fertility_total\": 4.721, \"educ_expected_yrs_f\": 3.848102808, \"hdi\": 0.395, \"hdi_fac\": \"1_low\"}, {\"fertility_total\": 5.747000000000001, \"educ_expected_yrs_f\": 4.473656654, \"hdi\": 0.397, \"hdi_fac\": \"1_low\"}, {\"fertility_total\": 1.649, \"educ_expected_yrs_f\": 13.05471802, \"hdi\": 0.8490000000000001, \"hdi_fac\": \"3_high\"}, {\"fertility_total\": 1.69, \"educ_expected_yrs_f\": 13.0906477, \"hdi\": 0.755, \"hdi_fac\": \"2_medium\"}, {\"fertility_total\": 1.807, \"educ_expected_yrs_f\": 12.70421314, \"hdi\": 0.764, \"hdi_fac\": \"2_medium\"}, {\"fertility_total\": 4.205, \"educ_expected_yrs_f\": 8.128657341, \"hdi\": 0.552, \"hdi_fac\": \"1_low\"}, {\"fertility_total\": 1.754, \"educ_expected_yrs_f\": 12.51764488, \"hdi\": 0.8079999999999999, \"hdi_fac\": \"2_medium\"}, {\"fertility_total\": 1.47, \"educ_expected_yrs_f\": 13.5518446, \"hdi\": 0.848, \"hdi_fac\": \"3_high\"}, {\"fertility_total\": 1.329, \"educ_expected_yrs_f\": 13.61954403, \"hdi\": 0.885, \"hdi_fac\": \"3_high\"}, {\"fertility_total\": 1.73, \"educ_expected_yrs_f\": 13.47161579, \"hdi\": 0.939, \"hdi_fac\": \"3_high\"}, {\"fertility_total\": 2.346, \"educ_expected_yrs_f\": 12.15325356, \"hdi\": 0.7509999999999999, \"hdi_fac\": \"2_medium\"}, {\"fertility_total\": 2.427, \"educ_expected_yrs_f\": 13.219711300000002, \"hdi\": 0.762, \"hdi_fac\": \"2_medium\"}, {\"fertility_total\": 2.039, \"educ_expected_yrs_f\": 10.9428196, \"hdi\": 0.67, \"hdi_fac\": \"2_medium\"}, {\"fertility_total\": 1.67, \"educ_expected_yrs_f\": 13.53030491, \"hdi\": 0.889, \"hdi_fac\": \"3_high\"}, {\"fertility_total\": 4.247, \"educ_expected_yrs_f\": 7.516855717, \"hdi\": 0.478, \"hdi_fac\": \"1_low\"}, {\"fertility_total\": 2.774, \"educ_expected_yrs_f\": 11.43205929, \"hdi\": 0.742, \"hdi_fac\": \"2_medium\"}, {\"fertility_total\": 1.41, \"educ_expected_yrs_f\": 13.74469662, \"hdi\": 0.937, \"hdi_fac\": \"3_high\"}, {\"fertility_total\": 1.88, \"educ_expected_yrs_f\": 13.8239584, \"hdi\": 0.898, \"hdi_fac\": \"3_high\"}, {\"fertility_total\": 3.969, \"educ_expected_yrs_f\": 8.538388252, \"hdi\": 0.6970000000000001, \"hdi_fac\": \"2_medium\"}, {\"fertility_total\": 2.06, \"educ_expected_yrs_f\": 13.02663994, \"hdi\": 0.805, \"hdi_fac\": \"2_medium\"}, {\"fertility_total\": 1.57, \"educ_expected_yrs_f\": 13.34453487, \"hdi\": 0.946, \"hdi_fac\": \"3_high\"}, {\"fertility_total\": 3.87, \"educ_expected_yrs_f\": 11.91578197, \"hdi\": 0.606, \"hdi_fac\": \"1_low\"}, {\"fertility_total\": 1.35, \"educ_expected_yrs_f\": 13.28767872, \"hdi\": 0.8809999999999999, \"hdi_fac\": \"3_high\"}, {\"fertility_total\": 2.063, \"educ_expected_yrs_f\": 13.13885593, \"hdi\": 0.773, \"hdi_fac\": \"2_medium\"}, {\"fertility_total\": 2.87, \"educ_expected_yrs_f\": 9.521496773, \"hdi\": 0.657, \"hdi_fac\": \"1_low\"}, {\"fertility_total\": 4.7, \"educ_expected_yrs_f\": 6.210740089, \"hdi\": 0.473, \"hdi_fac\": \"1_low\"}, {\"fertility_total\": 2.462, \"educ_expected_yrs_f\": 12.30990696, \"hdi\": 0.68, \"hdi_fac\": \"2_medium\"}, {\"fertility_total\": 2.935, \"educ_expected_yrs_f\": 11.44699955, \"hdi\": 0.508, \"hdi_fac\": \"1_low\"}, {\"fertility_total\": 2.46, \"educ_expected_yrs_f\": 9.822359085, \"hdi\": 0.633, \"hdi_fac\": \"1_low\"}, {\"fertility_total\": 1.55, \"educ_expected_yrs_f\": 12.96164417, \"hdi\": 0.85, \"hdi_fac\": \"3_high\"}, {\"fertility_total\": 1.71, \"educ_expected_yrs_f\": 13.54500961, \"hdi\": 0.946, \"hdi_fac\": \"3_high\"}, {\"fertility_total\": 2.222, \"educ_expected_yrs_f\": 10.93618393, \"hdi\": 0.642, \"hdi_fac\": \"1_low\"}, {\"fertility_total\": 2.311, \"educ_expected_yrs_f\": 12.41253376, \"hdi\": 0.7120000000000001, \"hdi_fac\": \"2_medium\"}, {\"fertility_total\": 3.672, \"educ_expected_yrs_f\": 7.038986206000001, \"hdi\": 0.6709999999999999, \"hdi_fac\": \"2_medium\"}, {\"fertility_total\": 1.75, \"educ_expected_yrs_f\": 13.92032051, \"hdi\": 0.951, \"hdi_fac\": \"3_high\"}, {\"fertility_total\": 3.09, \"educ_expected_yrs_f\": 13.90762043, \"hdi\": 0.916, \"hdi_fac\": \"3_high\"}, {\"fertility_total\": 1.29, \"educ_expected_yrs_f\": 13.31961727, \"hdi\": 0.89, \"hdi_fac\": \"3_high\"}, {\"fertility_total\": 1.979, \"educ_expected_yrs_f\": 11.82789326, \"hdi\": 0.7340000000000001, \"hdi_fac\": \"2_medium\"}, {\"fertility_total\": 2.761, \"educ_expected_yrs_f\": 11.72220421, \"hdi\": 0.728, \"hdi_fac\": \"2_medium\"}, {\"fertility_total\": 2.84, \"educ_expected_yrs_f\": 13.86884308, \"hdi\": 0.8190000000000001, \"hdi_fac\": \"3_high\"}, {\"fertility_total\": 3.492, \"educ_expected_yrs_f\": 11.30184937, \"hdi\": 0.599, \"hdi_fac\": \"1_low\"}, {\"fertility_total\": 3.569, \"educ_expected_yrs_f\": 11.82059479, \"hdi\": 0.628, \"hdi_fac\": \"1_low\"}, {\"fertility_total\": 2.082, \"educ_expected_yrs_f\": 12.40283394, \"hdi\": 0.807, \"hdi_fac\": \"2_medium\"}, {\"fertility_total\": 1.6, \"educ_expected_yrs_f\": 13.7176199, \"hdi\": 0.863, \"hdi_fac\": \"3_high\"}, {\"fertility_total\": 3.141, \"educ_expected_yrs_f\": 10.41264439, \"hdi\": 0.522, \"hdi_fac\": \"1_low\"}, {\"fertility_total\": 4.315, \"educ_expected_yrs_f\": 4.166073798999999, \"hdi\": 0.48, \"hdi_fac\": \"1_low\"}, {\"fertility_total\": 1.63, \"educ_expected_yrs_f\": 13.88928127, \"hdi\": 0.8759999999999999, \"hdi_fac\": \"3_high\"}, {\"fertility_total\": 1.38, \"educ_expected_yrs_f\": 12.47436428, \"hdi\": 0.913, \"hdi_fac\": \"3_high\"}, {\"fertility_total\": 4.077, \"educ_expected_yrs_f\": 8.609224318999999, \"hdi\": 0.527, \"hdi_fac\": \"1_low\"}, {\"fertility_total\": 4.209, \"educ_expected_yrs_f\": 9.583486557, \"hdi\": 0.478, \"hdi_fac\": \"1_low\"}, {\"fertility_total\": 2.001, \"educ_expected_yrs_f\": 12.68888378, \"hdi\": 0.805, \"hdi_fac\": \"2_medium\"}, {\"fertility_total\": 5.877000000000001, \"educ_expected_yrs_f\": 5.42065239, \"hdi\": 0.431, \"hdi_fac\": \"1_low\"}, {\"fertility_total\": 1.23, \"educ_expected_yrs_f\": 13.50980282, \"hdi\": 0.894, \"hdi_fac\": \"3_high\"}, {\"fertility_total\": 4.561, \"educ_expected_yrs_f\": 7.564128876, \"hdi\": 0.542, \"hdi_fac\": \"1_low\"}, {\"fertility_total\": 1.41, \"educ_expected_yrs_f\": 12.77645302, \"hdi\": 0.8009999999999999, \"hdi_fac\": \"2_medium\"}, {\"fertility_total\": 2.129, \"educ_expected_yrs_f\": 12.97874069, \"hdi\": 0.7759999999999999, \"hdi_fac\": \"2_medium\"}, {\"fertility_total\": 2.895, \"educ_expected_yrs_f\": 13.25112915, \"hdi\": 0.735, \"hdi_fac\": \"2_medium\"}, {\"fertility_total\": 1.745, \"educ_expected_yrs_f\": 12.64217091, \"hdi\": 0.826, \"hdi_fac\": \"3_high\"}, {\"fertility_total\": 2.415, \"educ_expected_yrs_f\": 10.41762161, \"hdi\": 0.68, \"hdi_fac\": \"2_medium\"}, {\"fertility_total\": 2.154, \"educ_expected_yrs_f\": 9.829102516, \"hdi\": 0.579, \"hdi_fac\": \"1_low\"}, {\"fertility_total\": 3.3960000000000004, \"educ_expected_yrs_f\": 9.723130226, \"hdi\": 0.645, \"hdi_fac\": \"1_low\"}, {\"fertility_total\": 1.917, \"educ_expected_yrs_f\": 12.0131464, \"hdi\": 0.596, \"hdi_fac\": \"1_low\"}, {\"fertility_total\": 1.59, \"educ_expected_yrs_f\": 13.92983341, \"hdi\": 0.942, \"hdi_fac\": \"3_high\"}, {\"fertility_total\": 1.71, \"educ_expected_yrs_f\": 13.77946663, \"hdi\": 0.928, \"hdi_fac\": \"3_high\"}, {\"fertility_total\": 2.404, \"educ_expected_yrs_f\": 11.10092926, \"hdi\": 0.659, \"hdi_fac\": \"1_low\"}, {\"fertility_total\": 6.912999999999999, \"educ_expected_yrs_f\": 5.059231758, \"hdi\": 0.391, \"hdi_fac\": \"1_low\"}, {\"fertility_total\": 5.3870000000000005, \"educ_expected_yrs_f\": 10.09999943, \"hdi\": 0.534, \"hdi_fac\": \"1_low\"}, {\"fertility_total\": 1.496, \"educ_expected_yrs_f\": 11.08503532, \"hdi\": 0.77, \"hdi_fac\": \"2_medium\"}, {\"fertility_total\": 1.56, \"educ_expected_yrs_f\": 13.67211056, \"hdi\": 0.956, \"hdi_fac\": \"3_high\"}, {\"fertility_total\": 2.888, \"educ_expected_yrs_f\": 13.10266685, \"hdi\": 0.813, \"hdi_fac\": \"2_medium\"}, {\"fertility_total\": 3.51, \"educ_expected_yrs_f\": 8.687153816, \"hdi\": 0.552, \"hdi_fac\": \"1_low\"}, {\"fertility_total\": 2.461, \"educ_expected_yrs_f\": 10.88493347, \"hdi\": 0.812, \"hdi_fac\": \"2_medium\"}, {\"fertility_total\": 3.564, \"educ_expected_yrs_f\": 9.818692207, \"hdi\": 0.5489999999999999, \"hdi_fac\": \"1_low\"}, {\"fertility_total\": 2.4290000000000003, \"educ_expected_yrs_f\": 11.26677418, \"hdi\": 0.727, \"hdi_fac\": \"2_medium\"}, {\"fertility_total\": 2.254, \"educ_expected_yrs_f\": 12.89012051, \"hdi\": 0.7709999999999999, \"hdi_fac\": \"2_medium\"}, {\"fertility_total\": 2.576, \"educ_expected_yrs_f\": 13.04763317, \"hdi\": 0.711, \"hdi_fac\": \"2_medium\"}, {\"fertility_total\": 1.46, \"educ_expected_yrs_f\": 13.45503712, \"hdi\": 0.877, \"hdi_fac\": \"3_high\"}, {\"fertility_total\": 1.42, \"educ_expected_yrs_f\": 13.82900047, \"hdi\": 0.86, \"hdi_fac\": \"3_high\"}, {\"fertility_total\": 1.866, \"educ_expected_yrs_f\": 12.7883606, \"hdi\": 0.845, \"hdi_fac\": \"3_high\"}, {\"fertility_total\": 1.76, \"educ_expected_yrs_f\": 11.98094845, \"hdi\": 0.823, \"hdi_fac\": \"3_high\"}, {\"fertility_total\": 1.579, \"educ_expected_yrs_f\": 13.68534756, \"hdi\": 0.823, \"hdi_fac\": \"3_high\"}, {\"fertility_total\": 4.044, \"educ_expected_yrs_f\": 6.980305195, \"hdi\": 0.54, \"hdi_fac\": \"1_low\"}, {\"fertility_total\": 3.877, \"educ_expected_yrs_f\": 12.44684696, \"hdi\": 0.7090000000000001, \"hdi_fac\": \"2_medium\"}, {\"fertility_total\": 2.319, \"educ_expected_yrs_f\": 12.26758575, \"hdi\": 0.8540000000000001, \"hdi_fac\": \"3_high\"}, {\"fertility_total\": 4.625, \"educ_expected_yrs_f\": 7.849748135, \"hdi\": 0.516, \"hdi_fac\": \"1_low\"}, {\"fertility_total\": 1.49, \"educ_expected_yrs_f\": 13.49239731, \"hdi\": 0.8029999999999999, \"hdi_fac\": \"2_medium\"}, {\"fertility_total\": 2.41, \"educ_expected_yrs_f\": 13.53542233, \"hdi\": 0.79, \"hdi_fac\": \"2_medium\"}, {\"fertility_total\": 4.263, \"educ_expected_yrs_f\": 9.282006264, \"hdi\": 0.447, \"hdi_fac\": \"1_low\"}, {\"fertility_total\": 1.14, \"educ_expected_yrs_f\": 13.90422153, \"hdi\": 0.936, \"hdi_fac\": \"3_high\"}, {\"fertility_total\": 1.61, \"educ_expected_yrs_f\": 13.71750641, \"hdi\": 0.912, \"hdi_fac\": \"3_high\"}, {\"fertility_total\": 4.4030000000000005, \"educ_expected_yrs_f\": 8.841700553999999, \"hdi\": 0.564, \"hdi_fac\": \"1_low\"}, {\"fertility_total\": 2.405, \"educ_expected_yrs_f\": 10.11397743, \"hdi\": 0.7070000000000001, \"hdi_fac\": \"2_medium\"}, {\"fertility_total\": 4.696000000000001, \"educ_expected_yrs_f\": 3.916237831, \"hdi\": 0.429, \"hdi_fac\": \"1_low\"}, {\"fertility_total\": 1.26, \"educ_expected_yrs_f\": 13.08606815, \"hdi\": 0.905, \"hdi_fac\": \"3_high\"}, {\"fertility_total\": 2.199, \"educ_expected_yrs_f\": 13.11488724, \"hdi\": 0.779, \"hdi_fac\": \"2_medium\"}, {\"fertility_total\": 4.407, \"educ_expected_yrs_f\": 6.943500996, \"hdi\": 0.506, \"hdi_fac\": \"1_low\"}, {\"fertility_total\": 1.76, \"educ_expected_yrs_f\": 13.90402126, \"hdi\": 0.943, \"hdi_fac\": \"3_high\"}, {\"fertility_total\": 1.52, \"educ_expected_yrs_f\": 13.21845913, \"hdi\": 0.955, \"hdi_fac\": \"3_high\"}, {\"fertility_total\": 3.585, \"educ_expected_yrs_f\": 10.43918705, \"hdi\": 0.6609999999999999, \"hdi_fac\": \"1_low\"}, {\"fertility_total\": 1.525, \"educ_expected_yrs_f\": 12.644207000000002, \"hdi\": 0.772, \"hdi_fac\": \"2_medium\"}, {\"fertility_total\": 4.023, \"educ_expected_yrs_f\": 10.87477875, \"hdi\": 0.599, \"hdi_fac\": \"1_low\"}, {\"fertility_total\": 4.32, \"educ_expected_yrs_f\": 9.123530388, \"hdi\": 0.51, \"hdi_fac\": \"1_low\"}, {\"fertility_total\": 3.556, \"educ_expected_yrs_f\": 11.83284092, \"hdi\": 0.723, \"hdi_fac\": \"2_medium\"}, {\"fertility_total\": 2.197, \"educ_expected_yrs_f\": 10.95233727, \"hdi\": 0.738, \"hdi_fac\": \"2_medium\"}, {\"fertility_total\": 2.069, \"educ_expected_yrs_f\": 11.99552917, \"hdi\": 0.8170000000000001, \"hdi_fac\": \"3_high\"}, {\"fertility_total\": 1.301, \"educ_expected_yrs_f\": 13.00567055, \"hdi\": 0.774, \"hdi_fac\": \"2_medium\"}, {\"fertility_total\": 1.413, \"educ_expected_yrs_f\": 13.1702652, \"hdi\": 0.889, \"hdi_fac\": \"3_high\"}, {\"fertility_total\": 1.68, \"educ_expected_yrs_f\": 13.85765934, \"hdi\": 0.928, \"hdi_fac\": \"3_high\"}, {\"fertility_total\": 1.7295, \"educ_expected_yrs_f\": 12.93639374, \"hdi\": 0.925, \"hdi_fac\": \"3_high\"}, {\"fertility_total\": 1.973, \"educ_expected_yrs_f\": 12.47761631, \"hdi\": 0.816, \"hdi_fac\": \"2_medium\"}, {\"fertility_total\": 2.604, \"educ_expected_yrs_f\": 12.00484753, \"hdi\": 0.7170000000000001, \"hdi_fac\": \"2_medium\"}, {\"fertility_total\": 3.782, \"educ_expected_yrs_f\": 10.13373089, \"hdi\": 0.603, \"hdi_fac\": \"1_low\"}, {\"fertility_total\": 4.633, \"educ_expected_yrs_f\": 8.745135307, \"hdi\": 0.5820000000000001, \"hdi_fac\": \"1_low\"}, {\"fertility_total\": 3.615, \"educ_expected_yrs_f\": 10.97491837, \"hdi\": 0.569, \"hdi_fac\": \"1_low\"}], \"data-b2076d8fb703d252112e18e1a918a337\": [{\"Country\": \"Singapore\", \"fertility_total\": 1.14, \"educ_expected_yrs_f\": 13.90422153, \"hdi\": 0.936, \"hdi_fac\": \"3_high\"}, {\"Country\": \"Israel\", \"fertility_total\": 3.09, \"educ_expected_yrs_f\": 13.90762043, \"hdi\": 0.916, \"hdi_fac\": \"3_high\"}, {\"Country\": \"Samoa\", \"fertility_total\": 3.877, \"educ_expected_yrs_f\": 12.44684696, \"hdi\": 0.7090000000000001, \"hdi_fac\": \"2_medium\"}, {\"Country\": \"Nepal\", \"fertility_total\": 1.917, \"educ_expected_yrs_f\": 12.0131464, \"hdi\": 0.596, \"hdi_fac\": \"1_low\"}]}}, {\"mode\": \"vega-lite\"});\n",
       "</script>"
      ],
      "text/plain": [
       "alt.LayerChart(...)"
      ]
     },
     "execution_count": 15,
     "metadata": {},
     "output_type": "execute_result"
    }
   ],
   "source": [
    "# slice rows for identified countries\n",
    "point_labels = reg_data.loc[['Singapore', 'Israel', 'Samoa', 'Nepal']].reset_index() # edit here\n",
    "\n",
    "# plot text labels\n",
    "labels = alt.Chart(point_labels).mark_text(align = 'left', dx = 5, dy = 3).encode(\n",
    "    x = 'educ_expected_yrs_f',\n",
    "    y = 'fertility_total',\n",
    "    text = 'Country'\n",
    ")\n",
    "\n",
    "# layer over scatter\n",
    "scatter_highed + labels"
   ]
  },
  {
   "cell_type": "markdown",
   "metadata": {},
   "source": [
    "<!-- END QUESTION -->\n",
    "\n",
    "\n",
    "\n",
    "---\n",
    "## 1. Simple linear regression\n",
    "\n",
    "In this part you'll fit a simple linear model regressing fertility on education.\n",
    "\n",
    "First we'll need to store the quantities -- the response and explanatory variables -- needed for model fitting in the proper format. Recall that the linear model in matrix form is:\n",
    "\n",
    "$$\\underbrace{\\left[\\begin{array}{c} y_1 \\\\ \\vdots \\\\ y_n \\end{array}\\right]}_{\\mathbf{y}}\n",
    "    = \\underbrace{\\left[\\begin{array}{cc}\n",
    "        1 & x_1 \\\\ \\vdots &\\vdots \\\\ 1 & x_n\n",
    "        \\end{array}\\right]}_\\mathbf{X}\n",
    "      \\underbrace{\\left[\\begin{array}{c} \\beta_0 \\\\ \\beta_1 \\end{array}\\right]}_\\beta\n",
    "      + \\underbrace{\\left[\\begin{array}{c} \\epsilon_1 \\\\ \\vdots \\\\ \\epsilon_n \\end{array}\\right]}_\\epsilon$$\n",
    "      \n",
    "Notice that the explanatory variable matrix $\\mathbf{X}$ includes a column of ones for the intercept. So the quantities needed are:\n",
    "* $\\mathbf{y}$, a one-dimensional array of the total fertility rates for each country; and \n",
    "* $\\mathbf{X}$, a two-dimensional array with a column of ones (intercept) and a column of the expected years of education for women (explanatory variable).\n",
    "\n",
    "The cell below prepares the explanatory variable matrix $\\mathbf{X}$ and response vector $\\mathbf{y}$ in the following steps:\n",
    "\n",
    "1. Store the total fertility rates as an array named `y`.\n",
    "2. Slice the `educ_expected_yrs_f` variable from the `reg_data` dataframe, resulting in a dataframe with one column stored as `x_slr_df`.\n",
    "3. Append a column of ones to `x_slr_df` using `add_dummy_feature`, resulting in a 139-by-2 array stored as `x_slr`."
   ]
  },
  {
   "cell_type": "code",
   "execution_count": 16,
   "metadata": {},
   "outputs": [
    {
     "data": {
      "text/plain": [
       "array([[ 1.        ,  6.79572248],\n",
       "       [ 1.        , 13.20175457],\n",
       "       [ 1.        , 12.10898972],\n",
       "       [ 1.        ,  6.97390127],\n",
       "       [ 1.        , 12.91444111]])"
      ]
     },
     "execution_count": 16,
     "metadata": {},
     "output_type": "execute_result"
    }
   ],
   "source": [
    "# store response variable as array\n",
    "y = reg_data.fertility_total\n",
    "\n",
    "# store explanatory variable\n",
    "x_slr_df = reg_data.loc[:, ['educ_expected_yrs_f']]\n",
    "\n",
    "# add intercept column\n",
    "x_slr = add_dummy_feature(x_slr_df, value = 1)\n",
    "\n",
    "# print first five rows\n",
    "x_slr[0:5, :]"
   ]
  },
  {
   "cell_type": "markdown",
   "metadata": {},
   "source": [
    "### Model fitting\n",
    "\n",
    "'Fitting' a model refers to computing estimates; it is typical practice to report estimated parameters and standard errors, but first we'll focus on computing the estimates. This is done using the function `LinearRegression()` in the `sklearn.linear_model` module. The syntax is superficially somewhat similar to using `PCA(...)` in the previous lab (also from an `sklearn` module): we'll configure `LinearRegression(...)` as `slr`, and then fit the model using the `fit(...)` method."
   ]
  },
  {
   "cell_type": "code",
   "execution_count": 17,
   "metadata": {},
   "outputs": [
    {
     "data": {
      "text/plain": [
       "LinearRegression(fit_intercept=False)"
      ]
     },
     "execution_count": 17,
     "metadata": {},
     "output_type": "execute_result"
    }
   ],
   "source": [
    "# configure module\n",
    "slr = LinearRegression(fit_intercept = False)\n",
    "\n",
    "# fit model\n",
    "slr.fit(x_slr, y)"
   ]
  },
  {
   "cell_type": "markdown",
   "metadata": {},
   "source": [
    "Notice the argument `fit_intercept = False` -- this configures `slr` *not* to fit an intercept, which is done here since the explanatory variable matrix already includes a column of ones for the intercept term."
   ]
  },
  {
   "cell_type": "markdown",
   "metadata": {
    "deletable": false,
    "editable": false
   },
   "source": [
    "### Q1 (a) Retrieve estimated coefficients\n",
    "\n",
    "After the `fit(...)` method is applied, the coefficient estimates are stored as the `.coef_` attribute of `slr`. \n",
    "\n",
    "#### (i) Store the coefficient estimates in `coef` and print them.\n",
    "\n",
    "<!--\n",
    "BEGIN QUESTION\n",
    "name: q1_a_i\n",
    "points: 1\n",
    "manual: false\n",
    "-->"
   ]
  },
  {
   "cell_type": "code",
   "execution_count": 18,
   "metadata": {},
   "outputs": [
    {
     "data": {
      "text/plain": [
       "array([ 7.51142307, -0.42747211])"
      ]
     },
     "execution_count": 18,
     "metadata": {},
     "output_type": "execute_result"
    }
   ],
   "source": [
    "#store the coefficient estimates\n",
    "coef = slr.coef_\n",
    "\n",
    "# print coefficient estimates\n",
    "coef"
   ]
  },
  {
   "cell_type": "code",
   "execution_count": 19,
   "metadata": {
    "deletable": false,
    "editable": false
   },
   "outputs": [
    {
     "data": {
      "text/html": [
       "<p><strong><pre style='display: inline;'>q1_a_i</pre></strong> passed!</p>"
      ],
      "text/plain": [
       "q1_a_i results: All test cases passed!"
      ]
     },
     "execution_count": 19,
     "metadata": {},
     "output_type": "execute_result"
    }
   ],
   "source": [
    "grader.check(\"q1_a_i\")"
   ]
  },
  {
   "cell_type": "markdown",
   "metadata": {},
   "source": [
    "The order in which the `.coef_` attribute stores the estimates matches the order of the columns of $\\mathbf{X}$."
   ]
  },
  {
   "cell_type": "markdown",
   "metadata": {
    "deletable": false,
    "editable": false
   },
   "source": [
    "#### (ii) Which is which?\n",
    "\n",
    "Identify the intercept and identify the slope. Replace the dots below.\n",
    "\n",
    "* Intercept estimate: $\\hat{\\beta}_0 = \\dots$\n",
    "* Slope estimate: $\\hat{\\beta}_1 = \\dots$\n",
    "\n",
    "(*Hint*: refer back to the plot; only one of the two estimates could possibly be the slope.)\n",
    "\n",
    "<!--\n",
    "BEGIN QUESTION\n",
    "name: q1_a_ii\n",
    "points: 1\n",
    "manual: false\n",
    "-->"
   ]
  },
  {
   "cell_type": "code",
   "execution_count": 20,
   "metadata": {},
   "outputs": [],
   "source": [
    "b0 = coef[0]\n",
    "b1 = coef[1]"
   ]
  },
  {
   "cell_type": "code",
   "execution_count": 21,
   "metadata": {
    "deletable": false,
    "editable": false
   },
   "outputs": [
    {
     "data": {
      "text/html": [
       "<p><strong><pre style='display: inline;'>q1_a_ii</pre></strong> passed!</p>"
      ],
      "text/plain": [
       "q1_a_ii results: All test cases passed!"
      ]
     },
     "execution_count": 21,
     "metadata": {},
     "output_type": "execute_result"
    }
   ],
   "source": [
    "grader.check(\"q1_a_ii\")"
   ]
  },
  {
   "cell_type": "markdown",
   "metadata": {
    "deletable": false,
    "editable": false
   },
   "source": [
    "<!-- BEGIN QUESTION -->\n",
    "\n",
    "#### (iii) Interpret the slope coefficient.\n",
    "\n",
    "Fill in the blanks below.\n",
    "\n",
    "<!--\n",
    "BEGIN QUESTION\n",
    "name: q1_a_iii\n",
    "points: 1\n",
    "manual: true\n",
    "-->"
   ]
  },
  {
   "cell_type": "markdown",
   "metadata": {},
   "source": [
    "Among the countries in the sample, a one-year increase in education for women is associated with a 0.427 decrease in the average number of children per woman."
   ]
  },
  {
   "cell_type": "markdown",
   "metadata": {},
   "source": [
    "<!-- END QUESTION -->\n",
    "\n",
    "\n",
    "\n",
    "### Fitted values and residuals\n",
    "\n",
    "The 'fitted value' for $y_i$ is the value along the line specified by the model that corresponds to the matching explanatory variable $x_i$. In other words:\n",
    "\n",
    "$$\\hat{y}_i = \\hat{\\beta}_0 + \\hat{\\beta}_1 x_i$$\n",
    "\n",
    "These can be obtained by passing the explanatory variable matrix to the `.predict(...)` method. In effect, this returns predictions on the observed data."
   ]
  },
  {
   "cell_type": "code",
   "execution_count": 22,
   "metadata": {},
   "outputs": [
    {
     "data": {
      "text/plain": [
       "array([4.60644126, 1.86804122, 2.33516772, 4.5302748 , 1.99085971])"
      ]
     },
     "execution_count": 22,
     "metadata": {},
     "output_type": "execute_result"
    }
   ],
   "source": [
    "# fitted values\n",
    "fitted_slr = slr.predict(x_slr)\n",
    "\n",
    "fitted_slr[0:5]"
   ]
  },
  {
   "cell_type": "markdown",
   "metadata": {},
   "source": [
    "The result is an array with length matching the number of rows in `x_slr`. "
   ]
  },
  {
   "cell_type": "code",
   "execution_count": 23,
   "metadata": {},
   "outputs": [
    {
     "data": {
      "text/plain": [
       "(139,)"
      ]
     },
     "execution_count": 23,
     "metadata": {},
     "output_type": "execute_result"
    }
   ],
   "source": [
    "# dimensions\n",
    "fitted_slr.shape"
   ]
  },
  {
   "cell_type": "markdown",
   "metadata": {
    "deletable": false,
    "editable": false
   },
   "source": [
    "### Q1 (b) Compute the residuals\n",
    "\n",
    "The 'residuals' -- what's left over -- are the differences between the fitted and observed values of the response:\n",
    "\n",
    "$$e_i = y_i - \\hat{y}_i \\qquad\\text{$i$th residual}$$\n",
    "\n",
    "Use `fitted_slr` and `y` to compute an array of the residuals. Store the result as `resid_slr`.\n",
    "\n",
    "<!--\n",
    "BEGIN QUESTION\n",
    "name: q1_b\n",
    "points: 1\n",
    "manual: false\n",
    "-->"
   ]
  },
  {
   "cell_type": "code",
   "execution_count": 24,
   "metadata": {},
   "outputs": [
    {
     "data": {
      "text/plain": [
       "Country\n",
       "Afghanistan           -0.133441\n",
       "Albania               -0.251041\n",
       "Algeria                0.687832\n",
       "Angola                 0.988725\n",
       "Antigua and Barbuda    0.003140\n",
       "                         ...   \n",
       "Uruguay               -0.204590\n",
       "Uzbekistan             0.224314\n",
       "Vanuatu                0.602464\n",
       "Zambia                 0.859878\n",
       "Zimbabwe               0.795048\n",
       "Name: fertility_total, Length: 139, dtype: float64"
      ]
     },
     "execution_count": 24,
     "metadata": {},
     "output_type": "execute_result"
    }
   ],
   "source": [
    "# residuals\n",
    "resid_slr = y - fitted_slr\n",
    "\n",
    "#print\n",
    "resid_slr"
   ]
  },
  {
   "cell_type": "code",
   "execution_count": 25,
   "metadata": {
    "deletable": false,
    "editable": false
   },
   "outputs": [
    {
     "data": {
      "text/html": [
       "<p><strong><pre style='display: inline;'>q1_b</pre></strong> passed!</p>"
      ],
      "text/plain": [
       "q1_b results: All test cases passed!"
      ]
     },
     "execution_count": 25,
     "metadata": {},
     "output_type": "execute_result"
    }
   ],
   "source": [
    "grader.check(\"q1_b\")"
   ]
  },
  {
   "cell_type": "markdown",
   "metadata": {
    "deletable": false,
    "editable": false
   },
   "source": [
    "### Q1 (c) Append fitted values and residuals to the data\n",
    "\n",
    "In order to keep them handy, add the fitted values and residuals as new columns in `reg_data` with the names `fitted_slr` and `resid_slr`. Print the first few rows of `reg_data` after adding the new variables.\n",
    "\n",
    "<!--\n",
    "BEGIN QUESTION\n",
    "name: q1_c\n",
    "points: 1\n",
    "manual: false\n",
    "-->"
   ]
  },
  {
   "cell_type": "code",
   "execution_count": 26,
   "metadata": {},
   "outputs": [
    {
     "data": {
      "text/html": [
       "<div>\n",
       "<style scoped>\n",
       "    .dataframe tbody tr th:only-of-type {\n",
       "        vertical-align: middle;\n",
       "    }\n",
       "\n",
       "    .dataframe tbody tr th {\n",
       "        vertical-align: top;\n",
       "    }\n",
       "\n",
       "    .dataframe thead th {\n",
       "        text-align: right;\n",
       "    }\n",
       "</style>\n",
       "<table border=\"1\" class=\"dataframe\">\n",
       "  <thead>\n",
       "    <tr style=\"text-align: right;\">\n",
       "      <th></th>\n",
       "      <th>fertility_total</th>\n",
       "      <th>educ_expected_yrs_f</th>\n",
       "      <th>hdi</th>\n",
       "      <th>hdi_fac</th>\n",
       "      <th>fitted_slr</th>\n",
       "      <th>resid_slr</th>\n",
       "    </tr>\n",
       "    <tr>\n",
       "      <th>Country</th>\n",
       "      <th></th>\n",
       "      <th></th>\n",
       "      <th></th>\n",
       "      <th></th>\n",
       "      <th></th>\n",
       "      <th></th>\n",
       "    </tr>\n",
       "  </thead>\n",
       "  <tbody>\n",
       "    <tr>\n",
       "      <th>Afghanistan</th>\n",
       "      <td>4.473</td>\n",
       "      <td>6.795722</td>\n",
       "      <td>0.509</td>\n",
       "      <td>1_low</td>\n",
       "      <td>4.606441</td>\n",
       "      <td>-0.133441</td>\n",
       "    </tr>\n",
       "    <tr>\n",
       "      <th>Albania</th>\n",
       "      <td>1.617</td>\n",
       "      <td>13.201755</td>\n",
       "      <td>0.792</td>\n",
       "      <td>2_medium</td>\n",
       "      <td>1.868041</td>\n",
       "      <td>-0.251041</td>\n",
       "    </tr>\n",
       "    <tr>\n",
       "      <th>Algeria</th>\n",
       "      <td>3.023</td>\n",
       "      <td>12.108990</td>\n",
       "      <td>0.746</td>\n",
       "      <td>2_medium</td>\n",
       "      <td>2.335168</td>\n",
       "      <td>0.687832</td>\n",
       "    </tr>\n",
       "    <tr>\n",
       "      <th>Angola</th>\n",
       "      <td>5.519</td>\n",
       "      <td>6.973901</td>\n",
       "      <td>0.582</td>\n",
       "      <td>1_low</td>\n",
       "      <td>4.530275</td>\n",
       "      <td>0.988725</td>\n",
       "    </tr>\n",
       "    <tr>\n",
       "      <th>Antigua and Barbuda</th>\n",
       "      <td>1.994</td>\n",
       "      <td>12.914441</td>\n",
       "      <td>0.772</td>\n",
       "      <td>2_medium</td>\n",
       "      <td>1.990860</td>\n",
       "      <td>0.003140</td>\n",
       "    </tr>\n",
       "  </tbody>\n",
       "</table>\n",
       "</div>"
      ],
      "text/plain": [
       "                     fertility_total  educ_expected_yrs_f    hdi   hdi_fac  \\\n",
       "Country                                                                      \n",
       "Afghanistan                    4.473             6.795722  0.509     1_low   \n",
       "Albania                        1.617            13.201755  0.792  2_medium   \n",
       "Algeria                        3.023            12.108990  0.746  2_medium   \n",
       "Angola                         5.519             6.973901  0.582     1_low   \n",
       "Antigua and Barbuda            1.994            12.914441  0.772  2_medium   \n",
       "\n",
       "                     fitted_slr  resid_slr  \n",
       "Country                                     \n",
       "Afghanistan            4.606441  -0.133441  \n",
       "Albania                1.868041  -0.251041  \n",
       "Algeria                2.335168   0.687832  \n",
       "Angola                 4.530275   0.988725  \n",
       "Antigua and Barbuda    1.990860   0.003140  "
      ]
     },
     "execution_count": 26,
     "metadata": {},
     "output_type": "execute_result"
    }
   ],
   "source": [
    "# append\n",
    "reg_data['fitted_slr'] = fitted_slr\n",
    "reg_data['resid_slr'] = resid_slr\n",
    "\n",
    "# print\n",
    "reg_data.head()"
   ]
  },
  {
   "cell_type": "code",
   "execution_count": 27,
   "metadata": {
    "deletable": false,
    "editable": false
   },
   "outputs": [
    {
     "data": {
      "text/html": [
       "<p><strong><pre style='display: inline;'>q1_c</pre></strong> passed!</p>"
      ],
      "text/plain": [
       "q1_c results: All test cases passed!"
      ]
     },
     "execution_count": 27,
     "metadata": {},
     "output_type": "execute_result"
    }
   ],
   "source": [
    "grader.check(\"q1_c\")"
   ]
  },
  {
   "cell_type": "markdown",
   "metadata": {},
   "source": [
    "There's one more estimate to compute: the error variance, $\\sigma^2$! This can be estimated based on the residual variance:\n",
    "\n",
    "$$\\hat{\\sigma}^2 = \\frac{1}{n - p}\\sum_{i = 1}^n e_i^2 = \\frac{n - 1}{n - p} S^2_e$$\n",
    "\n",
    "In this expression, $e_i$ are the residuals, $n$ and $p$ are the dimensions of $\\mathbf{X}$, and $S^2_e$ is the residual (sample) variance."
   ]
  },
  {
   "cell_type": "code",
   "execution_count": 28,
   "metadata": {},
   "outputs": [],
   "source": [
    "# store n (number of observations) and p (number of betas)\n",
    "n, p = x_slr.shape\n",
    "\n",
    "# compute estimate of error variance\n",
    "sigma2_hat = ((n - 1)/(n - p)) * resid_slr.var()"
   ]
  },
  {
   "cell_type": "markdown",
   "metadata": {},
   "source": [
    "### Uncertainty quantification\n",
    "\n",
    "It was noted in lecture that the variances and covariances of $\\hat{\\beta}_0, \\hat{\\beta}_1$ are given by the matrix:\n",
    "\n",
    "$$\\sigma^2 (\\mathbf{X}'\\mathbf{X})^{-1} \n",
    "  = \\left[\\begin{array}{cc} \n",
    "        \\text{var}\\hat{\\beta}_0 & \\text{cov}\\left(\\hat{\\beta}_0, \\hat{\\beta}_1\\right) \\\\\n",
    "        \\text{cov}\\left(\\hat{\\beta}_1, \\hat{\\beta}_0\\right) & \\text{var}\\hat{\\beta}_1\n",
    "        \\end{array}\\right]$$\n",
    "\n",
    "So we can *estimate* these quantities, which quantify the variation and covariation of the estimated coefficients, by plugging in the estimated error variance and computing:\n",
    "\n",
    "$$\\hat{\\sigma}^2 (\\mathbf{X}'\\mathbf{X})^{-1}$$"
   ]
  },
  {
   "cell_type": "code",
   "execution_count": 29,
   "metadata": {},
   "outputs": [
    {
     "data": {
      "text/plain": [
       "array([[ 0.0688336 , -0.0057818 ],\n",
       "       [-0.0057818 ,  0.00050894]])"
      ]
     },
     "execution_count": 29,
     "metadata": {},
     "output_type": "execute_result"
    }
   ],
   "source": [
    "# compute X'X\n",
    "xtx_slr = x_slr.transpose().dot(x_slr)\n",
    "\n",
    "# compute matrix of parameter variances/covariances: estimated error variance x (X'X)^{-1}\n",
    "slrcoef_vcov = np.linalg.inv(xtx_slr) * sigma2_hat\n",
    "\n",
    "# print\n",
    "slrcoef_vcov"
   ]
  },
  {
   "cell_type": "markdown",
   "metadata": {
    "deletable": false,
    "editable": false
   },
   "source": [
    "### Q1 (d) Standard errors\n",
    "\n",
    "The *standard errors* for the estimates $\\hat{\\beta}_0, \\hat{\\beta}_1$ are the square roots of their estimated variances. Compute these by retrieving the diagonal elements of `slrcoef_vcov` (the estimated variances) and taking square roots.\n",
    "\n",
    "Store the result (an array with two values) as `slrcoef_se` and print the array.\n",
    "\n",
    "(*Hint*: use `.diagonal()` from numpy.)\n",
    "\n",
    "<!--\n",
    "BEGIN QUESTION\n",
    "name: q1_d\n",
    "points: 1\n",
    "manual: false\n",
    "-->"
   ]
  },
  {
   "cell_type": "code",
   "execution_count": 30,
   "metadata": {},
   "outputs": [
    {
     "data": {
      "text/plain": [
       "array([0.26236158, 0.02255976])"
      ]
     },
     "execution_count": 30,
     "metadata": {},
     "output_type": "execute_result"
    }
   ],
   "source": [
    "# take square root of matrix diagonals to get standard errors \n",
    "slrcoef_se = np.sqrt(slrcoef_vcov.diagonal())\n",
    "\n",
    "# print\n",
    "slrcoef_se"
   ]
  },
  {
   "cell_type": "code",
   "execution_count": 31,
   "metadata": {
    "deletable": false,
    "editable": false
   },
   "outputs": [
    {
     "data": {
      "text/html": [
       "<p><strong><pre style='display: inline;'>q1_d</pre></strong> passed!</p>"
      ],
      "text/plain": [
       "q1_d results: All test cases passed!"
      ]
     },
     "execution_count": 31,
     "metadata": {},
     "output_type": "execute_result"
    }
   ],
   "source": [
    "grader.check(\"q1_d\")"
   ]
  },
  {
   "cell_type": "markdown",
   "metadata": {},
   "source": [
    "We can now report the results of model fitting in an organized fasion: we'll make a dataframe `slrcoef_table` with two columns, 'coefficient estimate' and 'standard error', and index the rows of the dataframe by the coefficient names (intercept and education). "
   ]
  },
  {
   "cell_type": "code",
   "execution_count": 32,
   "metadata": {},
   "outputs": [
    {
     "data": {
      "text/html": [
       "<div>\n",
       "<style scoped>\n",
       "    .dataframe tbody tr th:only-of-type {\n",
       "        vertical-align: middle;\n",
       "    }\n",
       "\n",
       "    .dataframe tbody tr th {\n",
       "        vertical-align: top;\n",
       "    }\n",
       "\n",
       "    .dataframe thead th {\n",
       "        text-align: right;\n",
       "    }\n",
       "</style>\n",
       "<table border=\"1\" class=\"dataframe\">\n",
       "  <thead>\n",
       "    <tr style=\"text-align: right;\">\n",
       "      <th></th>\n",
       "      <th>coefficient estimate</th>\n",
       "      <th>standard error</th>\n",
       "    </tr>\n",
       "  </thead>\n",
       "  <tbody>\n",
       "    <tr>\n",
       "      <th>intercept</th>\n",
       "      <td>7.511423</td>\n",
       "      <td>0.262362</td>\n",
       "    </tr>\n",
       "    <tr>\n",
       "      <th>education</th>\n",
       "      <td>-0.427472</td>\n",
       "      <td>0.022560</td>\n",
       "    </tr>\n",
       "  </tbody>\n",
       "</table>\n",
       "</div>"
      ],
      "text/plain": [
       "           coefficient estimate  standard error\n",
       "intercept              7.511423        0.262362\n",
       "education             -0.427472        0.022560"
      ]
     },
     "execution_count": 32,
     "metadata": {},
     "output_type": "execute_result"
    }
   ],
   "source": [
    "# create table\n",
    "slrcoef_table = pd.DataFrame(\n",
    "    data = {'coefficient estimate': slr.coef_, 'standard error': slrcoef_se},\n",
    "    index= ['intercept', 'education']\n",
    ")\n",
    "\n",
    "# print\n",
    "slrcoef_table"
   ]
  },
  {
   "cell_type": "markdown",
   "metadata": {},
   "source": [
    "Lastly, a standard metric often reported with linear models is the $R^2$ score, which is interpreted as the proportion of variation in the response captured by the model. It is straightforward to compute using the `r2_score(...)` function from `sklearn.metrics`:"
   ]
  },
  {
   "cell_type": "code",
   "execution_count": 33,
   "metadata": {},
   "outputs": [
    {
     "data": {
      "text/plain": [
       "0.723814308777671"
      ]
     },
     "execution_count": 33,
     "metadata": {},
     "output_type": "execute_result"
    }
   ],
   "source": [
    "# compute R-squared\n",
    "r2_score(reg_data.fertility_total, reg_data.fitted_slr)"
   ]
  },
  {
   "cell_type": "markdown",
   "metadata": {},
   "source": [
    "But just so you have a sense of what it is, a direct calculation is shown below:"
   ]
  },
  {
   "cell_type": "code",
   "execution_count": 34,
   "metadata": {},
   "outputs": [
    {
     "data": {
      "text/plain": [
       "0.7238143087776711"
      ]
     },
     "execution_count": 34,
     "metadata": {},
     "output_type": "execute_result"
    }
   ],
   "source": [
    "# R-squared 'by hand'\n",
    "(y.var() - resid_slr.var())/y.var()"
   ]
  },
  {
   "cell_type": "markdown",
   "metadata": {},
   "source": [
    "The metric is simply the difference between the raw variation in the response and residual variation, as a proportion of the variation in the response. If the model fits well, the residual variation will be small, in which case this proportion will be closer to 1."
   ]
  },
  {
   "cell_type": "markdown",
   "metadata": {},
   "source": [
    "### Q1 (e) Visualize!\n",
    "\n",
    "Now that you've reported the numerical results of model fitting, have a direct look at the results relative to the data scatter."
   ]
  },
  {
   "cell_type": "markdown",
   "metadata": {
    "deletable": false,
    "editable": false
   },
   "source": [
    "<!-- BEGIN QUESTION -->\n",
    "\n",
    "#### (i) Construct a line plot of the fitted values against expected years of education.\n",
    "\n",
    "Remember that the fitted values are stored as `fitted_slr` in the dataframe `reg_data` containing the actual data. \n",
    "\n",
    "Construct the line as `slr_line` and layer this on top of your plot `simple_scatter` from part 0 above.\n",
    "\n",
    "<!--\n",
    "BEGIN QUESTION\n",
    "name: q1_e_i\n",
    "points: 1\n",
    "manual: true\n",
    "-->"
   ]
  },
  {
   "cell_type": "code",
   "execution_count": 35,
   "metadata": {},
   "outputs": [
    {
     "data": {
      "text/html": [
       "\n",
       "<div id=\"altair-viz-b01dc9d86a004efda082f37d1afd3f00\"></div>\n",
       "<script type=\"text/javascript\">\n",
       "  var VEGA_DEBUG = (typeof VEGA_DEBUG == \"undefined\") ? {} : VEGA_DEBUG;\n",
       "  (function(spec, embedOpt){\n",
       "    let outputDiv = document.currentScript.previousElementSibling;\n",
       "    if (outputDiv.id !== \"altair-viz-b01dc9d86a004efda082f37d1afd3f00\") {\n",
       "      outputDiv = document.getElementById(\"altair-viz-b01dc9d86a004efda082f37d1afd3f00\");\n",
       "    }\n",
       "    const paths = {\n",
       "      \"vega\": \"https://cdn.jsdelivr.net/npm//vega@5?noext\",\n",
       "      \"vega-lib\": \"https://cdn.jsdelivr.net/npm//vega-lib?noext\",\n",
       "      \"vega-lite\": \"https://cdn.jsdelivr.net/npm//vega-lite@4.17.0?noext\",\n",
       "      \"vega-embed\": \"https://cdn.jsdelivr.net/npm//vega-embed@6?noext\",\n",
       "    };\n",
       "\n",
       "    function maybeLoadScript(lib, version) {\n",
       "      var key = `${lib.replace(\"-\", \"\")}_version`;\n",
       "      return (VEGA_DEBUG[key] == version) ?\n",
       "        Promise.resolve(paths[lib]) :\n",
       "        new Promise(function(resolve, reject) {\n",
       "          var s = document.createElement('script');\n",
       "          document.getElementsByTagName(\"head\")[0].appendChild(s);\n",
       "          s.async = true;\n",
       "          s.onload = () => {\n",
       "            VEGA_DEBUG[key] = version;\n",
       "            return resolve(paths[lib]);\n",
       "          };\n",
       "          s.onerror = () => reject(`Error loading script: ${paths[lib]}`);\n",
       "          s.src = paths[lib];\n",
       "        });\n",
       "    }\n",
       "\n",
       "    function showError(err) {\n",
       "      outputDiv.innerHTML = `<div class=\"error\" style=\"color:red;\">${err}</div>`;\n",
       "      throw err;\n",
       "    }\n",
       "\n",
       "    function displayChart(vegaEmbed) {\n",
       "      vegaEmbed(outputDiv, spec, embedOpt)\n",
       "        .catch(err => showError(`Javascript Error: ${err.message}<br>This usually means there's a typo in your chart specification. See the javascript console for the full traceback.`));\n",
       "    }\n",
       "\n",
       "    if(typeof define === \"function\" && define.amd) {\n",
       "      requirejs.config({paths});\n",
       "      require([\"vega-embed\"], displayChart, err => showError(`Error loading script: ${err.message}`));\n",
       "    } else {\n",
       "      maybeLoadScript(\"vega\", \"5\")\n",
       "        .then(() => maybeLoadScript(\"vega-lite\", \"4.17.0\"))\n",
       "        .then(() => maybeLoadScript(\"vega-embed\", \"6\"))\n",
       "        .catch(showError)\n",
       "        .then(() => displayChart(vegaEmbed));\n",
       "    }\n",
       "  })({\"config\": {\"view\": {\"continuousWidth\": 400, \"continuousHeight\": 300}}, \"layer\": [{\"mark\": \"circle\", \"encoding\": {\"x\": {\"field\": \"educ_expected_yrs_f\", \"scale\": {\"zero\": false}, \"title\": \"Expected years of education for women\", \"type\": \"quantitative\"}, \"y\": {\"field\": \"fertility_total\", \"scale\": {\"zero\": false}, \"title\": \"Fertility rate\", \"type\": \"quantitative\"}}}, {\"mark\": {\"type\": \"line\", \"color\": \"red\"}, \"encoding\": {\"x\": {\"field\": \"educ_expected_yrs_f\", \"type\": \"quantitative\"}, \"y\": {\"field\": \"fitted_slr\", \"type\": \"quantitative\"}}}], \"data\": {\"name\": \"data-98a28b559ee804e24b9ffea02108b765\"}, \"$schema\": \"https://vega.github.io/schema/vega-lite/v4.17.0.json\", \"datasets\": {\"data-98a28b559ee804e24b9ffea02108b765\": [{\"fertility_total\": 4.473, \"educ_expected_yrs_f\": 6.795722485, \"hdi\": 0.509, \"hdi_fac\": \"1_low\", \"fitted_slr\": 4.606441257541412, \"resid_slr\": -0.13344125754141256}, {\"fertility_total\": 1.617, \"educ_expected_yrs_f\": 13.20175457, \"hdi\": 0.792, \"hdi_fac\": \"2_medium\", \"fitted_slr\": 1.8680412247884375, \"resid_slr\": -0.2510412247884375}, {\"fertility_total\": 3.023, \"educ_expected_yrs_f\": 12.10898972, \"hdi\": 0.746, \"hdi_fac\": \"2_medium\", \"fitted_slr\": 2.3351677176510313, \"resid_slr\": 0.6878322823489689}, {\"fertility_total\": 5.519, \"educ_expected_yrs_f\": 6.973901272000001, \"hdi\": 0.5820000000000001, \"hdi_fac\": \"1_low\", \"fitted_slr\": 4.530274796043477, \"resid_slr\": 0.9887252039565233}, {\"fertility_total\": 1.994, \"educ_expected_yrs_f\": 12.91444111, \"hdi\": 0.772, \"hdi_fac\": \"2_medium\", \"fitted_slr\": 1.9908597148981961, \"resid_slr\": 0.0031402851018038636}, {\"fertility_total\": 2.261, \"educ_expected_yrs_f\": 13.06125259, \"hdi\": 0.8420000000000001, \"hdi_fac\": \"3_high\", \"fitted_slr\": 1.9281019022138235, \"resid_slr\": 0.3328980977861766}, {\"fertility_total\": 1.755, \"educ_expected_yrs_f\": 11.62581253, \"hdi\": 0.7709999999999999, \"hdi_fac\": \"2_medium\", \"fitted_slr\": 2.5417124891047465, \"resid_slr\": -0.7867124891047466}, {\"fertility_total\": 1.74, \"educ_expected_yrs_f\": 13.62022209, \"hdi\": 0.943, \"hdi_fac\": \"3_high\", \"fitted_slr\": 1.6891580323115685, \"resid_slr\": 0.05084196768843152}, {\"fertility_total\": 1.47, \"educ_expected_yrs_f\": 13.46689415, \"hdi\": 0.921, \"hdi_fac\": \"3_high\", \"fitted_slr\": 1.7547014498821882, \"resid_slr\": -0.28470144988218826}, {\"fertility_total\": 1.73, \"educ_expected_yrs_f\": 12.44501495, \"hdi\": 0.754, \"hdi_fac\": \"2_medium\", \"fitted_slr\": 2.1915263045846745, \"resid_slr\": -0.4615263045846745}, {\"fertility_total\": 1.987, \"educ_expected_yrs_f\": 13.27036572, \"hdi\": 0.852, \"hdi_fac\": \"3_high\", \"fitted_slr\": 1.8387118719356543, \"resid_slr\": 0.14828812806434577}, {\"fertility_total\": 2.036, \"educ_expected_yrs_f\": 10.52187443, \"hdi\": 0.625, \"hdi_fac\": \"1_low\", \"fitted_slr\": 3.0136152346866485, \"resid_slr\": -0.9776152346866485}, {\"fertility_total\": 1.4480000000000002, \"educ_expected_yrs_f\": 13.75893879, \"hdi\": 0.823, \"hdi_fac\": \"3_high\", \"fitted_slr\": 1.6298605122893308, \"resid_slr\": -0.18186051228933064}, {\"fertility_total\": 1.62, \"educ_expected_yrs_f\": 13.56679726, \"hdi\": 0.93, \"hdi_fac\": \"3_high\", \"fitted_slr\": 1.711995656956688, \"resid_slr\": -0.09199565695668799}, {\"fertility_total\": 4.836, \"educ_expected_yrs_f\": 8.782134056, \"hdi\": 0.541, \"hdi_fac\": \"1_low\", \"fitted_slr\": 3.7573057179576623, \"resid_slr\": 1.078694282042338}, {\"fertility_total\": 1.975, \"educ_expected_yrs_f\": 10.70332813, \"hdi\": 0.649, \"hdi_fac\": \"1_low\", \"fitted_slr\": 2.9360488392284303, \"resid_slr\": -0.9610488392284302}, {\"fertility_total\": 1.265, \"educ_expected_yrs_f\": 11.78481483, \"hdi\": 0.777, \"hdi_fac\": \"2_medium\", \"fitted_slr\": 2.473743440909166, \"resid_slr\": -1.208743440909166}, {\"fertility_total\": 2.874, \"educ_expected_yrs_f\": 8.500170707999999, \"hdi\": 0.73, \"hdi_fac\": \"2_medium\", \"fitted_slr\": 3.8778371844182056, \"resid_slr\": -1.0038371844182055}, {\"fertility_total\": 1.848, \"educ_expected_yrs_f\": 13.21317291, \"hdi\": 0.836, \"hdi_fac\": \"3_high\", \"fitted_slr\": 1.8631602029304295, \"resid_slr\": -0.015160202930429412}, {\"fertility_total\": 1.56, \"educ_expected_yrs_f\": 12.24310493, \"hdi\": 0.813, \"hdi_fac\": \"2_medium\", \"fitted_slr\": 2.277837206254339, \"resid_slr\": -0.7178372062543388}, {\"fertility_total\": 5.189, \"educ_expected_yrs_f\": 6.696904658999999, \"hdi\": 0.4429999999999999, \"hdi_fac\": \"1_low\", \"fitted_slr\": 4.648683121828762, \"resid_slr\": 0.5403168781712377}, {\"fertility_total\": 5.41, \"educ_expected_yrs_f\": 8.191820145, \"hdi\": 0.431, \"hdi_fac\": \"1_low\", \"fitted_slr\": 4.0096484492721185, \"resid_slr\": 1.4003515507278816}, {\"fertility_total\": 2.503, \"educ_expected_yrs_f\": 9.635119438, \"hdi\": 0.585, \"hdi_fac\": \"1_low\", \"fitted_slr\": 3.3926782594914426, \"resid_slr\": -0.8896782594914425}, {\"fertility_total\": 4.572, \"educ_expected_yrs_f\": 8.315596581, \"hdi\": 0.56, \"hdi_fac\": \"1_low\", \"fitted_slr\": 3.95673747538079, \"resid_slr\": 0.6152625246192103}, {\"fertility_total\": 1.4988, \"educ_expected_yrs_f\": 13.709587099999998, \"hdi\": 0.928, \"hdi_fac\": \"3_high\", \"fitted_slr\": 1.650956983196628, \"resid_slr\": -0.15215698319662807}, {\"fertility_total\": 4.721, \"educ_expected_yrs_f\": 3.848102808, \"hdi\": 0.395, \"hdi_fac\": \"1_low\", \"fitted_slr\": 5.866466451442718, \"resid_slr\": -1.1454664514427177}, {\"fertility_total\": 5.747000000000001, \"educ_expected_yrs_f\": 4.473656654, \"hdi\": 0.397, \"hdi_fac\": \"1_low\", \"fitted_slr\": 5.5990596308639935, \"resid_slr\": 0.14794036913600728}, {\"fertility_total\": 1.649, \"educ_expected_yrs_f\": 13.05471802, \"hdi\": 0.8490000000000001, \"hdi_fac\": \"3_high\", \"fitted_slr\": 1.9308952486199287, \"resid_slr\": -0.28189524861992865}, {\"fertility_total\": 1.69, \"educ_expected_yrs_f\": 13.0906477, \"hdi\": 0.755, \"hdi_fac\": \"2_medium\", \"fitted_slr\": 1.9155363126072302, \"resid_slr\": -0.22553631260723028}, {\"fertility_total\": 1.807, \"educ_expected_yrs_f\": 12.70421314, \"hdi\": 0.764, \"hdi_fac\": \"2_medium\", \"fitted_slr\": 2.080726308180111, \"resid_slr\": -0.2737263081801111}, {\"fertility_total\": 4.205, \"educ_expected_yrs_f\": 8.128657341, \"hdi\": 0.552, \"hdi_fac\": \"1_low\", \"fitted_slr\": 4.036648786180729, \"resid_slr\": 0.1683512138192711}, {\"fertility_total\": 1.754, \"educ_expected_yrs_f\": 12.51764488, \"hdi\": 0.8079999999999999, \"hdi_fac\": \"2_medium\", \"fitted_slr\": 2.1604790353778025, \"resid_slr\": -0.4064790353778025}, {\"fertility_total\": 1.47, \"educ_expected_yrs_f\": 13.5518446, \"hdi\": 0.848, \"hdi_fac\": \"3_high\", \"fitted_slr\": 1.7183875020318347, \"resid_slr\": -0.24838750203183468}, {\"fertility_total\": 1.329, \"educ_expected_yrs_f\": 13.61954403, \"hdi\": 0.885, \"hdi_fac\": \"3_high\", \"fitted_slr\": 1.6894478840484268, \"resid_slr\": -0.36044788404842687}, {\"fertility_total\": 1.73, \"educ_expected_yrs_f\": 13.47161579, \"hdi\": 0.939, \"hdi_fac\": \"3_high\", \"fitted_slr\": 1.7526830804829903, \"resid_slr\": -0.02268308048299028}, {\"fertility_total\": 2.346, \"educ_expected_yrs_f\": 12.15325356, \"hdi\": 0.7509999999999999, \"hdi_fac\": \"2_medium\", \"fitted_slr\": 2.31624616070323, \"resid_slr\": 0.029753839296770224}, {\"fertility_total\": 2.427, \"educ_expected_yrs_f\": 13.219711300000002, \"hdi\": 0.762, \"hdi_fac\": \"2_medium\", \"fitted_slr\": 1.8603652235808754, \"resid_slr\": 0.5666347764191246}, {\"fertility_total\": 2.039, \"educ_expected_yrs_f\": 10.9428196, \"hdi\": 0.67, \"hdi_fac\": \"2_medium\", \"fitted_slr\": 2.8336729159439216, \"resid_slr\": -0.7946729159439214}, {\"fertility_total\": 1.67, \"educ_expected_yrs_f\": 13.53030491, \"hdi\": 0.889, \"hdi_fac\": \"3_high\", \"fitted_slr\": 1.7275951186998197, \"resid_slr\": -0.057595118699819814}, {\"fertility_total\": 4.247, \"educ_expected_yrs_f\": 7.516855717, \"hdi\": 0.478, \"hdi_fac\": \"1_low\", \"fitted_slr\": 4.298176915445464, \"resid_slr\": -0.05117691544546421}, {\"fertility_total\": 2.774, \"educ_expected_yrs_f\": 11.43205929, \"hdi\": 0.742, \"hdi_fac\": \"2_medium\", \"fitted_slr\": 2.6245365948416435, \"resid_slr\": 0.14946340515835654}, {\"fertility_total\": 1.41, \"educ_expected_yrs_f\": 13.74469662, \"hdi\": 0.937, \"hdi_fac\": \"3_high\", \"fitted_slr\": 1.6359486427071905, \"resid_slr\": -0.22594864270719062}, {\"fertility_total\": 1.88, \"educ_expected_yrs_f\": 13.8239584, \"hdi\": 0.898, \"hdi_fac\": \"3_high\", \"fitted_slr\": 1.6020664426076472, \"resid_slr\": 0.2779335573923527}, {\"fertility_total\": 3.969, \"educ_expected_yrs_f\": 8.538388252, \"hdi\": 0.6970000000000001, \"hdi_fac\": \"2_medium\", \"fitted_slr\": 3.861500250360945, \"resid_slr\": 0.10749974963905506}, {\"fertility_total\": 2.06, \"educ_expected_yrs_f\": 13.02663994, \"hdi\": 0.805, \"hdi_fac\": \"2_medium\", \"fitted_slr\": 1.942897844637466, \"resid_slr\": 0.11710215536253399}, {\"fertility_total\": 1.57, \"educ_expected_yrs_f\": 13.34453487, \"hdi\": 0.946, \"hdi_fac\": \"3_high\", \"fitted_slr\": 1.8070066291122782, \"resid_slr\": -0.2370066291122781}, {\"fertility_total\": 3.87, \"educ_expected_yrs_f\": 11.91578197, \"hdi\": 0.606, \"hdi_fac\": \"1_low\", \"fitted_slr\": 2.417758641628293, \"resid_slr\": 1.4522413583717073}, {\"fertility_total\": 1.35, \"educ_expected_yrs_f\": 13.28767872, \"hdi\": 0.8809999999999999, \"hdi_fac\": \"3_high\", \"fitted_slr\": 1.8313110473475183, \"resid_slr\": -0.4813110473475182}, {\"fertility_total\": 2.063, \"educ_expected_yrs_f\": 13.13885593, \"hdi\": 0.773, \"hdi_fac\": \"2_medium\", \"fitted_slr\": 1.8949286389553803, \"resid_slr\": 0.16807136104461984}, {\"fertility_total\": 2.87, \"educ_expected_yrs_f\": 9.521496773, \"hdi\": 0.657, \"hdi_fac\": \"1_low\", \"fitted_slr\": 3.441248779499614, \"resid_slr\": -0.571248779499614}, {\"fertility_total\": 4.7, \"educ_expected_yrs_f\": 6.210740089, \"hdi\": 0.473, \"hdi_fac\": \"1_low\", \"fitted_slr\": 4.856504914905425, \"resid_slr\": -0.15650491490542517}, {\"fertility_total\": 2.462, \"educ_expected_yrs_f\": 12.30990696, \"hdi\": 0.68, \"hdi_fac\": \"2_medium\", \"fitted_slr\": 2.249281201739734, \"resid_slr\": 0.21271879826026607}, {\"fertility_total\": 2.935, \"educ_expected_yrs_f\": 11.44699955, \"hdi\": 0.508, \"hdi_fac\": \"1_low\", \"fitted_slr\": 2.6181500504206223, \"resid_slr\": 0.31684994957937773}, {\"fertility_total\": 2.46, \"educ_expected_yrs_f\": 9.822359085, \"hdi\": 0.633, \"hdi_fac\": \"1_low\", \"fitted_slr\": 3.312638533078262, \"resid_slr\": -0.8526385330782622}, {\"fertility_total\": 1.55, \"educ_expected_yrs_f\": 12.96164417, \"hdi\": 0.85, \"hdi_fac\": \"3_high\", \"fitted_slr\": 1.9706817233841187, \"resid_slr\": -0.4206817233841187}, {\"fertility_total\": 1.71, \"educ_expected_yrs_f\": 13.54500961, \"hdi\": 0.946, \"hdi_fac\": \"3_high\", \"fitted_slr\": 1.7213092696083194, \"resid_slr\": -0.011309269608319461}, {\"fertility_total\": 2.222, \"educ_expected_yrs_f\": 10.93618393, \"hdi\": 0.642, \"hdi_fac\": \"1_low\", \"fitted_slr\": 2.836509479780042, \"resid_slr\": -0.6145094797800419}, {\"fertility_total\": 2.311, \"educ_expected_yrs_f\": 12.41253376, \"hdi\": 0.7120000000000001, \"hdi_fac\": \"2_medium\", \"fitted_slr\": 2.205411107311174, \"resid_slr\": 0.10558889268882599}, {\"fertility_total\": 3.672, \"educ_expected_yrs_f\": 7.038986206000001, \"hdi\": 0.6709999999999999, \"hdi_fac\": \"2_medium\", \"fitted_slr\": 4.502452802173878, \"resid_slr\": -0.8304528021738782}, {\"fertility_total\": 1.75, \"educ_expected_yrs_f\": 13.92032051, \"hdi\": 0.951, \"hdi_fac\": \"3_high\", \"fitted_slr\": 1.560874328412961, \"resid_slr\": 0.18912567158703908}, {\"fertility_total\": 3.09, \"educ_expected_yrs_f\": 13.90762043, \"hdi\": 0.916, \"hdi_fac\": \"3_high\", \"fitted_slr\": 1.566303258369369, \"resid_slr\": 1.5236967416306308}, {\"fertility_total\": 1.29, \"educ_expected_yrs_f\": 13.31961727, \"hdi\": 0.89, \"hdi_fac\": \"3_high\", \"fitted_slr\": 1.8176582080851498, \"resid_slr\": -0.5276582080851497}, {\"fertility_total\": 1.979, \"educ_expected_yrs_f\": 11.82789326, \"hdi\": 0.7340000000000001, \"hdi_fac\": \"2_medium\", \"fitted_slr\": 2.455328613671699, \"resid_slr\": -0.4763286136716989}, {\"fertility_total\": 2.761, \"educ_expected_yrs_f\": 11.72220421, \"hdi\": 0.728, \"hdi_fac\": \"2_medium\", \"fitted_slr\": 2.500507734559857, \"resid_slr\": 0.2604922654401429}, {\"fertility_total\": 2.84, \"educ_expected_yrs_f\": 13.86884308, \"hdi\": 0.8190000000000001, \"hdi_fac\": \"3_high\", \"fitted_slr\": 1.5828794938769493, \"resid_slr\": 1.2571205061230506}, {\"fertility_total\": 3.492, \"educ_expected_yrs_f\": 11.30184937, \"hdi\": 0.599, \"hdi_fac\": \"1_low\", \"fitted_slr\": 2.680197703693671, \"resid_slr\": 0.8118022963063289}, {\"fertility_total\": 3.569, \"educ_expected_yrs_f\": 11.82059479, \"hdi\": 0.628, \"hdi_fac\": \"1_low\", \"fitted_slr\": 2.458448506020326, \"resid_slr\": 1.1105514939796741}, {\"fertility_total\": 2.082, \"educ_expected_yrs_f\": 12.40283394, \"hdi\": 0.807, \"hdi_fac\": \"2_medium\", \"fitted_slr\": 2.2095575098038953, \"resid_slr\": -0.12755750980389546}, {\"fertility_total\": 1.6, \"educ_expected_yrs_f\": 13.7176199, \"hdi\": 0.863, \"hdi_fac\": \"3_high\", \"fitted_slr\": 1.6475231852556824, \"resid_slr\": -0.04752318525568233}, {\"fertility_total\": 3.141, \"educ_expected_yrs_f\": 10.41264439, \"hdi\": 0.522, \"hdi_fac\": \"1_low\", \"fitted_slr\": 3.0603080300308987, \"resid_slr\": 0.08069196996910133}, {\"fertility_total\": 4.315, \"educ_expected_yrs_f\": 4.166073798999999, \"hdi\": 0.48, \"hdi_fac\": \"1_low\", \"fitted_slr\": 5.730542721961601, \"resid_slr\": -1.415542721961601}, {\"fertility_total\": 1.63, \"educ_expected_yrs_f\": 13.88928127, \"hdi\": 0.8759999999999999, \"hdi_fac\": \"3_high\", \"fitted_slr\": 1.5741427377348023, \"resid_slr\": 0.055857262265197605}, {\"fertility_total\": 1.38, \"educ_expected_yrs_f\": 12.47436428, \"hdi\": 0.913, \"hdi_fac\": \"3_high\", \"fitted_slr\": 2.1789802846511384, \"resid_slr\": -0.7989802846511385}, {\"fertility_total\": 4.077, \"educ_expected_yrs_f\": 8.609224318999999, \"hdi\": 0.527, \"hdi_fac\": \"1_low\", \"fitted_slr\": 3.831219807550317, \"resid_slr\": 0.24578019244968274}, {\"fertility_total\": 4.209, \"educ_expected_yrs_f\": 9.583486557, \"hdi\": 0.478, \"hdi_fac\": \"1_low\", \"fitted_slr\": 3.414749875921932, \"resid_slr\": 0.7942501240780677}, {\"fertility_total\": 2.001, \"educ_expected_yrs_f\": 12.68888378, \"hdi\": 0.805, \"hdi_fac\": \"2_medium\", \"fitted_slr\": 2.0872791819979577, \"resid_slr\": -0.08627918199795781}, {\"fertility_total\": 5.877000000000001, \"educ_expected_yrs_f\": 5.42065239, \"hdi\": 0.431, \"hdi_fac\": \"1_low\", \"fitted_slr\": 5.194245368295508, \"resid_slr\": 0.6827546317044924}, {\"fertility_total\": 1.23, \"educ_expected_yrs_f\": 13.50980282, \"hdi\": 0.894, \"hdi_fac\": \"3_high\", \"fitted_slr\": 1.736359190309602, \"resid_slr\": -0.5063591903096021}, {\"fertility_total\": 4.561, \"educ_expected_yrs_f\": 7.564128876, \"hdi\": 0.542, \"hdi_fac\": \"1_low\", \"fitted_slr\": 4.277968958564159, \"resid_slr\": 0.2830310414358408}, {\"fertility_total\": 1.41, \"educ_expected_yrs_f\": 12.77645302, \"hdi\": 0.8009999999999999, \"hdi_fac\": \"2_medium\", \"fitted_slr\": 2.049845774468568, \"resid_slr\": -0.6398457744685679}, {\"fertility_total\": 2.129, \"educ_expected_yrs_f\": 12.97874069, \"hdi\": 0.7759999999999999, \"hdi_fac\": \"2_medium\", \"fitted_slr\": 1.963373437957702, \"resid_slr\": 0.1656265620422981}, {\"fertility_total\": 2.895, \"educ_expected_yrs_f\": 13.25112915, \"hdi\": 0.735, \"hdi_fac\": \"2_medium\", \"fitted_slr\": 1.8469349690446117, \"resid_slr\": 1.0480650309553883}, {\"fertility_total\": 1.745, \"educ_expected_yrs_f\": 12.64217091, \"hdi\": 0.826, \"hdi_fac\": \"3_high\", \"fitted_slr\": 2.1072476309599155, \"resid_slr\": -0.3622476309599154}, {\"fertility_total\": 2.415, \"educ_expected_yrs_f\": 10.41762161, \"hdi\": 0.68, \"hdi_fac\": \"2_medium\", \"fitted_slr\": 3.0581804073105987, \"resid_slr\": -0.6431804073105987}, {\"fertility_total\": 2.154, \"educ_expected_yrs_f\": 9.829102516, \"hdi\": 0.579, \"hdi_fac\": \"1_low\", \"fitted_slr\": 3.3097559044204212, \"resid_slr\": -1.1557559044204213}, {\"fertility_total\": 3.3960000000000004, \"educ_expected_yrs_f\": 9.723130226, \"hdi\": 0.645, \"hdi_fac\": \"1_low\", \"fitted_slr\": 3.3550561025081604, \"resid_slr\": 0.04094389749183991}, {\"fertility_total\": 1.917, \"educ_expected_yrs_f\": 12.0131464, \"hdi\": 0.596, \"hdi_fac\": \"1_low\", \"fitted_slr\": 2.3761380635913376, \"resid_slr\": -0.4591380635913376}, {\"fertility_total\": 1.59, \"educ_expected_yrs_f\": 13.92983341, \"hdi\": 0.942, \"hdi_fac\": \"3_high\", \"fitted_slr\": 1.556807829006476, \"resid_slr\": 0.03319217099352412}, {\"fertility_total\": 1.71, \"educ_expected_yrs_f\": 13.77946663, \"hdi\": 0.928, \"hdi_fac\": \"3_high\", \"fitted_slr\": 1.6210854332727935, \"resid_slr\": 0.08891456672720643}, {\"fertility_total\": 2.404, \"educ_expected_yrs_f\": 11.10092926, \"hdi\": 0.659, \"hdi_fac\": \"1_low\", \"fitted_slr\": 2.7660854464499156, \"resid_slr\": -0.3620854464499157}, {\"fertility_total\": 6.912999999999999, \"educ_expected_yrs_f\": 5.059231758, \"hdi\": 0.391, \"hdi_fac\": \"1_low\", \"fitted_slr\": 5.3487426073623965, \"resid_slr\": 1.5642573926376029}, {\"fertility_total\": 5.3870000000000005, \"educ_expected_yrs_f\": 10.09999943, \"hdi\": 0.534, \"hdi_fac\": \"1_low\", \"fitted_slr\": 3.193955029818608, \"resid_slr\": 2.1930449701813926}, {\"fertility_total\": 1.496, \"educ_expected_yrs_f\": 11.08503532, \"hdi\": 0.77, \"hdi_fac\": \"2_medium\", \"fitted_slr\": 2.7728796624699203, \"resid_slr\": -1.2768796624699204}, {\"fertility_total\": 1.56, \"educ_expected_yrs_f\": 13.67211056, \"hdi\": 0.956, \"hdi_fac\": \"3_high\", \"fitted_slr\": 1.6669771587127276, \"resid_slr\": -0.1069771587127275}, {\"fertility_total\": 2.888, \"educ_expected_yrs_f\": 13.10266685, \"hdi\": 0.813, \"hdi_fac\": \"2_medium\", \"fitted_slr\": 1.910398461232628, \"resid_slr\": 0.977601538767372}, {\"fertility_total\": 3.51, \"educ_expected_yrs_f\": 8.687153816, \"hdi\": 0.552, \"hdi_fac\": \"1_low\", \"fitted_slr\": 3.797907121271877, \"resid_slr\": -0.2879071212718771}, {\"fertility_total\": 2.461, \"educ_expected_yrs_f\": 10.88493347, \"hdi\": 0.812, \"hdi_fac\": \"2_medium\", \"fitted_slr\": 2.8584176218999087, \"resid_slr\": -0.3974176218999088}, {\"fertility_total\": 3.564, \"educ_expected_yrs_f\": 9.818692207, \"hdi\": 0.5489999999999999, \"hdi_fac\": \"1_low\", \"fitted_slr\": 3.314206021142959, \"resid_slr\": 0.24979397885704113}, {\"fertility_total\": 2.4290000000000003, \"educ_expected_yrs_f\": 11.26677418, \"hdi\": 0.727, \"hdi_fac\": \"2_medium\", \"fitted_slr\": 2.6951913690656752, \"resid_slr\": -0.266191369065675}, {\"fertility_total\": 2.254, \"educ_expected_yrs_f\": 12.89012051, \"hdi\": 0.7709999999999999, \"hdi_fac\": \"2_medium\", \"fitted_slr\": 2.0012560930232013, \"resid_slr\": 0.2527439069767987}, {\"fertility_total\": 2.576, \"educ_expected_yrs_f\": 13.04763317, \"hdi\": 0.711, \"hdi_fac\": \"2_medium\", \"fitted_slr\": 1.9339238243770618, \"resid_slr\": 0.6420761756229383}, {\"fertility_total\": 1.46, \"educ_expected_yrs_f\": 13.45503712, \"hdi\": 0.877, \"hdi_fac\": \"3_high\", \"fitted_slr\": 1.7597699994788067, \"resid_slr\": -0.2997699994788068}, {\"fertility_total\": 1.42, \"educ_expected_yrs_f\": 13.82900047, \"hdi\": 0.86, \"hdi_fac\": \"3_high\", \"fitted_slr\": 1.5999110983212095, \"resid_slr\": -0.17991109832120955}, {\"fertility_total\": 1.866, \"educ_expected_yrs_f\": 12.7883606, \"hdi\": 0.845, \"hdi_fac\": \"3_high\", \"fitted_slr\": 2.044755616156941, \"resid_slr\": -0.1787556161569408}, {\"fertility_total\": 1.76, \"educ_expected_yrs_f\": 11.98094845, \"hdi\": 0.823, \"hdi_fac\": \"3_high\", \"fitted_slr\": 2.389901789118258, \"resid_slr\": -0.6299017891182579}, {\"fertility_total\": 1.579, \"educ_expected_yrs_f\": 13.68534756, \"hdi\": 0.823, \"hdi_fac\": \"3_high\", \"fitted_slr\": 1.6613187104326403, \"resid_slr\": -0.08231871043264039}, {\"fertility_total\": 4.044, \"educ_expected_yrs_f\": 6.980305195, \"hdi\": 0.54, \"hdi_fac\": \"1_low\", \"fitted_slr\": 4.5275372975857335, \"resid_slr\": -0.48353729758573394}, {\"fertility_total\": 3.877, \"educ_expected_yrs_f\": 12.44684696, \"hdi\": 0.7090000000000001, \"hdi_fac\": \"2_medium\", \"fitted_slr\": 2.1907431714099665, \"resid_slr\": 1.6862568285900332}, {\"fertility_total\": 2.319, \"educ_expected_yrs_f\": 12.26758575, \"hdi\": 0.8540000000000001, \"hdi_fac\": \"3_high\", \"fitted_slr\": 2.2673723385483537, \"resid_slr\": 0.05162766145164621}, {\"fertility_total\": 4.625, \"educ_expected_yrs_f\": 7.849748135, \"hdi\": 0.516, \"hdi_fac\": \"1_low\", \"fitted_slr\": 4.155874692125517, \"resid_slr\": 0.46912530787448325}, {\"fertility_total\": 1.49, \"educ_expected_yrs_f\": 13.49239731, \"hdi\": 0.8029999999999999, \"hdi_fac\": \"2_medium\", \"fitted_slr\": 1.7437995603423548, \"resid_slr\": -0.25379956034235485}, {\"fertility_total\": 2.41, \"educ_expected_yrs_f\": 13.53542233, \"hdi\": 0.79, \"hdi_fac\": \"2_medium\", \"fitted_slr\": 1.725407564390121, \"resid_slr\": 0.6845924356098791}, {\"fertility_total\": 4.263, \"educ_expected_yrs_f\": 9.282006264, \"hdi\": 0.447, \"hdi_fac\": \"1_low\", \"fitted_slr\": 3.5436242919834275, \"resid_slr\": 0.7193757080165724}, {\"fertility_total\": 1.14, \"educ_expected_yrs_f\": 13.90422153, \"hdi\": 0.936, \"hdi_fac\": \"3_high\", \"fitted_slr\": 1.567756193313782, \"resid_slr\": -0.4277561933137821}, {\"fertility_total\": 1.61, \"educ_expected_yrs_f\": 13.71750641, \"hdi\": 0.912, \"hdi_fac\": \"3_high\", \"fitted_slr\": 1.6475716990651037, \"resid_slr\": -0.0375716990651036}, {\"fertility_total\": 4.4030000000000005, \"educ_expected_yrs_f\": 8.841700553999999, \"hdi\": 0.564, \"hdi_fac\": \"1_low\", \"fitted_slr\": 3.731842701552215, \"resid_slr\": 0.6711572984477856}, {\"fertility_total\": 2.405, \"educ_expected_yrs_f\": 10.11397743, \"hdi\": 0.7070000000000001, \"hdi_fac\": \"2_medium\", \"fitted_slr\": 3.1879798247072495, \"resid_slr\": -0.7829798247072497}, {\"fertility_total\": 4.696000000000001, \"educ_expected_yrs_f\": 3.916237831, \"hdi\": 0.429, \"hdi_fac\": \"1_low\", \"fitted_slr\": 5.8373406296018135, \"resid_slr\": -1.141340629601813}, {\"fertility_total\": 1.26, \"educ_expected_yrs_f\": 13.08606815, \"hdi\": 0.905, \"hdi_fac\": \"3_high\", \"fitted_slr\": 1.9174939424947484, \"resid_slr\": -0.6574939424947484}, {\"fertility_total\": 2.199, \"educ_expected_yrs_f\": 13.11488724, \"hdi\": 0.779, \"hdi_fac\": \"2_medium\", \"fitted_slr\": 1.9051745853712179, \"resid_slr\": 0.293825414628782}, {\"fertility_total\": 4.407, \"educ_expected_yrs_f\": 6.943500996, \"hdi\": 0.506, \"hdi_fac\": \"1_low\", \"fitted_slr\": 4.543270066077955, \"resid_slr\": -0.13627006607795522}, {\"fertility_total\": 1.76, \"educ_expected_yrs_f\": 13.90402126, \"hdi\": 0.943, \"hdi_fac\": \"3_high\", \"fitted_slr\": 1.5678418031526462, \"resid_slr\": 0.1921581968473538}, {\"fertility_total\": 1.52, \"educ_expected_yrs_f\": 13.21845913, \"hdi\": 0.955, \"hdi_fac\": \"3_high\", \"fitted_slr\": 1.8609004913290734, \"resid_slr\": -0.3409004913290734}, {\"fertility_total\": 3.585, \"educ_expected_yrs_f\": 10.43918705, \"hdi\": 0.6609999999999999, \"hdi_fac\": \"1_low\", \"fitted_slr\": 3.0489617832358595, \"resid_slr\": 0.5360382167641404}, {\"fertility_total\": 1.525, \"educ_expected_yrs_f\": 12.644207000000002, \"hdi\": 0.772, \"hdi_fac\": \"2_medium\", \"fitted_slr\": 2.1063772592776147, \"resid_slr\": -0.5813772592776147}, {\"fertility_total\": 4.023, \"educ_expected_yrs_f\": 10.87477875, \"hdi\": 0.599, \"hdi_fac\": \"1_low\", \"fitted_slr\": 2.8627584814540947, \"resid_slr\": 1.160241518545905}, {\"fertility_total\": 4.32, \"educ_expected_yrs_f\": 9.123530388, \"hdi\": 0.51, \"hdi_fac\": \"1_low\", \"fitted_slr\": 3.6113683086025627, \"resid_slr\": 0.7086316913974375}, {\"fertility_total\": 3.556, \"educ_expected_yrs_f\": 11.83284092, \"hdi\": 0.723, \"hdi_fac\": \"2_medium\", \"fitted_slr\": 2.453213627026881, \"resid_slr\": 1.102786372973119}, {\"fertility_total\": 2.197, \"educ_expected_yrs_f\": 10.95233727, \"hdi\": 0.738, \"hdi_fac\": \"2_medium\", \"fitted_slr\": 2.829604377495486, \"resid_slr\": -0.6326043774954861}, {\"fertility_total\": 2.069, \"educ_expected_yrs_f\": 11.99552917, \"hdi\": 0.8170000000000001, \"hdi_fac\": \"3_high\", \"fitted_slr\": 2.3836689380185803, \"resid_slr\": -0.3146689380185803}, {\"fertility_total\": 1.301, \"educ_expected_yrs_f\": 13.00567055, \"hdi\": 0.774, \"hdi_fac\": \"2_medium\", \"fitted_slr\": 1.9518616739628403, \"resid_slr\": -0.6508616739628403}, {\"fertility_total\": 1.413, \"educ_expected_yrs_f\": 13.1702652, \"hdi\": 0.889, \"hdi_fac\": \"3_high\", \"fitted_slr\": 1.881502052129794, \"resid_slr\": -0.468502052129794}, {\"fertility_total\": 1.68, \"educ_expected_yrs_f\": 13.85765934, \"hdi\": 0.928, \"hdi_fac\": \"3_high\", \"fitted_slr\": 1.5876602307786598, \"resid_slr\": 0.09233976922134013}, {\"fertility_total\": 1.7295, \"educ_expected_yrs_f\": 12.93639374, \"hdi\": 0.925, \"hdi_fac\": \"3_high\", \"fitted_slr\": 1.9814755778983564, \"resid_slr\": -0.25197557789835634}, {\"fertility_total\": 1.973, \"educ_expected_yrs_f\": 12.47761631, \"hdi\": 0.816, \"hdi_fac\": \"2_medium\", \"fitted_slr\": 2.1775901325350775, \"resid_slr\": -0.2045901325350774}, {\"fertility_total\": 2.604, \"educ_expected_yrs_f\": 12.00484753, \"hdi\": 0.7170000000000001, \"hdi_fac\": \"2_medium\", \"fitted_slr\": 2.3796855990357866, \"resid_slr\": 0.2243144009642135}, {\"fertility_total\": 3.782, \"educ_expected_yrs_f\": 10.13373089, \"hdi\": 0.603, \"hdi_fac\": \"1_low\", \"fitted_slr\": 3.1795357715409143, \"resid_slr\": 0.6024642284590858}, {\"fertility_total\": 4.633, \"educ_expected_yrs_f\": 8.745135307, \"hdi\": 0.5820000000000001, \"hdi_fac\": \"1_low\", \"fitted_slr\": 3.773121651148297, \"resid_slr\": 0.8598783488517032}, {\"fertility_total\": 3.615, \"educ_expected_yrs_f\": 10.97491837, \"hdi\": 0.569, \"hdi_fac\": \"1_low\", \"fitted_slr\": 2.8199515871005723, \"resid_slr\": 0.795048412899428}]}}, {\"mode\": \"vega-lite\"});\n",
       "</script>"
      ],
      "text/plain": [
       "alt.LayerChart(...)"
      ]
     },
     "execution_count": 35,
     "metadata": {},
     "output_type": "execute_result"
    }
   ],
   "source": [
    "# construct line plot\n",
    "slr_line = alt.Chart(reg_data).mark_line(color = 'red').encode(\n",
    "    x = 'educ_expected_yrs_f',\n",
    "    y = 'fitted_slr'\n",
    ")\n",
    "\n",
    "# layer\n",
    "simple_scatter + slr_line"
   ]
  },
  {
   "cell_type": "markdown",
   "metadata": {
    "deletable": false,
    "editable": false
   },
   "source": [
    "<!-- END QUESTION -->\n",
    "\n",
    "<!-- BEGIN QUESTION -->\n",
    "\n",
    "#### (ii) Comment on the plot.\n",
    "\n",
    "How well does the model seem to describe the data overall?\n",
    "\n",
    "<!--\n",
    "BEGIN QUESTION\n",
    "name: q1_e_ii\n",
    "points: 1\n",
    "manual: true\n",
    "-->"
   ]
  },
  {
   "cell_type": "markdown",
   "metadata": {},
   "source": [
    "The model seems to do a really good job in describing the data as the relationship between expected years of education for women and fertility rate appears to be negatively linear."
   ]
  },
  {
   "cell_type": "markdown",
   "metadata": {},
   "source": [
    "<!-- END QUESTION -->\n",
    "\n",
    "\n",
    "\n",
    "---\n",
    "## 2. Multiple linear regression\n",
    "\n",
    "Now let's consider adding the human development factor -- a categorical variable -- to the model. The factor column `hdi_fac` can't be input directly as a variable into the explanatory variable matrix $\\mathbf{X}$, because it doesn't make sense to multiply a coefficient (number) by a factor label (character string), so we'll need to do a little preprocessing to incorporate the factor into a multiple regression model.\n",
    "\n",
    "### Encoding categorical variables\n",
    "\n",
    "Categorical variables must be *encoded* in the explanatory variable matrix by *indicator functions*; each level of the category will have a corresponding coefficient. In this case, the factor (HDI) had three levels (low, medium, and high), so we'll construct a matrix $\\mathbf{X}$ with entries\n",
    "\n",
    "$$\\left[\\begin{array}{cccc}\n",
    "    1 &x_1 &I(hdi_1 = med) &I(hdi_1 = high) \\\\\n",
    "    1 &x_2 &I(hdi_2 = med) &I(hdi_2 = high) \\\\\n",
    "    \\vdots &\\vdots &\\vdots &\\vdots \\\\\n",
    "    1 &x_n &I(hdi_n = med) &I(hdi_n = high)\n",
    "    \\end{array}\\right]$$\n",
    "    \n",
    "where\n",
    "* $I(hdi_i = med)$ is 1 if the $i$th HDI level is medium, and 0 otherwise and\n",
    "* $I(hdi_i = high)$ is 1 if the $i$th HDI level is high, and 0 otherwise.\n",
    "\n",
    "The low level of the HDI factor is not represented explicitly, but if $I(hdi_i = med) = I(hdi_i = high) = 0$, then $hdi_i = low$; in other words, if the $i$th level of the HDI factor is neither medium nor high, then it must be low. \n",
    "\n",
    "It takes a little head-scratching to figure out what these indicators do, but **their effect in the model is to allow the intercept to change depending on the level of the factor**.\n",
    "\n",
    "These indicators functions are sometimes called 'dummy' variables. They're simple to obtain using `pd.get_dummies(...)`:"
   ]
  },
  {
   "cell_type": "code",
   "execution_count": 36,
   "metadata": {},
   "outputs": [
    {
     "data": {
      "text/html": [
       "<div>\n",
       "<style scoped>\n",
       "    .dataframe tbody tr th:only-of-type {\n",
       "        vertical-align: middle;\n",
       "    }\n",
       "\n",
       "    .dataframe tbody tr th {\n",
       "        vertical-align: top;\n",
       "    }\n",
       "\n",
       "    .dataframe thead th {\n",
       "        text-align: right;\n",
       "    }\n",
       "</style>\n",
       "<table border=\"1\" class=\"dataframe\">\n",
       "  <thead>\n",
       "    <tr style=\"text-align: right;\">\n",
       "      <th></th>\n",
       "      <th>2_medium</th>\n",
       "      <th>3_high</th>\n",
       "    </tr>\n",
       "    <tr>\n",
       "      <th>Country</th>\n",
       "      <th></th>\n",
       "      <th></th>\n",
       "    </tr>\n",
       "  </thead>\n",
       "  <tbody>\n",
       "    <tr>\n",
       "      <th>Afghanistan</th>\n",
       "      <td>0</td>\n",
       "      <td>0</td>\n",
       "    </tr>\n",
       "    <tr>\n",
       "      <th>Albania</th>\n",
       "      <td>1</td>\n",
       "      <td>0</td>\n",
       "    </tr>\n",
       "    <tr>\n",
       "      <th>Algeria</th>\n",
       "      <td>1</td>\n",
       "      <td>0</td>\n",
       "    </tr>\n",
       "    <tr>\n",
       "      <th>Angola</th>\n",
       "      <td>0</td>\n",
       "      <td>0</td>\n",
       "    </tr>\n",
       "    <tr>\n",
       "      <th>Antigua and Barbuda</th>\n",
       "      <td>1</td>\n",
       "      <td>0</td>\n",
       "    </tr>\n",
       "    <tr>\n",
       "      <th>Argentina</th>\n",
       "      <td>0</td>\n",
       "      <td>1</td>\n",
       "    </tr>\n",
       "  </tbody>\n",
       "</table>\n",
       "</div>"
      ],
      "text/plain": [
       "                     2_medium  3_high\n",
       "Country                              \n",
       "Afghanistan                 0       0\n",
       "Albania                     1       0\n",
       "Algeria                     1       0\n",
       "Angola                      0       0\n",
       "Antigua and Barbuda         1       0\n",
       "Argentina                   0       1"
      ]
     },
     "execution_count": 36,
     "metadata": {},
     "output_type": "execute_result"
    }
   ],
   "source": [
    "# encode hdi factor by indicator variables\n",
    "hdi_df = pd.get_dummies(reg_data.hdi_fac, drop_first = True)\n",
    "\n",
    "# preview\n",
    "hdi_df.head(6)"
   ]
  },
  {
   "cell_type": "markdown",
   "metadata": {},
   "source": [
    "Now compare this with the underlying factor:"
   ]
  },
  {
   "cell_type": "code",
   "execution_count": 37,
   "metadata": {},
   "outputs": [
    {
     "data": {
      "text/html": [
       "<div>\n",
       "<style scoped>\n",
       "    .dataframe tbody tr th:only-of-type {\n",
       "        vertical-align: middle;\n",
       "    }\n",
       "\n",
       "    .dataframe tbody tr th {\n",
       "        vertical-align: top;\n",
       "    }\n",
       "\n",
       "    .dataframe thead th {\n",
       "        text-align: right;\n",
       "    }\n",
       "</style>\n",
       "<table border=\"1\" class=\"dataframe\">\n",
       "  <thead>\n",
       "    <tr style=\"text-align: right;\">\n",
       "      <th></th>\n",
       "      <th>hdi_fac</th>\n",
       "    </tr>\n",
       "    <tr>\n",
       "      <th>Country</th>\n",
       "      <th></th>\n",
       "    </tr>\n",
       "  </thead>\n",
       "  <tbody>\n",
       "    <tr>\n",
       "      <th>Afghanistan</th>\n",
       "      <td>1_low</td>\n",
       "    </tr>\n",
       "    <tr>\n",
       "      <th>Albania</th>\n",
       "      <td>2_medium</td>\n",
       "    </tr>\n",
       "    <tr>\n",
       "      <th>Algeria</th>\n",
       "      <td>2_medium</td>\n",
       "    </tr>\n",
       "    <tr>\n",
       "      <th>Angola</th>\n",
       "      <td>1_low</td>\n",
       "    </tr>\n",
       "    <tr>\n",
       "      <th>Antigua and Barbuda</th>\n",
       "      <td>2_medium</td>\n",
       "    </tr>\n",
       "    <tr>\n",
       "      <th>Argentina</th>\n",
       "      <td>3_high</td>\n",
       "    </tr>\n",
       "  </tbody>\n",
       "</table>\n",
       "</div>"
      ],
      "text/plain": [
       "                      hdi_fac\n",
       "Country                      \n",
       "Afghanistan             1_low\n",
       "Albania              2_medium\n",
       "Algeria              2_medium\n",
       "Angola                  1_low\n",
       "Antigua and Barbuda  2_medium\n",
       "Argentina              3_high"
      ]
     },
     "execution_count": 37,
     "metadata": {},
     "output_type": "execute_result"
    }
   ],
   "source": [
    "reg_data[['hdi_fac']].head(6)"
   ]
  },
  {
   "cell_type": "markdown",
   "metadata": {},
   "source": [
    "### Interaction terms\n",
    "\n",
    "We'll also add *interaction* terms -- a fancy phrase for products of explanatory variables -- between the indicators and the education variable. **The effect of interactions is to allow the slope to change depending on the level of the factor**. \n",
    "\n",
    "The cell below computes these interaction terms and appends them, along with the indicators, to the education variable."
   ]
  },
  {
   "cell_type": "code",
   "execution_count": 38,
   "metadata": {},
   "outputs": [
    {
     "data": {
      "text/html": [
       "<div>\n",
       "<style scoped>\n",
       "    .dataframe tbody tr th:only-of-type {\n",
       "        vertical-align: middle;\n",
       "    }\n",
       "\n",
       "    .dataframe tbody tr th {\n",
       "        vertical-align: top;\n",
       "    }\n",
       "\n",
       "    .dataframe thead th {\n",
       "        text-align: right;\n",
       "    }\n",
       "</style>\n",
       "<table border=\"1\" class=\"dataframe\">\n",
       "  <thead>\n",
       "    <tr style=\"text-align: right;\">\n",
       "      <th></th>\n",
       "      <th>educ_expected_yrs_f</th>\n",
       "      <th>2_medium</th>\n",
       "      <th>3_high</th>\n",
       "      <th>2_medium_x_educ</th>\n",
       "      <th>3_high_x_educ</th>\n",
       "    </tr>\n",
       "    <tr>\n",
       "      <th>Country</th>\n",
       "      <th></th>\n",
       "      <th></th>\n",
       "      <th></th>\n",
       "      <th></th>\n",
       "      <th></th>\n",
       "    </tr>\n",
       "  </thead>\n",
       "  <tbody>\n",
       "    <tr>\n",
       "      <th>Afghanistan</th>\n",
       "      <td>6.795722</td>\n",
       "      <td>0</td>\n",
       "      <td>0</td>\n",
       "      <td>0.000000</td>\n",
       "      <td>0.0</td>\n",
       "    </tr>\n",
       "    <tr>\n",
       "      <th>Albania</th>\n",
       "      <td>13.201755</td>\n",
       "      <td>1</td>\n",
       "      <td>0</td>\n",
       "      <td>13.201755</td>\n",
       "      <td>0.0</td>\n",
       "    </tr>\n",
       "    <tr>\n",
       "      <th>Algeria</th>\n",
       "      <td>12.108990</td>\n",
       "      <td>1</td>\n",
       "      <td>0</td>\n",
       "      <td>12.108990</td>\n",
       "      <td>0.0</td>\n",
       "    </tr>\n",
       "    <tr>\n",
       "      <th>Angola</th>\n",
       "      <td>6.973901</td>\n",
       "      <td>0</td>\n",
       "      <td>0</td>\n",
       "      <td>0.000000</td>\n",
       "      <td>0.0</td>\n",
       "    </tr>\n",
       "  </tbody>\n",
       "</table>\n",
       "</div>"
      ],
      "text/plain": [
       "             educ_expected_yrs_f  2_medium  3_high  2_medium_x_educ  \\\n",
       "Country                                                               \n",
       "Afghanistan             6.795722         0       0         0.000000   \n",
       "Albania                13.201755         1       0        13.201755   \n",
       "Algeria                12.108990         1       0        12.108990   \n",
       "Angola                  6.973901         0       0         0.000000   \n",
       "\n",
       "             3_high_x_educ  \n",
       "Country                     \n",
       "Afghanistan            0.0  \n",
       "Albania                0.0  \n",
       "Algeria                0.0  \n",
       "Angola                 0.0  "
      ]
     },
     "execution_count": 38,
     "metadata": {},
     "output_type": "execute_result"
    }
   ],
   "source": [
    "# compute interaction terms\n",
    "interaction_df = hdi_df.multiply(reg_data.educ_expected_yrs_f, axis = 0)\n",
    "interaction_df.columns = ['2_medium_x_educ', '3_high_x_educ']\n",
    "\n",
    "# append indicators to data\n",
    "x_mlr_df = pd.concat([reg_data.educ_expected_yrs_f, hdi_df, interaction_df], ignore_index = False, axis = 1)\n",
    "\n",
    "# preview\n",
    "x_mlr_df.head(4)"
   ]
  },
  {
   "cell_type": "markdown",
   "metadata": {},
   "source": [
    "Notice that those interaction terms are simply the elementwise products of each indicator column with the education variable column."
   ]
  },
  {
   "cell_type": "markdown",
   "metadata": {},
   "source": [
    "### Model fitting\n",
    "\n",
    "With the encoded categorical variable for HDI, and the interaction terms, the linear model is:\n",
    "\n",
    "$$\\underbrace{\\left[\\begin{array}{c} y_1 \\\\ \\vdots \\\\ y_n \\end{array}\\right]}_{\\mathbf{y}}\n",
    "    = \\underbrace{\\left[\\begin{array}{cccccc}\n",
    "        1 & x_1 & I(hdi_1 = med) & I(hdi_1 = high) & x_1 I(hdi_1 = med) & x_1 I(hdi_1 = high) \\\\ \n",
    "        \\vdots &\\vdots &\\vdots &\\vdots &\\vdots &\\vdots \\\\ \n",
    "        1 & x_n & I(hdi_n = med) & I(hdi_n = high) & x_n I(hdi_n = med) & x_n I(hdi_n = high)  \n",
    "        \\end{array}\\right]}_\\mathbf{X}\n",
    "      \\underbrace{\\left[\\begin{array}{c} \\beta_0 \\\\ \\beta_1 \\\\ \\beta_2\\\\ \\beta_3 \\\\ \\beta_4 \\\\ \\beta_5 \\end{array}\\right]}_\\beta\n",
    "      + \\underbrace{\\left[\\begin{array}{c} \\epsilon_1 \\\\ \\vdots \\\\ \\epsilon_n \\end{array}\\right]}_\\epsilon$$\n",
    "      \n",
    "Which is matrix form for:\n",
    "\n",
    "$$y_i = \\beta_0 + \\beta_1 x_1 + \\beta_2 I(hdi_1 = med) + \\beta_3 I(hdi_1 = high) + \\beta_4 x_1 I(hdi_1 = med) + \\beta_5 x_1 I(hdi_1 = high) + \\epsilon_i \\qquad i = 1, \\dots, n$$\n",
    "\n",
    "While seemingly more complicated, and perhaps a little tricker to interpret mathematically, the syntactical pattern for fitting the model is exactly the same as the simple linear model."
   ]
  },
  {
   "cell_type": "code",
   "execution_count": 39,
   "metadata": {},
   "outputs": [
    {
     "data": {
      "text/plain": [
       "LinearRegression(fit_intercept=False)"
      ]
     },
     "execution_count": 39,
     "metadata": {},
     "output_type": "execute_result"
    }
   ],
   "source": [
    "# add intercept column\n",
    "x_mlr = add_dummy_feature(x_mlr_df, value = 1)\n",
    "\n",
    "# configure module\n",
    "mlr = LinearRegression(fit_intercept = False)\n",
    "\n",
    "# fit model\n",
    "mlr.fit(x_mlr, y)"
   ]
  },
  {
   "cell_type": "markdown",
   "metadata": {
    "deletable": false,
    "editable": false
   },
   "source": [
    "### Q2 (a) Summarize model fit\n",
    "\n",
    "Follow the examples from the simple linear model to carry out the following:\n",
    "\n",
    "1. Compute the error variance estimate $\\hat{\\sigma}^2$ and store it in `sigma2_hat`.\n",
    "2. Compute the standard errors for each coefficient and store in `mlrcoef_se`.\n",
    "3. Construct a dataframe called `mlrcoef_table` showing both the estimates and standard errors.\n",
    "\n",
    "(*Suggestion*: copy the codes from part 1 into a single cell below for reference.)\n",
    "\n",
    "<!--\n",
    "BEGIN QUESTION\n",
    "name: q2_a\n",
    "points: 1\n",
    "manual: false\n",
    "-->"
   ]
  },
  {
   "cell_type": "code",
   "execution_count": 40,
   "metadata": {},
   "outputs": [
    {
     "data": {
      "text/html": [
       "<div>\n",
       "<style scoped>\n",
       "    .dataframe tbody tr th:only-of-type {\n",
       "        vertical-align: middle;\n",
       "    }\n",
       "\n",
       "    .dataframe tbody tr th {\n",
       "        vertical-align: top;\n",
       "    }\n",
       "\n",
       "    .dataframe thead th {\n",
       "        text-align: right;\n",
       "    }\n",
       "</style>\n",
       "<table border=\"1\" class=\"dataframe\">\n",
       "  <thead>\n",
       "    <tr style=\"text-align: right;\">\n",
       "      <th></th>\n",
       "      <th>estimate</th>\n",
       "      <th>standard error</th>\n",
       "    </tr>\n",
       "  </thead>\n",
       "  <tbody>\n",
       "    <tr>\n",
       "      <th>intercept</th>\n",
       "      <td>7.049013</td>\n",
       "      <td>0.369182</td>\n",
       "    </tr>\n",
       "    <tr>\n",
       "      <th>educ_expected_yrs_f</th>\n",
       "      <td>-0.351265</td>\n",
       "      <td>0.041062</td>\n",
       "    </tr>\n",
       "    <tr>\n",
       "      <th>2_medium</th>\n",
       "      <td>-2.057722</td>\n",
       "      <td>0.898528</td>\n",
       "    </tr>\n",
       "    <tr>\n",
       "      <th>3_high</th>\n",
       "      <td>-4.504779</td>\n",
       "      <td>2.485328</td>\n",
       "    </tr>\n",
       "    <tr>\n",
       "      <th>2_medium_x_educ</th>\n",
       "      <td>0.125183</td>\n",
       "      <td>0.079162</td>\n",
       "    </tr>\n",
       "    <tr>\n",
       "      <th>3_high_x_educ</th>\n",
       "      <td>0.286587</td>\n",
       "      <td>0.187939</td>\n",
       "    </tr>\n",
       "    <tr>\n",
       "      <th>error variance</th>\n",
       "      <td>0.382592</td>\n",
       "      <td>NaN</td>\n",
       "    </tr>\n",
       "  </tbody>\n",
       "</table>\n",
       "</div>"
      ],
      "text/plain": [
       "                     estimate  standard error\n",
       "intercept            7.049013        0.369182\n",
       "educ_expected_yrs_f -0.351265        0.041062\n",
       "2_medium            -2.057722        0.898528\n",
       "3_high              -4.504779        2.485328\n",
       "2_medium_x_educ      0.125183        0.079162\n",
       "3_high_x_educ        0.286587        0.187939\n",
       "error variance       0.382592             NaN"
      ]
     },
     "execution_count": 40,
     "metadata": {},
     "output_type": "execute_result"
    }
   ],
   "source": [
    "# store dimensions of explanatory variable matrix\n",
    "n, p = x_mlr.shape\n",
    "\n",
    "# compute residual variance\n",
    "fitted_mlr = mlr.predict(x_mlr)\n",
    "resid_mlr = y - fitted_mlr\n",
    "sigma2_hat = ((n - 1)/(n - p)) * resid_mlr.var()\n",
    "\n",
    "# compute standard errors\n",
    "mlrcoef_vcov = sigma2_hat*np.linalg.inv(x_mlr.transpose().dot(x_mlr))\n",
    "mlrcoef_se = np.sqrt(mlrcoef_vcov.diagonal())\n",
    "\n",
    "# construct coefficient table\n",
    "mlrcoef_table = pd.DataFrame(\n",
    "    {'estimate': np.append(mlr.coef_, sigma2_hat), \n",
    "     'standard error': np.append(mlrcoef_se, float('nan'))},\n",
    "    index = ['intercept', 'educ_expected_yrs_f', '2_medium', \n",
    "             '3_high', '2_medium_x_educ', '3_high_x_educ', 'error variance']\n",
    ")\n",
    "\n",
    "# print\n",
    "mlrcoef_table"
   ]
  },
  {
   "cell_type": "code",
   "execution_count": 41,
   "metadata": {
    "deletable": false,
    "editable": false
   },
   "outputs": [
    {
     "ename": "KeyError",
     "evalue": "'otter'",
     "output_type": "error",
     "traceback": [
      "\u001b[0;31m---------------------------------------------------------------------------\u001b[0m",
      "\u001b[0;31mKeyError\u001b[0m                                  Traceback (most recent call last)",
      "Input \u001b[0;32mIn [41]\u001b[0m, in \u001b[0;36m<cell line: 1>\u001b[0;34m()\u001b[0m\n\u001b[0;32m----> 1\u001b[0m \u001b[43mgrader\u001b[49m\u001b[38;5;241;43m.\u001b[39;49m\u001b[43mcheck\u001b[49m\u001b[43m(\u001b[49m\u001b[38;5;124;43m\"\u001b[39;49m\u001b[38;5;124;43mq2_a\u001b[39;49m\u001b[38;5;124;43m\"\u001b[39;49m\u001b[43m)\u001b[49m\n",
      "File \u001b[0;32m/opt/conda/lib/python3.9/site-packages/otter/check/utils.py:131\u001b[0m, in \u001b[0;36mlogs_event.<locals>.event_logger.<locals>.run_function\u001b[0;34m(self, *args, **kwargs)\u001b[0m\n\u001b[1;32m    129\u001b[0m \u001b[38;5;28;01mexcept\u001b[39;00m \u001b[38;5;167;01mException\u001b[39;00m \u001b[38;5;28;01mas\u001b[39;00m e:\n\u001b[1;32m    130\u001b[0m     \u001b[38;5;28mself\u001b[39m\u001b[38;5;241m.\u001b[39m_log_event(event_type, success\u001b[38;5;241m=\u001b[39m\u001b[38;5;28;01mFalse\u001b[39;00m, error\u001b[38;5;241m=\u001b[39me)\n\u001b[0;32m--> 131\u001b[0m     \u001b[38;5;28;01mraise\u001b[39;00m e\n\u001b[1;32m    132\u001b[0m \u001b[38;5;28;01melse\u001b[39;00m:\n\u001b[1;32m    133\u001b[0m     \u001b[38;5;28mself\u001b[39m\u001b[38;5;241m.\u001b[39m_log_event(event_type, results\u001b[38;5;241m=\u001b[39mresults, question\u001b[38;5;241m=\u001b[39mquestion, shelve_env\u001b[38;5;241m=\u001b[39mshelve_env)\n",
      "File \u001b[0;32m/opt/conda/lib/python3.9/site-packages/otter/check/utils.py:124\u001b[0m, in \u001b[0;36mlogs_event.<locals>.event_logger.<locals>.run_function\u001b[0;34m(self, *args, **kwargs)\u001b[0m\n\u001b[1;32m    122\u001b[0m \u001b[38;5;28;01mtry\u001b[39;00m:\n\u001b[1;32m    123\u001b[0m     \u001b[38;5;28;01mif\u001b[39;00m event_type \u001b[38;5;241m==\u001b[39m EventType\u001b[38;5;241m.\u001b[39mCHECK:\n\u001b[0;32m--> 124\u001b[0m         question, results, shelve_env \u001b[38;5;241m=\u001b[39m \u001b[43mf\u001b[49m\u001b[43m(\u001b[49m\u001b[38;5;28;43mself\u001b[39;49m\u001b[43m,\u001b[49m\u001b[43m \u001b[49m\u001b[38;5;241;43m*\u001b[39;49m\u001b[43margs\u001b[49m\u001b[43m,\u001b[49m\u001b[43m \u001b[49m\u001b[38;5;241;43m*\u001b[39;49m\u001b[38;5;241;43m*\u001b[39;49m\u001b[43mkwargs\u001b[49m\u001b[43m)\u001b[49m\n\u001b[1;32m    125\u001b[0m     \u001b[38;5;28;01melse\u001b[39;00m:\n\u001b[1;32m    126\u001b[0m         results \u001b[38;5;241m=\u001b[39m f(\u001b[38;5;28mself\u001b[39m, \u001b[38;5;241m*\u001b[39margs, \u001b[38;5;241m*\u001b[39m\u001b[38;5;241m*\u001b[39mkwargs)\n",
      "File \u001b[0;32m/opt/conda/lib/python3.9/site-packages/otter/check/notebook.py:179\u001b[0m, in \u001b[0;36mNotebook.check\u001b[0;34m(self, question, global_env)\u001b[0m\n\u001b[1;32m    176\u001b[0m     global_env \u001b[38;5;241m=\u001b[39m inspect\u001b[38;5;241m.\u001b[39mcurrentframe()\u001b[38;5;241m.\u001b[39mf_back\u001b[38;5;241m.\u001b[39mf_back\u001b[38;5;241m.\u001b[39mf_globals\n\u001b[1;32m    178\u001b[0m \u001b[38;5;66;03m# run the check\u001b[39;00m\n\u001b[0;32m--> 179\u001b[0m result \u001b[38;5;241m=\u001b[39m \u001b[43mcheck\u001b[49m\u001b[43m(\u001b[49m\u001b[43mtest_path\u001b[49m\u001b[43m,\u001b[49m\u001b[43m \u001b[49m\u001b[43mtest_name\u001b[49m\u001b[43m,\u001b[49m\u001b[43m \u001b[49m\u001b[43mglobal_env\u001b[49m\u001b[43m)\u001b[49m\n\u001b[1;32m    181\u001b[0m \u001b[38;5;28;01mreturn\u001b[39;00m question, result, global_env\n",
      "File \u001b[0;32m/opt/conda/lib/python3.9/site-packages/otter/execute/__init__.py:46\u001b[0m, in \u001b[0;36mcheck\u001b[0;34m(nb_or_test_path, test_name, global_env)\u001b[0m\n\u001b[1;32m     44\u001b[0m     test \u001b[38;5;241m=\u001b[39m OKTestFile\u001b[38;5;241m.\u001b[39mfrom_file(nb_or_test_path)\n\u001b[1;32m     45\u001b[0m \u001b[38;5;28;01melse\u001b[39;00m:\n\u001b[0;32m---> 46\u001b[0m     test \u001b[38;5;241m=\u001b[39m \u001b[43mNotebookMetadataOKTestFile\u001b[49m\u001b[38;5;241;43m.\u001b[39;49m\u001b[43mfrom_file\u001b[49m\u001b[43m(\u001b[49m\u001b[43mnb_or_test_path\u001b[49m\u001b[43m,\u001b[49m\u001b[43m \u001b[49m\u001b[43mtest_name\u001b[49m\u001b[43m)\u001b[49m\n\u001b[1;32m     48\u001b[0m \u001b[38;5;28;01mif\u001b[39;00m global_env \u001b[38;5;129;01mis\u001b[39;00m \u001b[38;5;28;01mNone\u001b[39;00m:\n\u001b[1;32m     49\u001b[0m     \u001b[38;5;66;03m# Get the global env of our callers - one level below us in the stack\u001b[39;00m\n\u001b[1;32m     50\u001b[0m     \u001b[38;5;66;03m# The grade method should only be called directly from user / notebook\u001b[39;00m\n\u001b[1;32m     51\u001b[0m     \u001b[38;5;66;03m# code. If some other method is calling it, it should also use the\u001b[39;00m\n\u001b[1;32m     52\u001b[0m     \u001b[38;5;66;03m# inspect trick to pass in its parents' global env.\u001b[39;00m\n\u001b[1;32m     53\u001b[0m     global_env \u001b[38;5;241m=\u001b[39m inspect\u001b[38;5;241m.\u001b[39mcurrentframe()\u001b[38;5;241m.\u001b[39mf_back\u001b[38;5;241m.\u001b[39mf_globals\n",
      "File \u001b[0;32m/opt/conda/lib/python3.9/site-packages/otter/test_files/metadata_test.py:76\u001b[0m, in \u001b[0;36mNotebookMetadataOKTestFile.from_file\u001b[0;34m(cls, path, test_name)\u001b[0m\n\u001b[1;32m     73\u001b[0m \u001b[38;5;28;01mwith\u001b[39;00m \u001b[38;5;28mopen\u001b[39m(path, encoding\u001b[38;5;241m=\u001b[39m\u001b[38;5;124m\"\u001b[39m\u001b[38;5;124mutf-8\u001b[39m\u001b[38;5;124m\"\u001b[39m) \u001b[38;5;28;01mas\u001b[39;00m f:\n\u001b[1;32m     74\u001b[0m     nb \u001b[38;5;241m=\u001b[39m json\u001b[38;5;241m.\u001b[39mload(f)\n\u001b[0;32m---> 76\u001b[0m test_spec \u001b[38;5;241m=\u001b[39m \u001b[43mnb\u001b[49m\u001b[43m[\u001b[49m\u001b[38;5;124;43m\"\u001b[39;49m\u001b[38;5;124;43mmetadata\u001b[39;49m\u001b[38;5;124;43m\"\u001b[39;49m\u001b[43m]\u001b[49m\u001b[43m[\u001b[49m\u001b[43mNOTEBOOK_METADATA_KEY\u001b[49m\u001b[43m]\u001b[49m[\u001b[38;5;124m\"\u001b[39m\u001b[38;5;124mtests\u001b[39m\u001b[38;5;124m\"\u001b[39m]\n\u001b[1;32m     77\u001b[0m \u001b[38;5;28;01mif\u001b[39;00m test_name \u001b[38;5;129;01mnot\u001b[39;00m \u001b[38;5;129;01min\u001b[39;00m test_spec:\n\u001b[1;32m     78\u001b[0m     \u001b[38;5;28;01mraise\u001b[39;00m \u001b[38;5;167;01mValueError\u001b[39;00m(\u001b[38;5;124mf\u001b[39m\u001b[38;5;124m\"\u001b[39m\u001b[38;5;124mTest \u001b[39m\u001b[38;5;132;01m{\u001b[39;00mtest_name\u001b[38;5;132;01m}\u001b[39;00m\u001b[38;5;124m not found\u001b[39m\u001b[38;5;124m\"\u001b[39m)\n",
      "\u001b[0;31mKeyError\u001b[0m: 'otter'"
     ]
    }
   ],
   "source": [
    "grader.check(\"q2_a\")"
   ]
  },
  {
   "cell_type": "markdown",
   "metadata": {
    "deletable": false,
    "editable": false,
    "tags": []
   },
   "source": [
    "### Q2 (b) Fit metric\n",
    "\n",
    "Now let's compare the fit of the MLR model to that of the SLR model.\n",
    "\n",
    "#### (i) Calculate the $R^2$ score for the multiple linear regression model and store it in `R_2`.\n",
    "\n",
    "<!--\n",
    "BEGIN QUESTION\n",
    "name: q2_b_i\n",
    "points: 1\n",
    "manual: false\n",
    "-->"
   ]
  },
  {
   "cell_type": "code",
   "execution_count": 42,
   "metadata": {},
   "outputs": [
    {
     "data": {
      "text/plain": [
       "0.7657210526482656"
      ]
     },
     "execution_count": 42,
     "metadata": {},
     "output_type": "execute_result"
    }
   ],
   "source": [
    "# solution\n",
    "R_2 = r2_score(y, fitted_mlr)\n",
    "\n",
    "R_2"
   ]
  },
  {
   "cell_type": "code",
   "execution_count": 43,
   "metadata": {
    "deletable": false,
    "editable": false
   },
   "outputs": [
    {
     "data": {
      "text/html": [
       "<p><strong><pre style='display: inline;'>q2_b_i</pre></strong> passed!</p>"
      ],
      "text/plain": [
       "q2_b_i results: All test cases passed!"
      ]
     },
     "execution_count": 43,
     "metadata": {},
     "output_type": "execute_result"
    }
   ],
   "source": [
    "grader.check(\"q2_b_i\")"
   ]
  },
  {
   "cell_type": "markdown",
   "metadata": {
    "deletable": false,
    "editable": false
   },
   "source": [
    "<!-- BEGIN QUESTION -->\n",
    "\n",
    "#### (ii) Does the fit seem to have improved appreciably?\n",
    "\n",
    "<!--\n",
    "BEGIN QUESTION\n",
    "name: q2_b_i\n",
    "points: 1\n",
    "manual: true\n",
    "-->"
   ]
  },
  {
   "cell_type": "markdown",
   "metadata": {},
   "source": [
    "#### Answer\n",
    "\n",
    "76.57% of the variability can be explained by the multiple linear regression model whereas about 72% of the variability was explained by the simple linear regression model, thus the fit has improved."
   ]
  },
  {
   "cell_type": "markdown",
   "metadata": {
    "deletable": false,
    "editable": false
   },
   "source": [
    "<!-- END QUESTION -->\n",
    "\n",
    "<!-- BEGIN QUESTION -->\n",
    "\n",
    "### Q2 (c) Visualize\n",
    "\n",
    "Now visualize the model outputs. \n",
    "\n",
    "1. First append the fitted values (if you didn't above) as a new column named `fitted_mlr` to `reg_data`.\n",
    "2. Construct a line plot of the fitted values (y axis) against education (x axis) and map the HDI factor to the color aesthetic. This should produce a plot with three lines, one for each level of HDI. Store the result as `mlr_lines`.\n",
    "3. Layer `mlr_lines` on top of `scatter_scaled`.\n",
    "\n",
    "<!--\n",
    "BEGIN QUESTION\n",
    "name: q2_c\n",
    "points: 1\n",
    "manual: true\n",
    "-->"
   ]
  },
  {
   "cell_type": "code",
   "execution_count": 44,
   "metadata": {},
   "outputs": [
    {
     "data": {
      "text/html": [
       "\n",
       "<div id=\"altair-viz-a9e3ea7c26974f0d8f5f677c4af91716\"></div>\n",
       "<script type=\"text/javascript\">\n",
       "  var VEGA_DEBUG = (typeof VEGA_DEBUG == \"undefined\") ? {} : VEGA_DEBUG;\n",
       "  (function(spec, embedOpt){\n",
       "    let outputDiv = document.currentScript.previousElementSibling;\n",
       "    if (outputDiv.id !== \"altair-viz-a9e3ea7c26974f0d8f5f677c4af91716\") {\n",
       "      outputDiv = document.getElementById(\"altair-viz-a9e3ea7c26974f0d8f5f677c4af91716\");\n",
       "    }\n",
       "    const paths = {\n",
       "      \"vega\": \"https://cdn.jsdelivr.net/npm//vega@5?noext\",\n",
       "      \"vega-lib\": \"https://cdn.jsdelivr.net/npm//vega-lib?noext\",\n",
       "      \"vega-lite\": \"https://cdn.jsdelivr.net/npm//vega-lite@4.17.0?noext\",\n",
       "      \"vega-embed\": \"https://cdn.jsdelivr.net/npm//vega-embed@6?noext\",\n",
       "    };\n",
       "\n",
       "    function maybeLoadScript(lib, version) {\n",
       "      var key = `${lib.replace(\"-\", \"\")}_version`;\n",
       "      return (VEGA_DEBUG[key] == version) ?\n",
       "        Promise.resolve(paths[lib]) :\n",
       "        new Promise(function(resolve, reject) {\n",
       "          var s = document.createElement('script');\n",
       "          document.getElementsByTagName(\"head\")[0].appendChild(s);\n",
       "          s.async = true;\n",
       "          s.onload = () => {\n",
       "            VEGA_DEBUG[key] = version;\n",
       "            return resolve(paths[lib]);\n",
       "          };\n",
       "          s.onerror = () => reject(`Error loading script: ${paths[lib]}`);\n",
       "          s.src = paths[lib];\n",
       "        });\n",
       "    }\n",
       "\n",
       "    function showError(err) {\n",
       "      outputDiv.innerHTML = `<div class=\"error\" style=\"color:red;\">${err}</div>`;\n",
       "      throw err;\n",
       "    }\n",
       "\n",
       "    function displayChart(vegaEmbed) {\n",
       "      vegaEmbed(outputDiv, spec, embedOpt)\n",
       "        .catch(err => showError(`Javascript Error: ${err.message}<br>This usually means there's a typo in your chart specification. See the javascript console for the full traceback.`));\n",
       "    }\n",
       "\n",
       "    if(typeof define === \"function\" && define.amd) {\n",
       "      requirejs.config({paths});\n",
       "      require([\"vega-embed\"], displayChart, err => showError(`Error loading script: ${err.message}`));\n",
       "    } else {\n",
       "      maybeLoadScript(\"vega\", \"5\")\n",
       "        .then(() => maybeLoadScript(\"vega-lite\", \"4.17.0\"))\n",
       "        .then(() => maybeLoadScript(\"vega-embed\", \"6\"))\n",
       "        .catch(showError)\n",
       "        .then(() => displayChart(vegaEmbed));\n",
       "    }\n",
       "  })({\"config\": {\"view\": {\"continuousWidth\": 400, \"continuousHeight\": 300}}, \"layer\": [{\"mark\": \"line\", \"encoding\": {\"color\": {\"field\": \"hdi_fac\", \"type\": \"nominal\"}, \"x\": {\"field\": \"educ_expected_yrs_f\", \"title\": \"Expected years of education for women\", \"type\": \"quantitative\"}, \"y\": {\"field\": \"fitted_mlr\", \"title\": \"Fitted Values\", \"type\": \"quantitative\"}}}, {\"mark\": \"circle\", \"encoding\": {\"color\": {\"field\": \"hdi_fac\", \"title\": \"Level of Human development\", \"type\": \"nominal\"}, \"x\": {\"field\": \"educ_expected_yrs_f\", \"scale\": {\"exponent\": 2.5, \"type\": \"pow\", \"zero\": false}, \"title\": \"Expected years of education for women\", \"type\": \"quantitative\"}, \"y\": {\"field\": \"fertility_total\", \"scale\": {\"exponent\": 0.3333333333333333, \"type\": \"pow\", \"zero\": false}, \"title\": \"Fertility rate\", \"type\": \"quantitative\"}}}], \"data\": {\"name\": \"data-e7443b6fce5b53f16289f5a2905fdc9a\"}, \"$schema\": \"https://vega.github.io/schema/vega-lite/v4.17.0.json\", \"datasets\": {\"data-e7443b6fce5b53f16289f5a2905fdc9a\": [{\"fertility_total\": 4.473, \"educ_expected_yrs_f\": 6.795722485, \"hdi\": 0.509, \"hdi_fac\": \"1_low\", \"fitted_slr\": 4.606441257541412, \"resid_slr\": -0.13344125754141256, \"fitted_mlr\": 4.661912659451454}, {\"fertility_total\": 1.617, \"educ_expected_yrs_f\": 13.20175457, \"hdi\": 0.792, \"hdi_fac\": \"2_medium\", \"fitted_slr\": 1.8680412247884375, \"resid_slr\": -0.2510412247884375, \"fitted_mlr\": 2.0066093054160308}, {\"fertility_total\": 3.023, \"educ_expected_yrs_f\": 12.10898972, \"hdi\": 0.746, \"hdi_fac\": \"2_medium\", \"fitted_slr\": 2.3351677176510313, \"resid_slr\": 0.6878322823489689, \"fitted_mlr\": 2.253663989135389}, {\"fertility_total\": 5.519, \"educ_expected_yrs_f\": 6.973901272000001, \"hdi\": 0.5820000000000001, \"hdi_fac\": \"1_low\", \"fitted_slr\": 4.530274796043477, \"resid_slr\": 0.9887252039565233, \"fitted_mlr\": 4.599324660283015}, {\"fertility_total\": 1.994, \"educ_expected_yrs_f\": 12.91444111, \"hdi\": 0.772, \"hdi_fac\": \"2_medium\", \"fitted_slr\": 1.9908597148981961, \"resid_slr\": 0.0031402851018038636, \"fitted_mlr\": 2.071565765159968}, {\"fertility_total\": 2.261, \"educ_expected_yrs_f\": 13.06125259, \"hdi\": 0.8420000000000001, \"hdi_fac\": \"3_high\", \"fitted_slr\": 1.9281019022138235, \"resid_slr\": 0.3328980977861766, \"fitted_mlr\": 1.6994612590292024}, {\"fertility_total\": 1.755, \"educ_expected_yrs_f\": 11.62581253, \"hdi\": 0.7709999999999999, \"hdi_fac\": \"2_medium\", \"fitted_slr\": 2.5417124891047465, \"resid_slr\": -0.7867124891047466, \"fitted_mlr\": 2.362901752278903}, {\"fertility_total\": 1.74, \"educ_expected_yrs_f\": 13.62022209, \"hdi\": 0.943, \"hdi_fac\": \"3_high\", \"fitted_slr\": 1.6891580323115685, \"resid_slr\": 0.05084196768843152, \"fitted_mlr\": 1.66330836465549}, {\"fertility_total\": 1.47, \"educ_expected_yrs_f\": 13.46689415, \"hdi\": 0.921, \"hdi_fac\": \"3_high\", \"fitted_slr\": 1.7547014498821882, \"resid_slr\": -0.28470144988218826, \"fitted_mlr\": 1.67322527214214}, {\"fertility_total\": 1.73, \"educ_expected_yrs_f\": 12.44501495, \"hdi\": 0.754, \"hdi_fac\": \"2_medium\", \"fitted_slr\": 2.1915263045846745, \"resid_slr\": -0.4615263045846745, \"fitted_mlr\": 2.1776946651592612}, {\"fertility_total\": 1.987, \"educ_expected_yrs_f\": 13.27036572, \"hdi\": 0.852, \"hdi_fac\": \"3_high\", \"fitted_slr\": 1.8387118719356543, \"resid_slr\": 0.14828812806434577, \"fitted_mlr\": 1.68593629049148}, {\"fertility_total\": 2.036, \"educ_expected_yrs_f\": 10.52187443, \"hdi\": 0.625, \"hdi_fac\": \"1_low\", \"fitted_slr\": 3.0136152346866485, \"resid_slr\": -0.9776152346866485, \"fitted_mlr\": 3.3530453202931976}, {\"fertility_total\": 1.4480000000000002, \"educ_expected_yrs_f\": 13.75893879, \"hdi\": 0.823, \"hdi_fac\": \"3_high\", \"fitted_slr\": 1.6298605122893308, \"resid_slr\": -0.18186051228933064, \"fitted_mlr\": 1.654336479422092}, {\"fertility_total\": 1.62, \"educ_expected_yrs_f\": 13.56679726, \"hdi\": 0.93, \"hdi_fac\": \"3_high\", \"fitted_slr\": 1.711995656956688, \"resid_slr\": -0.09199565695668799, \"fitted_mlr\": 1.6667637629123249}, {\"fertility_total\": 4.836, \"educ_expected_yrs_f\": 8.782134056, \"hdi\": 0.541, \"hdi_fac\": \"1_low\", \"fitted_slr\": 3.7573057179576623, \"resid_slr\": 1.078694282042338, \"fitted_mlr\": 3.96415549179308}, {\"fertility_total\": 1.975, \"educ_expected_yrs_f\": 10.70332813, \"hdi\": 0.649, \"hdi_fac\": \"1_low\", \"fitted_slr\": 2.9360488392284303, \"resid_slr\": -0.9610488392284302, \"fitted_mlr\": 3.2893069583033947}, {\"fertility_total\": 1.265, \"educ_expected_yrs_f\": 11.78481483, \"hdi\": 0.777, \"hdi_fac\": \"2_medium\", \"fitted_slr\": 2.473743440909166, \"resid_slr\": -1.208743440909166, \"fitted_mlr\": 2.326954162148098}, {\"fertility_total\": 2.874, \"educ_expected_yrs_f\": 8.500170707999999, \"hdi\": 0.73, \"hdi_fac\": \"2_medium\", \"fitted_slr\": 3.8778371844182056, \"resid_slr\": -1.0038371844182055, \"fitted_mlr\": 3.0695537385266363}, {\"fertility_total\": 1.848, \"educ_expected_yrs_f\": 13.21317291, \"hdi\": 0.836, \"hdi_fac\": \"3_high\", \"fitted_slr\": 1.8631602029304295, \"resid_slr\": -0.015160202930429412, \"fitted_mlr\": 1.689635393249083}, {\"fertility_total\": 1.56, \"educ_expected_yrs_f\": 12.24310493, \"hdi\": 0.813, \"hdi_fac\": \"2_medium\", \"fitted_slr\": 2.277837206254339, \"resid_slr\": -0.7178372062543388, \"fitted_mlr\": 2.223342927116872}, {\"fertility_total\": 5.189, \"educ_expected_yrs_f\": 6.696904658999999, \"hdi\": 0.4429999999999999, \"hdi_fac\": \"1_low\", \"fitted_slr\": 4.648683121828762, \"resid_slr\": 0.5403168781712377, \"fitted_mlr\": 4.696623918382153}, {\"fertility_total\": 5.41, \"educ_expected_yrs_f\": 8.191820145, \"hdi\": 0.431, \"hdi_fac\": \"1_low\", \"fitted_slr\": 4.0096484492721185, \"resid_slr\": 1.4003515507278816, \"fitted_mlr\": 4.171512199024372}, {\"fertility_total\": 2.503, \"educ_expected_yrs_f\": 9.635119438, \"hdi\": 0.585, \"hdi_fac\": \"1_low\", \"fitted_slr\": 3.3926782594914426, \"resid_slr\": -0.8896782594914425, \"fitted_mlr\": 3.6645314496824652}, {\"fertility_total\": 4.572, \"educ_expected_yrs_f\": 8.315596581, \"hdi\": 0.56, \"hdi_fac\": \"1_low\", \"fitted_slr\": 3.95673747538079, \"resid_slr\": 0.6152625246192103, \"fitted_mlr\": 4.128033850092519}, {\"fertility_total\": 1.4988, \"educ_expected_yrs_f\": 13.709587099999998, \"hdi\": 0.928, \"hdi_fac\": \"3_high\", \"fitted_slr\": 1.650956983196628, \"resid_slr\": -0.15215698319662807, \"fitted_mlr\": 1.6575284361133509}, {\"fertility_total\": 4.721, \"educ_expected_yrs_f\": 3.848102808, \"hdi\": 0.395, \"hdi_fac\": \"1_low\", \"fitted_slr\": 5.866466451442718, \"resid_slr\": -1.1454664514427177, \"fitted_mlr\": 5.697308741101449}, {\"fertility_total\": 5.747000000000001, \"educ_expected_yrs_f\": 4.473656654, \"hdi\": 0.397, \"hdi_fac\": \"1_low\", \"fitted_slr\": 5.5990596308639935, \"resid_slr\": 0.14794036913600728, \"fitted_mlr\": 5.477573472653014}, {\"fertility_total\": 1.649, \"educ_expected_yrs_f\": 13.05471802, \"hdi\": 0.8490000000000001, \"hdi_fac\": \"3_high\", \"fitted_slr\": 1.9308952486199287, \"resid_slr\": -0.28189524861992865, \"fitted_mlr\": 1.699883900370076}, {\"fertility_total\": 1.69, \"educ_expected_yrs_f\": 13.0906477, \"hdi\": 0.755, \"hdi_fac\": \"2_medium\", \"fitted_slr\": 1.9155363126072302, \"resid_slr\": -0.22553631260723028, \"fitted_mlr\": 2.031728591259548}, {\"fertility_total\": 1.807, \"educ_expected_yrs_f\": 12.70421314, \"hdi\": 0.764, \"hdi_fac\": \"2_medium\", \"fitted_slr\": 2.080726308180111, \"resid_slr\": -0.2737263081801111, \"fitted_mlr\": 2.1190945675709463}, {\"fertility_total\": 4.205, \"educ_expected_yrs_f\": 8.128657341, \"hdi\": 0.552, \"hdi_fac\": \"1_low\", \"fitted_slr\": 4.036648786180729, \"resid_slr\": 0.1683512138192711, \"fitted_mlr\": 4.193699091138685}, {\"fertility_total\": 1.754, \"educ_expected_yrs_f\": 12.51764488, \"hdi\": 0.8079999999999999, \"hdi_fac\": \"2_medium\", \"fitted_slr\": 2.1604790353778025, \"resid_slr\": -0.4064790353778025, \"fitted_mlr\": 2.1612743306429105}, {\"fertility_total\": 1.47, \"educ_expected_yrs_f\": 13.5518446, \"hdi\": 0.848, \"hdi_fac\": \"3_high\", \"fitted_slr\": 1.7183875020318347, \"resid_slr\": -0.24838750203183468, \"fitted_mlr\": 1.66773086744591}, {\"fertility_total\": 1.329, \"educ_expected_yrs_f\": 13.61954403, \"hdi\": 0.885, \"hdi_fac\": \"3_high\", \"fitted_slr\": 1.6894478840484268, \"resid_slr\": -0.36044788404842687, \"fitted_mlr\": 1.6633522200564714}, {\"fertility_total\": 1.73, \"educ_expected_yrs_f\": 13.47161579, \"hdi\": 0.939, \"hdi_fac\": \"3_high\", \"fitted_slr\": 1.7526830804829903, \"resid_slr\": -0.02268308048299028, \"fitted_mlr\": 1.672919887050126}, {\"fertility_total\": 2.346, \"educ_expected_yrs_f\": 12.15325356, \"hdi\": 0.7509999999999999, \"hdi_fac\": \"2_medium\", \"fitted_slr\": 2.31624616070323, \"resid_slr\": 0.029753839296770224, \"fitted_mlr\": 2.243656722712604}, {\"fertility_total\": 2.427, \"educ_expected_yrs_f\": 13.219711300000002, \"hdi\": 0.762, \"hdi_fac\": \"2_medium\", \"fitted_slr\": 1.8603652235808754, \"resid_slr\": 0.5666347764191246, \"fitted_mlr\": 2.0025496083542293}, {\"fertility_total\": 2.039, \"educ_expected_yrs_f\": 10.9428196, \"hdi\": 0.67, \"hdi_fac\": \"2_medium\", \"fitted_slr\": 2.8336729159439216, \"resid_slr\": -0.7946729159439214, \"fitted_mlr\": 2.5173142979457106}, {\"fertility_total\": 1.67, \"educ_expected_yrs_f\": 13.53030491, \"hdi\": 0.889, \"hdi_fac\": \"3_high\", \"fitted_slr\": 1.7275951186998197, \"resid_slr\": -0.057595118699819814, \"fitted_mlr\": 1.6691240063155846}, {\"fertility_total\": 4.247, \"educ_expected_yrs_f\": 7.516855717, \"hdi\": 0.478, \"hdi_fac\": \"1_low\", \"fitted_slr\": 4.298176915445464, \"resid_slr\": -0.05117691544546421, \"fitted_mlr\": 4.408603683199699}, {\"fertility_total\": 2.774, \"educ_expected_yrs_f\": 11.43205929, \"hdi\": 0.742, \"hdi_fac\": \"2_medium\", \"fitted_slr\": 2.6245365948416435, \"resid_slr\": 0.14946340515835654, \"fitted_mlr\": 2.406705911451666}, {\"fertility_total\": 1.41, \"educ_expected_yrs_f\": 13.74469662, \"hdi\": 0.937, \"hdi_fac\": \"3_high\", \"fitted_slr\": 1.6359486427071905, \"resid_slr\": -0.22594864270719062, \"fitted_mlr\": 1.6552576310549858}, {\"fertility_total\": 1.88, \"educ_expected_yrs_f\": 13.8239584, \"hdi\": 0.898, \"hdi_fac\": \"3_high\", \"fitted_slr\": 1.6020664426076472, \"resid_slr\": 0.2779335573923527, \"fitted_mlr\": 1.6501311567836479}, {\"fertility_total\": 3.969, \"educ_expected_yrs_f\": 8.538388252, \"hdi\": 0.6970000000000001, \"hdi_fac\": \"2_medium\", \"fitted_slr\": 3.861500250360945, \"resid_slr\": 0.10749974963905506, \"fitted_mlr\": 3.0609134320183777}, {\"fertility_total\": 2.06, \"educ_expected_yrs_f\": 13.02663994, \"hdi\": 0.805, \"hdi_fac\": \"2_medium\", \"fitted_slr\": 1.942897844637466, \"resid_slr\": 0.11710215536253399, \"fitted_mlr\": 2.0461996065949926}, {\"fertility_total\": 1.57, \"educ_expected_yrs_f\": 13.34453487, \"hdi\": 0.946, \"hdi_fac\": \"3_high\", \"fitted_slr\": 1.8070066291122782, \"resid_slr\": -0.2370066291122781, \"fitted_mlr\": 1.6811391961138118}, {\"fertility_total\": 3.87, \"educ_expected_yrs_f\": 11.91578197, \"hdi\": 0.606, \"hdi_fac\": \"1_low\", \"fitted_slr\": 2.417758641628293, \"resid_slr\": 1.4522413583717073, \"fitted_mlr\": 2.8634141727065874}, {\"fertility_total\": 1.35, \"educ_expected_yrs_f\": 13.28767872, \"hdi\": 0.8809999999999999, \"hdi_fac\": \"3_high\", \"fitted_slr\": 1.8313110473475183, \"resid_slr\": -0.4813110473475182, \"fitted_mlr\": 1.6848165244572115}, {\"fertility_total\": 2.063, \"educ_expected_yrs_f\": 13.13885593, \"hdi\": 0.773, \"hdi_fac\": \"2_medium\", \"fitted_slr\": 1.8949286389553803, \"resid_slr\": 0.16807136104461984, \"fitted_mlr\": 2.0208295684594275}, {\"fertility_total\": 2.87, \"educ_expected_yrs_f\": 9.521496773, \"hdi\": 0.657, \"hdi_fac\": \"1_low\", \"fitted_slr\": 3.441248779499614, \"resid_slr\": -0.571248779499614, \"fitted_mlr\": 3.7044431326738625}, {\"fertility_total\": 4.7, \"educ_expected_yrs_f\": 6.210740089, \"hdi\": 0.473, \"hdi_fac\": \"1_low\", \"fitted_slr\": 4.856504914905425, \"resid_slr\": -0.15650491490542517, \"fitted_mlr\": 4.8673965912418256}, {\"fertility_total\": 2.462, \"educ_expected_yrs_f\": 12.30990696, \"hdi\": 0.68, \"hdi_fac\": \"2_medium\", \"fitted_slr\": 2.249281201739734, \"resid_slr\": 0.21271879826026607, \"fitted_mlr\": 2.2082401770664273}, {\"fertility_total\": 2.935, \"educ_expected_yrs_f\": 11.44699955, \"hdi\": 0.508, \"hdi_fac\": \"1_low\", \"fitted_slr\": 2.6181500504206223, \"resid_slr\": 0.31684994957937773, \"fitted_mlr\": 3.028081101958602}, {\"fertility_total\": 2.46, \"educ_expected_yrs_f\": 9.822359085, \"hdi\": 0.633, \"hdi_fac\": \"1_low\", \"fitted_slr\": 3.312638533078262, \"resid_slr\": -0.8526385330782622, \"fitted_mlr\": 3.59876068612499}, {\"fertility_total\": 1.55, \"educ_expected_yrs_f\": 12.96164417, \"hdi\": 0.85, \"hdi_fac\": \"3_high\", \"fitted_slr\": 1.9706817233841187, \"resid_slr\": -0.4206817233841187, \"fitted_mlr\": 1.7059037083703426}, {\"fertility_total\": 1.71, \"educ_expected_yrs_f\": 13.54500961, \"hdi\": 0.946, \"hdi_fac\": \"3_high\", \"fitted_slr\": 1.7213092696083194, \"resid_slr\": -0.011309269608319461, \"fitted_mlr\": 1.6681729392790157}, {\"fertility_total\": 2.222, \"educ_expected_yrs_f\": 10.93618393, \"hdi\": 0.642, \"hdi_fac\": \"1_low\", \"fitted_slr\": 2.836509479780042, \"resid_slr\": -0.6145094797800419, \"fitted_mlr\": 3.207512829708467}, {\"fertility_total\": 2.311, \"educ_expected_yrs_f\": 12.41253376, \"hdi\": 0.7120000000000001, \"hdi_fac\": \"2_medium\", \"fitted_slr\": 2.205411107311174, \"resid_slr\": 0.10558889268882599, \"fitted_mlr\": 2.1850380841228914}, {\"fertility_total\": 3.672, \"educ_expected_yrs_f\": 7.038986206000001, \"hdi\": 0.6709999999999999, \"hdi_fac\": \"2_medium\", \"fitted_slr\": 4.502452802173878, \"resid_slr\": -0.8304528021738782, \"fitted_mlr\": 3.3999015484852357}, {\"fertility_total\": 1.75, \"educ_expected_yrs_f\": 13.92032051, \"hdi\": 0.951, \"hdi_fac\": \"3_high\", \"fitted_slr\": 1.560874328412961, \"resid_slr\": 0.18912567158703908, \"fitted_mlr\": 1.6438986714969586}, {\"fertility_total\": 3.09, \"educ_expected_yrs_f\": 13.90762043, \"hdi\": 0.916, \"hdi_fac\": \"3_high\", \"fitted_slr\": 1.566303258369369, \"resid_slr\": 1.5236967416306308, \"fitted_mlr\": 1.644720084205126}, {\"fertility_total\": 1.29, \"educ_expected_yrs_f\": 13.31961727, \"hdi\": 0.89, \"hdi_fac\": \"3_high\", \"fitted_slr\": 1.8176582080851498, \"resid_slr\": -0.5276582080851497, \"fitted_mlr\": 1.6827508106309663}, {\"fertility_total\": 1.979, \"educ_expected_yrs_f\": 11.82789326, \"hdi\": 0.7340000000000001, \"hdi_fac\": \"2_medium\", \"fitted_slr\": 2.455328613671699, \"resid_slr\": -0.4763286136716989, \"fitted_mlr\": 2.317214895828563}, {\"fertility_total\": 2.761, \"educ_expected_yrs_f\": 11.72220421, \"hdi\": 0.728, \"hdi_fac\": \"2_medium\", \"fitted_slr\": 2.500507734559857, \"resid_slr\": 0.2604922654401429, \"fitted_mlr\": 2.341109308995631}, {\"fertility_total\": 2.84, \"educ_expected_yrs_f\": 13.86884308, \"hdi\": 0.8190000000000001, \"hdi_fac\": \"3_high\", \"fitted_slr\": 1.5828794938769493, \"resid_slr\": 1.2571205061230506, \"fitted_mlr\": 1.6472281162867368}, {\"fertility_total\": 3.492, \"educ_expected_yrs_f\": 11.30184937, \"hdi\": 0.599, \"hdi_fac\": \"1_low\", \"fitted_slr\": 2.680197703693671, \"resid_slr\": 0.8118022963063289, \"fitted_mlr\": 3.079067302381768}, {\"fertility_total\": 3.569, \"educ_expected_yrs_f\": 11.82059479, \"hdi\": 0.628, \"hdi_fac\": \"1_low\", \"fitted_slr\": 2.458448506020326, \"resid_slr\": 1.1105514939796741, \"fitted_mlr\": 2.896850112208668}, {\"fertility_total\": 2.082, \"educ_expected_yrs_f\": 12.40283394, \"hdi\": 0.807, \"hdi_fac\": \"2_medium\", \"fitted_slr\": 2.2095575098038953, \"resid_slr\": -0.12755750980389546, \"fitted_mlr\": 2.1872310407889426}, {\"fertility_total\": 1.6, \"educ_expected_yrs_f\": 13.7176199, \"hdi\": 0.863, \"hdi_fac\": \"3_high\", \"fitted_slr\": 1.6475231852556824, \"resid_slr\": -0.04752318525568233, \"fitted_mlr\": 1.657008892614241}, {\"fertility_total\": 3.141, \"educ_expected_yrs_f\": 10.41264439, \"hdi\": 0.522, \"hdi_fac\": \"1_low\", \"fitted_slr\": 3.0603080300308987, \"resid_slr\": 0.08069196996910133, \"fitted_mlr\": 3.3914140271847115}, {\"fertility_total\": 4.315, \"educ_expected_yrs_f\": 4.166073798999999, \"hdi\": 0.48, \"hdi_fac\": \"1_low\", \"fitted_slr\": 5.730542721961601, \"resid_slr\": -1.415542721961601, \"fitted_mlr\": 5.585616611778021}, {\"fertility_total\": 1.63, \"educ_expected_yrs_f\": 13.88928127, \"hdi\": 0.8759999999999999, \"hdi_fac\": \"3_high\", \"fitted_slr\": 1.5741427377348023, \"resid_slr\": 0.055857262265197605, \"fitted_mlr\": 1.6459062199681371}, {\"fertility_total\": 1.38, \"educ_expected_yrs_f\": 12.47436428, \"hdi\": 0.913, \"hdi_fac\": \"3_high\", \"fitted_slr\": 2.1789802846511384, \"resid_slr\": -0.7989802846511385, \"fitted_mlr\": 1.7374198794558917}, {\"fertility_total\": 4.077, \"educ_expected_yrs_f\": 8.609224318999999, \"hdi\": 0.527, \"hdi_fac\": \"1_low\", \"fitted_slr\": 3.831219807550317, \"resid_slr\": 0.24578019244968274, \"fitted_mlr\": 4.0248926572984836}, {\"fertility_total\": 4.209, \"educ_expected_yrs_f\": 9.583486557, \"hdi\": 0.478, \"hdi_fac\": \"1_low\", \"fitted_slr\": 3.414749875921932, \"resid_slr\": 0.7942501240780677, \"fitted_mlr\": 3.6826682816112406}, {\"fertility_total\": 2.001, \"educ_expected_yrs_f\": 12.68888378, \"hdi\": 0.805, \"hdi_fac\": \"2_medium\", \"fitted_slr\": 2.0872791819979577, \"resid_slr\": -0.08627918199795781, \"fitted_mlr\": 2.1225602630372857}, {\"fertility_total\": 5.877000000000001, \"educ_expected_yrs_f\": 5.42065239, \"hdi\": 0.431, \"hdi_fac\": \"1_low\", \"fitted_slr\": 5.194245368295508, \"resid_slr\": 0.6827546317044924, \"fitted_mlr\": 5.144926869007189}, {\"fertility_total\": 1.23, \"educ_expected_yrs_f\": 13.50980282, \"hdi\": 0.894, \"hdi_fac\": \"3_high\", \"fitted_slr\": 1.736359190309602, \"resid_slr\": -0.5063591903096021, \"fitted_mlr\": 1.6704500355429577}, {\"fertility_total\": 4.561, \"educ_expected_yrs_f\": 7.564128876, \"hdi\": 0.542, \"hdi_fac\": \"1_low\", \"fitted_slr\": 4.277968958564159, \"resid_slr\": 0.2830310414358408, \"fitted_mlr\": 4.391998269693424}, {\"fertility_total\": 1.41, \"educ_expected_yrs_f\": 12.77645302, \"hdi\": 0.8009999999999999, \"hdi_fac\": \"2_medium\", \"fitted_slr\": 2.049845774468568, \"resid_slr\": -0.6398457744685679, \"fitted_mlr\": 2.102762416417545}, {\"fertility_total\": 2.129, \"educ_expected_yrs_f\": 12.97874069, \"hdi\": 0.7759999999999999, \"hdi_fac\": \"2_medium\", \"fitted_slr\": 1.963373437957702, \"resid_slr\": 0.1656265620422981, \"fitted_mlr\": 2.0570287745162927}, {\"fertility_total\": 2.895, \"educ_expected_yrs_f\": 13.25112915, \"hdi\": 0.735, \"hdi_fac\": \"2_medium\", \"fitted_slr\": 1.8469349690446117, \"resid_slr\": 1.0480650309553883, \"fitted_mlr\": 1.995446591639434}, {\"fertility_total\": 1.745, \"educ_expected_yrs_f\": 12.64217091, \"hdi\": 0.826, \"hdi_fac\": \"3_high\", \"fitted_slr\": 2.1072476309599155, \"resid_slr\": -0.3622476309599154, \"fitted_mlr\": 1.72656652275289}, {\"fertility_total\": 2.415, \"educ_expected_yrs_f\": 10.41762161, \"hdi\": 0.68, \"hdi_fac\": \"2_medium\", \"fitted_slr\": 3.0581804073105987, \"resid_slr\": -0.6431804073105987, \"fitted_mlr\": 2.6360522160893005}, {\"fertility_total\": 2.154, \"educ_expected_yrs_f\": 9.829102516, \"hdi\": 0.579, \"hdi_fac\": \"1_low\", \"fitted_slr\": 3.3097559044204212, \"resid_slr\": -1.1557559044204213, \"fitted_mlr\": 3.5963919537919966}, {\"fertility_total\": 3.3960000000000004, \"educ_expected_yrs_f\": 9.723130226, \"hdi\": 0.645, \"hdi_fac\": \"1_low\", \"fitted_slr\": 3.3550561025081604, \"resid_slr\": 0.04094389749183991, \"fitted_mlr\": 3.6336163266259947}, {\"fertility_total\": 1.917, \"educ_expected_yrs_f\": 12.0131464, \"hdi\": 0.596, \"hdi_fac\": \"1_low\", \"fitted_slr\": 2.3761380635913376, \"resid_slr\": -0.4591380635913376, \"fitted_mlr\": 2.8292134411465755}, {\"fertility_total\": 1.59, \"educ_expected_yrs_f\": 13.92983341, \"hdi\": 0.942, \"hdi_fac\": \"3_high\", \"fitted_slr\": 1.556807829006476, \"resid_slr\": 0.03319217099352412, \"fitted_mlr\": 1.6432833984473771}, {\"fertility_total\": 1.71, \"educ_expected_yrs_f\": 13.77946663, \"hdi\": 0.928, \"hdi_fac\": \"3_high\", \"fitted_slr\": 1.6210854332727935, \"resid_slr\": 0.08891456672720643, \"fitted_mlr\": 1.6530087847424353}, {\"fertility_total\": 2.404, \"educ_expected_yrs_f\": 11.10092926, \"hdi\": 0.659, \"hdi_fac\": \"1_low\", \"fitted_slr\": 2.7660854464499156, \"resid_slr\": -0.3620854464499157, \"fitted_mlr\": 3.1496435358904322}, {\"fertility_total\": 6.912999999999999, \"educ_expected_yrs_f\": 5.059231758, \"hdi\": 0.391, \"hdi_fac\": \"1_low\", \"fitted_slr\": 5.3487426073623965, \"resid_slr\": 1.5642573926376029, \"fitted_mlr\": 5.271881343195368}, {\"fertility_total\": 5.3870000000000005, \"educ_expected_yrs_f\": 10.09999943, \"hdi\": 0.534, \"hdi_fac\": \"1_low\", \"fitted_slr\": 3.193955029818608, \"resid_slr\": 2.1930449701813926, \"fitted_mlr\": 3.501235307405328}, {\"fertility_total\": 1.496, \"educ_expected_yrs_f\": 11.08503532, \"hdi\": 0.77, \"hdi_fac\": \"2_medium\", \"fitted_slr\": 2.7728796624699203, \"resid_slr\": -1.2768796624699204, \"fitted_mlr\": 2.4851618547878616}, {\"fertility_total\": 1.56, \"educ_expected_yrs_f\": 13.67211056, \"hdi\": 0.956, \"hdi_fac\": \"3_high\", \"fitted_slr\": 1.6669771587127276, \"resid_slr\": -0.1069771587127275, \"fitted_mlr\": 1.6599523347198253}, {\"fertility_total\": 2.888, \"educ_expected_yrs_f\": 13.10266685, \"hdi\": 0.813, \"hdi_fac\": \"2_medium\", \"fitted_slr\": 1.910398461232628, \"resid_slr\": 0.977601538767372, \"fitted_mlr\": 2.029011275359585}, {\"fertility_total\": 3.51, \"educ_expected_yrs_f\": 8.687153816, \"hdi\": 0.552, \"hdi_fac\": \"1_low\", \"fitted_slr\": 3.797907121271877, \"resid_slr\": -0.2879071212718771, \"fitted_mlr\": 3.9975187404840593}, {\"fertility_total\": 2.461, \"educ_expected_yrs_f\": 10.88493347, \"hdi\": 0.812, \"hdi_fac\": \"2_medium\", \"fitted_slr\": 2.8584176218999087, \"resid_slr\": -0.3974176218999088, \"fitted_mlr\": 2.530401321690012}, {\"fertility_total\": 3.564, \"educ_expected_yrs_f\": 9.818692207, \"hdi\": 0.5489999999999999, \"hdi_fac\": \"1_low\", \"fitted_slr\": 3.314206021142959, \"resid_slr\": 0.24979397885704113, \"fitted_mlr\": 3.600048732592692}, {\"fertility_total\": 2.4290000000000003, \"educ_expected_yrs_f\": 11.26677418, \"hdi\": 0.727, \"hdi_fac\": \"2_medium\", \"fitted_slr\": 2.6951913690656752, \"resid_slr\": -0.266191369065675, \"fitted_mlr\": 2.444073933102956}, {\"fertility_total\": 2.254, \"educ_expected_yrs_f\": 12.89012051, \"hdi\": 0.7709999999999999, \"hdi_fac\": \"2_medium\", \"fitted_slr\": 2.0012560930232013, \"resid_slr\": 0.2527439069767987, \"fitted_mlr\": 2.0770642199655605}, {\"fertility_total\": 2.576, \"educ_expected_yrs_f\": 13.04763317, \"hdi\": 0.711, \"hdi_fac\": \"2_medium\", \"fitted_slr\": 1.9339238243770618, \"resid_slr\": 0.6420761756229383, \"fitted_mlr\": 2.0414534109263656}, {\"fertility_total\": 1.46, \"educ_expected_yrs_f\": 13.45503712, \"hdi\": 0.877, \"hdi_fac\": \"3_high\", \"fitted_slr\": 1.7597699994788067, \"resid_slr\": -0.2997699994788068, \"fitted_mlr\": 1.6739921582659374}, {\"fertility_total\": 1.42, \"educ_expected_yrs_f\": 13.82900047, \"hdi\": 0.86, \"hdi_fac\": \"3_high\", \"fitted_slr\": 1.5999110983212095, \"resid_slr\": -0.17991109832120955, \"fitted_mlr\": 1.649805046997452}, {\"fertility_total\": 1.866, \"educ_expected_yrs_f\": 12.7883606, \"hdi\": 0.845, \"hdi_fac\": \"3_high\", \"fitted_slr\": 2.044755616156941, \"resid_slr\": -0.1787556161569408, \"fitted_mlr\": 1.7171113012764128}, {\"fertility_total\": 1.76, \"educ_expected_yrs_f\": 11.98094845, \"hdi\": 0.823, \"hdi_fac\": \"3_high\", \"fitted_slr\": 2.389901789118258, \"resid_slr\": -0.6299017891182579, \"fitted_mlr\": 1.7693329093874128}, {\"fertility_total\": 1.579, \"educ_expected_yrs_f\": 13.68534756, \"hdi\": 0.823, \"hdi_fac\": \"3_high\", \"fitted_slr\": 1.6613187104326403, \"resid_slr\": -0.08231871043264039, \"fitted_mlr\": 1.6590961952295227}, {\"fertility_total\": 4.044, \"educ_expected_yrs_f\": 6.980305195, \"hdi\": 0.54, \"hdi_fac\": \"1_low\", \"fitted_slr\": 4.5275372975857335, \"resid_slr\": -0.48353729758573394, \"fitted_mlr\": 4.597075185280142}, {\"fertility_total\": 3.877, \"educ_expected_yrs_f\": 12.44684696, \"hdi\": 0.7090000000000001, \"hdi_fac\": \"2_medium\", \"fitted_slr\": 2.1907431714099665, \"resid_slr\": 1.6862568285900332, \"fitted_mlr\": 2.177280480304102}, {\"fertility_total\": 2.319, \"educ_expected_yrs_f\": 12.26758575, \"hdi\": 0.8540000000000001, \"hdi_fac\": \"3_high\", \"fitted_slr\": 2.2673723385483537, \"resid_slr\": 0.05162766145164621, \"fitted_mlr\": 1.750793851298436}, {\"fertility_total\": 4.625, \"educ_expected_yrs_f\": 7.849748135, \"hdi\": 0.516, \"hdi_fac\": \"1_low\", \"fitted_slr\": 4.155874692125517, \"resid_slr\": 0.46912530787448325, \"fitted_mlr\": 4.291670176513724}, {\"fertility_total\": 1.49, \"educ_expected_yrs_f\": 13.49239731, \"hdi\": 0.8029999999999999, \"hdi_fac\": \"2_medium\", \"fitted_slr\": 1.7437995603423548, \"resid_slr\": -0.25379956034235485, \"fitted_mlr\": 1.9409001547181226}, {\"fertility_total\": 2.41, \"educ_expected_yrs_f\": 13.53542233, \"hdi\": 0.79, \"hdi_fac\": \"2_medium\", \"fitted_slr\": 1.725407564390121, \"resid_slr\": 0.6845924356098791, \"fitted_mlr\": 1.931172963449005}, {\"fertility_total\": 4.263, \"educ_expected_yrs_f\": 9.282006264, \"hdi\": 0.447, \"hdi_fac\": \"1_low\", \"fitted_slr\": 3.5436242919834275, \"resid_slr\": 0.7193757080165724, \"fitted_mlr\": 3.788567803351641}, {\"fertility_total\": 1.14, \"educ_expected_yrs_f\": 13.90422153, \"hdi\": 0.936, \"hdi_fac\": \"3_high\", \"fitted_slr\": 1.567756193313782, \"resid_slr\": -0.4277561933137821, \"fitted_mlr\": 1.6449399174387578}, {\"fertility_total\": 1.61, \"educ_expected_yrs_f\": 13.71750641, \"hdi\": 0.912, \"hdi_fac\": \"3_high\", \"fitted_slr\": 1.6475716990651037, \"resid_slr\": -0.0375716990651036, \"fitted_mlr\": 1.657016232893063}, {\"fertility_total\": 4.4030000000000005, \"educ_expected_yrs_f\": 8.841700553999999, \"hdi\": 0.564, \"hdi_fac\": \"1_low\", \"fitted_slr\": 3.731842701552215, \"resid_slr\": 0.6711572984477856, \"fitted_mlr\": 3.9432318566619755}, {\"fertility_total\": 2.405, \"educ_expected_yrs_f\": 10.11397743, \"hdi\": 0.7070000000000001, \"hdi_fac\": \"2_medium\", \"fitted_slr\": 3.1879798247072495, \"resid_slr\": -0.7829798247072497, \"fitted_mlr\": 2.704700760973521}, {\"fertility_total\": 4.696000000000001, \"educ_expected_yrs_f\": 3.916237831, \"hdi\": 0.429, \"hdi_fac\": \"1_low\", \"fitted_slr\": 5.8373406296018135, \"resid_slr\": -1.141340629601813, \"fitted_mlr\": 5.673375281711215}, {\"fertility_total\": 1.26, \"educ_expected_yrs_f\": 13.08606815, \"hdi\": 0.905, \"hdi_fac\": \"3_high\", \"fitted_slr\": 1.9174939424947484, \"resid_slr\": -0.6574939424947484, \"fitted_mlr\": 1.6978562442305338}, {\"fertility_total\": 2.199, \"educ_expected_yrs_f\": 13.11488724, \"hdi\": 0.779, \"hdi_fac\": \"2_medium\", \"fitted_slr\": 1.9051745853712179, \"resid_slr\": 0.293825414628782, \"fitted_mlr\": 2.0262484626772617}, {\"fertility_total\": 4.407, \"educ_expected_yrs_f\": 6.943500996, \"hdi\": 0.506, \"hdi_fac\": \"1_low\", \"fitted_slr\": 4.543270066077955, \"resid_slr\": -0.13627006607795522, \"fitted_mlr\": 4.610003217933137}, {\"fertility_total\": 1.76, \"educ_expected_yrs_f\": 13.90402126, \"hdi\": 0.943, \"hdi_fac\": \"3_high\", \"fitted_slr\": 1.5678418031526462, \"resid_slr\": 0.1921581968473538, \"fitted_mlr\": 1.644952870453468}, {\"fertility_total\": 1.52, \"educ_expected_yrs_f\": 13.21845913, \"hdi\": 0.955, \"hdi_fac\": \"3_high\", \"fitted_slr\": 1.8609004913290734, \"resid_slr\": -0.3409004913290734, \"fitted_mlr\": 1.68929349238813}, {\"fertility_total\": 3.585, \"educ_expected_yrs_f\": 10.43918705, \"hdi\": 0.6609999999999999, \"hdi_fac\": \"1_low\", \"fitted_slr\": 3.0489617832358595, \"resid_slr\": 0.5360382167641404, \"fitted_mlr\": 3.382090515615357}, {\"fertility_total\": 1.525, \"educ_expected_yrs_f\": 12.644207000000002, \"hdi\": 0.772, \"hdi_fac\": \"2_medium\", \"fitted_slr\": 2.1063772592776147, \"resid_slr\": -0.5813772592776147, \"fitted_mlr\": 2.132660887844626}, {\"fertility_total\": 4.023, \"educ_expected_yrs_f\": 10.87477875, \"hdi\": 0.599, \"hdi_fac\": \"1_low\", \"fitted_slr\": 2.8627584814540947, \"resid_slr\": 1.160241518545905, \"fitted_mlr\": 3.2290823297566282}, {\"fertility_total\": 4.32, \"educ_expected_yrs_f\": 9.123530388, \"hdi\": 0.51, \"hdi_fac\": \"1_low\", \"fitted_slr\": 3.6113683086025627, \"resid_slr\": 0.7086316913974375, \"fitted_mlr\": 3.8442348564408815}, {\"fertility_total\": 3.556, \"educ_expected_yrs_f\": 11.83284092, \"hdi\": 0.723, \"hdi_fac\": \"2_medium\", \"fitted_slr\": 2.453213627026881, \"resid_slr\": 1.102786372973119, \"fitted_mlr\": 2.316096317960277}, {\"fertility_total\": 2.197, \"educ_expected_yrs_f\": 10.95233727, \"hdi\": 0.738, \"hdi_fac\": \"2_medium\", \"fitted_slr\": 2.829604377495486, \"resid_slr\": -0.6326043774954861, \"fitted_mlr\": 2.5151625221527807}, {\"fertility_total\": 2.069, \"educ_expected_yrs_f\": 11.99552917, \"hdi\": 0.8170000000000001, \"hdi_fac\": \"3_high\", \"fitted_slr\": 2.3836689380185803, \"resid_slr\": -0.3146689380185803, \"fitted_mlr\": 1.7683898610993527}, {\"fertility_total\": 1.301, \"educ_expected_yrs_f\": 13.00567055, \"hdi\": 0.774, \"hdi_fac\": \"2_medium\", \"fitted_slr\": 1.9518616739628403, \"resid_slr\": -0.6508616739628403, \"fitted_mlr\": 2.05094041246392}, {\"fertility_total\": 1.413, \"educ_expected_yrs_f\": 13.1702652, \"hdi\": 0.889, \"hdi_fac\": \"3_high\", \"fitted_slr\": 1.881502052129794, \"resid_slr\": -0.468502052129794, \"fitted_mlr\": 1.6924105677576167}, {\"fertility_total\": 1.68, \"educ_expected_yrs_f\": 13.85765934, \"hdi\": 0.928, \"hdi_fac\": \"3_high\", \"fitted_slr\": 1.5876602307786598, \"resid_slr\": 0.09233976922134013, \"fitted_mlr\": 1.647951455522461}, {\"fertility_total\": 1.7295, \"educ_expected_yrs_f\": 12.93639374, \"hdi\": 0.925, \"hdi_fac\": \"3_high\", \"fitted_slr\": 1.9814755778983564, \"resid_slr\": -0.25197557789835634, \"fitted_mlr\": 1.707536849585884}, {\"fertility_total\": 1.973, \"educ_expected_yrs_f\": 12.47761631, \"hdi\": 0.816, \"hdi_fac\": \"2_medium\", \"fitted_slr\": 2.1775901325350775, \"resid_slr\": -0.2045901325350774, \"fitted_mlr\": 2.170324077897399}, {\"fertility_total\": 2.604, \"educ_expected_yrs_f\": 12.00484753, \"hdi\": 0.7170000000000001, \"hdi_fac\": \"2_medium\", \"fitted_slr\": 2.3796855990357866, \"resid_slr\": 0.2243144009642135, \"fitted_mlr\": 2.27720868478724}, {\"fertility_total\": 3.782, \"educ_expected_yrs_f\": 10.13373089, \"hdi\": 0.603, \"hdi_fac\": \"1_low\", \"fitted_slr\": 3.1795357715409143, \"resid_slr\": 0.6024642284590858, \"fitted_mlr\": 3.4893866208923243}, {\"fertility_total\": 4.633, \"educ_expected_yrs_f\": 8.745135307, \"hdi\": 0.5820000000000001, \"hdi_fac\": \"1_low\", \"fitted_slr\": 3.773121651148297, \"resid_slr\": 0.8598783488517032, \"fitted_mlr\": 3.9771518630819096}, {\"fertility_total\": 3.615, \"educ_expected_yrs_f\": 10.97491837, \"hdi\": 0.569, \"hdi_fac\": \"1_low\", \"fitted_slr\": 2.8199515871005723, \"resid_slr\": 0.795048412899428, \"fitted_mlr\": 3.1939067706521227}]}}, {\"mode\": \"vega-lite\"});\n",
       "</script>"
      ],
      "text/plain": [
       "alt.LayerChart(...)"
      ]
     },
     "execution_count": 44,
     "metadata": {},
     "output_type": "execute_result"
    }
   ],
   "source": [
    "# append fitted values to original data\n",
    "reg_data['fitted_mlr'] = fitted_mlr\n",
    "\n",
    "# construct line plot\n",
    "mlr_lines = alt.Chart(reg_data).mark_line().encode(\n",
    "    x = alt.X('educ_expected_yrs_f', title = 'Expected years of education for women'),\n",
    "    y = alt.Y('fitted_mlr', title = 'Fitted Values'),\n",
    "    color = 'hdi_fac'\n",
    ")\n",
    "\n",
    "# layer\n",
    "mlr_lines + scatter_scaled"
   ]
  },
  {
   "cell_type": "markdown",
   "metadata": {
    "deletable": false,
    "editable": false
   },
   "source": [
    "<!-- END QUESTION -->\n",
    "\n",
    "<!-- BEGIN QUESTION -->\n",
    "\n",
    "### Q2 (d) Interpret your graphic\n",
    "\n",
    "What does the multiple linear model suggest about the relationship between fertility rate and expected years of education for high-HDI countries as compared with low-HDI countries?\n",
    "\n",
    "(*Hint*: focus on how the slopes of the two lines compare.)\n",
    "\n",
    "<!--\n",
    "BEGIN QUESTION\n",
    "name: q2_d\n",
    "points: 1\n",
    "manual: true\n",
    "-->"
   ]
  },
  {
   "cell_type": "markdown",
   "metadata": {},
   "source": [
    "#### Answer\n",
    "\n",
    "The plot suggests there is a negative relationship between fertility rate and expected years of education for women. More specifically, this relationship is especially apparent in countries with low-HDI while this relationship is less apparent in countries with high-HDI."
   ]
  },
  {
   "cell_type": "markdown",
   "metadata": {},
   "source": [
    "<!-- END QUESTION -->\n",
    "\n",
    "\n",
    "\n",
    "### Comment\n",
    "\n",
    "These data are definitely *not* a representative sample of any particular population of nations -- the countries (observational units) are conveniently chosen based on which countries reported data. So there is no scope of inference here.\n",
    "\n",
    "Although we can't claim that, for example, 'the mean fertility rate decreases with education at a rate of -0.35 children per woman per expected year of education in low-HDI countries', we *can* say '*among the countries reporting data*, the mean fertility rate decreases with education at a rate of -0.35 children per woman per expected year of education in low-HDI countries'. This is a nice example of how a model might be used in a descriptive capacity."
   ]
  },
  {
   "cell_type": "markdown",
   "metadata": {
    "tags": []
   },
   "source": [
    "---\n",
    "## Submission Checklist\n",
    "1. Save file to confirm all changes are on disk\n",
    "2. Run *Kernel > Restart & Run All* to execute all code from top to bottom\n",
    "3. Save file again to write any new output to disk\n",
    "4. Select *File > Download as > HTML*.\n",
    "5. Open in Google Chrome and print to PDF on A3 paper in portrait orientation.\n",
    "6. Submit to Gradescope"
   ]
  },
  {
   "cell_type": "markdown",
   "metadata": {
    "deletable": false,
    "editable": false
   },
   "source": [
    "---\n",
    "\n",
    "To double-check your work, the cell below will rerun all of the autograder tests."
   ]
  },
  {
   "cell_type": "code",
   "execution_count": 45,
   "metadata": {
    "deletable": false,
    "editable": false
   },
   "outputs": [
    {
     "data": {
      "text/plain": [
       "q1_a_i results: All test cases passed!\n",
       "\n",
       "q1_a_ii results: All test cases passed!\n",
       "\n",
       "q1_b results: All test cases passed!\n",
       "\n",
       "q1_c results: All test cases passed!\n",
       "\n",
       "q1_d results: All test cases passed!\n",
       "\n",
       "q2_b_i results: All test cases passed!"
      ]
     },
     "execution_count": 45,
     "metadata": {},
     "output_type": "execute_result"
    }
   ],
   "source": [
    "grader.check_all()"
   ]
  }
 ],
 "metadata": {
  "kernelspec": {
   "display_name": "Python 3 (ipykernel)",
   "language": "python",
   "name": "python3"
  },
  "language_info": {
   "codemirror_mode": {
    "name": "ipython",
    "version": 3
   },
   "file_extension": ".py",
   "mimetype": "text/x-python",
   "name": "python",
   "nbconvert_exporter": "python",
   "pygments_lexer": "ipython3",
   "version": "3.9.10"
  }
 },
 "nbformat": 4,
 "nbformat_minor": 4
}
